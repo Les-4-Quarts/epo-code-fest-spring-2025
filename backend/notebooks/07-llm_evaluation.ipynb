{
 "cells": [
  {
   "cell_type": "markdown",
   "id": "8974ba7c",
   "metadata": {},
   "source": [
    "## "
   ]
  },
  {
   "cell_type": "markdown",
   "id": "35cb6636",
   "metadata": {},
   "source": [
    "# Evaluation of LLM on Short Description Classification\n",
    "\n",
    "In this notebook, we evaluate the performance of a large language model (LLM) on a classification task involving short textual descriptions.\n",
    "\n",
    "We created a manually labeled test set to assess how well the LLM can handle this limited-context scenario. Since these descriptions are very short, the model may lack sufficient context to perform optimally.\n"
   ]
  },
  {
   "cell_type": "markdown",
   "id": "c1b2c09a",
   "metadata": {},
   "source": [
    "## 1. Test set v3\n",
    "\n",
    "To ensure the evaluation remains computationally feasible, we created a reduced version of the original dataset (`testset_v1_en_labeled`), resulting in `testset_v3_en_labeled`. This smaller test set includes a maximum of 50 samples per class."
   ]
  },
  {
   "cell_type": "code",
   "execution_count": null,
   "id": "f2c13aee",
   "metadata": {},
   "outputs": [],
   "source": [
    "import json\n",
    "from collections import defaultdict\n",
    "\n",
    "def shorten_testset(input_path, output_path, max_per_sdg=50):\n",
    "    sdg_counts = defaultdict(int)\n",
    "    selected_entries = []\n",
    "\n",
    "    with open(input_path, 'r', encoding='utf-8') as infile:\n",
    "        for line in infile:\n",
    "            try:\n",
    "                entry = json.loads(line)\n",
    "                sdg = entry.get(\"sdg\", \"None\")\n",
    "                if sdg_counts[sdg] < max_per_sdg:\n",
    "                    selected_entries.append(entry)\n",
    "                    sdg_counts[sdg] += 1\n",
    "            except json.JSONDecodeError:\n",
    "                continue  # ignore malformed lines\n",
    "\n",
    "    with open(output_path, 'w', encoding='utf-8') as outfile:\n",
    "        for entry in selected_entries:\n",
    "            json.dump(entry, outfile)\n",
    "            outfile.write('\\n')\n",
    "\n",
    "shorten_testset(\"../src/ai/testsets/testset_v1_en_labeled.jsonl\", '../src/ai/testsets/testset_v3_en_labeled.jsonl')"
   ]
  },
  {
   "cell_type": "code",
   "execution_count": 14,
   "id": "d7412c5c",
   "metadata": {},
   "outputs": [
    {
     "data": {
      "application/vnd.plotly.v1+json": {
       "config": {
        "plotlyServerURL": "https://plot.ly"
       },
       "data": [
        {
         "hovertemplate": "SDG=%{x}<br>Count=%{y}<extra></extra>",
         "legendgroup": "SDG9",
         "marker": {
          "color": "#636efa",
          "pattern": {
           "shape": ""
          }
         },
         "name": "SDG9",
         "orientation": "v",
         "showlegend": true,
         "textposition": "auto",
         "type": "bar",
         "x": [
          "SDG9"
         ],
         "xaxis": "x",
         "y": {
          "bdata": "Mg==",
          "dtype": "i1"
         },
         "yaxis": "y"
        },
        {
         "hovertemplate": "SDG=%{x}<br>Count=%{y}<extra></extra>",
         "legendgroup": "SDG3",
         "marker": {
          "color": "#EF553B",
          "pattern": {
           "shape": ""
          }
         },
         "name": "SDG3",
         "orientation": "v",
         "showlegend": true,
         "textposition": "auto",
         "type": "bar",
         "x": [
          "SDG3"
         ],
         "xaxis": "x",
         "y": {
          "bdata": "Mg==",
          "dtype": "i1"
         },
         "yaxis": "y"
        },
        {
         "hovertemplate": "SDG=%{x}<br>Count=%{y}<extra></extra>",
         "legendgroup": "SDG12",
         "marker": {
          "color": "#00cc96",
          "pattern": {
           "shape": ""
          }
         },
         "name": "SDG12",
         "orientation": "v",
         "showlegend": true,
         "textposition": "auto",
         "type": "bar",
         "x": [
          "SDG12"
         ],
         "xaxis": "x",
         "y": {
          "bdata": "Mg==",
          "dtype": "i1"
         },
         "yaxis": "y"
        },
        {
         "hovertemplate": "SDG=%{x}<br>Count=%{y}<extra></extra>",
         "legendgroup": "None",
         "marker": {
          "color": "#ab63fa",
          "pattern": {
           "shape": ""
          }
         },
         "name": "None",
         "orientation": "v",
         "showlegend": true,
         "textposition": "auto",
         "type": "bar",
         "x": [
          "None"
         ],
         "xaxis": "x",
         "y": {
          "bdata": "Mg==",
          "dtype": "i1"
         },
         "yaxis": "y"
        },
        {
         "hovertemplate": "SDG=%{x}<br>Count=%{y}<extra></extra>",
         "legendgroup": "SDG7",
         "marker": {
          "color": "#FFA15A",
          "pattern": {
           "shape": ""
          }
         },
         "name": "SDG7",
         "orientation": "v",
         "showlegend": true,
         "textposition": "auto",
         "type": "bar",
         "x": [
          "SDG7"
         ],
         "xaxis": "x",
         "y": {
          "bdata": "IA==",
          "dtype": "i1"
         },
         "yaxis": "y"
        },
        {
         "hovertemplate": "SDG=%{x}<br>Count=%{y}<extra></extra>",
         "legendgroup": "SDG6",
         "marker": {
          "color": "#19d3f3",
          "pattern": {
           "shape": ""
          }
         },
         "name": "SDG6",
         "orientation": "v",
         "showlegend": true,
         "textposition": "auto",
         "type": "bar",
         "x": [
          "SDG6"
         ],
         "xaxis": "x",
         "y": {
          "bdata": "Gw==",
          "dtype": "i1"
         },
         "yaxis": "y"
        },
        {
         "hovertemplate": "SDG=%{x}<br>Count=%{y}<extra></extra>",
         "legendgroup": "SDG13",
         "marker": {
          "color": "#FF6692",
          "pattern": {
           "shape": ""
          }
         },
         "name": "SDG13",
         "orientation": "v",
         "showlegend": true,
         "textposition": "auto",
         "type": "bar",
         "x": [
          "SDG13"
         ],
         "xaxis": "x",
         "y": {
          "bdata": "Eg==",
          "dtype": "i1"
         },
         "yaxis": "y"
        },
        {
         "hovertemplate": "SDG=%{x}<br>Count=%{y}<extra></extra>",
         "legendgroup": "SDG11",
         "marker": {
          "color": "#B6E880",
          "pattern": {
           "shape": ""
          }
         },
         "name": "SDG11",
         "orientation": "v",
         "showlegend": true,
         "textposition": "auto",
         "type": "bar",
         "x": [
          "SDG11"
         ],
         "xaxis": "x",
         "y": {
          "bdata": "Eg==",
          "dtype": "i1"
         },
         "yaxis": "y"
        },
        {
         "hovertemplate": "SDG=%{x}<br>Count=%{y}<extra></extra>",
         "legendgroup": "SDG10",
         "marker": {
          "color": "#FF97FF",
          "pattern": {
           "shape": ""
          }
         },
         "name": "SDG10",
         "orientation": "v",
         "showlegend": true,
         "textposition": "auto",
         "type": "bar",
         "x": [
          "SDG10"
         ],
         "xaxis": "x",
         "y": {
          "bdata": "DA==",
          "dtype": "i1"
         },
         "yaxis": "y"
        },
        {
         "hovertemplate": "SDG=%{x}<br>Count=%{y}<extra></extra>",
         "legendgroup": "SDG4",
         "marker": {
          "color": "#FECB52",
          "pattern": {
           "shape": ""
          }
         },
         "name": "SDG4",
         "orientation": "v",
         "showlegend": true,
         "textposition": "auto",
         "type": "bar",
         "x": [
          "SDG4"
         ],
         "xaxis": "x",
         "y": {
          "bdata": "Bw==",
          "dtype": "i1"
         },
         "yaxis": "y"
        },
        {
         "hovertemplate": "SDG=%{x}<br>Count=%{y}<extra></extra>",
         "legendgroup": "SDG14",
         "marker": {
          "color": "#636efa",
          "pattern": {
           "shape": ""
          }
         },
         "name": "SDG14",
         "orientation": "v",
         "showlegend": true,
         "textposition": "auto",
         "type": "bar",
         "x": [
          "SDG14"
         ],
         "xaxis": "x",
         "y": {
          "bdata": "BQ==",
          "dtype": "i1"
         },
         "yaxis": "y"
        },
        {
         "hovertemplate": "SDG=%{x}<br>Count=%{y}<extra></extra>",
         "legendgroup": "SDG15",
         "marker": {
          "color": "#EF553B",
          "pattern": {
           "shape": ""
          }
         },
         "name": "SDG15",
         "orientation": "v",
         "showlegend": true,
         "textposition": "auto",
         "type": "bar",
         "x": [
          "SDG15"
         ],
         "xaxis": "x",
         "y": {
          "bdata": "BA==",
          "dtype": "i1"
         },
         "yaxis": "y"
        },
        {
         "hovertemplate": "SDG=%{x}<br>Count=%{y}<extra></extra>",
         "legendgroup": "SDG2",
         "marker": {
          "color": "#00cc96",
          "pattern": {
           "shape": ""
          }
         },
         "name": "SDG2",
         "orientation": "v",
         "showlegend": true,
         "textposition": "auto",
         "type": "bar",
         "x": [
          "SDG2"
         ],
         "xaxis": "x",
         "y": {
          "bdata": "Aw==",
          "dtype": "i1"
         },
         "yaxis": "y"
        },
        {
         "hovertemplate": "SDG=%{x}<br>Count=%{y}<extra></extra>",
         "legendgroup": "SDG16",
         "marker": {
          "color": "#ab63fa",
          "pattern": {
           "shape": ""
          }
         },
         "name": "SDG16",
         "orientation": "v",
         "showlegend": true,
         "textposition": "auto",
         "type": "bar",
         "x": [
          "SDG16"
         ],
         "xaxis": "x",
         "y": {
          "bdata": "Ag==",
          "dtype": "i1"
         },
         "yaxis": "y"
        }
       ],
       "layout": {
        "barmode": "relative",
        "legend": {
         "title": {
          "text": "SDG"
         },
         "tracegroupgap": 0
        },
        "template": {
         "data": {
          "bar": [
           {
            "error_x": {
             "color": "#2a3f5f"
            },
            "error_y": {
             "color": "#2a3f5f"
            },
            "marker": {
             "line": {
              "color": "#E5ECF6",
              "width": 0.5
             },
             "pattern": {
              "fillmode": "overlay",
              "size": 10,
              "solidity": 0.2
             }
            },
            "type": "bar"
           }
          ],
          "barpolar": [
           {
            "marker": {
             "line": {
              "color": "#E5ECF6",
              "width": 0.5
             },
             "pattern": {
              "fillmode": "overlay",
              "size": 10,
              "solidity": 0.2
             }
            },
            "type": "barpolar"
           }
          ],
          "carpet": [
           {
            "aaxis": {
             "endlinecolor": "#2a3f5f",
             "gridcolor": "white",
             "linecolor": "white",
             "minorgridcolor": "white",
             "startlinecolor": "#2a3f5f"
            },
            "baxis": {
             "endlinecolor": "#2a3f5f",
             "gridcolor": "white",
             "linecolor": "white",
             "minorgridcolor": "white",
             "startlinecolor": "#2a3f5f"
            },
            "type": "carpet"
           }
          ],
          "choropleth": [
           {
            "colorbar": {
             "outlinewidth": 0,
             "ticks": ""
            },
            "type": "choropleth"
           }
          ],
          "contour": [
           {
            "colorbar": {
             "outlinewidth": 0,
             "ticks": ""
            },
            "colorscale": [
             [
              0,
              "#0d0887"
             ],
             [
              0.1111111111111111,
              "#46039f"
             ],
             [
              0.2222222222222222,
              "#7201a8"
             ],
             [
              0.3333333333333333,
              "#9c179e"
             ],
             [
              0.4444444444444444,
              "#bd3786"
             ],
             [
              0.5555555555555556,
              "#d8576b"
             ],
             [
              0.6666666666666666,
              "#ed7953"
             ],
             [
              0.7777777777777778,
              "#fb9f3a"
             ],
             [
              0.8888888888888888,
              "#fdca26"
             ],
             [
              1,
              "#f0f921"
             ]
            ],
            "type": "contour"
           }
          ],
          "contourcarpet": [
           {
            "colorbar": {
             "outlinewidth": 0,
             "ticks": ""
            },
            "type": "contourcarpet"
           }
          ],
          "heatmap": [
           {
            "colorbar": {
             "outlinewidth": 0,
             "ticks": ""
            },
            "colorscale": [
             [
              0,
              "#0d0887"
             ],
             [
              0.1111111111111111,
              "#46039f"
             ],
             [
              0.2222222222222222,
              "#7201a8"
             ],
             [
              0.3333333333333333,
              "#9c179e"
             ],
             [
              0.4444444444444444,
              "#bd3786"
             ],
             [
              0.5555555555555556,
              "#d8576b"
             ],
             [
              0.6666666666666666,
              "#ed7953"
             ],
             [
              0.7777777777777778,
              "#fb9f3a"
             ],
             [
              0.8888888888888888,
              "#fdca26"
             ],
             [
              1,
              "#f0f921"
             ]
            ],
            "type": "heatmap"
           }
          ],
          "histogram": [
           {
            "marker": {
             "pattern": {
              "fillmode": "overlay",
              "size": 10,
              "solidity": 0.2
             }
            },
            "type": "histogram"
           }
          ],
          "histogram2d": [
           {
            "colorbar": {
             "outlinewidth": 0,
             "ticks": ""
            },
            "colorscale": [
             [
              0,
              "#0d0887"
             ],
             [
              0.1111111111111111,
              "#46039f"
             ],
             [
              0.2222222222222222,
              "#7201a8"
             ],
             [
              0.3333333333333333,
              "#9c179e"
             ],
             [
              0.4444444444444444,
              "#bd3786"
             ],
             [
              0.5555555555555556,
              "#d8576b"
             ],
             [
              0.6666666666666666,
              "#ed7953"
             ],
             [
              0.7777777777777778,
              "#fb9f3a"
             ],
             [
              0.8888888888888888,
              "#fdca26"
             ],
             [
              1,
              "#f0f921"
             ]
            ],
            "type": "histogram2d"
           }
          ],
          "histogram2dcontour": [
           {
            "colorbar": {
             "outlinewidth": 0,
             "ticks": ""
            },
            "colorscale": [
             [
              0,
              "#0d0887"
             ],
             [
              0.1111111111111111,
              "#46039f"
             ],
             [
              0.2222222222222222,
              "#7201a8"
             ],
             [
              0.3333333333333333,
              "#9c179e"
             ],
             [
              0.4444444444444444,
              "#bd3786"
             ],
             [
              0.5555555555555556,
              "#d8576b"
             ],
             [
              0.6666666666666666,
              "#ed7953"
             ],
             [
              0.7777777777777778,
              "#fb9f3a"
             ],
             [
              0.8888888888888888,
              "#fdca26"
             ],
             [
              1,
              "#f0f921"
             ]
            ],
            "type": "histogram2dcontour"
           }
          ],
          "mesh3d": [
           {
            "colorbar": {
             "outlinewidth": 0,
             "ticks": ""
            },
            "type": "mesh3d"
           }
          ],
          "parcoords": [
           {
            "line": {
             "colorbar": {
              "outlinewidth": 0,
              "ticks": ""
             }
            },
            "type": "parcoords"
           }
          ],
          "pie": [
           {
            "automargin": true,
            "type": "pie"
           }
          ],
          "scatter": [
           {
            "fillpattern": {
             "fillmode": "overlay",
             "size": 10,
             "solidity": 0.2
            },
            "type": "scatter"
           }
          ],
          "scatter3d": [
           {
            "line": {
             "colorbar": {
              "outlinewidth": 0,
              "ticks": ""
             }
            },
            "marker": {
             "colorbar": {
              "outlinewidth": 0,
              "ticks": ""
             }
            },
            "type": "scatter3d"
           }
          ],
          "scattercarpet": [
           {
            "marker": {
             "colorbar": {
              "outlinewidth": 0,
              "ticks": ""
             }
            },
            "type": "scattercarpet"
           }
          ],
          "scattergeo": [
           {
            "marker": {
             "colorbar": {
              "outlinewidth": 0,
              "ticks": ""
             }
            },
            "type": "scattergeo"
           }
          ],
          "scattergl": [
           {
            "marker": {
             "colorbar": {
              "outlinewidth": 0,
              "ticks": ""
             }
            },
            "type": "scattergl"
           }
          ],
          "scattermap": [
           {
            "marker": {
             "colorbar": {
              "outlinewidth": 0,
              "ticks": ""
             }
            },
            "type": "scattermap"
           }
          ],
          "scattermapbox": [
           {
            "marker": {
             "colorbar": {
              "outlinewidth": 0,
              "ticks": ""
             }
            },
            "type": "scattermapbox"
           }
          ],
          "scatterpolar": [
           {
            "marker": {
             "colorbar": {
              "outlinewidth": 0,
              "ticks": ""
             }
            },
            "type": "scatterpolar"
           }
          ],
          "scatterpolargl": [
           {
            "marker": {
             "colorbar": {
              "outlinewidth": 0,
              "ticks": ""
             }
            },
            "type": "scatterpolargl"
           }
          ],
          "scatterternary": [
           {
            "marker": {
             "colorbar": {
              "outlinewidth": 0,
              "ticks": ""
             }
            },
            "type": "scatterternary"
           }
          ],
          "surface": [
           {
            "colorbar": {
             "outlinewidth": 0,
             "ticks": ""
            },
            "colorscale": [
             [
              0,
              "#0d0887"
             ],
             [
              0.1111111111111111,
              "#46039f"
             ],
             [
              0.2222222222222222,
              "#7201a8"
             ],
             [
              0.3333333333333333,
              "#9c179e"
             ],
             [
              0.4444444444444444,
              "#bd3786"
             ],
             [
              0.5555555555555556,
              "#d8576b"
             ],
             [
              0.6666666666666666,
              "#ed7953"
             ],
             [
              0.7777777777777778,
              "#fb9f3a"
             ],
             [
              0.8888888888888888,
              "#fdca26"
             ],
             [
              1,
              "#f0f921"
             ]
            ],
            "type": "surface"
           }
          ],
          "table": [
           {
            "cells": {
             "fill": {
              "color": "#EBF0F8"
             },
             "line": {
              "color": "white"
             }
            },
            "header": {
             "fill": {
              "color": "#C8D4E3"
             },
             "line": {
              "color": "white"
             }
            },
            "type": "table"
           }
          ]
         },
         "layout": {
          "annotationdefaults": {
           "arrowcolor": "#2a3f5f",
           "arrowhead": 0,
           "arrowwidth": 1
          },
          "autotypenumbers": "strict",
          "coloraxis": {
           "colorbar": {
            "outlinewidth": 0,
            "ticks": ""
           }
          },
          "colorscale": {
           "diverging": [
            [
             0,
             "#8e0152"
            ],
            [
             0.1,
             "#c51b7d"
            ],
            [
             0.2,
             "#de77ae"
            ],
            [
             0.3,
             "#f1b6da"
            ],
            [
             0.4,
             "#fde0ef"
            ],
            [
             0.5,
             "#f7f7f7"
            ],
            [
             0.6,
             "#e6f5d0"
            ],
            [
             0.7,
             "#b8e186"
            ],
            [
             0.8,
             "#7fbc41"
            ],
            [
             0.9,
             "#4d9221"
            ],
            [
             1,
             "#276419"
            ]
           ],
           "sequential": [
            [
             0,
             "#0d0887"
            ],
            [
             0.1111111111111111,
             "#46039f"
            ],
            [
             0.2222222222222222,
             "#7201a8"
            ],
            [
             0.3333333333333333,
             "#9c179e"
            ],
            [
             0.4444444444444444,
             "#bd3786"
            ],
            [
             0.5555555555555556,
             "#d8576b"
            ],
            [
             0.6666666666666666,
             "#ed7953"
            ],
            [
             0.7777777777777778,
             "#fb9f3a"
            ],
            [
             0.8888888888888888,
             "#fdca26"
            ],
            [
             1,
             "#f0f921"
            ]
           ],
           "sequentialminus": [
            [
             0,
             "#0d0887"
            ],
            [
             0.1111111111111111,
             "#46039f"
            ],
            [
             0.2222222222222222,
             "#7201a8"
            ],
            [
             0.3333333333333333,
             "#9c179e"
            ],
            [
             0.4444444444444444,
             "#bd3786"
            ],
            [
             0.5555555555555556,
             "#d8576b"
            ],
            [
             0.6666666666666666,
             "#ed7953"
            ],
            [
             0.7777777777777778,
             "#fb9f3a"
            ],
            [
             0.8888888888888888,
             "#fdca26"
            ],
            [
             1,
             "#f0f921"
            ]
           ]
          },
          "colorway": [
           "#636efa",
           "#EF553B",
           "#00cc96",
           "#ab63fa",
           "#FFA15A",
           "#19d3f3",
           "#FF6692",
           "#B6E880",
           "#FF97FF",
           "#FECB52"
          ],
          "font": {
           "color": "#2a3f5f"
          },
          "geo": {
           "bgcolor": "white",
           "lakecolor": "white",
           "landcolor": "#E5ECF6",
           "showlakes": true,
           "showland": true,
           "subunitcolor": "white"
          },
          "hoverlabel": {
           "align": "left"
          },
          "hovermode": "closest",
          "mapbox": {
           "style": "light"
          },
          "paper_bgcolor": "white",
          "plot_bgcolor": "#E5ECF6",
          "polar": {
           "angularaxis": {
            "gridcolor": "white",
            "linecolor": "white",
            "ticks": ""
           },
           "bgcolor": "#E5ECF6",
           "radialaxis": {
            "gridcolor": "white",
            "linecolor": "white",
            "ticks": ""
           }
          },
          "scene": {
           "xaxis": {
            "backgroundcolor": "#E5ECF6",
            "gridcolor": "white",
            "gridwidth": 2,
            "linecolor": "white",
            "showbackground": true,
            "ticks": "",
            "zerolinecolor": "white"
           },
           "yaxis": {
            "backgroundcolor": "#E5ECF6",
            "gridcolor": "white",
            "gridwidth": 2,
            "linecolor": "white",
            "showbackground": true,
            "ticks": "",
            "zerolinecolor": "white"
           },
           "zaxis": {
            "backgroundcolor": "#E5ECF6",
            "gridcolor": "white",
            "gridwidth": 2,
            "linecolor": "white",
            "showbackground": true,
            "ticks": "",
            "zerolinecolor": "white"
           }
          },
          "shapedefaults": {
           "line": {
            "color": "#2a3f5f"
           }
          },
          "ternary": {
           "aaxis": {
            "gridcolor": "white",
            "linecolor": "white",
            "ticks": ""
           },
           "baxis": {
            "gridcolor": "white",
            "linecolor": "white",
            "ticks": ""
           },
           "bgcolor": "#E5ECF6",
           "caxis": {
            "gridcolor": "white",
            "linecolor": "white",
            "ticks": ""
           }
          },
          "title": {
           "x": 0.05
          },
          "xaxis": {
           "automargin": true,
           "gridcolor": "white",
           "linecolor": "white",
           "ticks": "",
           "title": {
            "standoff": 15
           },
           "zerolinecolor": "white",
           "zerolinewidth": 2
          },
          "yaxis": {
           "automargin": true,
           "gridcolor": "white",
           "linecolor": "white",
           "ticks": "",
           "title": {
            "standoff": 15
           },
           "zerolinecolor": "white",
           "zerolinewidth": 2
          }
         }
        },
        "title": {
         "text": "Distribution of SDG Labels"
        },
        "xaxis": {
         "anchor": "y",
         "categoryarray": [
          "SDG9",
          "SDG3",
          "SDG12",
          "None",
          "SDG7",
          "SDG6",
          "SDG13",
          "SDG11",
          "SDG10",
          "SDG4",
          "SDG14",
          "SDG15",
          "SDG2",
          "SDG16"
         ],
         "categoryorder": "array",
         "domain": [
          0,
          1
         ],
         "title": {
          "text": "SDG"
         }
        },
        "yaxis": {
         "anchor": "x",
         "domain": [
          0,
          1
         ],
         "title": {
          "text": "Count"
         }
        }
       }
      }
     },
     "metadata": {},
     "output_type": "display_data"
    },
    {
     "data": {
      "application/vnd.plotly.v1+json": {
       "config": {
        "plotlyServerURL": "https://plot.ly"
       },
       "data": [
        {
         "alignmentgroup": "True",
         "boxpoints": "all",
         "hovertemplate": "sdg=%{x}<br>description_number=%{y}<extra></extra>",
         "legendgroup": "SDG9",
         "marker": {
          "color": "#636efa"
         },
         "name": "SDG9",
         "notched": false,
         "offsetgroup": "SDG9",
         "orientation": "v",
         "showlegend": true,
         "type": "box",
         "x": [
          "SDG9",
          "SDG9",
          "SDG9",
          "SDG9",
          "SDG9",
          "SDG9",
          "SDG9",
          "SDG9",
          "SDG9",
          "SDG9",
          "SDG9",
          "SDG9",
          "SDG9",
          "SDG9",
          "SDG9",
          "SDG9",
          "SDG9",
          "SDG9",
          "SDG9",
          "SDG9",
          "SDG9",
          "SDG9",
          "SDG9",
          "SDG9",
          "SDG9",
          "SDG9",
          "SDG9",
          "SDG9",
          "SDG9",
          "SDG9",
          "SDG9",
          "SDG9",
          "SDG9",
          "SDG9",
          "SDG9",
          "SDG9",
          "SDG9",
          "SDG9",
          "SDG9",
          "SDG9",
          "SDG9",
          "SDG9",
          "SDG9",
          "SDG9",
          "SDG9",
          "SDG9",
          "SDG9",
          "SDG9",
          "SDG9",
          "SDG9"
         ],
         "x0": " ",
         "xaxis": "x",
         "y": {
          "bdata": "NQAuAPEACwAHACYACQBUABkAIgAFABEAAgAqAFsAGAEHAA0AGAAEACsABgABAAcAEgBcAAgABAABAAUADgATAAIADQBZAEAAJAAMAAkACwAJAIgABAAJAAEABAASAAsABwAIAA==",
          "dtype": "i2"
         },
         "y0": " ",
         "yaxis": "y"
        },
        {
         "alignmentgroup": "True",
         "boxpoints": "all",
         "hovertemplate": "sdg=%{x}<br>description_number=%{y}<extra></extra>",
         "legendgroup": "SDG16",
         "marker": {
          "color": "#EF553B"
         },
         "name": "SDG16",
         "notched": false,
         "offsetgroup": "SDG16",
         "orientation": "v",
         "showlegend": true,
         "type": "box",
         "x": [
          "SDG16",
          "SDG16"
         ],
         "x0": " ",
         "xaxis": "x",
         "y": {
          "bdata": "PHs=",
          "dtype": "i1"
         },
         "y0": " ",
         "yaxis": "y"
        },
        {
         "alignmentgroup": "True",
         "boxpoints": "all",
         "hovertemplate": "sdg=%{x}<br>description_number=%{y}<extra></extra>",
         "legendgroup": "SDG3",
         "marker": {
          "color": "#00cc96"
         },
         "name": "SDG3",
         "notched": false,
         "offsetgroup": "SDG3",
         "orientation": "v",
         "showlegend": true,
         "type": "box",
         "x": [
          "SDG3",
          "SDG3",
          "SDG3",
          "SDG3",
          "SDG3",
          "SDG3",
          "SDG3",
          "SDG3",
          "SDG3",
          "SDG3",
          "SDG3",
          "SDG3",
          "SDG3",
          "SDG3",
          "SDG3",
          "SDG3",
          "SDG3",
          "SDG3",
          "SDG3",
          "SDG3",
          "SDG3",
          "SDG3",
          "SDG3",
          "SDG3",
          "SDG3",
          "SDG3",
          "SDG3",
          "SDG3",
          "SDG3",
          "SDG3",
          "SDG3",
          "SDG3",
          "SDG3",
          "SDG3",
          "SDG3",
          "SDG3",
          "SDG3",
          "SDG3",
          "SDG3",
          "SDG3",
          "SDG3",
          "SDG3",
          "SDG3",
          "SDG3",
          "SDG3",
          "SDG3",
          "SDG3",
          "SDG3",
          "SDG3",
          "SDG3"
         ],
         "x0": " ",
         "xaxis": "x",
         "y": {
          "bdata": "LwD6AAoAQAEXABsAFQCGAAMAQwFBATEAAgB/ALAAmgB5BDIAkgDnAD0AWQADAB4AFwDDANwACgEIAAYBXwB/AAIA6gAGACIAMgAZAR4AAwADAF8BBABAAIcABwAdAGsABgA4AA==",
          "dtype": "i2"
         },
         "y0": " ",
         "yaxis": "y"
        },
        {
         "alignmentgroup": "True",
         "boxpoints": "all",
         "hovertemplate": "sdg=%{x}<br>description_number=%{y}<extra></extra>",
         "legendgroup": "None",
         "marker": {
          "color": "#ab63fa"
         },
         "name": "None",
         "notched": false,
         "offsetgroup": "None",
         "orientation": "v",
         "showlegend": true,
         "type": "box",
         "x": [
          "None",
          "None",
          "None",
          "None",
          "None",
          "None",
          "None",
          "None",
          "None",
          "None",
          "None",
          "None",
          "None",
          "None",
          "None",
          "None",
          "None",
          "None",
          "None",
          "None",
          "None",
          "None",
          "None",
          "None",
          "None",
          "None",
          "None",
          "None",
          "None",
          "None",
          "None",
          "None",
          "None",
          "None",
          "None",
          "None",
          "None",
          "None",
          "None",
          "None",
          "None",
          "None",
          "None",
          "None",
          "None",
          "None",
          "None",
          "None",
          "None",
          "None"
         ],
         "x0": " ",
         "xaxis": "x",
         "y": {
          "bdata": "DgBpAEQARAFtAKsASwCNAHUAfQAYAckATACyAEMBggCgAGIAOQAXABsBBwABAAMACAAuAD4AjgAMAFsAJgFLADkABABQAAQASgBQAE4ArQA5ABwAQQAHAFcArAA8AFsATACdAA==",
          "dtype": "i2"
         },
         "y0": " ",
         "yaxis": "y"
        },
        {
         "alignmentgroup": "True",
         "boxpoints": "all",
         "hovertemplate": "sdg=%{x}<br>description_number=%{y}<extra></extra>",
         "legendgroup": "SDG11",
         "marker": {
          "color": "#FFA15A"
         },
         "name": "SDG11",
         "notched": false,
         "offsetgroup": "SDG11",
         "orientation": "v",
         "showlegend": true,
         "type": "box",
         "x": [
          "SDG11",
          "SDG11",
          "SDG11",
          "SDG11",
          "SDG11",
          "SDG11",
          "SDG11",
          "SDG11",
          "SDG11",
          "SDG11",
          "SDG11",
          "SDG11",
          "SDG11",
          "SDG11",
          "SDG11",
          "SDG11",
          "SDG11",
          "SDG11"
         ],
         "x0": " ",
         "xaxis": "x",
         "y": {
          "bdata": "5QADAC0AAgAvAEoAMQAIAAoAAgABAAEA8QAFAAEABwAVAB8A",
          "dtype": "i2"
         },
         "y0": " ",
         "yaxis": "y"
        },
        {
         "alignmentgroup": "True",
         "boxpoints": "all",
         "hovertemplate": "sdg=%{x}<br>description_number=%{y}<extra></extra>",
         "legendgroup": "SDG12",
         "marker": {
          "color": "#19d3f3"
         },
         "name": "SDG12",
         "notched": false,
         "offsetgroup": "SDG12",
         "orientation": "v",
         "showlegend": true,
         "type": "box",
         "x": [
          "SDG12",
          "SDG12",
          "SDG12",
          "SDG12",
          "SDG12",
          "SDG12",
          "SDG12",
          "SDG12",
          "SDG12",
          "SDG12",
          "SDG12",
          "SDG12",
          "SDG12",
          "SDG12",
          "SDG12",
          "SDG12",
          "SDG12",
          "SDG12",
          "SDG12",
          "SDG12",
          "SDG12",
          "SDG12",
          "SDG12",
          "SDG12",
          "SDG12",
          "SDG12",
          "SDG12",
          "SDG12",
          "SDG12",
          "SDG12",
          "SDG12",
          "SDG12",
          "SDG12",
          "SDG12",
          "SDG12",
          "SDG12",
          "SDG12",
          "SDG12",
          "SDG12",
          "SDG12",
          "SDG12",
          "SDG12",
          "SDG12",
          "SDG12",
          "SDG12",
          "SDG12",
          "SDG12",
          "SDG12",
          "SDG12",
          "SDG12"
         ],
         "x0": " ",
         "xaxis": "x",
         "y": {
          "bdata": "JgAFAFAABQABAD0BLAAOADMAIABbAAIABgAJAAEACQAUAAkAIgABABkALwALAJ8AAgAJAEwALgAcAGUAugA2AAUAdABGAEIAjgCbAAYAEwCYAAUAGwAfAIkAHwAmAEQBDQB0AA==",
          "dtype": "i2"
         },
         "y0": " ",
         "yaxis": "y"
        },
        {
         "alignmentgroup": "True",
         "boxpoints": "all",
         "hovertemplate": "sdg=%{x}<br>description_number=%{y}<extra></extra>",
         "legendgroup": "SDG7",
         "marker": {
          "color": "#FF6692"
         },
         "name": "SDG7",
         "notched": false,
         "offsetgroup": "SDG7",
         "orientation": "v",
         "showlegend": true,
         "type": "box",
         "x": [
          "SDG7",
          "SDG7",
          "SDG7",
          "SDG7",
          "SDG7",
          "SDG7",
          "SDG7",
          "SDG7",
          "SDG7",
          "SDG7",
          "SDG7",
          "SDG7",
          "SDG7",
          "SDG7",
          "SDG7",
          "SDG7",
          "SDG7",
          "SDG7",
          "SDG7",
          "SDG7",
          "SDG7",
          "SDG7",
          "SDG7",
          "SDG7",
          "SDG7",
          "SDG7",
          "SDG7",
          "SDG7",
          "SDG7",
          "SDG7",
          "SDG7",
          "SDG7"
         ],
         "x0": " ",
         "xaxis": "x",
         "y": {
          "bdata": "BABxAEQAQgBaACYBBgABABEAKQCDAA8AOQABAAEAAQABAEIACgAPANIAIAAIABcAHwADACUAQQBtANYANwAIAA==",
          "dtype": "i2"
         },
         "y0": " ",
         "yaxis": "y"
        },
        {
         "alignmentgroup": "True",
         "boxpoints": "all",
         "hovertemplate": "sdg=%{x}<br>description_number=%{y}<extra></extra>",
         "legendgroup": "SDG4",
         "marker": {
          "color": "#B6E880"
         },
         "name": "SDG4",
         "notched": false,
         "offsetgroup": "SDG4",
         "orientation": "v",
         "showlegend": true,
         "type": "box",
         "x": [
          "SDG4",
          "SDG4",
          "SDG4",
          "SDG4",
          "SDG4",
          "SDG4",
          "SDG4"
         ],
         "x0": " ",
         "xaxis": "x",
         "y": {
          "bdata": "DQDcACcACwADAFYA+AA=",
          "dtype": "i2"
         },
         "y0": " ",
         "yaxis": "y"
        },
        {
         "alignmentgroup": "True",
         "boxpoints": "all",
         "hovertemplate": "sdg=%{x}<br>description_number=%{y}<extra></extra>",
         "legendgroup": "SDG10",
         "marker": {
          "color": "#FF97FF"
         },
         "name": "SDG10",
         "notched": false,
         "offsetgroup": "SDG10",
         "orientation": "v",
         "showlegend": true,
         "type": "box",
         "x": [
          "SDG10",
          "SDG10",
          "SDG10",
          "SDG10",
          "SDG10",
          "SDG10",
          "SDG10",
          "SDG10",
          "SDG10",
          "SDG10",
          "SDG10",
          "SDG10"
         ],
         "x0": " ",
         "xaxis": "x",
         "y": {
          "bdata": "EwBWADMAFgAEAKQADQAEAE0AFAA8AAMA",
          "dtype": "i2"
         },
         "y0": " ",
         "yaxis": "y"
        },
        {
         "alignmentgroup": "True",
         "boxpoints": "all",
         "hovertemplate": "sdg=%{x}<br>description_number=%{y}<extra></extra>",
         "legendgroup": "SDG6",
         "marker": {
          "color": "#FECB52"
         },
         "name": "SDG6",
         "notched": false,
         "offsetgroup": "SDG6",
         "orientation": "v",
         "showlegend": true,
         "type": "box",
         "x": [
          "SDG6",
          "SDG6",
          "SDG6",
          "SDG6",
          "SDG6",
          "SDG6",
          "SDG6",
          "SDG6",
          "SDG6",
          "SDG6",
          "SDG6",
          "SDG6",
          "SDG6",
          "SDG6",
          "SDG6",
          "SDG6",
          "SDG6",
          "SDG6",
          "SDG6",
          "SDG6",
          "SDG6",
          "SDG6",
          "SDG6",
          "SDG6",
          "SDG6",
          "SDG6",
          "SDG6"
         ],
         "x0": " ",
         "xaxis": "x",
         "y": {
          "bdata": "BwACAAcAIQBVAP8ABABTABsACQAKAAwAJgAfADAATwAqAAIADQBSADEAEAAEACoARQAEALEA",
          "dtype": "i2"
         },
         "y0": " ",
         "yaxis": "y"
        },
        {
         "alignmentgroup": "True",
         "boxpoints": "all",
         "hovertemplate": "sdg=%{x}<br>description_number=%{y}<extra></extra>",
         "legendgroup": "SDG2",
         "marker": {
          "color": "#636efa"
         },
         "name": "SDG2",
         "notched": false,
         "offsetgroup": "SDG2",
         "orientation": "v",
         "showlegend": true,
         "type": "box",
         "x": [
          "SDG2",
          "SDG2",
          "SDG2"
         ],
         "x0": " ",
         "xaxis": "x",
         "y": {
          "bdata": "BA8U",
          "dtype": "i1"
         },
         "y0": " ",
         "yaxis": "y"
        },
        {
         "alignmentgroup": "True",
         "boxpoints": "all",
         "hovertemplate": "sdg=%{x}<br>description_number=%{y}<extra></extra>",
         "legendgroup": "SDG13",
         "marker": {
          "color": "#EF553B"
         },
         "name": "SDG13",
         "notched": false,
         "offsetgroup": "SDG13",
         "orientation": "v",
         "showlegend": true,
         "type": "box",
         "x": [
          "SDG13",
          "SDG13",
          "SDG13",
          "SDG13",
          "SDG13",
          "SDG13",
          "SDG13",
          "SDG13",
          "SDG13",
          "SDG13",
          "SDG13",
          "SDG13",
          "SDG13",
          "SDG13",
          "SDG13",
          "SDG13",
          "SDG13",
          "SDG13"
         ],
         "x0": " ",
         "xaxis": "x",
         "y": {
          "bdata": "CgASABAAFQAOAAkABAA1AAIAEQACABIAPQADAFcAAwCrABUA",
          "dtype": "i2"
         },
         "y0": " ",
         "yaxis": "y"
        },
        {
         "alignmentgroup": "True",
         "boxpoints": "all",
         "hovertemplate": "sdg=%{x}<br>description_number=%{y}<extra></extra>",
         "legendgroup": "SDG14",
         "marker": {
          "color": "#00cc96"
         },
         "name": "SDG14",
         "notched": false,
         "offsetgroup": "SDG14",
         "orientation": "v",
         "showlegend": true,
         "type": "box",
         "x": [
          "SDG14",
          "SDG14",
          "SDG14",
          "SDG14",
          "SDG14"
         ],
         "x0": " ",
         "xaxis": "x",
         "y": {
          "bdata": "SUhOAUY=",
          "dtype": "i1"
         },
         "y0": " ",
         "yaxis": "y"
        },
        {
         "alignmentgroup": "True",
         "boxpoints": "all",
         "hovertemplate": "sdg=%{x}<br>description_number=%{y}<extra></extra>",
         "legendgroup": "SDG15",
         "marker": {
          "color": "#ab63fa"
         },
         "name": "SDG15",
         "notched": false,
         "offsetgroup": "SDG15",
         "orientation": "v",
         "showlegend": true,
         "type": "box",
         "x": [
          "SDG15",
          "SDG15",
          "SDG15",
          "SDG15"
         ],
         "x0": " ",
         "xaxis": "x",
         "y": {
          "bdata": "1QAxAAoAWAA=",
          "dtype": "i2"
         },
         "y0": " ",
         "yaxis": "y"
        }
       ],
       "layout": {
        "boxmode": "group",
        "legend": {
         "title": {
          "text": "sdg"
         },
         "tracegroupgap": 0
        },
        "template": {
         "data": {
          "bar": [
           {
            "error_x": {
             "color": "#2a3f5f"
            },
            "error_y": {
             "color": "#2a3f5f"
            },
            "marker": {
             "line": {
              "color": "#E5ECF6",
              "width": 0.5
             },
             "pattern": {
              "fillmode": "overlay",
              "size": 10,
              "solidity": 0.2
             }
            },
            "type": "bar"
           }
          ],
          "barpolar": [
           {
            "marker": {
             "line": {
              "color": "#E5ECF6",
              "width": 0.5
             },
             "pattern": {
              "fillmode": "overlay",
              "size": 10,
              "solidity": 0.2
             }
            },
            "type": "barpolar"
           }
          ],
          "carpet": [
           {
            "aaxis": {
             "endlinecolor": "#2a3f5f",
             "gridcolor": "white",
             "linecolor": "white",
             "minorgridcolor": "white",
             "startlinecolor": "#2a3f5f"
            },
            "baxis": {
             "endlinecolor": "#2a3f5f",
             "gridcolor": "white",
             "linecolor": "white",
             "minorgridcolor": "white",
             "startlinecolor": "#2a3f5f"
            },
            "type": "carpet"
           }
          ],
          "choropleth": [
           {
            "colorbar": {
             "outlinewidth": 0,
             "ticks": ""
            },
            "type": "choropleth"
           }
          ],
          "contour": [
           {
            "colorbar": {
             "outlinewidth": 0,
             "ticks": ""
            },
            "colorscale": [
             [
              0,
              "#0d0887"
             ],
             [
              0.1111111111111111,
              "#46039f"
             ],
             [
              0.2222222222222222,
              "#7201a8"
             ],
             [
              0.3333333333333333,
              "#9c179e"
             ],
             [
              0.4444444444444444,
              "#bd3786"
             ],
             [
              0.5555555555555556,
              "#d8576b"
             ],
             [
              0.6666666666666666,
              "#ed7953"
             ],
             [
              0.7777777777777778,
              "#fb9f3a"
             ],
             [
              0.8888888888888888,
              "#fdca26"
             ],
             [
              1,
              "#f0f921"
             ]
            ],
            "type": "contour"
           }
          ],
          "contourcarpet": [
           {
            "colorbar": {
             "outlinewidth": 0,
             "ticks": ""
            },
            "type": "contourcarpet"
           }
          ],
          "heatmap": [
           {
            "colorbar": {
             "outlinewidth": 0,
             "ticks": ""
            },
            "colorscale": [
             [
              0,
              "#0d0887"
             ],
             [
              0.1111111111111111,
              "#46039f"
             ],
             [
              0.2222222222222222,
              "#7201a8"
             ],
             [
              0.3333333333333333,
              "#9c179e"
             ],
             [
              0.4444444444444444,
              "#bd3786"
             ],
             [
              0.5555555555555556,
              "#d8576b"
             ],
             [
              0.6666666666666666,
              "#ed7953"
             ],
             [
              0.7777777777777778,
              "#fb9f3a"
             ],
             [
              0.8888888888888888,
              "#fdca26"
             ],
             [
              1,
              "#f0f921"
             ]
            ],
            "type": "heatmap"
           }
          ],
          "histogram": [
           {
            "marker": {
             "pattern": {
              "fillmode": "overlay",
              "size": 10,
              "solidity": 0.2
             }
            },
            "type": "histogram"
           }
          ],
          "histogram2d": [
           {
            "colorbar": {
             "outlinewidth": 0,
             "ticks": ""
            },
            "colorscale": [
             [
              0,
              "#0d0887"
             ],
             [
              0.1111111111111111,
              "#46039f"
             ],
             [
              0.2222222222222222,
              "#7201a8"
             ],
             [
              0.3333333333333333,
              "#9c179e"
             ],
             [
              0.4444444444444444,
              "#bd3786"
             ],
             [
              0.5555555555555556,
              "#d8576b"
             ],
             [
              0.6666666666666666,
              "#ed7953"
             ],
             [
              0.7777777777777778,
              "#fb9f3a"
             ],
             [
              0.8888888888888888,
              "#fdca26"
             ],
             [
              1,
              "#f0f921"
             ]
            ],
            "type": "histogram2d"
           }
          ],
          "histogram2dcontour": [
           {
            "colorbar": {
             "outlinewidth": 0,
             "ticks": ""
            },
            "colorscale": [
             [
              0,
              "#0d0887"
             ],
             [
              0.1111111111111111,
              "#46039f"
             ],
             [
              0.2222222222222222,
              "#7201a8"
             ],
             [
              0.3333333333333333,
              "#9c179e"
             ],
             [
              0.4444444444444444,
              "#bd3786"
             ],
             [
              0.5555555555555556,
              "#d8576b"
             ],
             [
              0.6666666666666666,
              "#ed7953"
             ],
             [
              0.7777777777777778,
              "#fb9f3a"
             ],
             [
              0.8888888888888888,
              "#fdca26"
             ],
             [
              1,
              "#f0f921"
             ]
            ],
            "type": "histogram2dcontour"
           }
          ],
          "mesh3d": [
           {
            "colorbar": {
             "outlinewidth": 0,
             "ticks": ""
            },
            "type": "mesh3d"
           }
          ],
          "parcoords": [
           {
            "line": {
             "colorbar": {
              "outlinewidth": 0,
              "ticks": ""
             }
            },
            "type": "parcoords"
           }
          ],
          "pie": [
           {
            "automargin": true,
            "type": "pie"
           }
          ],
          "scatter": [
           {
            "fillpattern": {
             "fillmode": "overlay",
             "size": 10,
             "solidity": 0.2
            },
            "type": "scatter"
           }
          ],
          "scatter3d": [
           {
            "line": {
             "colorbar": {
              "outlinewidth": 0,
              "ticks": ""
             }
            },
            "marker": {
             "colorbar": {
              "outlinewidth": 0,
              "ticks": ""
             }
            },
            "type": "scatter3d"
           }
          ],
          "scattercarpet": [
           {
            "marker": {
             "colorbar": {
              "outlinewidth": 0,
              "ticks": ""
             }
            },
            "type": "scattercarpet"
           }
          ],
          "scattergeo": [
           {
            "marker": {
             "colorbar": {
              "outlinewidth": 0,
              "ticks": ""
             }
            },
            "type": "scattergeo"
           }
          ],
          "scattergl": [
           {
            "marker": {
             "colorbar": {
              "outlinewidth": 0,
              "ticks": ""
             }
            },
            "type": "scattergl"
           }
          ],
          "scattermap": [
           {
            "marker": {
             "colorbar": {
              "outlinewidth": 0,
              "ticks": ""
             }
            },
            "type": "scattermap"
           }
          ],
          "scattermapbox": [
           {
            "marker": {
             "colorbar": {
              "outlinewidth": 0,
              "ticks": ""
             }
            },
            "type": "scattermapbox"
           }
          ],
          "scatterpolar": [
           {
            "marker": {
             "colorbar": {
              "outlinewidth": 0,
              "ticks": ""
             }
            },
            "type": "scatterpolar"
           }
          ],
          "scatterpolargl": [
           {
            "marker": {
             "colorbar": {
              "outlinewidth": 0,
              "ticks": ""
             }
            },
            "type": "scatterpolargl"
           }
          ],
          "scatterternary": [
           {
            "marker": {
             "colorbar": {
              "outlinewidth": 0,
              "ticks": ""
             }
            },
            "type": "scatterternary"
           }
          ],
          "surface": [
           {
            "colorbar": {
             "outlinewidth": 0,
             "ticks": ""
            },
            "colorscale": [
             [
              0,
              "#0d0887"
             ],
             [
              0.1111111111111111,
              "#46039f"
             ],
             [
              0.2222222222222222,
              "#7201a8"
             ],
             [
              0.3333333333333333,
              "#9c179e"
             ],
             [
              0.4444444444444444,
              "#bd3786"
             ],
             [
              0.5555555555555556,
              "#d8576b"
             ],
             [
              0.6666666666666666,
              "#ed7953"
             ],
             [
              0.7777777777777778,
              "#fb9f3a"
             ],
             [
              0.8888888888888888,
              "#fdca26"
             ],
             [
              1,
              "#f0f921"
             ]
            ],
            "type": "surface"
           }
          ],
          "table": [
           {
            "cells": {
             "fill": {
              "color": "#EBF0F8"
             },
             "line": {
              "color": "white"
             }
            },
            "header": {
             "fill": {
              "color": "#C8D4E3"
             },
             "line": {
              "color": "white"
             }
            },
            "type": "table"
           }
          ]
         },
         "layout": {
          "annotationdefaults": {
           "arrowcolor": "#2a3f5f",
           "arrowhead": 0,
           "arrowwidth": 1
          },
          "autotypenumbers": "strict",
          "coloraxis": {
           "colorbar": {
            "outlinewidth": 0,
            "ticks": ""
           }
          },
          "colorscale": {
           "diverging": [
            [
             0,
             "#8e0152"
            ],
            [
             0.1,
             "#c51b7d"
            ],
            [
             0.2,
             "#de77ae"
            ],
            [
             0.3,
             "#f1b6da"
            ],
            [
             0.4,
             "#fde0ef"
            ],
            [
             0.5,
             "#f7f7f7"
            ],
            [
             0.6,
             "#e6f5d0"
            ],
            [
             0.7,
             "#b8e186"
            ],
            [
             0.8,
             "#7fbc41"
            ],
            [
             0.9,
             "#4d9221"
            ],
            [
             1,
             "#276419"
            ]
           ],
           "sequential": [
            [
             0,
             "#0d0887"
            ],
            [
             0.1111111111111111,
             "#46039f"
            ],
            [
             0.2222222222222222,
             "#7201a8"
            ],
            [
             0.3333333333333333,
             "#9c179e"
            ],
            [
             0.4444444444444444,
             "#bd3786"
            ],
            [
             0.5555555555555556,
             "#d8576b"
            ],
            [
             0.6666666666666666,
             "#ed7953"
            ],
            [
             0.7777777777777778,
             "#fb9f3a"
            ],
            [
             0.8888888888888888,
             "#fdca26"
            ],
            [
             1,
             "#f0f921"
            ]
           ],
           "sequentialminus": [
            [
             0,
             "#0d0887"
            ],
            [
             0.1111111111111111,
             "#46039f"
            ],
            [
             0.2222222222222222,
             "#7201a8"
            ],
            [
             0.3333333333333333,
             "#9c179e"
            ],
            [
             0.4444444444444444,
             "#bd3786"
            ],
            [
             0.5555555555555556,
             "#d8576b"
            ],
            [
             0.6666666666666666,
             "#ed7953"
            ],
            [
             0.7777777777777778,
             "#fb9f3a"
            ],
            [
             0.8888888888888888,
             "#fdca26"
            ],
            [
             1,
             "#f0f921"
            ]
           ]
          },
          "colorway": [
           "#636efa",
           "#EF553B",
           "#00cc96",
           "#ab63fa",
           "#FFA15A",
           "#19d3f3",
           "#FF6692",
           "#B6E880",
           "#FF97FF",
           "#FECB52"
          ],
          "font": {
           "color": "#2a3f5f"
          },
          "geo": {
           "bgcolor": "white",
           "lakecolor": "white",
           "landcolor": "#E5ECF6",
           "showlakes": true,
           "showland": true,
           "subunitcolor": "white"
          },
          "hoverlabel": {
           "align": "left"
          },
          "hovermode": "closest",
          "mapbox": {
           "style": "light"
          },
          "paper_bgcolor": "white",
          "plot_bgcolor": "#E5ECF6",
          "polar": {
           "angularaxis": {
            "gridcolor": "white",
            "linecolor": "white",
            "ticks": ""
           },
           "bgcolor": "#E5ECF6",
           "radialaxis": {
            "gridcolor": "white",
            "linecolor": "white",
            "ticks": ""
           }
          },
          "scene": {
           "xaxis": {
            "backgroundcolor": "#E5ECF6",
            "gridcolor": "white",
            "gridwidth": 2,
            "linecolor": "white",
            "showbackground": true,
            "ticks": "",
            "zerolinecolor": "white"
           },
           "yaxis": {
            "backgroundcolor": "#E5ECF6",
            "gridcolor": "white",
            "gridwidth": 2,
            "linecolor": "white",
            "showbackground": true,
            "ticks": "",
            "zerolinecolor": "white"
           },
           "zaxis": {
            "backgroundcolor": "#E5ECF6",
            "gridcolor": "white",
            "gridwidth": 2,
            "linecolor": "white",
            "showbackground": true,
            "ticks": "",
            "zerolinecolor": "white"
           }
          },
          "shapedefaults": {
           "line": {
            "color": "#2a3f5f"
           }
          },
          "ternary": {
           "aaxis": {
            "gridcolor": "white",
            "linecolor": "white",
            "ticks": ""
           },
           "baxis": {
            "gridcolor": "white",
            "linecolor": "white",
            "ticks": ""
           },
           "bgcolor": "#E5ECF6",
           "caxis": {
            "gridcolor": "white",
            "linecolor": "white",
            "ticks": ""
           }
          },
          "title": {
           "x": 0.05
          },
          "xaxis": {
           "automargin": true,
           "gridcolor": "white",
           "linecolor": "white",
           "ticks": "",
           "title": {
            "standoff": 15
           },
           "zerolinecolor": "white",
           "zerolinewidth": 2
          },
          "yaxis": {
           "automargin": true,
           "gridcolor": "white",
           "linecolor": "white",
           "ticks": "",
           "title": {
            "standoff": 15
           },
           "zerolinecolor": "white",
           "zerolinewidth": 2
          }
         }
        },
        "title": {
         "text": "Description Number by SDG Category"
        },
        "xaxis": {
         "anchor": "y",
         "categoryarray": [
          "SDG9",
          "SDG16",
          "SDG3",
          "None",
          "SDG11",
          "SDG12",
          "SDG7",
          "SDG4",
          "SDG10",
          "SDG6",
          "SDG2",
          "SDG13",
          "SDG14",
          "SDG15"
         ],
         "categoryorder": "array",
         "domain": [
          0,
          1
         ],
         "title": {
          "text": "SDG"
         }
        },
        "yaxis": {
         "anchor": "x",
         "domain": [
          0,
          1
         ],
         "title": {
          "text": "Description Number"
         }
        }
       }
      }
     },
     "metadata": {},
     "output_type": "display_data"
    },
    {
     "name": "stdout",
     "output_type": "stream",
     "text": [
      "\n",
      "Mann-Whitney U Test p-value: 0.0000\n",
      "Significant difference in description_number between 'None' and SDG-assigned.\n"
     ]
    },
    {
     "data": {
      "application/vnd.plotly.v1+json": {
       "config": {
        "plotlyServerURL": "https://plot.ly"
       },
       "data": [
        {
         "alignmentgroup": "True",
         "boxpoints": "all",
         "hovertemplate": "Has SDG Label=%{x}<br>Description Number=%{y}<extra></extra>",
         "legendgroup": "True",
         "marker": {
          "color": "#636efa"
         },
         "name": "True",
         "notched": false,
         "offsetgroup": "True",
         "orientation": "v",
         "showlegend": true,
         "type": "box",
         "x": [
          true,
          true,
          true,
          true,
          true,
          true,
          true,
          true,
          true,
          true,
          true,
          true,
          true,
          true,
          true,
          true,
          true,
          true,
          true,
          true,
          true,
          true,
          true,
          true,
          true,
          true,
          true,
          true,
          true,
          true,
          true,
          true,
          true,
          true,
          true,
          true,
          true,
          true,
          true,
          true,
          true,
          true,
          true,
          true,
          true,
          true,
          true,
          true,
          true,
          true,
          true,
          true,
          true,
          true,
          true,
          true,
          true,
          true,
          true,
          true,
          true,
          true,
          true,
          true,
          true,
          true,
          true,
          true,
          true,
          true,
          true,
          true,
          true,
          true,
          true,
          true,
          true,
          true,
          true,
          true,
          true,
          true,
          true,
          true,
          true,
          true,
          true,
          true,
          true,
          true,
          true,
          true,
          true,
          true,
          true,
          true,
          true,
          true,
          true,
          true,
          true,
          true,
          true,
          true,
          true,
          true,
          true,
          true,
          true,
          true,
          true,
          true,
          true,
          true,
          true,
          true,
          true,
          true,
          true,
          true,
          true,
          true,
          true,
          true,
          true,
          true,
          true,
          true,
          true,
          true,
          true,
          true,
          true,
          true,
          true,
          true,
          true,
          true,
          true,
          true,
          true,
          true,
          true,
          true,
          true,
          true,
          true,
          true,
          true,
          true,
          true,
          true,
          true,
          true,
          true,
          true,
          true,
          true,
          true,
          true,
          true,
          true,
          true,
          true,
          true,
          true,
          true,
          true,
          true,
          true,
          true,
          true,
          true,
          true,
          true,
          true,
          true,
          true,
          true,
          true,
          true,
          true,
          true,
          true,
          true,
          true,
          true,
          true,
          true,
          true,
          true,
          true,
          true,
          true,
          true,
          true,
          true,
          true,
          true,
          true,
          true,
          true,
          true,
          true,
          true,
          true,
          true,
          true,
          true,
          true,
          true,
          true,
          true,
          true,
          true,
          true,
          true,
          true,
          true,
          true,
          true,
          true,
          true,
          true,
          true,
          true,
          true,
          true,
          true,
          true,
          true,
          true,
          true,
          true,
          true,
          true,
          true,
          true,
          true,
          true,
          true,
          true,
          true,
          true,
          true,
          true,
          true,
          true,
          true,
          true,
          true,
          true,
          true,
          true,
          true,
          true,
          true,
          true,
          true,
          true,
          true,
          true,
          true,
          true,
          true,
          true,
          true,
          true,
          true,
          true,
          true,
          true,
          true,
          true,
          true,
          true,
          true,
          true
         ],
         "x0": " ",
         "xaxis": "x",
         "y": {
          "bdata": "NQA8AC8A5QAuAPoA8QALACYABQAEAA0AEwB7AAoAQAEHAAcAFwAmAFAABQAEAAkAAgABAAcAIQBxABsACgASABAAFQAVAA4ACQCGAAMASQBDAdwAJwBBAQsAAwA9ATEAVgAzABYABAACAH8ApACwAJoAeQQyAJIA5wA9AAQAWQADAA0AHgBUABcABADDANwALABNAAoBCAAGARQAXwB/AAIA6gDVAAYAIgAyABkBHgADADEAAwBfAQQAAwBAAIcABwAdAGsABgA4ADwAAwAZAAoAWABVAP8ABABTABsACQAKAAwAJgAfADAATwAqAAIADQBSADEAEAAEACoARQAEAEgATgABAEYADwAUADUAAgARAAIAEgA9AAMAVwADAKsAFQAtAAIALwBKADEACAAKACIABQARAAIAKgBbABgBBwANABgABAArAA4ABgABADMAAgAHABIAXAAIAAQAAQAFAA4AEwACAA0AWQBAACQADAAJAAEACwAJAIgABAAJAAEABAASAAsABwAIACAARABbAEIAAgAGAAkAAQAJAFoAFAAJACIAJgEGAAEAAQAZAC8A8QAFAAEACwARACkAgwABAA8AOQABAAEABwABAAEAsQBCAAoADwDSACAAnwAIABcAHwBWAAMAJQBBABUA+AAfAG0A1gA3AAgAAgAJAEwALgAcAGUAugA2AAUAdABGAEIAjgCbAAYAEwCYAAUAGwAfAIkAHwAmAEQBDQB0AA==",
          "dtype": "i2"
         },
         "y0": " ",
         "yaxis": "y"
        },
        {
         "alignmentgroup": "True",
         "boxpoints": "all",
         "hovertemplate": "Has SDG Label=%{x}<br>Description Number=%{y}<extra></extra>",
         "legendgroup": "False",
         "marker": {
          "color": "#EF553B"
         },
         "name": "False",
         "notched": false,
         "offsetgroup": "False",
         "orientation": "v",
         "showlegend": true,
         "type": "box",
         "x": [
          false,
          false,
          false,
          false,
          false,
          false,
          false,
          false,
          false,
          false,
          false,
          false,
          false,
          false,
          false,
          false,
          false,
          false,
          false,
          false,
          false,
          false,
          false,
          false,
          false,
          false,
          false,
          false,
          false,
          false,
          false,
          false,
          false,
          false,
          false,
          false,
          false,
          false,
          false,
          false,
          false,
          false,
          false,
          false,
          false,
          false,
          false,
          false,
          false,
          false
         ],
         "x0": " ",
         "xaxis": "x",
         "y": {
          "bdata": "DgBpAEQARAFtAKsASwCNAHUAfQAYAckATACyAEMBggCgAGIAOQAXABsBBwABAAMACAAuAD4AjgAMAFsAJgFLADkABABQAAQASgBQAE4ArQA5ABwAQQAHAFcArAA8AFsATACdAA==",
          "dtype": "i2"
         },
         "y0": " ",
         "yaxis": "y"
        }
       ],
       "layout": {
        "boxmode": "overlay",
        "legend": {
         "title": {
          "text": "Has SDG Label"
         },
         "tracegroupgap": 0
        },
        "template": {
         "data": {
          "bar": [
           {
            "error_x": {
             "color": "#2a3f5f"
            },
            "error_y": {
             "color": "#2a3f5f"
            },
            "marker": {
             "line": {
              "color": "#E5ECF6",
              "width": 0.5
             },
             "pattern": {
              "fillmode": "overlay",
              "size": 10,
              "solidity": 0.2
             }
            },
            "type": "bar"
           }
          ],
          "barpolar": [
           {
            "marker": {
             "line": {
              "color": "#E5ECF6",
              "width": 0.5
             },
             "pattern": {
              "fillmode": "overlay",
              "size": 10,
              "solidity": 0.2
             }
            },
            "type": "barpolar"
           }
          ],
          "carpet": [
           {
            "aaxis": {
             "endlinecolor": "#2a3f5f",
             "gridcolor": "white",
             "linecolor": "white",
             "minorgridcolor": "white",
             "startlinecolor": "#2a3f5f"
            },
            "baxis": {
             "endlinecolor": "#2a3f5f",
             "gridcolor": "white",
             "linecolor": "white",
             "minorgridcolor": "white",
             "startlinecolor": "#2a3f5f"
            },
            "type": "carpet"
           }
          ],
          "choropleth": [
           {
            "colorbar": {
             "outlinewidth": 0,
             "ticks": ""
            },
            "type": "choropleth"
           }
          ],
          "contour": [
           {
            "colorbar": {
             "outlinewidth": 0,
             "ticks": ""
            },
            "colorscale": [
             [
              0,
              "#0d0887"
             ],
             [
              0.1111111111111111,
              "#46039f"
             ],
             [
              0.2222222222222222,
              "#7201a8"
             ],
             [
              0.3333333333333333,
              "#9c179e"
             ],
             [
              0.4444444444444444,
              "#bd3786"
             ],
             [
              0.5555555555555556,
              "#d8576b"
             ],
             [
              0.6666666666666666,
              "#ed7953"
             ],
             [
              0.7777777777777778,
              "#fb9f3a"
             ],
             [
              0.8888888888888888,
              "#fdca26"
             ],
             [
              1,
              "#f0f921"
             ]
            ],
            "type": "contour"
           }
          ],
          "contourcarpet": [
           {
            "colorbar": {
             "outlinewidth": 0,
             "ticks": ""
            },
            "type": "contourcarpet"
           }
          ],
          "heatmap": [
           {
            "colorbar": {
             "outlinewidth": 0,
             "ticks": ""
            },
            "colorscale": [
             [
              0,
              "#0d0887"
             ],
             [
              0.1111111111111111,
              "#46039f"
             ],
             [
              0.2222222222222222,
              "#7201a8"
             ],
             [
              0.3333333333333333,
              "#9c179e"
             ],
             [
              0.4444444444444444,
              "#bd3786"
             ],
             [
              0.5555555555555556,
              "#d8576b"
             ],
             [
              0.6666666666666666,
              "#ed7953"
             ],
             [
              0.7777777777777778,
              "#fb9f3a"
             ],
             [
              0.8888888888888888,
              "#fdca26"
             ],
             [
              1,
              "#f0f921"
             ]
            ],
            "type": "heatmap"
           }
          ],
          "histogram": [
           {
            "marker": {
             "pattern": {
              "fillmode": "overlay",
              "size": 10,
              "solidity": 0.2
             }
            },
            "type": "histogram"
           }
          ],
          "histogram2d": [
           {
            "colorbar": {
             "outlinewidth": 0,
             "ticks": ""
            },
            "colorscale": [
             [
              0,
              "#0d0887"
             ],
             [
              0.1111111111111111,
              "#46039f"
             ],
             [
              0.2222222222222222,
              "#7201a8"
             ],
             [
              0.3333333333333333,
              "#9c179e"
             ],
             [
              0.4444444444444444,
              "#bd3786"
             ],
             [
              0.5555555555555556,
              "#d8576b"
             ],
             [
              0.6666666666666666,
              "#ed7953"
             ],
             [
              0.7777777777777778,
              "#fb9f3a"
             ],
             [
              0.8888888888888888,
              "#fdca26"
             ],
             [
              1,
              "#f0f921"
             ]
            ],
            "type": "histogram2d"
           }
          ],
          "histogram2dcontour": [
           {
            "colorbar": {
             "outlinewidth": 0,
             "ticks": ""
            },
            "colorscale": [
             [
              0,
              "#0d0887"
             ],
             [
              0.1111111111111111,
              "#46039f"
             ],
             [
              0.2222222222222222,
              "#7201a8"
             ],
             [
              0.3333333333333333,
              "#9c179e"
             ],
             [
              0.4444444444444444,
              "#bd3786"
             ],
             [
              0.5555555555555556,
              "#d8576b"
             ],
             [
              0.6666666666666666,
              "#ed7953"
             ],
             [
              0.7777777777777778,
              "#fb9f3a"
             ],
             [
              0.8888888888888888,
              "#fdca26"
             ],
             [
              1,
              "#f0f921"
             ]
            ],
            "type": "histogram2dcontour"
           }
          ],
          "mesh3d": [
           {
            "colorbar": {
             "outlinewidth": 0,
             "ticks": ""
            },
            "type": "mesh3d"
           }
          ],
          "parcoords": [
           {
            "line": {
             "colorbar": {
              "outlinewidth": 0,
              "ticks": ""
             }
            },
            "type": "parcoords"
           }
          ],
          "pie": [
           {
            "automargin": true,
            "type": "pie"
           }
          ],
          "scatter": [
           {
            "fillpattern": {
             "fillmode": "overlay",
             "size": 10,
             "solidity": 0.2
            },
            "type": "scatter"
           }
          ],
          "scatter3d": [
           {
            "line": {
             "colorbar": {
              "outlinewidth": 0,
              "ticks": ""
             }
            },
            "marker": {
             "colorbar": {
              "outlinewidth": 0,
              "ticks": ""
             }
            },
            "type": "scatter3d"
           }
          ],
          "scattercarpet": [
           {
            "marker": {
             "colorbar": {
              "outlinewidth": 0,
              "ticks": ""
             }
            },
            "type": "scattercarpet"
           }
          ],
          "scattergeo": [
           {
            "marker": {
             "colorbar": {
              "outlinewidth": 0,
              "ticks": ""
             }
            },
            "type": "scattergeo"
           }
          ],
          "scattergl": [
           {
            "marker": {
             "colorbar": {
              "outlinewidth": 0,
              "ticks": ""
             }
            },
            "type": "scattergl"
           }
          ],
          "scattermap": [
           {
            "marker": {
             "colorbar": {
              "outlinewidth": 0,
              "ticks": ""
             }
            },
            "type": "scattermap"
           }
          ],
          "scattermapbox": [
           {
            "marker": {
             "colorbar": {
              "outlinewidth": 0,
              "ticks": ""
             }
            },
            "type": "scattermapbox"
           }
          ],
          "scatterpolar": [
           {
            "marker": {
             "colorbar": {
              "outlinewidth": 0,
              "ticks": ""
             }
            },
            "type": "scatterpolar"
           }
          ],
          "scatterpolargl": [
           {
            "marker": {
             "colorbar": {
              "outlinewidth": 0,
              "ticks": ""
             }
            },
            "type": "scatterpolargl"
           }
          ],
          "scatterternary": [
           {
            "marker": {
             "colorbar": {
              "outlinewidth": 0,
              "ticks": ""
             }
            },
            "type": "scatterternary"
           }
          ],
          "surface": [
           {
            "colorbar": {
             "outlinewidth": 0,
             "ticks": ""
            },
            "colorscale": [
             [
              0,
              "#0d0887"
             ],
             [
              0.1111111111111111,
              "#46039f"
             ],
             [
              0.2222222222222222,
              "#7201a8"
             ],
             [
              0.3333333333333333,
              "#9c179e"
             ],
             [
              0.4444444444444444,
              "#bd3786"
             ],
             [
              0.5555555555555556,
              "#d8576b"
             ],
             [
              0.6666666666666666,
              "#ed7953"
             ],
             [
              0.7777777777777778,
              "#fb9f3a"
             ],
             [
              0.8888888888888888,
              "#fdca26"
             ],
             [
              1,
              "#f0f921"
             ]
            ],
            "type": "surface"
           }
          ],
          "table": [
           {
            "cells": {
             "fill": {
              "color": "#EBF0F8"
             },
             "line": {
              "color": "white"
             }
            },
            "header": {
             "fill": {
              "color": "#C8D4E3"
             },
             "line": {
              "color": "white"
             }
            },
            "type": "table"
           }
          ]
         },
         "layout": {
          "annotationdefaults": {
           "arrowcolor": "#2a3f5f",
           "arrowhead": 0,
           "arrowwidth": 1
          },
          "autotypenumbers": "strict",
          "coloraxis": {
           "colorbar": {
            "outlinewidth": 0,
            "ticks": ""
           }
          },
          "colorscale": {
           "diverging": [
            [
             0,
             "#8e0152"
            ],
            [
             0.1,
             "#c51b7d"
            ],
            [
             0.2,
             "#de77ae"
            ],
            [
             0.3,
             "#f1b6da"
            ],
            [
             0.4,
             "#fde0ef"
            ],
            [
             0.5,
             "#f7f7f7"
            ],
            [
             0.6,
             "#e6f5d0"
            ],
            [
             0.7,
             "#b8e186"
            ],
            [
             0.8,
             "#7fbc41"
            ],
            [
             0.9,
             "#4d9221"
            ],
            [
             1,
             "#276419"
            ]
           ],
           "sequential": [
            [
             0,
             "#0d0887"
            ],
            [
             0.1111111111111111,
             "#46039f"
            ],
            [
             0.2222222222222222,
             "#7201a8"
            ],
            [
             0.3333333333333333,
             "#9c179e"
            ],
            [
             0.4444444444444444,
             "#bd3786"
            ],
            [
             0.5555555555555556,
             "#d8576b"
            ],
            [
             0.6666666666666666,
             "#ed7953"
            ],
            [
             0.7777777777777778,
             "#fb9f3a"
            ],
            [
             0.8888888888888888,
             "#fdca26"
            ],
            [
             1,
             "#f0f921"
            ]
           ],
           "sequentialminus": [
            [
             0,
             "#0d0887"
            ],
            [
             0.1111111111111111,
             "#46039f"
            ],
            [
             0.2222222222222222,
             "#7201a8"
            ],
            [
             0.3333333333333333,
             "#9c179e"
            ],
            [
             0.4444444444444444,
             "#bd3786"
            ],
            [
             0.5555555555555556,
             "#d8576b"
            ],
            [
             0.6666666666666666,
             "#ed7953"
            ],
            [
             0.7777777777777778,
             "#fb9f3a"
            ],
            [
             0.8888888888888888,
             "#fdca26"
            ],
            [
             1,
             "#f0f921"
            ]
           ]
          },
          "colorway": [
           "#636efa",
           "#EF553B",
           "#00cc96",
           "#ab63fa",
           "#FFA15A",
           "#19d3f3",
           "#FF6692",
           "#B6E880",
           "#FF97FF",
           "#FECB52"
          ],
          "font": {
           "color": "#2a3f5f"
          },
          "geo": {
           "bgcolor": "white",
           "lakecolor": "white",
           "landcolor": "#E5ECF6",
           "showlakes": true,
           "showland": true,
           "subunitcolor": "white"
          },
          "hoverlabel": {
           "align": "left"
          },
          "hovermode": "closest",
          "mapbox": {
           "style": "light"
          },
          "paper_bgcolor": "white",
          "plot_bgcolor": "#E5ECF6",
          "polar": {
           "angularaxis": {
            "gridcolor": "white",
            "linecolor": "white",
            "ticks": ""
           },
           "bgcolor": "#E5ECF6",
           "radialaxis": {
            "gridcolor": "white",
            "linecolor": "white",
            "ticks": ""
           }
          },
          "scene": {
           "xaxis": {
            "backgroundcolor": "#E5ECF6",
            "gridcolor": "white",
            "gridwidth": 2,
            "linecolor": "white",
            "showbackground": true,
            "ticks": "",
            "zerolinecolor": "white"
           },
           "yaxis": {
            "backgroundcolor": "#E5ECF6",
            "gridcolor": "white",
            "gridwidth": 2,
            "linecolor": "white",
            "showbackground": true,
            "ticks": "",
            "zerolinecolor": "white"
           },
           "zaxis": {
            "backgroundcolor": "#E5ECF6",
            "gridcolor": "white",
            "gridwidth": 2,
            "linecolor": "white",
            "showbackground": true,
            "ticks": "",
            "zerolinecolor": "white"
           }
          },
          "shapedefaults": {
           "line": {
            "color": "#2a3f5f"
           }
          },
          "ternary": {
           "aaxis": {
            "gridcolor": "white",
            "linecolor": "white",
            "ticks": ""
           },
           "baxis": {
            "gridcolor": "white",
            "linecolor": "white",
            "ticks": ""
           },
           "bgcolor": "#E5ECF6",
           "caxis": {
            "gridcolor": "white",
            "linecolor": "white",
            "ticks": ""
           }
          },
          "title": {
           "x": 0.05
          },
          "xaxis": {
           "automargin": true,
           "gridcolor": "white",
           "linecolor": "white",
           "ticks": "",
           "title": {
            "standoff": 15
           },
           "zerolinecolor": "white",
           "zerolinewidth": 2
          },
          "yaxis": {
           "automargin": true,
           "gridcolor": "white",
           "linecolor": "white",
           "ticks": "",
           "title": {
            "standoff": 15
           },
           "zerolinecolor": "white",
           "zerolinewidth": 2
          }
         }
        },
        "title": {
         "text": "Description Number by SDG Presence"
        },
        "xaxis": {
         "anchor": "y",
         "categoryarray": [
          true,
          false
         ],
         "categoryorder": "array",
         "domain": [
          0,
          1
         ],
         "ticktext": [
          "SDG Assigned",
          "None"
         ],
         "tickvals": [
          true,
          false
         ],
         "title": {
          "text": "Has SDG Label"
         }
        },
        "yaxis": {
         "anchor": "x",
         "domain": [
          0,
          1
         ],
         "title": {
          "text": "Description Number"
         }
        }
       }
      }
     },
     "metadata": {},
     "output_type": "display_data"
    }
   ],
   "source": [
    "import json\n",
    "import pandas as pd\n",
    "import plotly.express as px\n",
    "import plotly.graph_objects as go\n",
    "from scipy.stats import mannwhitneyu\n",
    "\n",
    "def tesetset_distribution(testset_path):\n",
    "    \"\"\"\n",
    "    Interactive distribution plot of SDG labels and boxplot of description_number using Plotly.\n",
    "\n",
    "    Args:\n",
    "        testset_path (str): Path to the testset file (JSONL format).\n",
    "    \"\"\"\n",
    "    # --- Load data ---\n",
    "    with open(testset_path, \"r\") as f:\n",
    "        data = [json.loads(line) for line in f]\n",
    "\n",
    "    df = pd.DataFrame(data)\n",
    "\n",
    "    # --- Plot 1: Interactive Bar Chart of SDG Labels ---\n",
    "    df_sdg_counts = df[\"sdg\"].value_counts().reset_index()\n",
    "    df_sdg_counts.columns = [\"sdg\", \"count\"]\n",
    "\n",
    "    fig_bar = px.bar(\n",
    "        df_sdg_counts,\n",
    "        x=\"sdg\", y=\"count\",\n",
    "        title=\"Distribution of SDG Labels\",\n",
    "        labels={\"sdg\": \"SDG\", \"count\": \"Count\"},\n",
    "        color=\"sdg\"\n",
    "    )\n",
    "    fig_bar.show()\n",
    "\n",
    "    # --- Plot 2: Interactive Boxplot of description_number by SDG ---\n",
    "    fig_box = px.box(\n",
    "        df[df[\"sdg\"] != \"Error\"],\n",
    "        x=\"sdg\",\n",
    "        y=\"description_number\",\n",
    "        title=\"Description Number by SDG Category\",\n",
    "        points=\"all\",\n",
    "        color=\"sdg\"\n",
    "    )\n",
    "    fig_box.update_layout(\n",
    "        xaxis_title=\"SDG\",\n",
    "        yaxis_title=\"Description Number\",\n",
    "        boxmode=\"group\"\n",
    "    )\n",
    "    fig_box.show()\n",
    "\n",
    "    # --- Test statistique: SDG vs None (Mann-Whitney) ---\n",
    "    df[\"has_sdg\"] = df[\"sdg\"] != \"None\"\n",
    "    group1 = df[df[\"has_sdg\"] == False][\"description_number\"]\n",
    "    group2 = df[df[\"has_sdg\"] == True][\"description_number\"]\n",
    "\n",
    "    stat, p = mannwhitneyu(group1, group2, alternative='two-sided')\n",
    "    print(f\"\\nMann-Whitney U Test p-value: {p:.4f}\")\n",
    "    if p < 0.05:\n",
    "        print(\"Significant difference in description_number between 'None' and SDG-assigned.\")\n",
    "    else:\n",
    "        print(\"No significant difference in description_number between 'None' and SDG-assigned.\")\n",
    "\n",
    "    # --- Plot 3: Interactive Binary Boxplot ---\n",
    "    fig_binary = px.box(\n",
    "        df,\n",
    "        x=\"has_sdg\",\n",
    "        y=\"description_number\",\n",
    "        color=\"has_sdg\",\n",
    "        title=\"Description Number by SDG Presence\",\n",
    "        points=\"all\",\n",
    "        labels={\"has_sdg\": \"Has SDG Label\", \"description_number\": \"Description Number\"}\n",
    "    )\n",
    "    fig_binary.update_xaxes(\n",
    "        tickvals=[True, False],\n",
    "        ticktext=[\"SDG Assigned\", \"None\"]\n",
    "    )\n",
    "    fig_binary.show()\n",
    "\n",
    "\n",
    "tesetset_distribution(\"../src/ai/testsets/testset_v3_en_labeled.jsonl\")"
   ]
  },
  {
   "cell_type": "markdown",
   "id": "a28b89cd",
   "metadata": {},
   "source": [
    "## 2. Evaluation fuctions"
   ]
  },
  {
   "cell_type": "markdown",
   "id": "a3d5e797",
   "metadata": {},
   "source": [
    "### 2.1. Regex to extract SDGs from a string"
   ]
  },
  {
   "cell_type": "code",
   "execution_count": 4,
   "id": "0708031f",
   "metadata": {},
   "outputs": [
    {
     "name": "stdout",
     "output_type": "stream",
     "text": [
      "Test Results:\n",
      "------------------------------------------------------------\n",
      " 1. ✓ PASS | 'SDG1' -> ['SDG1']\n",
      " 2. ✓ PASS | 'sdg1' -> ['SDG1']\n",
      " 3. ✓ PASS | 'SDG 1' -> ['SDG1']\n",
      " 4. ✓ PASS | 'sdg 1' -> ['SDG1']\n",
      " 5. ✓ PASS | 'The target is SDG2.' -> ['SDG2']\n",
      " 6. ✓ PASS | 'Working towards sdg 10 is important.' -> ['SDG10']\n",
      " 7. ✓ PASS | '... aligned with SDG 17 goals.' -> ['SDG17']\n",
      " 8. ✓ PASS | 'Random text SDG 9 more text' -> ['SDG9']\n",
      " 9. ✓ PASS | '1' -> ['SDG1']\n",
      "10. ✓ PASS | '16.1' -> ['SDG16']\n",
      "11. ✓ PASS | 'SDG13.4' -> ['SDG13']\n",
      "12. ✓ PASS | 'Something about SDG15 and SDG3.' -> ['SDG3', 'SDG15']\n",
      "13. ✓ PASS | '3, 4' -> ['SDG3', 'SDG4']\n",
      "14. ✓ PASS | 'SDG1, SDG2, and SDG17' -> ['SDG1', 'SDG2', 'SDG17']\n",
      "15. ✓ PASS | 'Working on 1.1, 2.3, and SDG16' -> ['SDG1', 'SDG2', 'SDG16']\n",
      "16. ✓ PASS | 'Our project addresses SDG 3, 7.2, and sdg15.' -> ['SDG3', 'SDG7', 'SDG15']\n",
      "17. ✓ PASS | 'Goals: 1, 5, 10, 17' -> ['SDG1', 'SDG5', 'SDG10', 'SDG17']\n",
      "18. ✓ PASS | 'efzfezf' -> ['None']\n",
      "19. ✓ PASS | '' -> ['None']\n",
      "20. ✓ PASS | 'SDG18' -> ['None']\n",
      "21. ✓ PASS | 'SDG0' -> ['None']\n",
      "22. ✓ PASS | '123' -> ['None']\n",
      "23. ✓ PASS | 'text with no sdgs' -> ['None']\n",
      "24. ✓ PASS | 'SDG1 and SDG1' -> ['SDG1']\n",
      "------------------------------------------------------------\n",
      "Overall: All tests passed!\n"
     ]
    },
    {
     "data": {
      "text/plain": [
       "True"
      ]
     },
     "execution_count": 4,
     "metadata": {},
     "output_type": "execute_result"
    }
   ],
   "source": [
    "import re\n",
    "\n",
    "def extract_all_sdgs(text):\n",
    "    \"\"\"\n",
    "    Extracts all SDGs found in a text and returns them as a standardized list.\n",
    "    \n",
    "    This function detects multiple SDG references in various formats including:\n",
    "    - SDG followed by number (e.g., \"SDG1\", \"SDG 2\")\n",
    "    - Numbers with sub-targets (e.g., \"16.1\", \"3.4\")\n",
    "    - Standalone numbers at the beginning or after delimiters\n",
    "    - Case-insensitive matching\n",
    "    \n",
    "    Args:\n",
    "        text (str): The input text to analyze\n",
    "        \n",
    "    Returns:\n",
    "        list: A list of unique SDGs found in the format [\"SDG1\", \"SDG2\", ...], \n",
    "            sorted numerically, or empty list if none found\n",
    "    \"\"\"\n",
    "    if not text or not isinstance(text, str):\n",
    "        return [\"None\"]\n",
    "    \n",
    "    sdg_numbers = set()  # Use set to avoid duplicates\n",
    "    \n",
    "    # Pattern 1: SDG followed by number with optional sub-target\n",
    "    # Captures: SDG1, sdg 2, SDG13.4, etc.\n",
    "    sdg_pattern = r'(?i)\\bsdg\\s*(\\d{1,2})(?:\\.\\d+)?\\b'\n",
    "    sdg_matches = re.findall(sdg_pattern, text)\n",
    "    for match in sdg_matches:\n",
    "        number = int(match)\n",
    "        if 1 <= number <= 17:\n",
    "            sdg_numbers.add(number)\n",
    "    \n",
    "    # Pattern 2: Number with sub-target (e.g., \"16.1\", \"3.4\")\n",
    "    # Look for patterns like X.Y where X is 1-17\n",
    "    number_with_sub_pattern = r'\\b(\\d{1,2})\\.\\d+\\b'\n",
    "    sub_matches = re.findall(number_with_sub_pattern, text)\n",
    "    for match in sub_matches:\n",
    "        number = int(match)\n",
    "        if 1 <= number <= 17:\n",
    "            sdg_numbers.add(number)\n",
    "    \n",
    "    # Pattern 3: Standalone numbers at beginning or after delimiters\n",
    "    # More careful matching to avoid false positives\n",
    "    # Look for numbers that are:\n",
    "    # - At the start of the string followed by delimiter or end\n",
    "    # - After comma/semicolon/colon followed by delimiter or end\n",
    "    # - After whitespace followed by delimiter or end\n",
    "    standalone_pattern = r'(?:^|[,;:]\\s*|(?<=\\s))(\\d{1,2})(?=\\s*[,;]|\\s*$|\\s+)'\n",
    "    standalone_matches = re.findall(standalone_pattern, text.strip())\n",
    "    for match in standalone_matches:\n",
    "        number = int(match)\n",
    "        if 1 <= number <= 17:\n",
    "            sdg_numbers.add(number)\n",
    "    \n",
    "    # Convert to sorted list of formatted strings\n",
    "    result = [f\"SDG{num}\" for num in sorted(sdg_numbers)]\n",
    "\n",
    "    return [\"None\"] if not result else result\n",
    "\n",
    "\n",
    "# Test cases to verify functionality\n",
    "def test_extract_all_sdgs():\n",
    "    \"\"\"Test function with various input scenarios\"\"\"\n",
    "    test_cases = [\n",
    "        # Single SDG cases\n",
    "        (\"SDG1\", [\"SDG1\"]),\n",
    "        (\"sdg1\", [\"SDG1\"]),\n",
    "        (\"SDG 1\", [\"SDG1\"]),\n",
    "        (\"sdg 1\", [\"SDG1\"]),\n",
    "        (\"The target is SDG2.\", [\"SDG2\"]),\n",
    "        (\"Working towards sdg 10 is important.\", [\"SDG10\"]),\n",
    "        (\"... aligned with SDG 17 goals.\", [\"SDG17\"]),\n",
    "        (\"Random text SDG 9 more text\", [\"SDG9\"]),\n",
    "        (\"1\", [\"SDG1\"]),\n",
    "        (\"16.1\", [\"SDG16\"]),\n",
    "        (\"SDG13.4\", [\"SDG13\"]),\n",
    "        \n",
    "        # Multiple SDG cases\n",
    "        (\"Something about SDG15 and SDG3.\", [\"SDG3\", \"SDG15\"]),\n",
    "        (\"3, 4\", [\"SDG3\", \"SDG4\"]),\n",
    "        (\"SDG1, SDG2, and SDG17\", [\"SDG1\", \"SDG2\", \"SDG17\"]),\n",
    "        (\"Working on 1.1, 2.3, and SDG16\", [\"SDG1\", \"SDG2\", \"SDG16\"]),\n",
    "        (\"Our project addresses SDG 3, 7.2, and sdg15.\", [\"SDG3\", \"SDG7\", \"SDG15\"]),\n",
    "        (\"Goals: 1, 5, 10, 17\", [\"SDG1\", \"SDG5\", \"SDG10\", \"SDG17\"]),\n",
    "        \n",
    "        # Edge cases\n",
    "        (\"efzfezf\", [\"None\"]),\n",
    "        (\"\", [\"None\"]),\n",
    "        (\"SDG18\", [\"None\"]),  # Invalid SDG number\n",
    "        (\"SDG0\", [\"None\"]),   # Invalid SDG number\n",
    "        (\"123\", [\"None\"]),    # Number too large\n",
    "        (\"text with no sdgs\", [\"None\"]),\n",
    "        (\"SDG1 and SDG1\", [\"SDG1\"]),  # Duplicates should be removed\n",
    "    ]\n",
    "    \n",
    "    print(\"Test Results:\")\n",
    "    print(\"-\" * 60)\n",
    "    all_passed = True\n",
    "    \n",
    "    for i, (test_input, expected) in enumerate(test_cases, 1):\n",
    "        result = extract_all_sdgs(test_input)\n",
    "        passed = result == expected\n",
    "        all_passed &= passed\n",
    "        status = \"✓ PASS\" if passed else \"✗ FAIL\"\n",
    "        \n",
    "        print(f\"{i:2d}. {status} | '{test_input}' -> {result}\")\n",
    "        if not passed:\n",
    "            print(f\"     Expected: {expected}\")\n",
    "    \n",
    "    print(\"-\" * 60)\n",
    "    print(f\"Overall: {'All tests passed!' if all_passed else 'Some tests failed!'}\")\n",
    "    return all_passed\n",
    "\n",
    "\n",
    "test_extract_all_sdgs()"
   ]
  },
  {
   "cell_type": "markdown",
   "id": "d1851fd5",
   "metadata": {},
   "source": [
    "### 2.2. Générate evaluation file"
   ]
  },
  {
   "cell_type": "code",
   "execution_count": null,
   "id": "ca337be2",
   "metadata": {},
   "outputs": [],
   "source": [
    "import os\n",
    "import json\n",
    "import time\n",
    "from tqdm import tqdm\n",
    "from datetime import datetime\n",
    "from ai.models.classify_patent import Classify_patent\n",
    "from api.config.ai_config import ai_client\n",
    "\n",
    "def run_evaluation(model: Classify_patent, testset_path: str, output_path: str):\n",
    "    \"\"\"\n",
    "    Runs evaluation on a JSONL test dataset, classifying each description and saving results.\n",
    "\n",
    "    If the specified output path already exists, appends a numeric suffix (_1, _2, ...) \n",
    "    to avoid overwriting the existing file.\n",
    "\n",
    "    For each line in the test set:\n",
    "        - Extracts the 'description_text' field\n",
    "        - Measures the prediction time\n",
    "        - Classifies the description using `classify_description`\n",
    "        - Saves the enriched line with classification results and prediction time\n",
    "\n",
    "    At the end, appends a metadata entry containing:\n",
    "        - model_name\n",
    "        - testset_path\n",
    "        - prompt_template_path (if available)\n",
    "        - creation date\n",
    "\n",
    "    Args:\n",
    "        testset_path (str): Path to the input .jsonl test dataset.\n",
    "        output_path (str): Desired path to save the output .jsonl file.\n",
    "\n",
    "    Returns:\n",
    "        None\n",
    "    \"\"\"\n",
    "\n",
    "    def get_safe_output_path(path):\n",
    "        \"\"\"Generates a non-conflicting file path by appending a numeric suffix if needed.\"\"\"\n",
    "        base, ext = os.path.splitext(path)\n",
    "        counter = 1\n",
    "        while os.path.exists(path):\n",
    "            path = f\"{base}_{counter}{ext}\"\n",
    "            counter += 1\n",
    "        return path\n",
    "\n",
    "    # Ensure the output file won't overwrite an existing file\n",
    "    safe_output_path = get_safe_output_path(output_path)\n",
    "\n",
    "    # Read all lines for progress tracking\n",
    "    with open(testset_path, \"r\", encoding=\"utf-8\") as f:\n",
    "        lines = f.readlines()\n",
    "\n",
    "    with open(safe_output_path, \"w\", encoding=\"utf-8\") as out_f:\n",
    "        for line in tqdm(lines, desc=\"Running evaluation\"):\n",
    "            data = json.loads(line)\n",
    "            description_text = data.get(\"description_text\", \"\")\n",
    "\n",
    "            # Rename sdg in true_sdg\n",
    "            if \"sdg\" in data:\n",
    "                data[\"true_sdg\"] = data.pop(\"sdg\")\n",
    "\n",
    "            # Time the classification\n",
    "            start_time = time.time()\n",
    "            sdg_balise, reason_balise = model.generate_response(description_text)\n",
    "            prediction_time = time.time() - start_time\n",
    "\n",
    "            # Add classification results and timing to the entry\n",
    "            data.update({\n",
    "                \"sdg_balise\": sdg_balise,\n",
    "                \"reason_balise\": reason_balise,\n",
    "                \"prediction_time\": prediction_time\n",
    "            })\n",
    "\n",
    "            # Write enriched data to output\n",
    "            out_f.write(json.dumps(data) + \"\\n\")\n",
    "\n",
    "        # Append metadata at the end\n",
    "        meta_data = {\n",
    "            \"meta_data\": {\n",
    "                \"model_name\": model.model_name,\n",
    "                \"testset_path\": testset_path,\n",
    "                \"prompt_name\": getattr(model, \"prompt_name\", \"N/A\"),\n",
    "                \"date_creation\": datetime.now().isoformat()\n",
    "            }\n",
    "        }\n",
    "        out_f.write(json.dumps(meta_data) + \"\\n\")"
   ]
  },
  {
   "cell_type": "markdown",
   "id": "4ee52825",
   "metadata": {},
   "source": [
    "### 2.3. Plot evaluation "
   ]
  },
  {
   "cell_type": "code",
   "execution_count": 7,
   "id": "4a235ba1",
   "metadata": {},
   "outputs": [],
   "source": [
    "from collections import defaultdict\n",
    "\n",
    "def show_evaluation_mono(evaluation_path: str):\n",
    "    \"\"\"\n",
    "    Evaluates the predictions in a previously generated evaluation .jsonl file.\n",
    "\n",
    "    Each prediction line must contain:\n",
    "        - \"sdg\": the ground truth SDG label (e.g., \"SDG3\")\n",
    "        - \"sdg_balise\": predicted SDG(s) as a string (e.g., \"SDG1, SDG3, SDG7\")\n",
    "\n",
    "    A prediction is considered correct if the ground truth SDG is among the predicted SDGs.\n",
    "\n",
    "    Statistics reported:\n",
    "        - Total predictions and correct ones\n",
    "        - Overall accuracy\n",
    "        - Average and total prediction time\n",
    "        - SDG-specific accuracy breakdown\n",
    "        - Sample of incorrect predictions\n",
    "\n",
    "    Args:\n",
    "        evaluation_path (str): Path to the JSONL evaluation file created by `run_evaluation`.\n",
    "\n",
    "    Returns:\n",
    "        None\n",
    "    \"\"\"\n",
    "\n",
    "    results = []\n",
    "    meta_data = {}\n",
    "    total_predictions = 0\n",
    "    correct_predictions = 0\n",
    "    total_time = 0.0\n",
    "    sdg_breakdown = defaultdict(lambda: {\"correct\": 0, \"total\": 0})\n",
    "\n",
    "    # Read and evaluate each line\n",
    "    with open(evaluation_path, \"r\", encoding=\"utf-8\") as f:\n",
    "        for line in f:\n",
    "            data = json.loads(line)\n",
    "            \n",
    "            if \"meta_data\" in data:\n",
    "                meta_data = data[\"meta_data\"]\n",
    "                continue  # Skip metadata line\n",
    "            \n",
    "            # To avoid empty line\n",
    "            if \"patent_number\" in data:\n",
    "                true_sdg = data.get(\"true_sdg\", \"\").strip()\n",
    "                predicted_sdg_raw = data.get(\"sdg_balise\", \"\")\n",
    "                predicted_sdg_list = extract_all_sdgs(predicted_sdg_raw)\n",
    "\n",
    "                is_correct = true_sdg in predicted_sdg_list\n",
    "                total_predictions += 1\n",
    "                if is_correct:\n",
    "                    correct_predictions += 1\n",
    "\n",
    "                prediction_time = data.get(\"prediction_time\", 0.0)\n",
    "                total_time += prediction_time\n",
    "\n",
    "                sdg_breakdown[true_sdg][\"total\"] += 1\n",
    "                if is_correct:\n",
    "                    sdg_breakdown[true_sdg][\"correct\"] += 1\n",
    "\n",
    "                results.append({\n",
    "                    \"patent_number\": data.get(\"patent_number\", \"N/A\"),\n",
    "                    \"description_text\": data.get(\"description_text\", \"\"),\n",
    "                    \"true_sdg\": true_sdg,\n",
    "                    \"predicted_sdg\": predicted_sdg_list,\n",
    "                    \"is_correct\": is_correct\n",
    "                })\n",
    "\n",
    "    # Compute summary statistics\n",
    "    accuracy = correct_predictions / total_predictions if total_predictions > 0 else 0.0\n",
    "    avg_prediction_time = total_time / total_predictions if total_predictions > 0 else 0.0\n",
    "    predictions_per_second = total_predictions / total_time if total_time > 0 else 0.0\n",
    "    incorrect_predictions_count = total_predictions - correct_predictions\n",
    "\n",
    "    # Print metadata\n",
    "    print(f\"\\n=== META DATA ===\")\n",
    "    for key, value in meta_data.items():\n",
    "        print(f\"{key}: {value}\")\n",
    "\n",
    "    # Print summary\n",
    "    print(f\"\\n=== EVALUATION RESULTS ===\")\n",
    "    print(f\"Total predictions: {total_predictions}\")\n",
    "    print(f\"Correct predictions: {correct_predictions}\")\n",
    "    print(f\"Accuracy: {accuracy:.4f} ({accuracy*100:.2f}%)\")\n",
    "    print(f\"Total time: {total_time:.2f} seconds\")\n",
    "    print(f\"Average prediction time: {avg_prediction_time:.4f} seconds\")\n",
    "    print(f\"Predictions per second: {predictions_per_second:.2f}\")\n",
    "    print(f\"Incorrect predictions: {incorrect_predictions_count}\")\n",
    "    print(f\"Results loaded from: {evaluation_path}\")\n",
    "\n",
    "    # Show SDG breakdown\n",
    "    print(f\"\\n=== SDG BREAKDOWN ===\")\n",
    "    for sdg, stats in sorted(sdg_breakdown.items()):\n",
    "        sdg_accuracy = stats[\"correct\"] / stats[\"total\"] if stats[\"total\"] > 0 else 0.0\n",
    "        print(f\"{sdg}: {stats['correct']}/{stats['total']} ({sdg_accuracy:.2%})\")\n",
    "\n",
    "    # Show some examples of incorrect predictions\n",
    "    incorrect_results = [r for r in results if not r[\"is_correct\"]]\n",
    "    if incorrect_results:\n",
    "        print(f\"\\n=== SAMPLE INCORRECT PREDICTIONS ===\")\n",
    "        for i, result in enumerate(incorrect_results[:5]):\n",
    "            print(f\"\\nExample {i+1}:\")\n",
    "            print(f\"Patent: {result['patent_number']}\")\n",
    "            print(f\"Description: {result['description_text'][:100]}...\")\n",
    "            print(f\"True SDG: {result['true_sdg']}\")\n",
    "            print(f\"Predicted SDG: {result['predicted_sdg']}\")"
   ]
  },
  {
   "cell_type": "markdown",
   "id": "02ad6781",
   "metadata": {},
   "source": [
    "## 3. Reproducibility\n",
    "\n",
    "We first examine whether running the same experiment twice times yields consistent results."
   ]
  },
  {
   "cell_type": "markdown",
   "id": "5c1638fc",
   "metadata": {},
   "source": [
    "### 3.1. Generate evaluation files"
   ]
  },
  {
   "cell_type": "code",
   "execution_count": null,
   "id": "14889ea7",
   "metadata": {},
   "outputs": [],
   "source": [
    "# Initialize model\n",
    "model = Classify_patent(client=ai_client, model_name=\"qwen3:4b\", prompt_name=\"sdg_label_prompt.md\")"
   ]
  },
  {
   "cell_type": "code",
   "execution_count": null,
   "id": "9cdeabe8",
   "metadata": {},
   "outputs": [
    {
     "name": "stderr",
     "output_type": "stream",
     "text": [
      "Running evaluation:   0%|          | 0/328 [00:00<?, ?it/s]"
     ]
    }
   ],
   "source": [
    "# Generate evaluations file 1\n",
    "run_evaluation(model=model, testset_path=\"../src/ai/testsets/testset_v3_en_labeled.jsonl\", \n",
    "               output_path=\"../src/ai/evaluations/llm_reproductibility_4b.jsonl\")"
   ]
  },
  {
   "cell_type": "code",
   "execution_count": null,
   "id": "6700c7b5",
   "metadata": {},
   "outputs": [],
   "source": [
    "# Generate evaluations file 2\n",
    "run_evaluation(model=model, testset_path=\"../src/ai/testsets/testset_v3_en_labeled.jsonl\", \n",
    "               output_path=\"../src/ai/evaluations/llm_reproductibility_4b_1.jsonl\")"
   ]
  },
  {
   "cell_type": "markdown",
   "id": "7a059861",
   "metadata": {},
   "source": [
    "### 3.2. Plot evaluation"
   ]
  },
  {
   "cell_type": "code",
   "execution_count": 8,
   "id": "c9790dad",
   "metadata": {},
   "outputs": [
    {
     "name": "stdout",
     "output_type": "stream",
     "text": [
      "\n",
      "=== META DATA ===\n",
      "model_name: qwen3:4b\n",
      "testset_path: ../src/ai/testsets/testset_v3_en_labeled.jsonl\n",
      "prompt_template_path: sdg_label_prompt.md\n",
      "date_creation: 2025-05-24T21:49:09.555008\n",
      "\n",
      "=== EVALUATION RESULTS ===\n",
      "Total predictions: 328\n",
      "Correct predictions: 150\n",
      "Accuracy: 0.4573 (45.73%)\n",
      "Total time: 5450.24 seconds\n",
      "Average prediction time: 16.6166 seconds\n",
      "Predictions per second: 0.06\n",
      "Incorrect predictions: 178\n",
      "Results loaded from: ../src/ai/evaluations/llm_reproductibility_4b.jsonl\n",
      "\n",
      "=== SDG BREAKDOWN ===\n",
      "None: 5/50 (10.00%)\n",
      "SDG10: 0/12 (0.00%)\n",
      "SDG11: 3/18 (16.67%)\n",
      "SDG12: 11/50 (22.00%)\n",
      "SDG13: 13/18 (72.22%)\n",
      "SDG14: 5/5 (100.00%)\n",
      "SDG15: 2/4 (50.00%)\n",
      "SDG16: 2/2 (100.00%)\n",
      "SDG2: 0/3 (0.00%)\n",
      "SDG3: 47/50 (94.00%)\n",
      "SDG4: 1/7 (14.29%)\n",
      "SDG6: 21/27 (77.78%)\n",
      "SDG7: 9/32 (28.12%)\n",
      "SDG9: 31/50 (62.00%)\n",
      "\n",
      "=== SAMPLE INCORRECT PREDICTIONS ===\n",
      "\n",
      "Example 1:\n",
      "Patent: EP3827727A1\n",
      "Description: In the first embodiment, the first mop 1a and the second mop 1 b are substantially triangular-like....\n",
      "True SDG: None\n",
      "Predicted SDG: ['SDG9']\n",
      "\n",
      "Example 2:\n",
      "Patent: EP4287161A1\n",
      "Description: According to the driving assistance system 100 of the embodiment described above, the following effe...\n",
      "True SDG: SDG11\n",
      "Predicted SDG: ['SDG9']\n",
      "\n",
      "Example 3:\n",
      "Patent: EP4239467A1\n",
      "Description: The frame rate switching process in a case that two buffers are accumulated in a buffer queue has be...\n",
      "True SDG: None\n",
      "Predicted SDG: ['SDG9']\n",
      "\n",
      "Example 4:\n",
      "Patent: EP4380208A1\n",
      "Description: According to a seventeenth aspect, a chip system is provided. The chip system includes one or more p...\n",
      "True SDG: None\n",
      "Predicted SDG: ['SDG9']\n",
      "\n",
      "Example 5:\n",
      "Patent: EP4239467A1\n",
      "Description: In an example of  FIG. 5 , the electronic device is to switch a frame rate from 120 Hz to 60 Hz. At ...\n",
      "True SDG: None\n",
      "Predicted SDG: ['SDG9']\n"
     ]
    }
   ],
   "source": [
    "show_evaluation_mono(\"../src/ai/evaluations/llm_reproductibility_4b.jsonl\")"
   ]
  },
  {
   "cell_type": "code",
   "execution_count": 24,
   "id": "12596bee",
   "metadata": {},
   "outputs": [
    {
     "name": "stdout",
     "output_type": "stream",
     "text": [
      "\n",
      "=== META DATA ===\n",
      "model_name: qwen3:4b\n",
      "testset_path: ../src/ai/testsets/testset_v3_en_labeled.jsonl\n",
      "prompt_template_path: sdg_label_prompt.md\n",
      "date_creation: 2025-05-24T22:54:58.027378\n",
      "\n",
      "=== EVALUATION RESULTS ===\n",
      "Total predictions: 328\n",
      "Correct predictions: 156\n",
      "Accuracy: 0.4756 (47.56%)\n",
      "Total time: 3948.20 seconds\n",
      "Average prediction time: 12.0372 seconds\n",
      "Predictions per second: 0.08\n",
      "Incorrect predictions: 172\n",
      "Results loaded from: ../src/ai/evaluations/llm_reproductibility_4b_1.jsonl\n",
      "\n",
      "=== SDG BREAKDOWN ===\n",
      "None: 9/50 (18.00%)\n",
      "SDG10: 0/12 (0.00%)\n",
      "SDG11: 4/18 (22.22%)\n",
      "SDG12: 11/50 (22.00%)\n",
      "SDG13: 13/18 (72.22%)\n",
      "SDG14: 5/5 (100.00%)\n",
      "SDG15: 2/4 (50.00%)\n",
      "SDG16: 2/2 (100.00%)\n",
      "SDG2: 0/3 (0.00%)\n",
      "SDG3: 48/50 (96.00%)\n",
      "SDG4: 2/7 (28.57%)\n",
      "SDG6: 20/27 (74.07%)\n",
      "SDG7: 10/32 (31.25%)\n",
      "SDG9: 30/50 (60.00%)\n",
      "\n",
      "=== SAMPLE INCORRECT PREDICTIONS ===\n",
      "\n",
      "Example 1:\n",
      "Patent: EP4287161A1\n",
      "Description: According to the driving assistance system 100 of the embodiment described above, the following effe...\n",
      "True SDG: SDG11\n",
      "Predicted SDG: ['SDG9']\n",
      "\n",
      "Example 2:\n",
      "Patent: EP4239467A1\n",
      "Description: The frame rate switching process in a case that two buffers are accumulated in a buffer queue has be...\n",
      "True SDG: None\n",
      "Predicted SDG: ['SDG9']\n",
      "\n",
      "Example 3:\n",
      "Patent: EP4333357A2\n",
      "Description: Hash collision bounties could be implemented on the blockchain by constructing a transaction output ...\n",
      "True SDG: SDG9\n",
      "Predicted SDG: ['SDG17']\n",
      "\n",
      "Example 4:\n",
      "Patent: EP4380208A1\n",
      "Description: According to a seventeenth aspect, a chip system is provided. The chip system includes one or more p...\n",
      "True SDG: None\n",
      "Predicted SDG: ['SDG9']\n",
      "\n",
      "Example 5:\n",
      "Patent: EP4239467A1\n",
      "Description: In an example of  FIG. 5 , the electronic device is to switch a frame rate from 120 Hz to 60 Hz. At ...\n",
      "True SDG: None\n",
      "Predicted SDG: ['SDG9']\n"
     ]
    }
   ],
   "source": [
    "show_evaluation_mono(\"../src/ai/evaluations/llm_reproductibility_4b_1.jsonl\")"
   ]
  },
  {
   "cell_type": "markdown",
   "id": "6b100399",
   "metadata": {},
   "source": [
    "## 4. Model Size\n",
    "\n",
    "We tested various model sizes and selected the Qwen3 model for evaluation. Specifically, we assessed the performance of three variants: 1.7B, 4B, 8B and 14B parameters.\n"
   ]
  },
  {
   "cell_type": "markdown",
   "id": "3bbd2b20",
   "metadata": {},
   "source": [
    "### 4.1. Generate evaluation files"
   ]
  },
  {
   "cell_type": "code",
   "execution_count": null,
   "id": "d6875999",
   "metadata": {},
   "outputs": [],
   "source": [
    "model = Classify_patent(client=ai_client, model_name=\"qwen3:1.7b\", prompt_name=\"sdg_label_prompt.md\")\n",
    "run_evaluation(model=model, testset_path=\"../src/ai/testsets/testset_v3_en_labeled.jsonl\", \n",
    "               output_path=\"../src/ai/evaluations/llm_model_size_qwen3_1-7b.jsonl\")"
   ]
  },
  {
   "cell_type": "code",
   "execution_count": null,
   "id": "4b284765",
   "metadata": {},
   "outputs": [],
   "source": [
    "model = Classify_patent(client=ai_client, model_name=\"qwen3:4b\", prompt_name=\"sdg_label_prompt.md\")\n",
    "run_evaluation(model=model, testset_path=\"../src/ai/testsets/testset_v3_en_labeled.jsonl\", \n",
    "               output_path=\"../src/ai/evaluations/llm_model_size_qwen3_4b.jsonl\")"
   ]
  },
  {
   "cell_type": "code",
   "execution_count": null,
   "id": "bece77f2",
   "metadata": {},
   "outputs": [],
   "source": [
    "model = Classify_patent(client=ai_client, model_name=\"qwen3:8b\", prompt_name=\"sdg_label_prompt.md\")\n",
    "run_evaluation(model=model, testset_path=\"../src/ai/testsets/testset_v3_en_labeled.jsonl\", \n",
    "               output_path=\"../src/ai/evaluations/llm_model_size_qwen3_8b.jsonl\")"
   ]
  },
  {
   "cell_type": "code",
   "execution_count": null,
   "id": "70f87846",
   "metadata": {},
   "outputs": [],
   "source": [
    "model = Classify_patent(client=ai_client, model_name=\"qwen3:14b\", prompt_name=\"sdg_label_prompt.md\")\n",
    "run_evaluation(model=model, testset_path=\"../src/ai/testsets/testset_v3_en_labeled.jsonl\", \n",
    "               output_path=\"../src/ai/evaluations/llm_model_size_qwen3_14b.jsonl\")"
   ]
  },
  {
   "cell_type": "markdown",
   "id": "f77df259",
   "metadata": {},
   "source": [
    "### 4.2. Plot evaluation"
   ]
  },
  {
   "cell_type": "code",
   "execution_count": null,
   "id": "f16bb837",
   "metadata": {},
   "outputs": [
    {
     "name": "stdout",
     "output_type": "stream",
     "text": [
      "\n",
      "=== META DATA ===\n",
      "\n",
      "=== EVALUATION RESULTS ===\n",
      "Total predictions: 328\n",
      "Correct predictions: 140\n",
      "Accuracy: 0.4268 (42.68%)\n",
      "Total time: 3089.17 seconds\n",
      "Average prediction time: 9.4182 seconds\n",
      "Predictions per second: 0.11\n",
      "Incorrect predictions: 188\n",
      "Results loaded from: ../src/ai/evaluations/llm_model_size_qwen3_1-7b.jsonl\n",
      "\n",
      "=== SDG BREAKDOWN ===\n",
      "None: 14/50 (28.00%)\n",
      "SDG10: 0/12 (0.00%)\n",
      "SDG11: 6/18 (33.33%)\n",
      "SDG12: 19/50 (38.00%)\n",
      "SDG13: 13/18 (72.22%)\n",
      "SDG14: 3/5 (60.00%)\n",
      "SDG15: 1/4 (25.00%)\n",
      "SDG16: 1/2 (50.00%)\n",
      "SDG2: 0/3 (0.00%)\n",
      "SDG3: 46/50 (92.00%)\n",
      "SDG4: 2/7 (28.57%)\n",
      "SDG6: 19/27 (70.37%)\n",
      "SDG7: 4/32 (12.50%)\n",
      "SDG9: 12/50 (24.00%)\n",
      "\n",
      "=== SAMPLE INCORRECT PREDICTIONS ===\n",
      "\n",
      "Example 1:\n",
      "Patent: EP4516757A2\n",
      "Description: A supplementary cementitious material (SCM) is a material used in conjunction with or as a partial r...\n",
      "True SDG: SDG9\n",
      "Predicted SDG: ['SDG11']\n",
      "\n",
      "Example 2:\n",
      "Patent: EP4054160A1\n",
      "Description: Further, the switch 128L may be a pressure sensitive or membrane switch defined as a fingertip-sized...\n",
      "True SDG: SDG16\n",
      "Predicted SDG: ['SDG17']\n",
      "\n",
      "Example 3:\n",
      "Patent: EP4287161A1\n",
      "Description: According to the driving assistance system 100 of the embodiment described above, the following effe...\n",
      "True SDG: SDG11\n",
      "Predicted SDG: ['SDG16']\n",
      "\n",
      "Example 4:\n",
      "Patent: EP3786586A1\n",
      "Description: In order to add the constraint based on the current pose of the vehicle, a modification is made to t...\n",
      "True SDG: SDG9\n",
      "Predicted SDG: ['SDG17']\n",
      "\n",
      "Example 5:\n",
      "Patent: EP4239467A1\n",
      "Description: The frame rate switching process in a case that two buffers are accumulated in a buffer queue has be...\n",
      "True SDG: None\n",
      "Predicted SDG: ['SDG17']\n"
     ]
    }
   ],
   "source": [
    "# The model 1.7b has some empty <sdg> balises wich is a problem.\n",
    "show_evaluation_mono(\"../src/ai/evaluations/llm_model_size_qwen3_1-7b.jsonl\")"
   ]
  },
  {
   "cell_type": "code",
   "execution_count": null,
   "id": "bebf7bc3",
   "metadata": {},
   "outputs": [
    {
     "name": "stdout",
     "output_type": "stream",
     "text": [
      "\n",
      "=== META DATA ===\n",
      "\n",
      "=== EVALUATION RESULTS ===\n",
      "Total predictions: 328\n",
      "Correct predictions: 149\n",
      "Accuracy: 0.4543 (45.43%)\n",
      "Total time: 3888.93 seconds\n",
      "Average prediction time: 11.8565 seconds\n",
      "Predictions per second: 0.08\n",
      "Incorrect predictions: 179\n",
      "Results loaded from: ../src/ai/evaluations/llm_model_size_qwen3_4b.jsonl\n",
      "\n",
      "=== SDG BREAKDOWN ===\n",
      "None: 5/50 (10.00%)\n",
      "SDG10: 0/12 (0.00%)\n",
      "SDG11: 5/18 (27.78%)\n",
      "SDG12: 8/50 (16.00%)\n",
      "SDG13: 12/18 (66.67%)\n",
      "SDG14: 4/5 (80.00%)\n",
      "SDG15: 1/4 (25.00%)\n",
      "SDG16: 2/2 (100.00%)\n",
      "SDG2: 0/3 (0.00%)\n",
      "SDG3: 47/50 (94.00%)\n",
      "SDG4: 1/7 (14.29%)\n",
      "SDG6: 21/27 (77.78%)\n",
      "SDG7: 11/32 (34.38%)\n",
      "SDG9: 32/50 (64.00%)\n",
      "\n",
      "=== SAMPLE INCORRECT PREDICTIONS ===\n",
      "\n",
      "Example 1:\n",
      "Patent: EP4516757A2\n",
      "Description: A supplementary cementitious material (SCM) is a material used in conjunction with or as a partial r...\n",
      "True SDG: SDG9\n",
      "Predicted SDG: ['SDG12', 'SDG13']\n",
      "\n",
      "Example 2:\n",
      "Patent: EP3827727A1\n",
      "Description: In the first embodiment, the first mop 1a and the second mop 1 b are substantially triangular-like....\n",
      "True SDG: None\n",
      "Predicted SDG: ['SDG9']\n",
      "\n",
      "Example 3:\n",
      "Patent: EP4287161A1\n",
      "Description: According to the driving assistance system 100 of the embodiment described above, the following effe...\n",
      "True SDG: SDG11\n",
      "Predicted SDG: ['SDG9']\n",
      "\n",
      "Example 4:\n",
      "Patent: EP4239467A1\n",
      "Description: The frame rate switching process in a case that two buffers are accumulated in a buffer queue has be...\n",
      "True SDG: None\n",
      "Predicted SDG: ['SDG9']\n",
      "\n",
      "Example 5:\n",
      "Patent: EP4380208A1\n",
      "Description: According to a seventeenth aspect, a chip system is provided. The chip system includes one or more p...\n",
      "True SDG: None\n",
      "Predicted SDG: ['SDG9']\n"
     ]
    }
   ],
   "source": [
    "show_evaluation_mono(\"../src/ai/evaluations/llm_model_size_qwen3_4b.jsonl\")"
   ]
  },
  {
   "cell_type": "code",
   "execution_count": null,
   "id": "bb90a50f",
   "metadata": {},
   "outputs": [
    {
     "name": "stdout",
     "output_type": "stream",
     "text": [
      "\n",
      "=== META DATA ===\n",
      "\n",
      "=== EVALUATION RESULTS ===\n",
      "Total predictions: 328\n",
      "Correct predictions: 162\n",
      "Accuracy: 0.4939 (49.39%)\n",
      "Total time: 6087.96 seconds\n",
      "Average prediction time: 18.5609 seconds\n",
      "Predictions per second: 0.05\n",
      "Incorrect predictions: 166\n",
      "Results loaded from: ../src/ai/evaluations/llm_model_size_qwen3_8b.jsonl\n",
      "\n",
      "=== SDG BREAKDOWN ===\n",
      "None: 24/50 (48.00%)\n",
      "SDG10: 0/12 (0.00%)\n",
      "SDG11: 4/18 (22.22%)\n",
      "SDG12: 6/50 (12.00%)\n",
      "SDG13: 10/18 (55.56%)\n",
      "SDG14: 4/5 (80.00%)\n",
      "SDG15: 1/4 (25.00%)\n",
      "SDG16: 2/2 (100.00%)\n",
      "SDG2: 0/3 (0.00%)\n",
      "SDG3: 42/50 (84.00%)\n",
      "SDG4: 2/7 (28.57%)\n",
      "SDG6: 22/27 (81.48%)\n",
      "SDG7: 16/32 (50.00%)\n",
      "SDG9: 29/50 (58.00%)\n",
      "\n",
      "=== SAMPLE INCORRECT PREDICTIONS ===\n",
      "\n",
      "Example 1:\n",
      "Patent: EP4516757A2\n",
      "Description: A supplementary cementitious material (SCM) is a material used in conjunction with or as a partial r...\n",
      "True SDG: SDG9\n",
      "Predicted SDG: ['SDG13']\n",
      "\n",
      "Example 2:\n",
      "Patent: EP4287161A1\n",
      "Description: According to the driving assistance system 100 of the embodiment described above, the following effe...\n",
      "True SDG: SDG11\n",
      "Predicted SDG: ['SDG9']\n",
      "\n",
      "Example 3:\n",
      "Patent: EP3786586A1\n",
      "Description: In order to add the constraint based on the current pose of the vehicle, a modification is made to t...\n",
      "True SDG: SDG9\n",
      "Predicted SDG: ['None']\n",
      "\n",
      "Example 4:\n",
      "Patent: EP4380208A1\n",
      "Description: According to a seventeenth aspect, a chip system is provided. The chip system includes one or more p...\n",
      "True SDG: None\n",
      "Predicted SDG: ['SDG9']\n",
      "\n",
      "Example 5:\n",
      "Patent: EP4005506A1\n",
      "Description: A second component of the second wheel control 50, the second pulley 1130, is operative to convert r...\n",
      "True SDG: None\n",
      "Predicted SDG: ['SDG9']\n"
     ]
    }
   ],
   "source": [
    "show_evaluation_mono(\"../src/ai/evaluations/llm_model_size_qwen3_8b.jsonl\")"
   ]
  },
  {
   "cell_type": "code",
   "execution_count": null,
   "id": "fd75f418",
   "metadata": {},
   "outputs": [
    {
     "name": "stdout",
     "output_type": "stream",
     "text": [
      "\n",
      "=== META DATA ===\n",
      "model_name: qwen3:14b\n",
      "testset_path: ../src/ai/testsets/testset_v3_en_labeled.jsonl\n",
      "prompt_template_path: sdg_label_prompt.md\n",
      "date_creation: 2025-05-25T17:18:30.614956\n",
      "\n",
      "=== EVALUATION RESULTS ===\n",
      "Total predictions: 328\n",
      "Correct predictions: 150\n",
      "Accuracy: 0.4573 (45.73%)\n",
      "Total time: 9016.78 seconds\n",
      "Average prediction time: 27.4902 seconds\n",
      "Predictions per second: 0.04\n",
      "Incorrect predictions: 178\n",
      "Results loaded from: ../src/ai/evaluations/llm_model_size_qwen3_14b.jsonl\n",
      "\n",
      "=== SDG BREAKDOWN ===\n",
      "None: 37/50 (74.00%)\n",
      "SDG10: 0/12 (0.00%)\n",
      "SDG11: 5/18 (27.78%)\n",
      "SDG12: 5/50 (10.00%)\n",
      "SDG13: 12/18 (66.67%)\n",
      "SDG14: 4/5 (80.00%)\n",
      "SDG15: 1/4 (25.00%)\n",
      "SDG16: 1/2 (50.00%)\n",
      "SDG2: 0/3 (0.00%)\n",
      "SDG3: 41/50 (82.00%)\n",
      "SDG4: 1/7 (14.29%)\n",
      "SDG6: 12/27 (44.44%)\n",
      "SDG7: 5/32 (15.62%)\n",
      "SDG9: 26/50 (52.00%)\n",
      "\n",
      "=== SAMPLE INCORRECT PREDICTIONS ===\n",
      "\n",
      "Example 1:\n",
      "Patent: EP4516757A2\n",
      "Description: A supplementary cementitious material (SCM) is a material used in conjunction with or as a partial r...\n",
      "True SDG: SDG9\n",
      "Predicted SDG: ['None']\n",
      "\n",
      "Example 2:\n",
      "Patent: EP4054160A1\n",
      "Description: Further, the switch 128L may be a pressure sensitive or membrane switch defined as a fingertip-sized...\n",
      "True SDG: SDG16\n",
      "Predicted SDG: ['None']\n",
      "\n",
      "Example 3:\n",
      "Patent: EP4287161A1\n",
      "Description: According to the driving assistance system 100 of the embodiment described above, the following effe...\n",
      "True SDG: SDG11\n",
      "Predicted SDG: ['None']\n",
      "\n",
      "Example 4:\n",
      "Patent: EP3786586A1\n",
      "Description: In order to add the constraint based on the current pose of the vehicle, a modification is made to t...\n",
      "True SDG: SDG9\n",
      "Predicted SDG: ['None']\n",
      "\n",
      "Example 5:\n",
      "Patent: EP3786187A1\n",
      "Description: We next sought to evaluate whether inhibitory anti-hGARP mAbs could inhibit human Treg function in v...\n",
      "True SDG: SDG3\n",
      "Predicted SDG: ['None']\n"
     ]
    }
   ],
   "source": [
    "show_evaluation_mono(\"../src/ai/evaluations/llm_model_size_qwen3_14b.jsonl\")"
   ]
  },
  {
   "cell_type": "markdown",
   "id": "1dbd5310",
   "metadata": {},
   "source": [
    "## 5. Shorter model Prompt"
   ]
  },
  {
   "cell_type": "markdown",
   "id": "55cd0141",
   "metadata": {},
   "source": [
    "### 5.1. Generate evaluation files"
   ]
  },
  {
   "cell_type": "code",
   "execution_count": null,
   "id": "c70027b0",
   "metadata": {},
   "outputs": [],
   "source": [
    "model = Classify_patent(client=ai_client, model_name=\"qwen3:4b\", prompt_name=\"sdg_label_prompt_short.md\")\n",
    "run_evaluation(model=model, testset_path=\"../src/ai/testsets/testset_v3_en_labeled.jsonl\", \n",
    "               output_path=\"../src/ai/evaluations/llm_prompt_short_4b.jsonl\")"
   ]
  },
  {
   "cell_type": "code",
   "execution_count": null,
   "id": "37723ae0",
   "metadata": {},
   "outputs": [],
   "source": [
    "model = Classify_patent(client=ai_client, model_name=\"qwen3:14b\", prompt_name=\"sdg_label_prompt_short.md\")\n",
    "run_evaluation(model=model, testset_path=\"../src/ai/testsets/testset_v3_en_labeled.jsonl\", \n",
    "               output_path=\"../src/ai/evaluations/llm_prompt_short_14b.jsonl\")"
   ]
  },
  {
   "cell_type": "markdown",
   "id": "fe4ca377",
   "metadata": {},
   "source": [
    "### 5.2. Plot evaluation"
   ]
  },
  {
   "cell_type": "code",
   "execution_count": null,
   "id": "bf526cd4",
   "metadata": {},
   "outputs": [
    {
     "name": "stdout",
     "output_type": "stream",
     "text": [
      "\n",
      "=== META DATA ===\n",
      "model_name: qwen3:4b\n",
      "testset_path: ../src/ai/testsets/testset_v3_en_labeled.jsonl\n",
      "prompt_template_path: sdg_label_prompt_short.md\n",
      "date_creation: 2025-05-24T23:57:21.573880\n",
      "\n",
      "=== EVALUATION RESULTS ===\n",
      "Total predictions: 328\n",
      "Correct predictions: 148\n",
      "Accuracy: 0.4512 (45.12%)\n",
      "Total time: 3743.36 seconds\n",
      "Average prediction time: 11.4127 seconds\n",
      "Predictions per second: 0.09\n",
      "Incorrect predictions: 180\n",
      "Results loaded from: ../src/ai/evaluations/llm_prompt_short_4b.jsonl\n",
      "\n",
      "=== SDG BREAKDOWN ===\n",
      "None: 26/50 (52.00%)\n",
      "SDG10: 0/12 (0.00%)\n",
      "SDG11: 3/18 (16.67%)\n",
      "SDG12: 9/50 (18.00%)\n",
      "SDG13: 14/18 (77.78%)\n",
      "SDG14: 4/5 (80.00%)\n",
      "SDG15: 1/4 (25.00%)\n",
      "SDG16: 0/2 (0.00%)\n",
      "SDG2: 1/3 (33.33%)\n",
      "SDG3: 33/50 (66.00%)\n",
      "SDG4: 2/7 (28.57%)\n",
      "SDG6: 15/27 (55.56%)\n",
      "SDG7: 11/32 (34.38%)\n",
      "SDG9: 29/50 (58.00%)\n",
      "\n",
      "=== SAMPLE INCORRECT PREDICTIONS ===\n",
      "\n",
      "Example 1:\n",
      "Patent: EP4054160A1\n",
      "Description: Further, the switch 128L may be a pressure sensitive or membrane switch defined as a fingertip-sized...\n",
      "True SDG: SDG16\n",
      "Predicted SDG: ['None']\n",
      "\n",
      "Example 2:\n",
      "Patent: EP4424379A2\n",
      "Description: The administration of the pharmaceutical compositions described herein can be intermittent, or at a ...\n",
      "True SDG: SDG3\n",
      "Predicted SDG: ['None']\n",
      "\n",
      "Example 3:\n",
      "Patent: EP4287161A1\n",
      "Description: According to the driving assistance system 100 of the embodiment described above, the following effe...\n",
      "True SDG: SDG11\n",
      "Predicted SDG: ['None']\n",
      "\n",
      "Example 4:\n",
      "Patent: EP3786586A1\n",
      "Description: In order to add the constraint based on the current pose of the vehicle, a modification is made to t...\n",
      "True SDG: SDG9\n",
      "Predicted SDG: ['None']\n",
      "\n",
      "Example 5:\n",
      "Patent: EP4380208A1\n",
      "Description: According to a seventeenth aspect, a chip system is provided. The chip system includes one or more p...\n",
      "True SDG: None\n",
      "Predicted SDG: ['SDG9']\n"
     ]
    }
   ],
   "source": [
    "show_evaluation_mono(\"../src/ai/evaluations/llm_prompt_short_4b.jsonl\")"
   ]
  },
  {
   "cell_type": "code",
   "execution_count": null,
   "id": "9092392c",
   "metadata": {},
   "outputs": [
    {
     "name": "stdout",
     "output_type": "stream",
     "text": [
      "\n",
      "=== META DATA ===\n",
      "model_name: qwen3:14b\n",
      "testset_path: ../src/ai/testsets/testset_v3_en_labeled.jsonl\n",
      "prompt_template_path: sdg_label_prompt_short.md\n",
      "date_creation: 2025-05-25T06:50:25.656681\n",
      "\n",
      "=== EVALUATION RESULTS ===\n",
      "Total predictions: 328\n",
      "Correct predictions: 168\n",
      "Accuracy: 0.5122 (51.22%)\n",
      "Total time: 7865.16 seconds\n",
      "Average prediction time: 23.9791 seconds\n",
      "Predictions per second: 0.04\n",
      "Incorrect predictions: 160\n",
      "Results loaded from: ../src/ai/evaluations/llm_prompt_short_14b.jsonl\n",
      "\n",
      "=== SDG BREAKDOWN ===\n",
      "None: 33/50 (66.00%)\n",
      "SDG10: 0/12 (0.00%)\n",
      "SDG11: 2/18 (11.11%)\n",
      "SDG12: 8/50 (16.00%)\n",
      "SDG13: 14/18 (77.78%)\n",
      "SDG14: 3/5 (60.00%)\n",
      "SDG15: 2/4 (50.00%)\n",
      "SDG16: 1/2 (50.00%)\n",
      "SDG2: 0/3 (0.00%)\n",
      "SDG3: 38/50 (76.00%)\n",
      "SDG4: 2/7 (28.57%)\n",
      "SDG6: 15/27 (55.56%)\n",
      "SDG7: 7/32 (21.88%)\n",
      "SDG9: 43/50 (86.00%)\n",
      "\n",
      "=== SAMPLE INCORRECT PREDICTIONS ===\n",
      "\n",
      "Example 1:\n",
      "Patent: EP4054160A1\n",
      "Description: Further, the switch 128L may be a pressure sensitive or membrane switch defined as a fingertip-sized...\n",
      "True SDG: SDG16\n",
      "Predicted SDG: ['None']\n",
      "\n",
      "Example 2:\n",
      "Patent: EP4287161A1\n",
      "Description: According to the driving assistance system 100 of the embodiment described above, the following effe...\n",
      "True SDG: SDG11\n",
      "Predicted SDG: ['None']\n",
      "\n",
      "Example 3:\n",
      "Patent: EP3786586A1\n",
      "Description: In order to add the constraint based on the current pose of the vehicle, a modification is made to t...\n",
      "True SDG: SDG9\n",
      "Predicted SDG: ['None']\n",
      "\n",
      "Example 4:\n",
      "Patent: EP3786187A1\n",
      "Description: We next sought to evaluate whether inhibitory anti-hGARP mAbs could inhibit human Treg function in v...\n",
      "True SDG: SDG3\n",
      "Predicted SDG: ['None']\n",
      "\n",
      "Example 5:\n",
      "Patent: EP4333357A2\n",
      "Description: Hash collision bounties could be implemented on the blockchain by constructing a transaction output ...\n",
      "True SDG: SDG9\n",
      "Predicted SDG: ['None']\n"
     ]
    }
   ],
   "source": [
    "show_evaluation_mono(\"../src/ai/evaluations/llm_prompt_short_14b.jsonl\")"
   ]
  }
 ],
 "metadata": {
  "kernelspec": {
   "display_name": ".venv",
   "language": "python",
   "name": "python3"
  },
  "language_info": {
   "codemirror_mode": {
    "name": "ipython",
    "version": 3
   },
   "file_extension": ".py",
   "mimetype": "text/x-python",
   "name": "python",
   "nbconvert_exporter": "python",
   "pygments_lexer": "ipython3",
   "version": "3.13.2"
  }
 },
 "nbformat": 4,
 "nbformat_minor": 5
}
