{
 "cells": [
  {
   "cell_type": "markdown",
   "id": "8974ba7c",
   "metadata": {},
   "source": [
    "## "
   ]
  },
  {
   "cell_type": "markdown",
   "id": "35cb6636",
   "metadata": {},
   "source": [
    "# Evaluation of LLM on Short Description Classification\n",
    "\n",
    "In this notebook, we evaluate the performance of a large language model (LLM) on a classification task involving short textual descriptions.\n",
    "\n",
    "We created a manually labeled test set to assess how well the LLM can handle this limited-context scenario. Since these descriptions are very short, the model may lack sufficient context to perform optimally.\n"
   ]
  },
  {
   "cell_type": "markdown",
   "id": "c1b2c09a",
   "metadata": {},
   "source": [
    "## 1. Test set v3\n",
    "\n",
    "To ensure the evaluation remains computationally feasible, we created a reduced version of the original dataset (`testset_v1_en_labeled`), resulting in `testset_v3_en_labeled`. This smaller test set includes a maximum of 50 samples per class. And we manualy double check each classification to get a very accurate testset. That's why when we plot the distribution we don't have 50 samples max per class."
   ]
  },
  {
   "cell_type": "code",
   "execution_count": null,
   "id": "f2c13aee",
   "metadata": {},
   "outputs": [],
   "source": [
    "import json\n",
    "from collections import defaultdict\n",
    "\n",
    "def shorten_testset(input_path, output_path, max_per_sdg=50):\n",
    "    sdg_counts = defaultdict(int)\n",
    "    selected_entries = []\n",
    "\n",
    "    with open(input_path, 'r', encoding='utf-8') as infile:\n",
    "        for line in infile:\n",
    "            try:\n",
    "                entry = json.loads(line)\n",
    "                sdg = entry.get(\"sdg\", \"None\")\n",
    "                if sdg_counts[sdg] < max_per_sdg:\n",
    "                    selected_entries.append(entry)\n",
    "                    sdg_counts[sdg] += 1\n",
    "            except json.JSONDecodeError:\n",
    "                continue  # ignore malformed lines\n",
    "\n",
    "    with open(output_path, 'w', encoding='utf-8') as outfile:\n",
    "        for entry in selected_entries:\n",
    "            json.dump(entry, outfile)\n",
    "            outfile.write('\\n')\n",
    "\n",
    "shorten_testset(\"../src/ai/testsets/testset_v1_en_labeled.jsonl\", '../src/ai/testsets/testset_v3_en_labeled.jsonl')"
   ]
  },
  {
   "cell_type": "code",
   "execution_count": 17,
   "id": "d7412c5c",
   "metadata": {},
   "outputs": [
    {
     "data": {
      "application/vnd.plotly.v1+json": {
       "config": {
        "plotlyServerURL": "https://plot.ly"
       },
       "data": [
        {
         "hovertemplate": "SDG=%{x}<br>Count=%{y}<extra></extra>",
         "legendgroup": "SDG9",
         "marker": {
          "color": "#636efa",
          "pattern": {
           "shape": ""
          }
         },
         "name": "SDG9",
         "orientation": "v",
         "showlegend": true,
         "textposition": "auto",
         "type": "bar",
         "x": [
          "SDG9"
         ],
         "xaxis": "x",
         "y": {
          "bdata": "XA==",
          "dtype": "i1"
         },
         "yaxis": "y"
        },
        {
         "hovertemplate": "SDG=%{x}<br>Count=%{y}<extra></extra>",
         "legendgroup": "None",
         "marker": {
          "color": "#EF553B",
          "pattern": {
           "shape": ""
          }
         },
         "name": "None",
         "orientation": "v",
         "showlegend": true,
         "textposition": "auto",
         "type": "bar",
         "x": [
          "None"
         ],
         "xaxis": "x",
         "y": {
          "bdata": "TQ==",
          "dtype": "i1"
         },
         "yaxis": "y"
        },
        {
         "hovertemplate": "SDG=%{x}<br>Count=%{y}<extra></extra>",
         "legendgroup": "SDG3",
         "marker": {
          "color": "#00cc96",
          "pattern": {
           "shape": ""
          }
         },
         "name": "SDG3",
         "orientation": "v",
         "showlegend": true,
         "textposition": "auto",
         "type": "bar",
         "x": [
          "SDG3"
         ],
         "xaxis": "x",
         "y": {
          "bdata": "NQ==",
          "dtype": "i1"
         },
         "yaxis": "y"
        },
        {
         "hovertemplate": "SDG=%{x}<br>Count=%{y}<extra></extra>",
         "legendgroup": "SDG12",
         "marker": {
          "color": "#ab63fa",
          "pattern": {
           "shape": ""
          }
         },
         "name": "SDG12",
         "orientation": "v",
         "showlegend": true,
         "textposition": "auto",
         "type": "bar",
         "x": [
          "SDG12"
         ],
         "xaxis": "x",
         "y": {
          "bdata": "Gg==",
          "dtype": "i1"
         },
         "yaxis": "y"
        },
        {
         "hovertemplate": "SDG=%{x}<br>Count=%{y}<extra></extra>",
         "legendgroup": "SDG6",
         "marker": {
          "color": "#FFA15A",
          "pattern": {
           "shape": ""
          }
         },
         "name": "SDG6",
         "orientation": "v",
         "showlegend": true,
         "textposition": "auto",
         "type": "bar",
         "x": [
          "SDG6"
         ],
         "xaxis": "x",
         "y": {
          "bdata": "FQ==",
          "dtype": "i1"
         },
         "yaxis": "y"
        },
        {
         "hovertemplate": "SDG=%{x}<br>Count=%{y}<extra></extra>",
         "legendgroup": "SDG7",
         "marker": {
          "color": "#19d3f3",
          "pattern": {
           "shape": ""
          }
         },
         "name": "SDG7",
         "orientation": "v",
         "showlegend": true,
         "textposition": "auto",
         "type": "bar",
         "x": [
          "SDG7"
         ],
         "xaxis": "x",
         "y": {
          "bdata": "Ew==",
          "dtype": "i1"
         },
         "yaxis": "y"
        },
        {
         "hovertemplate": "SDG=%{x}<br>Count=%{y}<extra></extra>",
         "legendgroup": "SDG13",
         "marker": {
          "color": "#FF6692",
          "pattern": {
           "shape": ""
          }
         },
         "name": "SDG13",
         "orientation": "v",
         "showlegend": true,
         "textposition": "auto",
         "type": "bar",
         "x": [
          "SDG13"
         ],
         "xaxis": "x",
         "y": {
          "bdata": "Eg==",
          "dtype": "i1"
         },
         "yaxis": "y"
        },
        {
         "hovertemplate": "SDG=%{x}<br>Count=%{y}<extra></extra>",
         "legendgroup": "SDG11",
         "marker": {
          "color": "#B6E880",
          "pattern": {
           "shape": ""
          }
         },
         "name": "SDG11",
         "orientation": "v",
         "showlegend": true,
         "textposition": "auto",
         "type": "bar",
         "x": [
          "SDG11"
         ],
         "xaxis": "x",
         "y": {
          "bdata": "Bg==",
          "dtype": "i1"
         },
         "yaxis": "y"
        },
        {
         "hovertemplate": "SDG=%{x}<br>Count=%{y}<extra></extra>",
         "legendgroup": "SDG4",
         "marker": {
          "color": "#FF97FF",
          "pattern": {
           "shape": ""
          }
         },
         "name": "SDG4",
         "orientation": "v",
         "showlegend": true,
         "textposition": "auto",
         "type": "bar",
         "x": [
          "SDG4"
         ],
         "xaxis": "x",
         "y": {
          "bdata": "BA==",
          "dtype": "i1"
         },
         "yaxis": "y"
        },
        {
         "hovertemplate": "SDG=%{x}<br>Count=%{y}<extra></extra>",
         "legendgroup": "SDG16",
         "marker": {
          "color": "#FECB52",
          "pattern": {
           "shape": ""
          }
         },
         "name": "SDG16",
         "orientation": "v",
         "showlegend": true,
         "textposition": "auto",
         "type": "bar",
         "x": [
          "SDG16"
         ],
         "xaxis": "x",
         "y": {
          "bdata": "BA==",
          "dtype": "i1"
         },
         "yaxis": "y"
        },
        {
         "hovertemplate": "SDG=%{x}<br>Count=%{y}<extra></extra>",
         "legendgroup": "SDG14",
         "marker": {
          "color": "#636efa",
          "pattern": {
           "shape": ""
          }
         },
         "name": "SDG14",
         "orientation": "v",
         "showlegend": true,
         "textposition": "auto",
         "type": "bar",
         "x": [
          "SDG14"
         ],
         "xaxis": "x",
         "y": {
          "bdata": "BA==",
          "dtype": "i1"
         },
         "yaxis": "y"
        },
        {
         "hovertemplate": "SDG=%{x}<br>Count=%{y}<extra></extra>",
         "legendgroup": "SDG15",
         "marker": {
          "color": "#EF553B",
          "pattern": {
           "shape": ""
          }
         },
         "name": "SDG15",
         "orientation": "v",
         "showlegend": true,
         "textposition": "auto",
         "type": "bar",
         "x": [
          "SDG15"
         ],
         "xaxis": "x",
         "y": {
          "bdata": "Ag==",
          "dtype": "i1"
         },
         "yaxis": "y"
        },
        {
         "hovertemplate": "SDG=%{x}<br>Count=%{y}<extra></extra>",
         "legendgroup": "SDG10",
         "marker": {
          "color": "#00cc96",
          "pattern": {
           "shape": ""
          }
         },
         "name": "SDG10",
         "orientation": "v",
         "showlegend": true,
         "textposition": "auto",
         "type": "bar",
         "x": [
          "SDG10"
         ],
         "xaxis": "x",
         "y": {
          "bdata": "Ag==",
          "dtype": "i1"
         },
         "yaxis": "y"
        }
       ],
       "layout": {
        "annotations": [
         {
          "font": {
           "color": "black",
           "size": 12
          },
          "showarrow": false,
          "text": "92",
          "x": "SDG9",
          "y": 92,
          "yshift": 10
         },
         {
          "font": {
           "color": "black",
           "size": 12
          },
          "showarrow": false,
          "text": "77",
          "x": "None",
          "y": 77,
          "yshift": 10
         },
         {
          "font": {
           "color": "black",
           "size": 12
          },
          "showarrow": false,
          "text": "53",
          "x": "SDG3",
          "y": 53,
          "yshift": 10
         },
         {
          "font": {
           "color": "black",
           "size": 12
          },
          "showarrow": false,
          "text": "26",
          "x": "SDG12",
          "y": 26,
          "yshift": 10
         },
         {
          "font": {
           "color": "black",
           "size": 12
          },
          "showarrow": false,
          "text": "21",
          "x": "SDG6",
          "y": 21,
          "yshift": 10
         },
         {
          "font": {
           "color": "black",
           "size": 12
          },
          "showarrow": false,
          "text": "19",
          "x": "SDG7",
          "y": 19,
          "yshift": 10
         },
         {
          "font": {
           "color": "black",
           "size": 12
          },
          "showarrow": false,
          "text": "18",
          "x": "SDG13",
          "y": 18,
          "yshift": 10
         },
         {
          "font": {
           "color": "black",
           "size": 12
          },
          "showarrow": false,
          "text": "6",
          "x": "SDG11",
          "y": 6,
          "yshift": 10
         },
         {
          "font": {
           "color": "black",
           "size": 12
          },
          "showarrow": false,
          "text": "4",
          "x": "SDG4",
          "y": 4,
          "yshift": 10
         },
         {
          "font": {
           "color": "black",
           "size": 12
          },
          "showarrow": false,
          "text": "4",
          "x": "SDG16",
          "y": 4,
          "yshift": 10
         },
         {
          "font": {
           "color": "black",
           "size": 12
          },
          "showarrow": false,
          "text": "4",
          "x": "SDG14",
          "y": 4,
          "yshift": 10
         },
         {
          "font": {
           "color": "black",
           "size": 12
          },
          "showarrow": false,
          "text": "2",
          "x": "SDG15",
          "y": 2,
          "yshift": 10
         },
         {
          "font": {
           "color": "black",
           "size": 12
          },
          "showarrow": false,
          "text": "2",
          "x": "SDG10",
          "y": 2,
          "yshift": 10
         }
        ],
        "barmode": "relative",
        "legend": {
         "title": {
          "text": "SDG"
         },
         "tracegroupgap": 0
        },
        "template": {
         "data": {
          "bar": [
           {
            "error_x": {
             "color": "#2a3f5f"
            },
            "error_y": {
             "color": "#2a3f5f"
            },
            "marker": {
             "line": {
              "color": "#E5ECF6",
              "width": 0.5
             },
             "pattern": {
              "fillmode": "overlay",
              "size": 10,
              "solidity": 0.2
             }
            },
            "type": "bar"
           }
          ],
          "barpolar": [
           {
            "marker": {
             "line": {
              "color": "#E5ECF6",
              "width": 0.5
             },
             "pattern": {
              "fillmode": "overlay",
              "size": 10,
              "solidity": 0.2
             }
            },
            "type": "barpolar"
           }
          ],
          "carpet": [
           {
            "aaxis": {
             "endlinecolor": "#2a3f5f",
             "gridcolor": "white",
             "linecolor": "white",
             "minorgridcolor": "white",
             "startlinecolor": "#2a3f5f"
            },
            "baxis": {
             "endlinecolor": "#2a3f5f",
             "gridcolor": "white",
             "linecolor": "white",
             "minorgridcolor": "white",
             "startlinecolor": "#2a3f5f"
            },
            "type": "carpet"
           }
          ],
          "choropleth": [
           {
            "colorbar": {
             "outlinewidth": 0,
             "ticks": ""
            },
            "type": "choropleth"
           }
          ],
          "contour": [
           {
            "colorbar": {
             "outlinewidth": 0,
             "ticks": ""
            },
            "colorscale": [
             [
              0,
              "#0d0887"
             ],
             [
              0.1111111111111111,
              "#46039f"
             ],
             [
              0.2222222222222222,
              "#7201a8"
             ],
             [
              0.3333333333333333,
              "#9c179e"
             ],
             [
              0.4444444444444444,
              "#bd3786"
             ],
             [
              0.5555555555555556,
              "#d8576b"
             ],
             [
              0.6666666666666666,
              "#ed7953"
             ],
             [
              0.7777777777777778,
              "#fb9f3a"
             ],
             [
              0.8888888888888888,
              "#fdca26"
             ],
             [
              1,
              "#f0f921"
             ]
            ],
            "type": "contour"
           }
          ],
          "contourcarpet": [
           {
            "colorbar": {
             "outlinewidth": 0,
             "ticks": ""
            },
            "type": "contourcarpet"
           }
          ],
          "heatmap": [
           {
            "colorbar": {
             "outlinewidth": 0,
             "ticks": ""
            },
            "colorscale": [
             [
              0,
              "#0d0887"
             ],
             [
              0.1111111111111111,
              "#46039f"
             ],
             [
              0.2222222222222222,
              "#7201a8"
             ],
             [
              0.3333333333333333,
              "#9c179e"
             ],
             [
              0.4444444444444444,
              "#bd3786"
             ],
             [
              0.5555555555555556,
              "#d8576b"
             ],
             [
              0.6666666666666666,
              "#ed7953"
             ],
             [
              0.7777777777777778,
              "#fb9f3a"
             ],
             [
              0.8888888888888888,
              "#fdca26"
             ],
             [
              1,
              "#f0f921"
             ]
            ],
            "type": "heatmap"
           }
          ],
          "histogram": [
           {
            "marker": {
             "pattern": {
              "fillmode": "overlay",
              "size": 10,
              "solidity": 0.2
             }
            },
            "type": "histogram"
           }
          ],
          "histogram2d": [
           {
            "colorbar": {
             "outlinewidth": 0,
             "ticks": ""
            },
            "colorscale": [
             [
              0,
              "#0d0887"
             ],
             [
              0.1111111111111111,
              "#46039f"
             ],
             [
              0.2222222222222222,
              "#7201a8"
             ],
             [
              0.3333333333333333,
              "#9c179e"
             ],
             [
              0.4444444444444444,
              "#bd3786"
             ],
             [
              0.5555555555555556,
              "#d8576b"
             ],
             [
              0.6666666666666666,
              "#ed7953"
             ],
             [
              0.7777777777777778,
              "#fb9f3a"
             ],
             [
              0.8888888888888888,
              "#fdca26"
             ],
             [
              1,
              "#f0f921"
             ]
            ],
            "type": "histogram2d"
           }
          ],
          "histogram2dcontour": [
           {
            "colorbar": {
             "outlinewidth": 0,
             "ticks": ""
            },
            "colorscale": [
             [
              0,
              "#0d0887"
             ],
             [
              0.1111111111111111,
              "#46039f"
             ],
             [
              0.2222222222222222,
              "#7201a8"
             ],
             [
              0.3333333333333333,
              "#9c179e"
             ],
             [
              0.4444444444444444,
              "#bd3786"
             ],
             [
              0.5555555555555556,
              "#d8576b"
             ],
             [
              0.6666666666666666,
              "#ed7953"
             ],
             [
              0.7777777777777778,
              "#fb9f3a"
             ],
             [
              0.8888888888888888,
              "#fdca26"
             ],
             [
              1,
              "#f0f921"
             ]
            ],
            "type": "histogram2dcontour"
           }
          ],
          "mesh3d": [
           {
            "colorbar": {
             "outlinewidth": 0,
             "ticks": ""
            },
            "type": "mesh3d"
           }
          ],
          "parcoords": [
           {
            "line": {
             "colorbar": {
              "outlinewidth": 0,
              "ticks": ""
             }
            },
            "type": "parcoords"
           }
          ],
          "pie": [
           {
            "automargin": true,
            "type": "pie"
           }
          ],
          "scatter": [
           {
            "fillpattern": {
             "fillmode": "overlay",
             "size": 10,
             "solidity": 0.2
            },
            "type": "scatter"
           }
          ],
          "scatter3d": [
           {
            "line": {
             "colorbar": {
              "outlinewidth": 0,
              "ticks": ""
             }
            },
            "marker": {
             "colorbar": {
              "outlinewidth": 0,
              "ticks": ""
             }
            },
            "type": "scatter3d"
           }
          ],
          "scattercarpet": [
           {
            "marker": {
             "colorbar": {
              "outlinewidth": 0,
              "ticks": ""
             }
            },
            "type": "scattercarpet"
           }
          ],
          "scattergeo": [
           {
            "marker": {
             "colorbar": {
              "outlinewidth": 0,
              "ticks": ""
             }
            },
            "type": "scattergeo"
           }
          ],
          "scattergl": [
           {
            "marker": {
             "colorbar": {
              "outlinewidth": 0,
              "ticks": ""
             }
            },
            "type": "scattergl"
           }
          ],
          "scattermap": [
           {
            "marker": {
             "colorbar": {
              "outlinewidth": 0,
              "ticks": ""
             }
            },
            "type": "scattermap"
           }
          ],
          "scattermapbox": [
           {
            "marker": {
             "colorbar": {
              "outlinewidth": 0,
              "ticks": ""
             }
            },
            "type": "scattermapbox"
           }
          ],
          "scatterpolar": [
           {
            "marker": {
             "colorbar": {
              "outlinewidth": 0,
              "ticks": ""
             }
            },
            "type": "scatterpolar"
           }
          ],
          "scatterpolargl": [
           {
            "marker": {
             "colorbar": {
              "outlinewidth": 0,
              "ticks": ""
             }
            },
            "type": "scatterpolargl"
           }
          ],
          "scatterternary": [
           {
            "marker": {
             "colorbar": {
              "outlinewidth": 0,
              "ticks": ""
             }
            },
            "type": "scatterternary"
           }
          ],
          "surface": [
           {
            "colorbar": {
             "outlinewidth": 0,
             "ticks": ""
            },
            "colorscale": [
             [
              0,
              "#0d0887"
             ],
             [
              0.1111111111111111,
              "#46039f"
             ],
             [
              0.2222222222222222,
              "#7201a8"
             ],
             [
              0.3333333333333333,
              "#9c179e"
             ],
             [
              0.4444444444444444,
              "#bd3786"
             ],
             [
              0.5555555555555556,
              "#d8576b"
             ],
             [
              0.6666666666666666,
              "#ed7953"
             ],
             [
              0.7777777777777778,
              "#fb9f3a"
             ],
             [
              0.8888888888888888,
              "#fdca26"
             ],
             [
              1,
              "#f0f921"
             ]
            ],
            "type": "surface"
           }
          ],
          "table": [
           {
            "cells": {
             "fill": {
              "color": "#EBF0F8"
             },
             "line": {
              "color": "white"
             }
            },
            "header": {
             "fill": {
              "color": "#C8D4E3"
             },
             "line": {
              "color": "white"
             }
            },
            "type": "table"
           }
          ]
         },
         "layout": {
          "annotationdefaults": {
           "arrowcolor": "#2a3f5f",
           "arrowhead": 0,
           "arrowwidth": 1
          },
          "autotypenumbers": "strict",
          "coloraxis": {
           "colorbar": {
            "outlinewidth": 0,
            "ticks": ""
           }
          },
          "colorscale": {
           "diverging": [
            [
             0,
             "#8e0152"
            ],
            [
             0.1,
             "#c51b7d"
            ],
            [
             0.2,
             "#de77ae"
            ],
            [
             0.3,
             "#f1b6da"
            ],
            [
             0.4,
             "#fde0ef"
            ],
            [
             0.5,
             "#f7f7f7"
            ],
            [
             0.6,
             "#e6f5d0"
            ],
            [
             0.7,
             "#b8e186"
            ],
            [
             0.8,
             "#7fbc41"
            ],
            [
             0.9,
             "#4d9221"
            ],
            [
             1,
             "#276419"
            ]
           ],
           "sequential": [
            [
             0,
             "#0d0887"
            ],
            [
             0.1111111111111111,
             "#46039f"
            ],
            [
             0.2222222222222222,
             "#7201a8"
            ],
            [
             0.3333333333333333,
             "#9c179e"
            ],
            [
             0.4444444444444444,
             "#bd3786"
            ],
            [
             0.5555555555555556,
             "#d8576b"
            ],
            [
             0.6666666666666666,
             "#ed7953"
            ],
            [
             0.7777777777777778,
             "#fb9f3a"
            ],
            [
             0.8888888888888888,
             "#fdca26"
            ],
            [
             1,
             "#f0f921"
            ]
           ],
           "sequentialminus": [
            [
             0,
             "#0d0887"
            ],
            [
             0.1111111111111111,
             "#46039f"
            ],
            [
             0.2222222222222222,
             "#7201a8"
            ],
            [
             0.3333333333333333,
             "#9c179e"
            ],
            [
             0.4444444444444444,
             "#bd3786"
            ],
            [
             0.5555555555555556,
             "#d8576b"
            ],
            [
             0.6666666666666666,
             "#ed7953"
            ],
            [
             0.7777777777777778,
             "#fb9f3a"
            ],
            [
             0.8888888888888888,
             "#fdca26"
            ],
            [
             1,
             "#f0f921"
            ]
           ]
          },
          "colorway": [
           "#636efa",
           "#EF553B",
           "#00cc96",
           "#ab63fa",
           "#FFA15A",
           "#19d3f3",
           "#FF6692",
           "#B6E880",
           "#FF97FF",
           "#FECB52"
          ],
          "font": {
           "color": "#2a3f5f"
          },
          "geo": {
           "bgcolor": "white",
           "lakecolor": "white",
           "landcolor": "#E5ECF6",
           "showlakes": true,
           "showland": true,
           "subunitcolor": "white"
          },
          "hoverlabel": {
           "align": "left"
          },
          "hovermode": "closest",
          "mapbox": {
           "style": "light"
          },
          "paper_bgcolor": "white",
          "plot_bgcolor": "#E5ECF6",
          "polar": {
           "angularaxis": {
            "gridcolor": "white",
            "linecolor": "white",
            "ticks": ""
           },
           "bgcolor": "#E5ECF6",
           "radialaxis": {
            "gridcolor": "white",
            "linecolor": "white",
            "ticks": ""
           }
          },
          "scene": {
           "xaxis": {
            "backgroundcolor": "#E5ECF6",
            "gridcolor": "white",
            "gridwidth": 2,
            "linecolor": "white",
            "showbackground": true,
            "ticks": "",
            "zerolinecolor": "white"
           },
           "yaxis": {
            "backgroundcolor": "#E5ECF6",
            "gridcolor": "white",
            "gridwidth": 2,
            "linecolor": "white",
            "showbackground": true,
            "ticks": "",
            "zerolinecolor": "white"
           },
           "zaxis": {
            "backgroundcolor": "#E5ECF6",
            "gridcolor": "white",
            "gridwidth": 2,
            "linecolor": "white",
            "showbackground": true,
            "ticks": "",
            "zerolinecolor": "white"
           }
          },
          "shapedefaults": {
           "line": {
            "color": "#2a3f5f"
           }
          },
          "ternary": {
           "aaxis": {
            "gridcolor": "white",
            "linecolor": "white",
            "ticks": ""
           },
           "baxis": {
            "gridcolor": "white",
            "linecolor": "white",
            "ticks": ""
           },
           "bgcolor": "#E5ECF6",
           "caxis": {
            "gridcolor": "white",
            "linecolor": "white",
            "ticks": ""
           }
          },
          "title": {
           "x": 0.05
          },
          "xaxis": {
           "automargin": true,
           "gridcolor": "white",
           "linecolor": "white",
           "ticks": "",
           "title": {
            "standoff": 15
           },
           "zerolinecolor": "white",
           "zerolinewidth": 2
          },
          "yaxis": {
           "automargin": true,
           "gridcolor": "white",
           "linecolor": "white",
           "ticks": "",
           "title": {
            "standoff": 15
           },
           "zerolinecolor": "white",
           "zerolinewidth": 2
          }
         }
        },
        "title": {
         "text": "Distribution of SDG Labels"
        },
        "xaxis": {
         "anchor": "y",
         "categoryarray": [
          "SDG9",
          "None",
          "SDG3",
          "SDG12",
          "SDG6",
          "SDG7",
          "SDG13",
          "SDG11",
          "SDG4",
          "SDG16",
          "SDG14",
          "SDG15",
          "SDG10"
         ],
         "categoryorder": "array",
         "domain": [
          0,
          1
         ],
         "title": {
          "text": "SDG"
         }
        },
        "yaxis": {
         "anchor": "x",
         "domain": [
          0,
          1
         ],
         "title": {
          "text": "Count"
         }
        }
       }
      }
     },
     "metadata": {},
     "output_type": "display_data"
    },
    {
     "data": {
      "application/vnd.plotly.v1+json": {
       "config": {
        "plotlyServerURL": "https://plot.ly"
       },
       "data": [
        {
         "alignmentgroup": "True",
         "boxpoints": "all",
         "hovertemplate": "sdg=%{x}<br>description_number=%{y}<extra></extra>",
         "legendgroup": "SDG9",
         "marker": {
          "color": "#636efa"
         },
         "name": "SDG9",
         "notched": false,
         "offsetgroup": "SDG9",
         "orientation": "v",
         "showlegend": true,
         "type": "box",
         "x": [
          "SDG9",
          "SDG9",
          "SDG9",
          "SDG9",
          "SDG9",
          "SDG9",
          "SDG9",
          "SDG9",
          "SDG9",
          "SDG9",
          "SDG9",
          "SDG9",
          "SDG9",
          "SDG9",
          "SDG9",
          "SDG9",
          "SDG9",
          "SDG9",
          "SDG9",
          "SDG9",
          "SDG9",
          "SDG9",
          "SDG9",
          "SDG9",
          "SDG9",
          "SDG9",
          "SDG9",
          "SDG9",
          "SDG9",
          "SDG9",
          "SDG9",
          "SDG9",
          "SDG9",
          "SDG9",
          "SDG9",
          "SDG9",
          "SDG9",
          "SDG9",
          "SDG9",
          "SDG9",
          "SDG9",
          "SDG9",
          "SDG9",
          "SDG9",
          "SDG9",
          "SDG9",
          "SDG9",
          "SDG9",
          "SDG9",
          "SDG9",
          "SDG9",
          "SDG9",
          "SDG9",
          "SDG9",
          "SDG9",
          "SDG9",
          "SDG9",
          "SDG9",
          "SDG9",
          "SDG9",
          "SDG9",
          "SDG9",
          "SDG9",
          "SDG9",
          "SDG9",
          "SDG9",
          "SDG9",
          "SDG9",
          "SDG9",
          "SDG9",
          "SDG9",
          "SDG9",
          "SDG9",
          "SDG9",
          "SDG9",
          "SDG9",
          "SDG9",
          "SDG9",
          "SDG9",
          "SDG9",
          "SDG9",
          "SDG9",
          "SDG9",
          "SDG9",
          "SDG9",
          "SDG9",
          "SDG9",
          "SDG9",
          "SDG9",
          "SDG9",
          "SDG9",
          "SDG9"
         ],
         "x0": " ",
         "xaxis": "x",
         "y": {
          "bdata": "NQCrAAsABQB1AAEABwAIAAUACQAMAAQABABUAAQATQAZACYAUgBXAC8ASgAiAAUAAgAqAFsAGAEHAA0AGAAEACsADgAGAAEABwASAFwACAAEAAUADgATAAIADQBZAEAAJAAMAAkAAQALAAkAiAAEAAkAAQAEABIACwAHAAgARABbAEIAAgAGAAkAAQAJAAkABgABAC8ABQABAAsAEQApAAEADwAHAAEAQgAgAAgAQQDWABwAjgCYAA==",
          "dtype": "i2"
         },
         "y0": " ",
         "yaxis": "y"
        },
        {
         "alignmentgroup": "True",
         "boxpoints": "all",
         "hovertemplate": "sdg=%{x}<br>description_number=%{y}<extra></extra>",
         "legendgroup": "None",
         "marker": {
          "color": "#EF553B"
         },
         "name": "None",
         "notched": false,
         "offsetgroup": "None",
         "orientation": "v",
         "showlegend": true,
         "type": "box",
         "x": [
          "None",
          "None",
          "None",
          "None",
          "None",
          "None",
          "None",
          "None",
          "None",
          "None",
          "None",
          "None",
          "None",
          "None",
          "None",
          "None",
          "None",
          "None",
          "None",
          "None",
          "None",
          "None",
          "None",
          "None",
          "None",
          "None",
          "None",
          "None",
          "None",
          "None",
          "None",
          "None",
          "None",
          "None",
          "None",
          "None",
          "None",
          "None",
          "None",
          "None",
          "None",
          "None",
          "None",
          "None",
          "None",
          "None",
          "None",
          "None",
          "None",
          "None",
          "None",
          "None",
          "None",
          "None",
          "None",
          "None",
          "None",
          "None",
          "None",
          "None",
          "None",
          "None",
          "None",
          "None",
          "None",
          "None",
          "None",
          "None",
          "None",
          "None",
          "None",
          "None",
          "None",
          "None",
          "None",
          "None",
          "None"
         ],
         "x0": " ",
         "xaxis": "x",
         "y": {
          "bdata": "PAAOAGkA5QAuAEQA+gBEAfEAbQBLACYAjQB9ABgByQBMALIAQwGCAKAAYgA5ABcAGwEHABMAAwAmAFAAPgCOAFsAJgFLADkAUABKAFAATgA5ABwAQQAHAFcArAA8AFsATABJANwAQQELAFYAFgB/AKQAMQCHAB8AKgACAKsA0gAlAPgANwC6ADYARgAbAB8AiQAmAEQBDQB0AA==",
          "dtype": "i2"
         },
         "y0": " ",
         "yaxis": "y"
        },
        {
         "alignmentgroup": "True",
         "boxpoints": "all",
         "hovertemplate": "sdg=%{x}<br>description_number=%{y}<extra></extra>",
         "legendgroup": "SDG3",
         "marker": {
          "color": "#00cc96"
         },
         "name": "SDG3",
         "notched": false,
         "offsetgroup": "SDG3",
         "orientation": "v",
         "showlegend": true,
         "type": "box",
         "x": [
          "SDG3",
          "SDG3",
          "SDG3",
          "SDG3",
          "SDG3",
          "SDG3",
          "SDG3",
          "SDG3",
          "SDG3",
          "SDG3",
          "SDG3",
          "SDG3",
          "SDG3",
          "SDG3",
          "SDG3",
          "SDG3",
          "SDG3",
          "SDG3",
          "SDG3",
          "SDG3",
          "SDG3",
          "SDG3",
          "SDG3",
          "SDG3",
          "SDG3",
          "SDG3",
          "SDG3",
          "SDG3",
          "SDG3",
          "SDG3",
          "SDG3",
          "SDG3",
          "SDG3",
          "SDG3",
          "SDG3",
          "SDG3",
          "SDG3",
          "SDG3",
          "SDG3",
          "SDG3",
          "SDG3",
          "SDG3",
          "SDG3",
          "SDG3",
          "SDG3",
          "SDG3",
          "SDG3",
          "SDG3",
          "SDG3",
          "SDG3",
          "SDG3",
          "SDG3",
          "SDG3"
         ],
         "x0": " ",
         "xaxis": "x",
         "y": {
          "bdata": "LwAKAEABFwAbABUAhgADAK0AnQBDATEAAgCwAJoAeQQyAJIA5wA9AFkAAwAeABcAwwDcAAoBCAAGAV8AfwACAOoA1QAGACIAMgAZAR4AAwADAF8BBABAAAcAHQBrAAYAOAADAA8AFAACAA==",
          "dtype": "i2"
         },
         "y0": " ",
         "yaxis": "y"
        },
        {
         "alignmentgroup": "True",
         "boxpoints": "all",
         "hovertemplate": "sdg=%{x}<br>description_number=%{y}<extra></extra>",
         "legendgroup": "SDG7",
         "marker": {
          "color": "#ab63fa"
         },
         "name": "SDG7",
         "notched": false,
         "offsetgroup": "SDG7",
         "orientation": "v",
         "showlegend": true,
         "type": "box",
         "x": [
          "SDG7",
          "SDG7",
          "SDG7",
          "SDG7",
          "SDG7",
          "SDG7",
          "SDG7",
          "SDG7",
          "SDG7",
          "SDG7",
          "SDG7",
          "SDG7",
          "SDG7",
          "SDG7",
          "SDG7",
          "SDG7",
          "SDG7",
          "SDG7",
          "SDG7"
         ],
         "x0": " ",
         "xaxis": "x",
         "y": {
          "bdata": "BC5xAwgBWjkBAQEKDxcfA20IBg==",
          "dtype": "i1"
         },
         "y0": " ",
         "yaxis": "y"
        },
        {
         "alignmentgroup": "True",
         "boxpoints": "all",
         "hovertemplate": "sdg=%{x}<br>description_number=%{y}<extra></extra>",
         "legendgroup": "SDG4",
         "marker": {
          "color": "#FFA15A"
         },
         "name": "SDG4",
         "notched": false,
         "offsetgroup": "SDG4",
         "orientation": "v",
         "showlegend": true,
         "type": "box",
         "x": [
          "SDG4",
          "SDG4",
          "SDG4",
          "SDG4"
         ],
         "x0": " ",
         "xaxis": "x",
         "y": {
          "bdata": "DScDVg==",
          "dtype": "i1"
         },
         "y0": " ",
         "yaxis": "y"
        },
        {
         "alignmentgroup": "True",
         "boxpoints": "all",
         "hovertemplate": "sdg=%{x}<br>description_number=%{y}<extra></extra>",
         "legendgroup": "SDG16",
         "marker": {
          "color": "#19d3f3"
         },
         "name": "SDG16",
         "notched": false,
         "offsetgroup": "SDG16",
         "orientation": "v",
         "showlegend": true,
         "type": "box",
         "x": [
          "SDG16",
          "SDG16",
          "SDG16",
          "SDG16"
         ],
         "x0": " ",
         "xaxis": "x",
         "y": {
          "bdata": "ezMNCg==",
          "dtype": "i1"
         },
         "y0": " ",
         "yaxis": "y"
        },
        {
         "alignmentgroup": "True",
         "boxpoints": "all",
         "hovertemplate": "sdg=%{x}<br>description_number=%{y}<extra></extra>",
         "legendgroup": "SDG6",
         "marker": {
          "color": "#FF6692"
         },
         "name": "SDG6",
         "notched": false,
         "offsetgroup": "SDG6",
         "orientation": "v",
         "showlegend": true,
         "type": "box",
         "x": [
          "SDG6",
          "SDG6",
          "SDG6",
          "SDG6",
          "SDG6",
          "SDG6",
          "SDG6",
          "SDG6",
          "SDG6",
          "SDG6",
          "SDG6",
          "SDG6",
          "SDG6",
          "SDG6",
          "SDG6",
          "SDG6",
          "SDG6",
          "SDG6",
          "SDG6",
          "SDG6",
          "SDG6"
         ],
         "x0": " ",
         "xaxis": "x",
         "y": {
          "bdata": "BwACAAcAIQBVAP8ABABTABsACQAKAAwAMABPAA0AMQAQAAQAKgBFAAQA",
          "dtype": "i2"
         },
         "y0": " ",
         "yaxis": "y"
        },
        {
         "alignmentgroup": "True",
         "boxpoints": "all",
         "hovertemplate": "sdg=%{x}<br>description_number=%{y}<extra></extra>",
         "legendgroup": "SDG12",
         "marker": {
          "color": "#B6E880"
         },
         "name": "SDG12",
         "notched": false,
         "offsetgroup": "SDG12",
         "orientation": "v",
         "showlegend": true,
         "type": "box",
         "x": [
          "SDG12",
          "SDG12",
          "SDG12",
          "SDG12",
          "SDG12",
          "SDG12",
          "SDG12",
          "SDG12",
          "SDG12",
          "SDG12",
          "SDG12",
          "SDG12",
          "SDG12",
          "SDG12",
          "SDG12",
          "SDG12",
          "SDG12",
          "SDG12",
          "SDG12",
          "SDG12",
          "SDG12",
          "SDG12",
          "SDG12",
          "SDG12",
          "SDG12",
          "SDG12"
         ],
         "x0": " ",
         "xaxis": "x",
         "y": {
          "bdata": "BAABAD0BBAAsABIAMwAgABQAIgAZAIMAnwAVAAIACQBMAC4AZQAFAHQAQgCbABMABQAfAA==",
          "dtype": "i2"
         },
         "y0": " ",
         "yaxis": "y"
        },
        {
         "alignmentgroup": "True",
         "boxpoints": "all",
         "hovertemplate": "sdg=%{x}<br>description_number=%{y}<extra></extra>",
         "legendgroup": "SDG13",
         "marker": {
          "color": "#FF97FF"
         },
         "name": "SDG13",
         "notched": false,
         "offsetgroup": "SDG13",
         "orientation": "v",
         "showlegend": true,
         "type": "box",
         "x": [
          "SDG13",
          "SDG13",
          "SDG13",
          "SDG13",
          "SDG13",
          "SDG13",
          "SDG13",
          "SDG13",
          "SDG13",
          "SDG13",
          "SDG13",
          "SDG13",
          "SDG13",
          "SDG13",
          "SDG13",
          "SDG13",
          "SDG13",
          "SDG13"
         ],
         "x0": " ",
         "xaxis": "x",
         "y": {
          "bdata": "CgASABAAFQAOAAkABAA1AAIAEQACAD0AAwADABUAEQAmAbEA",
          "dtype": "i2"
         },
         "y0": " ",
         "yaxis": "y"
        },
        {
         "alignmentgroup": "True",
         "boxpoints": "all",
         "hovertemplate": "sdg=%{x}<br>description_number=%{y}<extra></extra>",
         "legendgroup": "SDG10",
         "marker": {
          "color": "#FECB52"
         },
         "name": "SDG10",
         "notched": false,
         "offsetgroup": "SDG10",
         "orientation": "v",
         "showlegend": true,
         "type": "box",
         "x": [
          "SDG10",
          "SDG10"
         ],
         "x0": " ",
         "xaxis": "x",
         "y": {
          "bdata": "FDw=",
          "dtype": "i1"
         },
         "y0": " ",
         "yaxis": "y"
        },
        {
         "alignmentgroup": "True",
         "boxpoints": "all",
         "hovertemplate": "sdg=%{x}<br>description_number=%{y}<extra></extra>",
         "legendgroup": "SDG15",
         "marker": {
          "color": "#636efa"
         },
         "name": "SDG15",
         "notched": false,
         "offsetgroup": "SDG15",
         "orientation": "v",
         "showlegend": true,
         "type": "box",
         "x": [
          "SDG15",
          "SDG15"
         ],
         "x0": " ",
         "xaxis": "x",
         "y": {
          "bdata": "Clg=",
          "dtype": "i1"
         },
         "y0": " ",
         "yaxis": "y"
        },
        {
         "alignmentgroup": "True",
         "boxpoints": "all",
         "hovertemplate": "sdg=%{x}<br>description_number=%{y}<extra></extra>",
         "legendgroup": "SDG14",
         "marker": {
          "color": "#EF553B"
         },
         "name": "SDG14",
         "notched": false,
         "offsetgroup": "SDG14",
         "orientation": "v",
         "showlegend": true,
         "type": "box",
         "x": [
          "SDG14",
          "SDG14",
          "SDG14",
          "SDG14"
         ],
         "x0": " ",
         "xaxis": "x",
         "y": {
          "bdata": "SE4BRg==",
          "dtype": "i1"
         },
         "y0": " ",
         "yaxis": "y"
        },
        {
         "alignmentgroup": "True",
         "boxpoints": "all",
         "hovertemplate": "sdg=%{x}<br>description_number=%{y}<extra></extra>",
         "legendgroup": "SDG11",
         "marker": {
          "color": "#00cc96"
         },
         "name": "SDG11",
         "notched": false,
         "offsetgroup": "SDG11",
         "orientation": "v",
         "showlegend": true,
         "type": "box",
         "x": [
          "SDG11",
          "SDG11",
          "SDG11",
          "SDG11",
          "SDG11",
          "SDG11"
         ],
         "x0": " ",
         "xaxis": "x",
         "y": {
          "bdata": "LQAxAAIAAQDxAB8A",
          "dtype": "i2"
         },
         "y0": " ",
         "yaxis": "y"
        }
       ],
       "layout": {
        "boxmode": "group",
        "legend": {
         "title": {
          "text": "sdg"
         },
         "tracegroupgap": 0
        },
        "template": {
         "data": {
          "bar": [
           {
            "error_x": {
             "color": "#2a3f5f"
            },
            "error_y": {
             "color": "#2a3f5f"
            },
            "marker": {
             "line": {
              "color": "#E5ECF6",
              "width": 0.5
             },
             "pattern": {
              "fillmode": "overlay",
              "size": 10,
              "solidity": 0.2
             }
            },
            "type": "bar"
           }
          ],
          "barpolar": [
           {
            "marker": {
             "line": {
              "color": "#E5ECF6",
              "width": 0.5
             },
             "pattern": {
              "fillmode": "overlay",
              "size": 10,
              "solidity": 0.2
             }
            },
            "type": "barpolar"
           }
          ],
          "carpet": [
           {
            "aaxis": {
             "endlinecolor": "#2a3f5f",
             "gridcolor": "white",
             "linecolor": "white",
             "minorgridcolor": "white",
             "startlinecolor": "#2a3f5f"
            },
            "baxis": {
             "endlinecolor": "#2a3f5f",
             "gridcolor": "white",
             "linecolor": "white",
             "minorgridcolor": "white",
             "startlinecolor": "#2a3f5f"
            },
            "type": "carpet"
           }
          ],
          "choropleth": [
           {
            "colorbar": {
             "outlinewidth": 0,
             "ticks": ""
            },
            "type": "choropleth"
           }
          ],
          "contour": [
           {
            "colorbar": {
             "outlinewidth": 0,
             "ticks": ""
            },
            "colorscale": [
             [
              0,
              "#0d0887"
             ],
             [
              0.1111111111111111,
              "#46039f"
             ],
             [
              0.2222222222222222,
              "#7201a8"
             ],
             [
              0.3333333333333333,
              "#9c179e"
             ],
             [
              0.4444444444444444,
              "#bd3786"
             ],
             [
              0.5555555555555556,
              "#d8576b"
             ],
             [
              0.6666666666666666,
              "#ed7953"
             ],
             [
              0.7777777777777778,
              "#fb9f3a"
             ],
             [
              0.8888888888888888,
              "#fdca26"
             ],
             [
              1,
              "#f0f921"
             ]
            ],
            "type": "contour"
           }
          ],
          "contourcarpet": [
           {
            "colorbar": {
             "outlinewidth": 0,
             "ticks": ""
            },
            "type": "contourcarpet"
           }
          ],
          "heatmap": [
           {
            "colorbar": {
             "outlinewidth": 0,
             "ticks": ""
            },
            "colorscale": [
             [
              0,
              "#0d0887"
             ],
             [
              0.1111111111111111,
              "#46039f"
             ],
             [
              0.2222222222222222,
              "#7201a8"
             ],
             [
              0.3333333333333333,
              "#9c179e"
             ],
             [
              0.4444444444444444,
              "#bd3786"
             ],
             [
              0.5555555555555556,
              "#d8576b"
             ],
             [
              0.6666666666666666,
              "#ed7953"
             ],
             [
              0.7777777777777778,
              "#fb9f3a"
             ],
             [
              0.8888888888888888,
              "#fdca26"
             ],
             [
              1,
              "#f0f921"
             ]
            ],
            "type": "heatmap"
           }
          ],
          "histogram": [
           {
            "marker": {
             "pattern": {
              "fillmode": "overlay",
              "size": 10,
              "solidity": 0.2
             }
            },
            "type": "histogram"
           }
          ],
          "histogram2d": [
           {
            "colorbar": {
             "outlinewidth": 0,
             "ticks": ""
            },
            "colorscale": [
             [
              0,
              "#0d0887"
             ],
             [
              0.1111111111111111,
              "#46039f"
             ],
             [
              0.2222222222222222,
              "#7201a8"
             ],
             [
              0.3333333333333333,
              "#9c179e"
             ],
             [
              0.4444444444444444,
              "#bd3786"
             ],
             [
              0.5555555555555556,
              "#d8576b"
             ],
             [
              0.6666666666666666,
              "#ed7953"
             ],
             [
              0.7777777777777778,
              "#fb9f3a"
             ],
             [
              0.8888888888888888,
              "#fdca26"
             ],
             [
              1,
              "#f0f921"
             ]
            ],
            "type": "histogram2d"
           }
          ],
          "histogram2dcontour": [
           {
            "colorbar": {
             "outlinewidth": 0,
             "ticks": ""
            },
            "colorscale": [
             [
              0,
              "#0d0887"
             ],
             [
              0.1111111111111111,
              "#46039f"
             ],
             [
              0.2222222222222222,
              "#7201a8"
             ],
             [
              0.3333333333333333,
              "#9c179e"
             ],
             [
              0.4444444444444444,
              "#bd3786"
             ],
             [
              0.5555555555555556,
              "#d8576b"
             ],
             [
              0.6666666666666666,
              "#ed7953"
             ],
             [
              0.7777777777777778,
              "#fb9f3a"
             ],
             [
              0.8888888888888888,
              "#fdca26"
             ],
             [
              1,
              "#f0f921"
             ]
            ],
            "type": "histogram2dcontour"
           }
          ],
          "mesh3d": [
           {
            "colorbar": {
             "outlinewidth": 0,
             "ticks": ""
            },
            "type": "mesh3d"
           }
          ],
          "parcoords": [
           {
            "line": {
             "colorbar": {
              "outlinewidth": 0,
              "ticks": ""
             }
            },
            "type": "parcoords"
           }
          ],
          "pie": [
           {
            "automargin": true,
            "type": "pie"
           }
          ],
          "scatter": [
           {
            "fillpattern": {
             "fillmode": "overlay",
             "size": 10,
             "solidity": 0.2
            },
            "type": "scatter"
           }
          ],
          "scatter3d": [
           {
            "line": {
             "colorbar": {
              "outlinewidth": 0,
              "ticks": ""
             }
            },
            "marker": {
             "colorbar": {
              "outlinewidth": 0,
              "ticks": ""
             }
            },
            "type": "scatter3d"
           }
          ],
          "scattercarpet": [
           {
            "marker": {
             "colorbar": {
              "outlinewidth": 0,
              "ticks": ""
             }
            },
            "type": "scattercarpet"
           }
          ],
          "scattergeo": [
           {
            "marker": {
             "colorbar": {
              "outlinewidth": 0,
              "ticks": ""
             }
            },
            "type": "scattergeo"
           }
          ],
          "scattergl": [
           {
            "marker": {
             "colorbar": {
              "outlinewidth": 0,
              "ticks": ""
             }
            },
            "type": "scattergl"
           }
          ],
          "scattermap": [
           {
            "marker": {
             "colorbar": {
              "outlinewidth": 0,
              "ticks": ""
             }
            },
            "type": "scattermap"
           }
          ],
          "scattermapbox": [
           {
            "marker": {
             "colorbar": {
              "outlinewidth": 0,
              "ticks": ""
             }
            },
            "type": "scattermapbox"
           }
          ],
          "scatterpolar": [
           {
            "marker": {
             "colorbar": {
              "outlinewidth": 0,
              "ticks": ""
             }
            },
            "type": "scatterpolar"
           }
          ],
          "scatterpolargl": [
           {
            "marker": {
             "colorbar": {
              "outlinewidth": 0,
              "ticks": ""
             }
            },
            "type": "scatterpolargl"
           }
          ],
          "scatterternary": [
           {
            "marker": {
             "colorbar": {
              "outlinewidth": 0,
              "ticks": ""
             }
            },
            "type": "scatterternary"
           }
          ],
          "surface": [
           {
            "colorbar": {
             "outlinewidth": 0,
             "ticks": ""
            },
            "colorscale": [
             [
              0,
              "#0d0887"
             ],
             [
              0.1111111111111111,
              "#46039f"
             ],
             [
              0.2222222222222222,
              "#7201a8"
             ],
             [
              0.3333333333333333,
              "#9c179e"
             ],
             [
              0.4444444444444444,
              "#bd3786"
             ],
             [
              0.5555555555555556,
              "#d8576b"
             ],
             [
              0.6666666666666666,
              "#ed7953"
             ],
             [
              0.7777777777777778,
              "#fb9f3a"
             ],
             [
              0.8888888888888888,
              "#fdca26"
             ],
             [
              1,
              "#f0f921"
             ]
            ],
            "type": "surface"
           }
          ],
          "table": [
           {
            "cells": {
             "fill": {
              "color": "#EBF0F8"
             },
             "line": {
              "color": "white"
             }
            },
            "header": {
             "fill": {
              "color": "#C8D4E3"
             },
             "line": {
              "color": "white"
             }
            },
            "type": "table"
           }
          ]
         },
         "layout": {
          "annotationdefaults": {
           "arrowcolor": "#2a3f5f",
           "arrowhead": 0,
           "arrowwidth": 1
          },
          "autotypenumbers": "strict",
          "coloraxis": {
           "colorbar": {
            "outlinewidth": 0,
            "ticks": ""
           }
          },
          "colorscale": {
           "diverging": [
            [
             0,
             "#8e0152"
            ],
            [
             0.1,
             "#c51b7d"
            ],
            [
             0.2,
             "#de77ae"
            ],
            [
             0.3,
             "#f1b6da"
            ],
            [
             0.4,
             "#fde0ef"
            ],
            [
             0.5,
             "#f7f7f7"
            ],
            [
             0.6,
             "#e6f5d0"
            ],
            [
             0.7,
             "#b8e186"
            ],
            [
             0.8,
             "#7fbc41"
            ],
            [
             0.9,
             "#4d9221"
            ],
            [
             1,
             "#276419"
            ]
           ],
           "sequential": [
            [
             0,
             "#0d0887"
            ],
            [
             0.1111111111111111,
             "#46039f"
            ],
            [
             0.2222222222222222,
             "#7201a8"
            ],
            [
             0.3333333333333333,
             "#9c179e"
            ],
            [
             0.4444444444444444,
             "#bd3786"
            ],
            [
             0.5555555555555556,
             "#d8576b"
            ],
            [
             0.6666666666666666,
             "#ed7953"
            ],
            [
             0.7777777777777778,
             "#fb9f3a"
            ],
            [
             0.8888888888888888,
             "#fdca26"
            ],
            [
             1,
             "#f0f921"
            ]
           ],
           "sequentialminus": [
            [
             0,
             "#0d0887"
            ],
            [
             0.1111111111111111,
             "#46039f"
            ],
            [
             0.2222222222222222,
             "#7201a8"
            ],
            [
             0.3333333333333333,
             "#9c179e"
            ],
            [
             0.4444444444444444,
             "#bd3786"
            ],
            [
             0.5555555555555556,
             "#d8576b"
            ],
            [
             0.6666666666666666,
             "#ed7953"
            ],
            [
             0.7777777777777778,
             "#fb9f3a"
            ],
            [
             0.8888888888888888,
             "#fdca26"
            ],
            [
             1,
             "#f0f921"
            ]
           ]
          },
          "colorway": [
           "#636efa",
           "#EF553B",
           "#00cc96",
           "#ab63fa",
           "#FFA15A",
           "#19d3f3",
           "#FF6692",
           "#B6E880",
           "#FF97FF",
           "#FECB52"
          ],
          "font": {
           "color": "#2a3f5f"
          },
          "geo": {
           "bgcolor": "white",
           "lakecolor": "white",
           "landcolor": "#E5ECF6",
           "showlakes": true,
           "showland": true,
           "subunitcolor": "white"
          },
          "hoverlabel": {
           "align": "left"
          },
          "hovermode": "closest",
          "mapbox": {
           "style": "light"
          },
          "paper_bgcolor": "white",
          "plot_bgcolor": "#E5ECF6",
          "polar": {
           "angularaxis": {
            "gridcolor": "white",
            "linecolor": "white",
            "ticks": ""
           },
           "bgcolor": "#E5ECF6",
           "radialaxis": {
            "gridcolor": "white",
            "linecolor": "white",
            "ticks": ""
           }
          },
          "scene": {
           "xaxis": {
            "backgroundcolor": "#E5ECF6",
            "gridcolor": "white",
            "gridwidth": 2,
            "linecolor": "white",
            "showbackground": true,
            "ticks": "",
            "zerolinecolor": "white"
           },
           "yaxis": {
            "backgroundcolor": "#E5ECF6",
            "gridcolor": "white",
            "gridwidth": 2,
            "linecolor": "white",
            "showbackground": true,
            "ticks": "",
            "zerolinecolor": "white"
           },
           "zaxis": {
            "backgroundcolor": "#E5ECF6",
            "gridcolor": "white",
            "gridwidth": 2,
            "linecolor": "white",
            "showbackground": true,
            "ticks": "",
            "zerolinecolor": "white"
           }
          },
          "shapedefaults": {
           "line": {
            "color": "#2a3f5f"
           }
          },
          "ternary": {
           "aaxis": {
            "gridcolor": "white",
            "linecolor": "white",
            "ticks": ""
           },
           "baxis": {
            "gridcolor": "white",
            "linecolor": "white",
            "ticks": ""
           },
           "bgcolor": "#E5ECF6",
           "caxis": {
            "gridcolor": "white",
            "linecolor": "white",
            "ticks": ""
           }
          },
          "title": {
           "x": 0.05
          },
          "xaxis": {
           "automargin": true,
           "gridcolor": "white",
           "linecolor": "white",
           "ticks": "",
           "title": {
            "standoff": 15
           },
           "zerolinecolor": "white",
           "zerolinewidth": 2
          },
          "yaxis": {
           "automargin": true,
           "gridcolor": "white",
           "linecolor": "white",
           "ticks": "",
           "title": {
            "standoff": 15
           },
           "zerolinecolor": "white",
           "zerolinewidth": 2
          }
         }
        },
        "title": {
         "text": "Description Number by SDG Category"
        },
        "xaxis": {
         "anchor": "y",
         "categoryarray": [
          "SDG9",
          "None",
          "SDG3",
          "SDG7",
          "SDG4",
          "SDG16",
          "SDG6",
          "SDG12",
          "SDG13",
          "SDG10",
          "SDG15",
          "SDG14",
          "SDG11"
         ],
         "categoryorder": "array",
         "domain": [
          0,
          1
         ],
         "title": {
          "text": "SDG"
         }
        },
        "yaxis": {
         "anchor": "x",
         "domain": [
          0,
          1
         ],
         "title": {
          "text": "Description Number"
         }
        }
       }
      }
     },
     "metadata": {},
     "output_type": "display_data"
    },
    {
     "name": "stdout",
     "output_type": "stream",
     "text": [
      "\n",
      "Mann-Whitney U Test p-value: 0.0000\n",
      "Significant difference in description_number between 'None' and SDG-assigned.\n"
     ]
    },
    {
     "data": {
      "application/vnd.plotly.v1+json": {
       "config": {
        "plotlyServerURL": "https://plot.ly"
       },
       "data": [
        {
         "alignmentgroup": "True",
         "boxpoints": "all",
         "hovertemplate": "Has SDG Label=%{x}<br>Description Number=%{y}<extra></extra>",
         "legendgroup": "True",
         "marker": {
          "color": "#636efa"
         },
         "name": "True",
         "notched": false,
         "offsetgroup": "True",
         "orientation": "v",
         "showlegend": true,
         "type": "box",
         "x": [
          true,
          true,
          true,
          true,
          true,
          true,
          true,
          true,
          true,
          true,
          true,
          true,
          true,
          true,
          true,
          true,
          true,
          true,
          true,
          true,
          true,
          true,
          true,
          true,
          true,
          true,
          true,
          true,
          true,
          true,
          true,
          true,
          true,
          true,
          true,
          true,
          true,
          true,
          true,
          true,
          true,
          true,
          true,
          true,
          true,
          true,
          true,
          true,
          true,
          true,
          true,
          true,
          true,
          true,
          true,
          true,
          true,
          true,
          true,
          true,
          true,
          true,
          true,
          true,
          true,
          true,
          true,
          true,
          true,
          true,
          true,
          true,
          true,
          true,
          true,
          true,
          true,
          true,
          true,
          true,
          true,
          true,
          true,
          true,
          true,
          true,
          true,
          true,
          true,
          true,
          true,
          true,
          true,
          true,
          true,
          true,
          true,
          true,
          true,
          true,
          true,
          true,
          true,
          true,
          true,
          true,
          true,
          true,
          true,
          true,
          true,
          true,
          true,
          true,
          true,
          true,
          true,
          true,
          true,
          true,
          true,
          true,
          true,
          true,
          true,
          true,
          true,
          true,
          true,
          true,
          true,
          true,
          true,
          true,
          true,
          true,
          true,
          true,
          true,
          true,
          true,
          true,
          true,
          true,
          true,
          true,
          true,
          true,
          true,
          true,
          true,
          true,
          true,
          true,
          true,
          true,
          true,
          true,
          true,
          true,
          true,
          true,
          true,
          true,
          true,
          true,
          true,
          true,
          true,
          true,
          true,
          true,
          true,
          true,
          true,
          true,
          true,
          true,
          true,
          true,
          true,
          true,
          true,
          true,
          true,
          true,
          true,
          true,
          true,
          true,
          true,
          true,
          true,
          true,
          true,
          true,
          true,
          true,
          true,
          true,
          true,
          true,
          true,
          true,
          true,
          true,
          true,
          true,
          true,
          true,
          true,
          true,
          true,
          true,
          true,
          true,
          true,
          true,
          true,
          true,
          true,
          true,
          true,
          true,
          true,
          true,
          true,
          true,
          true,
          true,
          true,
          true,
          true,
          true,
          true,
          true,
          true,
          true,
          true,
          true,
          true,
          true,
          true,
          true,
          true,
          true,
          true,
          true,
          true,
          true,
          true
         ],
         "x0": " ",
         "xaxis": "x",
         "y": {
          "bdata": "NQAvAKsACwAFAHUABAANAHsAAQAKAEABBwAHABcACAAFAAQACQAuAAIAAQAHACEAcQAbAAoAEgAQABUAFQAOAAkADACGAAMABAAEAK0AnQBDAScAAwA9ATEAMwAEAAIAsACaAHkEMgCSAOcAPQAEAFkAAwANAB4AVAAXAAQAwwDcACwATQAKAQgABgEUAF8AfwACAOoA1QAGACIAMgAZAR4AAwADAF8BBAADAEAABwAdAGsABgA4ADwAAwAZAAoAWABVAP8ABABTABsACQAKAAwAJgAwAE8ADQBSADEAEAAEACoARQAEAEgATgABAEYADwAUADUAAgARAAIAEgA9AAMAVwADABUALQACAC8ASgAxAAgACgAiAAUAEQACACoAWwAYAQcADQAYAAQAKwAOAAYAAQAzAAIABwASAFwACAAEAAEABQAOABMAAgANAFkAQAAkAAwACQABAAsACQCIAAQACQABAAQAEgALAAcACAAgAEQAWwBCAAIABgAJAAEACQBaABQACQAiACYBBgABAAEAGQAvAPEABQABAAsAEQApAIMAAQAPADkAAQABAAcAAQABALEAQgAKAA8AIACfAAgAFwAfAFYAAwBBABUAHwBtANYACAACAAkATAAuABwAZQAFAHQAQgCOAJsABgATAJgABQAfAA==",
          "dtype": "i2"
         },
         "y0": " ",
         "yaxis": "y"
        },
        {
         "alignmentgroup": "True",
         "boxpoints": "all",
         "hovertemplate": "Has SDG Label=%{x}<br>Description Number=%{y}<extra></extra>",
         "legendgroup": "False",
         "marker": {
          "color": "#EF553B"
         },
         "name": "False",
         "notched": false,
         "offsetgroup": "False",
         "orientation": "v",
         "showlegend": true,
         "type": "box",
         "x": [
          false,
          false,
          false,
          false,
          false,
          false,
          false,
          false,
          false,
          false,
          false,
          false,
          false,
          false,
          false,
          false,
          false,
          false,
          false,
          false,
          false,
          false,
          false,
          false,
          false,
          false,
          false,
          false,
          false,
          false,
          false,
          false,
          false,
          false,
          false,
          false,
          false,
          false,
          false,
          false,
          false,
          false,
          false,
          false,
          false,
          false,
          false,
          false,
          false,
          false,
          false,
          false,
          false,
          false,
          false,
          false,
          false,
          false,
          false,
          false,
          false,
          false,
          false,
          false,
          false,
          false,
          false,
          false,
          false,
          false,
          false,
          false,
          false,
          false,
          false,
          false,
          false
         ],
         "x0": " ",
         "xaxis": "x",
         "y": {
          "bdata": "PAAOAGkA5QAuAEQA+gBEAfEAbQBLACYAjQB9ABgByQBMALIAQwGCAKAAYgA5ABcAGwEHABMAAwAmAFAAPgCOAFsAJgFLADkAUABKAFAATgA5ABwAQQAHAFcArAA8AFsATABJANwAQQELAFYAFgB/AKQAMQCHAB8AKgACAKsA0gAlAPgANwC6ADYARgAbAB8AiQAmAEQBDQB0AA==",
          "dtype": "i2"
         },
         "y0": " ",
         "yaxis": "y"
        }
       ],
       "layout": {
        "boxmode": "overlay",
        "legend": {
         "title": {
          "text": "Has SDG Label"
         },
         "tracegroupgap": 0
        },
        "template": {
         "data": {
          "bar": [
           {
            "error_x": {
             "color": "#2a3f5f"
            },
            "error_y": {
             "color": "#2a3f5f"
            },
            "marker": {
             "line": {
              "color": "#E5ECF6",
              "width": 0.5
             },
             "pattern": {
              "fillmode": "overlay",
              "size": 10,
              "solidity": 0.2
             }
            },
            "type": "bar"
           }
          ],
          "barpolar": [
           {
            "marker": {
             "line": {
              "color": "#E5ECF6",
              "width": 0.5
             },
             "pattern": {
              "fillmode": "overlay",
              "size": 10,
              "solidity": 0.2
             }
            },
            "type": "barpolar"
           }
          ],
          "carpet": [
           {
            "aaxis": {
             "endlinecolor": "#2a3f5f",
             "gridcolor": "white",
             "linecolor": "white",
             "minorgridcolor": "white",
             "startlinecolor": "#2a3f5f"
            },
            "baxis": {
             "endlinecolor": "#2a3f5f",
             "gridcolor": "white",
             "linecolor": "white",
             "minorgridcolor": "white",
             "startlinecolor": "#2a3f5f"
            },
            "type": "carpet"
           }
          ],
          "choropleth": [
           {
            "colorbar": {
             "outlinewidth": 0,
             "ticks": ""
            },
            "type": "choropleth"
           }
          ],
          "contour": [
           {
            "colorbar": {
             "outlinewidth": 0,
             "ticks": ""
            },
            "colorscale": [
             [
              0,
              "#0d0887"
             ],
             [
              0.1111111111111111,
              "#46039f"
             ],
             [
              0.2222222222222222,
              "#7201a8"
             ],
             [
              0.3333333333333333,
              "#9c179e"
             ],
             [
              0.4444444444444444,
              "#bd3786"
             ],
             [
              0.5555555555555556,
              "#d8576b"
             ],
             [
              0.6666666666666666,
              "#ed7953"
             ],
             [
              0.7777777777777778,
              "#fb9f3a"
             ],
             [
              0.8888888888888888,
              "#fdca26"
             ],
             [
              1,
              "#f0f921"
             ]
            ],
            "type": "contour"
           }
          ],
          "contourcarpet": [
           {
            "colorbar": {
             "outlinewidth": 0,
             "ticks": ""
            },
            "type": "contourcarpet"
           }
          ],
          "heatmap": [
           {
            "colorbar": {
             "outlinewidth": 0,
             "ticks": ""
            },
            "colorscale": [
             [
              0,
              "#0d0887"
             ],
             [
              0.1111111111111111,
              "#46039f"
             ],
             [
              0.2222222222222222,
              "#7201a8"
             ],
             [
              0.3333333333333333,
              "#9c179e"
             ],
             [
              0.4444444444444444,
              "#bd3786"
             ],
             [
              0.5555555555555556,
              "#d8576b"
             ],
             [
              0.6666666666666666,
              "#ed7953"
             ],
             [
              0.7777777777777778,
              "#fb9f3a"
             ],
             [
              0.8888888888888888,
              "#fdca26"
             ],
             [
              1,
              "#f0f921"
             ]
            ],
            "type": "heatmap"
           }
          ],
          "histogram": [
           {
            "marker": {
             "pattern": {
              "fillmode": "overlay",
              "size": 10,
              "solidity": 0.2
             }
            },
            "type": "histogram"
           }
          ],
          "histogram2d": [
           {
            "colorbar": {
             "outlinewidth": 0,
             "ticks": ""
            },
            "colorscale": [
             [
              0,
              "#0d0887"
             ],
             [
              0.1111111111111111,
              "#46039f"
             ],
             [
              0.2222222222222222,
              "#7201a8"
             ],
             [
              0.3333333333333333,
              "#9c179e"
             ],
             [
              0.4444444444444444,
              "#bd3786"
             ],
             [
              0.5555555555555556,
              "#d8576b"
             ],
             [
              0.6666666666666666,
              "#ed7953"
             ],
             [
              0.7777777777777778,
              "#fb9f3a"
             ],
             [
              0.8888888888888888,
              "#fdca26"
             ],
             [
              1,
              "#f0f921"
             ]
            ],
            "type": "histogram2d"
           }
          ],
          "histogram2dcontour": [
           {
            "colorbar": {
             "outlinewidth": 0,
             "ticks": ""
            },
            "colorscale": [
             [
              0,
              "#0d0887"
             ],
             [
              0.1111111111111111,
              "#46039f"
             ],
             [
              0.2222222222222222,
              "#7201a8"
             ],
             [
              0.3333333333333333,
              "#9c179e"
             ],
             [
              0.4444444444444444,
              "#bd3786"
             ],
             [
              0.5555555555555556,
              "#d8576b"
             ],
             [
              0.6666666666666666,
              "#ed7953"
             ],
             [
              0.7777777777777778,
              "#fb9f3a"
             ],
             [
              0.8888888888888888,
              "#fdca26"
             ],
             [
              1,
              "#f0f921"
             ]
            ],
            "type": "histogram2dcontour"
           }
          ],
          "mesh3d": [
           {
            "colorbar": {
             "outlinewidth": 0,
             "ticks": ""
            },
            "type": "mesh3d"
           }
          ],
          "parcoords": [
           {
            "line": {
             "colorbar": {
              "outlinewidth": 0,
              "ticks": ""
             }
            },
            "type": "parcoords"
           }
          ],
          "pie": [
           {
            "automargin": true,
            "type": "pie"
           }
          ],
          "scatter": [
           {
            "fillpattern": {
             "fillmode": "overlay",
             "size": 10,
             "solidity": 0.2
            },
            "type": "scatter"
           }
          ],
          "scatter3d": [
           {
            "line": {
             "colorbar": {
              "outlinewidth": 0,
              "ticks": ""
             }
            },
            "marker": {
             "colorbar": {
              "outlinewidth": 0,
              "ticks": ""
             }
            },
            "type": "scatter3d"
           }
          ],
          "scattercarpet": [
           {
            "marker": {
             "colorbar": {
              "outlinewidth": 0,
              "ticks": ""
             }
            },
            "type": "scattercarpet"
           }
          ],
          "scattergeo": [
           {
            "marker": {
             "colorbar": {
              "outlinewidth": 0,
              "ticks": ""
             }
            },
            "type": "scattergeo"
           }
          ],
          "scattergl": [
           {
            "marker": {
             "colorbar": {
              "outlinewidth": 0,
              "ticks": ""
             }
            },
            "type": "scattergl"
           }
          ],
          "scattermap": [
           {
            "marker": {
             "colorbar": {
              "outlinewidth": 0,
              "ticks": ""
             }
            },
            "type": "scattermap"
           }
          ],
          "scattermapbox": [
           {
            "marker": {
             "colorbar": {
              "outlinewidth": 0,
              "ticks": ""
             }
            },
            "type": "scattermapbox"
           }
          ],
          "scatterpolar": [
           {
            "marker": {
             "colorbar": {
              "outlinewidth": 0,
              "ticks": ""
             }
            },
            "type": "scatterpolar"
           }
          ],
          "scatterpolargl": [
           {
            "marker": {
             "colorbar": {
              "outlinewidth": 0,
              "ticks": ""
             }
            },
            "type": "scatterpolargl"
           }
          ],
          "scatterternary": [
           {
            "marker": {
             "colorbar": {
              "outlinewidth": 0,
              "ticks": ""
             }
            },
            "type": "scatterternary"
           }
          ],
          "surface": [
           {
            "colorbar": {
             "outlinewidth": 0,
             "ticks": ""
            },
            "colorscale": [
             [
              0,
              "#0d0887"
             ],
             [
              0.1111111111111111,
              "#46039f"
             ],
             [
              0.2222222222222222,
              "#7201a8"
             ],
             [
              0.3333333333333333,
              "#9c179e"
             ],
             [
              0.4444444444444444,
              "#bd3786"
             ],
             [
              0.5555555555555556,
              "#d8576b"
             ],
             [
              0.6666666666666666,
              "#ed7953"
             ],
             [
              0.7777777777777778,
              "#fb9f3a"
             ],
             [
              0.8888888888888888,
              "#fdca26"
             ],
             [
              1,
              "#f0f921"
             ]
            ],
            "type": "surface"
           }
          ],
          "table": [
           {
            "cells": {
             "fill": {
              "color": "#EBF0F8"
             },
             "line": {
              "color": "white"
             }
            },
            "header": {
             "fill": {
              "color": "#C8D4E3"
             },
             "line": {
              "color": "white"
             }
            },
            "type": "table"
           }
          ]
         },
         "layout": {
          "annotationdefaults": {
           "arrowcolor": "#2a3f5f",
           "arrowhead": 0,
           "arrowwidth": 1
          },
          "autotypenumbers": "strict",
          "coloraxis": {
           "colorbar": {
            "outlinewidth": 0,
            "ticks": ""
           }
          },
          "colorscale": {
           "diverging": [
            [
             0,
             "#8e0152"
            ],
            [
             0.1,
             "#c51b7d"
            ],
            [
             0.2,
             "#de77ae"
            ],
            [
             0.3,
             "#f1b6da"
            ],
            [
             0.4,
             "#fde0ef"
            ],
            [
             0.5,
             "#f7f7f7"
            ],
            [
             0.6,
             "#e6f5d0"
            ],
            [
             0.7,
             "#b8e186"
            ],
            [
             0.8,
             "#7fbc41"
            ],
            [
             0.9,
             "#4d9221"
            ],
            [
             1,
             "#276419"
            ]
           ],
           "sequential": [
            [
             0,
             "#0d0887"
            ],
            [
             0.1111111111111111,
             "#46039f"
            ],
            [
             0.2222222222222222,
             "#7201a8"
            ],
            [
             0.3333333333333333,
             "#9c179e"
            ],
            [
             0.4444444444444444,
             "#bd3786"
            ],
            [
             0.5555555555555556,
             "#d8576b"
            ],
            [
             0.6666666666666666,
             "#ed7953"
            ],
            [
             0.7777777777777778,
             "#fb9f3a"
            ],
            [
             0.8888888888888888,
             "#fdca26"
            ],
            [
             1,
             "#f0f921"
            ]
           ],
           "sequentialminus": [
            [
             0,
             "#0d0887"
            ],
            [
             0.1111111111111111,
             "#46039f"
            ],
            [
             0.2222222222222222,
             "#7201a8"
            ],
            [
             0.3333333333333333,
             "#9c179e"
            ],
            [
             0.4444444444444444,
             "#bd3786"
            ],
            [
             0.5555555555555556,
             "#d8576b"
            ],
            [
             0.6666666666666666,
             "#ed7953"
            ],
            [
             0.7777777777777778,
             "#fb9f3a"
            ],
            [
             0.8888888888888888,
             "#fdca26"
            ],
            [
             1,
             "#f0f921"
            ]
           ]
          },
          "colorway": [
           "#636efa",
           "#EF553B",
           "#00cc96",
           "#ab63fa",
           "#FFA15A",
           "#19d3f3",
           "#FF6692",
           "#B6E880",
           "#FF97FF",
           "#FECB52"
          ],
          "font": {
           "color": "#2a3f5f"
          },
          "geo": {
           "bgcolor": "white",
           "lakecolor": "white",
           "landcolor": "#E5ECF6",
           "showlakes": true,
           "showland": true,
           "subunitcolor": "white"
          },
          "hoverlabel": {
           "align": "left"
          },
          "hovermode": "closest",
          "mapbox": {
           "style": "light"
          },
          "paper_bgcolor": "white",
          "plot_bgcolor": "#E5ECF6",
          "polar": {
           "angularaxis": {
            "gridcolor": "white",
            "linecolor": "white",
            "ticks": ""
           },
           "bgcolor": "#E5ECF6",
           "radialaxis": {
            "gridcolor": "white",
            "linecolor": "white",
            "ticks": ""
           }
          },
          "scene": {
           "xaxis": {
            "backgroundcolor": "#E5ECF6",
            "gridcolor": "white",
            "gridwidth": 2,
            "linecolor": "white",
            "showbackground": true,
            "ticks": "",
            "zerolinecolor": "white"
           },
           "yaxis": {
            "backgroundcolor": "#E5ECF6",
            "gridcolor": "white",
            "gridwidth": 2,
            "linecolor": "white",
            "showbackground": true,
            "ticks": "",
            "zerolinecolor": "white"
           },
           "zaxis": {
            "backgroundcolor": "#E5ECF6",
            "gridcolor": "white",
            "gridwidth": 2,
            "linecolor": "white",
            "showbackground": true,
            "ticks": "",
            "zerolinecolor": "white"
           }
          },
          "shapedefaults": {
           "line": {
            "color": "#2a3f5f"
           }
          },
          "ternary": {
           "aaxis": {
            "gridcolor": "white",
            "linecolor": "white",
            "ticks": ""
           },
           "baxis": {
            "gridcolor": "white",
            "linecolor": "white",
            "ticks": ""
           },
           "bgcolor": "#E5ECF6",
           "caxis": {
            "gridcolor": "white",
            "linecolor": "white",
            "ticks": ""
           }
          },
          "title": {
           "x": 0.05
          },
          "xaxis": {
           "automargin": true,
           "gridcolor": "white",
           "linecolor": "white",
           "ticks": "",
           "title": {
            "standoff": 15
           },
           "zerolinecolor": "white",
           "zerolinewidth": 2
          },
          "yaxis": {
           "automargin": true,
           "gridcolor": "white",
           "linecolor": "white",
           "ticks": "",
           "title": {
            "standoff": 15
           },
           "zerolinecolor": "white",
           "zerolinewidth": 2
          }
         }
        },
        "title": {
         "text": "Description Number by SDG Presence"
        },
        "xaxis": {
         "anchor": "y",
         "categoryarray": [
          true,
          false
         ],
         "categoryorder": "array",
         "domain": [
          0,
          1
         ],
         "ticktext": [
          "SDG Assigned",
          "None"
         ],
         "tickvals": [
          true,
          false
         ],
         "title": {
          "text": "Has SDG Label"
         }
        },
        "yaxis": {
         "anchor": "x",
         "domain": [
          0,
          1
         ],
         "title": {
          "text": "Description Number"
         }
        }
       }
      }
     },
     "metadata": {},
     "output_type": "display_data"
    }
   ],
   "source": [
    "import json\n",
    "import pandas as pd\n",
    "import plotly.express as px\n",
    "import plotly.graph_objects as go\n",
    "from scipy.stats import mannwhitneyu\n",
    "\n",
    "def tesetset_distribution(testset_path):\n",
    "    \"\"\"\n",
    "    Interactive distribution plot of SDG labels and boxplot of description_number using Plotly.\n",
    "\n",
    "    Args:\n",
    "        testset_path (str): Path to the testset file (JSONL format).\n",
    "    \"\"\"\n",
    "    # --- Load data ---\n",
    "    with open(testset_path, \"r\", encoding=\"utf-8\") as f:\n",
    "        data = [json.loads(line) for line in f]\n",
    "\n",
    "    df = pd.DataFrame(data)\n",
    "\n",
    "    # --- Plot 1: Interactive Bar Chart of SDG Labels with Counts ---\n",
    "    df_sdg_counts = df[\"sdg\"].value_counts().reset_index()\n",
    "    df_sdg_counts.columns = [\"sdg\", \"count\"]\n",
    "\n",
    "    fig_bar = px.bar(\n",
    "        df_sdg_counts,\n",
    "        x=\"sdg\", y=\"count\",\n",
    "        title=\"Distribution of SDG Labels\",\n",
    "        labels={\"sdg\": \"SDG\", \"count\": \"Count\"},\n",
    "        color=\"sdg\"  # Keep color distinction\n",
    "    )\n",
    "\n",
    "    # Add count annotations on top of each bar\n",
    "    for i, row in df_sdg_counts.iterrows():\n",
    "        fig_bar.add_annotation(\n",
    "            x=row[\"sdg\"],\n",
    "            y=row[\"count\"],\n",
    "            text=str(row[\"count\"]),\n",
    "            showarrow=False,\n",
    "            yshift=10,\n",
    "            font=dict(size=12, color=\"black\")\n",
    "        )\n",
    "\n",
    "    fig_bar.update_layout(yaxis_title=\"Count\")\n",
    "    fig_bar.show()\n",
    "\n",
    "    # --- Plot 2: Interactive Boxplot of description_number by SDG ---\n",
    "    fig_box = px.box(\n",
    "        df[df[\"sdg\"] != \"Error\"],\n",
    "        x=\"sdg\",\n",
    "        y=\"description_number\",\n",
    "        title=\"Description Number by SDG Category\",\n",
    "        points=\"all\",\n",
    "        color=\"sdg\"\n",
    "    )\n",
    "    fig_box.update_layout(\n",
    "        xaxis_title=\"SDG\",\n",
    "        yaxis_title=\"Description Number\",\n",
    "        boxmode=\"group\"\n",
    "    )\n",
    "    fig_box.show()\n",
    "\n",
    "    # --- Statistical test: SDG vs None (Mann-Whitney) ---\n",
    "    df[\"has_sdg\"] = df[\"sdg\"] != \"None\"\n",
    "    group1 = df[df[\"has_sdg\"] == False][\"description_number\"]\n",
    "    group2 = df[df[\"has_sdg\"] == True][\"description_number\"]\n",
    "\n",
    "    stat, p = mannwhitneyu(group1, group2, alternative='two-sided')\n",
    "    print(f\"\\nMann-Whitney U Test p-value: {p:.4f}\")\n",
    "    if p < 0.05:\n",
    "        print(\"Significant difference in description_number between 'None' and SDG-assigned.\")\n",
    "    else:\n",
    "        print(\"No significant difference in description_number between 'None' and SDG-assigned.\")\n",
    "\n",
    "    # --- Plot 3: Binary boxplot: has SDG or not ---\n",
    "    fig_binary = px.box(\n",
    "        df,\n",
    "        x=\"has_sdg\",\n",
    "        y=\"description_number\",\n",
    "        color=\"has_sdg\",\n",
    "        title=\"Description Number by SDG Presence\",\n",
    "        points=\"all\",\n",
    "        labels={\"has_sdg\": \"Has SDG Label\", \"description_number\": \"Description Number\"}\n",
    "    )\n",
    "    fig_binary.update_xaxes(\n",
    "        tickvals=[True, False],\n",
    "        ticktext=[\"SDG Assigned\", \"None\"]\n",
    "    )\n",
    "    fig_binary.show()\n",
    "\n",
    "\n",
    "\n",
    "tesetset_distribution(\"../src/ai/testsets/testset_v3_en_labeled.jsonl\")"
   ]
  },
  {
   "cell_type": "markdown",
   "id": "a28b89cd",
   "metadata": {},
   "source": [
    "## 2. Evaluation fuctions"
   ]
  },
  {
   "cell_type": "markdown",
   "id": "a3d5e797",
   "metadata": {},
   "source": [
    "### 2.1. Regex to extract SDGs from a string"
   ]
  },
  {
   "cell_type": "code",
   "execution_count": 7,
   "id": "0708031f",
   "metadata": {},
   "outputs": [
    {
     "name": "stdout",
     "output_type": "stream",
     "text": [
      "Test Results:\n",
      "------------------------------------------------------------\n",
      " 1. ✓ PASS | 'SDG1' -> ['SDG1']\n",
      " 2. ✓ PASS | 'sdg1' -> ['SDG1']\n",
      " 3. ✓ PASS | 'SDG 1' -> ['SDG1']\n",
      " 4. ✓ PASS | 'sdg 1' -> ['SDG1']\n",
      " 5. ✓ PASS | 'The target is SDG2.' -> ['SDG2']\n",
      " 6. ✓ PASS | 'Working towards sdg 10 is important.' -> ['SDG10']\n",
      " 7. ✓ PASS | '... aligned with SDG 17 goals.' -> ['SDG17']\n",
      " 8. ✓ PASS | 'Random text SDG 9 more text' -> ['SDG9']\n",
      " 9. ✓ PASS | '1' -> ['SDG1']\n",
      "10. ✓ PASS | '16.1' -> ['SDG16']\n",
      "11. ✓ PASS | 'SDG13.4' -> ['SDG13']\n",
      "12. ✓ PASS | 'Something about SDG15 and SDG3.' -> ['SDG3', 'SDG15']\n",
      "13. ✓ PASS | '3, 4' -> ['SDG3', 'SDG4']\n",
      "14. ✓ PASS | 'SDG1, SDG2, and SDG17' -> ['SDG1', 'SDG2', 'SDG17']\n",
      "15. ✓ PASS | 'Working on 1.1, 2.3, and SDG16' -> ['SDG1', 'SDG2', 'SDG16']\n",
      "16. ✓ PASS | 'Our project addresses SDG 3, 7.2, and sdg15.' -> ['SDG3', 'SDG7', 'SDG15']\n",
      "17. ✓ PASS | 'Goals: 1, 5, 10, 17' -> ['SDG1', 'SDG5', 'SDG10', 'SDG17']\n",
      "18. ✓ PASS | 'efzfezf' -> ['None']\n",
      "19. ✓ PASS | '' -> ['None']\n",
      "20. ✓ PASS | 'SDG18' -> ['None']\n",
      "21. ✓ PASS | 'SDG0' -> ['None']\n",
      "22. ✓ PASS | '123' -> ['None']\n",
      "23. ✓ PASS | 'text with no sdgs' -> ['None']\n",
      "24. ✓ PASS | 'SDG1 and SDG1' -> ['SDG1']\n",
      "------------------------------------------------------------\n",
      "Overall: All tests passed!\n"
     ]
    },
    {
     "data": {
      "text/plain": [
       "True"
      ]
     },
     "execution_count": 7,
     "metadata": {},
     "output_type": "execute_result"
    }
   ],
   "source": [
    "import re\n",
    "\n",
    "def extract_all_sdgs(text):\n",
    "    \"\"\"\n",
    "    Extracts all SDGs found in a text and returns them as a standardized list.\n",
    "    \n",
    "    This function detects multiple SDG references in various formats including:\n",
    "    - SDG followed by number (e.g., \"SDG1\", \"SDG 2\")\n",
    "    - Numbers with sub-targets (e.g., \"16.1\", \"3.4\")\n",
    "    - Standalone numbers at the beginning or after delimiters\n",
    "    - Case-insensitive matching\n",
    "    \n",
    "    Args:\n",
    "        text (str): The input text to analyze\n",
    "        \n",
    "    Returns:\n",
    "        list: A list of unique SDGs found in the format [\"SDG1\", \"SDG2\", ...], \n",
    "            sorted numerically, or empty list if none found\n",
    "    \"\"\"\n",
    "    if not text or not isinstance(text, str):\n",
    "        return [\"None\"]\n",
    "    \n",
    "    sdg_numbers = set()  # Use set to avoid duplicates\n",
    "    \n",
    "    # Pattern 1: SDG followed by number with optional sub-target\n",
    "    # Captures: SDG1, sdg 2, SDG13.4, etc.\n",
    "    sdg_pattern = r'(?i)\\bsdg\\s*(\\d{1,2})(?:\\.\\d+)?\\b'\n",
    "    sdg_matches = re.findall(sdg_pattern, text)\n",
    "    for match in sdg_matches:\n",
    "        number = int(match)\n",
    "        if 1 <= number <= 17:\n",
    "            sdg_numbers.add(number)\n",
    "    \n",
    "    # Pattern 2: Number with sub-target (e.g., \"16.1\", \"3.4\")\n",
    "    # Look for patterns like X.Y where X is 1-17\n",
    "    number_with_sub_pattern = r'\\b(\\d{1,2})\\.\\d+\\b'\n",
    "    sub_matches = re.findall(number_with_sub_pattern, text)\n",
    "    for match in sub_matches:\n",
    "        number = int(match)\n",
    "        if 1 <= number <= 17:\n",
    "            sdg_numbers.add(number)\n",
    "    \n",
    "    # Pattern 3: Standalone numbers at beginning or after delimiters\n",
    "    # More careful matching to avoid false positives\n",
    "    # Look for numbers that are:\n",
    "    # - At the start of the string followed by delimiter or end\n",
    "    # - After comma/semicolon/colon followed by delimiter or end\n",
    "    # - After whitespace followed by delimiter or end\n",
    "    standalone_pattern = r'(?:^|[,;:]\\s*|(?<=\\s))(\\d{1,2})(?=\\s*[,;]|\\s*$|\\s+)'\n",
    "    standalone_matches = re.findall(standalone_pattern, text.strip())\n",
    "    for match in standalone_matches:\n",
    "        number = int(match)\n",
    "        if 1 <= number <= 17:\n",
    "            sdg_numbers.add(number)\n",
    "    \n",
    "    # Convert to sorted list of formatted strings\n",
    "    result = [f\"SDG{num}\" for num in sorted(sdg_numbers)]\n",
    "\n",
    "    return [\"None\"] if not result else result\n",
    "\n",
    "\n",
    "# Test cases to verify functionality\n",
    "def test_extract_all_sdgs():\n",
    "    \"\"\"Test function with various input scenarios\"\"\"\n",
    "    test_cases = [\n",
    "        # Single SDG cases\n",
    "        (\"SDG1\", [\"SDG1\"]),\n",
    "        (\"sdg1\", [\"SDG1\"]),\n",
    "        (\"SDG 1\", [\"SDG1\"]),\n",
    "        (\"sdg 1\", [\"SDG1\"]),\n",
    "        (\"The target is SDG2.\", [\"SDG2\"]),\n",
    "        (\"Working towards sdg 10 is important.\", [\"SDG10\"]),\n",
    "        (\"... aligned with SDG 17 goals.\", [\"SDG17\"]),\n",
    "        (\"Random text SDG 9 more text\", [\"SDG9\"]),\n",
    "        (\"1\", [\"SDG1\"]),\n",
    "        (\"16.1\", [\"SDG16\"]),\n",
    "        (\"SDG13.4\", [\"SDG13\"]),\n",
    "        \n",
    "        # Multiple SDG cases\n",
    "        (\"Something about SDG15 and SDG3.\", [\"SDG3\", \"SDG15\"]),\n",
    "        (\"3, 4\", [\"SDG3\", \"SDG4\"]),\n",
    "        (\"SDG1, SDG2, and SDG17\", [\"SDG1\", \"SDG2\", \"SDG17\"]),\n",
    "        (\"Working on 1.1, 2.3, and SDG16\", [\"SDG1\", \"SDG2\", \"SDG16\"]),\n",
    "        (\"Our project addresses SDG 3, 7.2, and sdg15.\", [\"SDG3\", \"SDG7\", \"SDG15\"]),\n",
    "        (\"Goals: 1, 5, 10, 17\", [\"SDG1\", \"SDG5\", \"SDG10\", \"SDG17\"]),\n",
    "        \n",
    "        # Edge cases\n",
    "        (\"efzfezf\", [\"None\"]),\n",
    "        (\"\", [\"None\"]),\n",
    "        (\"SDG18\", [\"None\"]),  # Invalid SDG number\n",
    "        (\"SDG0\", [\"None\"]),   # Invalid SDG number\n",
    "        (\"123\", [\"None\"]),    # Number too large\n",
    "        (\"text with no sdgs\", [\"None\"]),\n",
    "        (\"SDG1 and SDG1\", [\"SDG1\"]),  # Duplicates should be removed\n",
    "    ]\n",
    "    \n",
    "    print(\"Test Results:\")\n",
    "    print(\"-\" * 60)\n",
    "    all_passed = True\n",
    "    \n",
    "    for i, (test_input, expected) in enumerate(test_cases, 1):\n",
    "        result = extract_all_sdgs(test_input)\n",
    "        passed = result == expected\n",
    "        all_passed &= passed\n",
    "        status = \"✓ PASS\" if passed else \"✗ FAIL\"\n",
    "        \n",
    "        print(f\"{i:2d}. {status} | '{test_input}' -> {result}\")\n",
    "        if not passed:\n",
    "            print(f\"     Expected: {expected}\")\n",
    "    \n",
    "    print(\"-\" * 60)\n",
    "    print(f\"Overall: {'All tests passed!' if all_passed else 'Some tests failed!'}\")\n",
    "    return all_passed\n",
    "\n",
    "\n",
    "test_extract_all_sdgs()"
   ]
  },
  {
   "cell_type": "markdown",
   "id": "d1851fd5",
   "metadata": {},
   "source": [
    "### 2.2. Générate evaluation file"
   ]
  },
  {
   "cell_type": "code",
   "execution_count": 3,
   "id": "ca337be2",
   "metadata": {},
   "outputs": [
    {
     "name": "stderr",
     "output_type": "stream",
     "text": [
      "2025-05-26 11:47:27,613 - httpx - INFO - _send_single_request - HTTP Request: GET http://localhost:11434/api/tags \"HTTP/1.1 200 OK\"\n"
     ]
    }
   ],
   "source": [
    "import os\n",
    "import json\n",
    "import time\n",
    "from tqdm import tqdm\n",
    "from datetime import datetime\n",
    "from ai.models.classify_patent import Classify_patent\n",
    "from api.config.ai_config import ai_client\n",
    "\n",
    "def run_evaluation(model: Classify_patent, testset_path: str, output_path: str):\n",
    "    \"\"\"\n",
    "    Runs evaluation on a JSONL test dataset, classifying each description and saving results.\n",
    "\n",
    "    If the specified output path already exists, appends a numeric suffix (_1, _2, ...) \n",
    "    to avoid overwriting the existing file.\n",
    "\n",
    "    For each line in the test set:\n",
    "        - Extracts the 'description_text' field\n",
    "        - Measures the prediction time\n",
    "        - Classifies the description using `classify_description`\n",
    "        - Saves the enriched line with classification results and prediction time\n",
    "\n",
    "    At the end, appends a metadata entry containing:\n",
    "        - model_name\n",
    "        - testset_path\n",
    "        - prompt_template_path (if available)\n",
    "        - creation date\n",
    "\n",
    "    Args:\n",
    "        testset_path (str): Path to the input .jsonl test dataset.\n",
    "        output_path (str): Desired path to save the output .jsonl file.\n",
    "\n",
    "    Returns:\n",
    "        None\n",
    "    \"\"\"\n",
    "\n",
    "    def get_safe_output_path(path):\n",
    "        \"\"\"Generates a non-conflicting file path by appending a numeric suffix if needed.\"\"\"\n",
    "        base, ext = os.path.splitext(path)\n",
    "        counter = 1\n",
    "        while os.path.exists(path):\n",
    "            path = f\"{base}_{counter}{ext}\"\n",
    "            counter += 1\n",
    "        return path\n",
    "\n",
    "    # Ensure the output file won't overwrite an existing file\n",
    "    safe_output_path = get_safe_output_path(output_path)\n",
    "\n",
    "    # Read all lines for progress tracking\n",
    "    with open(testset_path, \"r\", encoding=\"utf-8\") as f:\n",
    "        lines = f.readlines()\n",
    "\n",
    "    with open(safe_output_path, \"w\", encoding=\"utf-8\") as out_f:\n",
    "        for line in tqdm(lines, desc=\"Running evaluation\"):\n",
    "            data = json.loads(line)\n",
    "            description_text = data.get(\"description_text\", \"\")\n",
    "\n",
    "            # Rename sdg in true_sdg\n",
    "            if \"sdg\" in data:\n",
    "                data[\"true_sdg\"] = data.pop(\"sdg\")\n",
    "\n",
    "            # Time the classification\n",
    "            start_time = time.time()\n",
    "            sdg_balise, reason_balise = model.generate_response(description_text)\n",
    "            prediction_time = time.time() - start_time\n",
    "\n",
    "            # Add classification results and timing to the entry\n",
    "            data.update({\n",
    "                \"sdg_balise\": sdg_balise,\n",
    "                \"reason_balise\": reason_balise,\n",
    "                \"prediction_time\": prediction_time\n",
    "            })\n",
    "\n",
    "            # Write enriched data to output\n",
    "            out_f.write(json.dumps(data) + \"\\n\")\n",
    "\n",
    "        # Append metadata at the end\n",
    "        meta_data = {\n",
    "            \"meta_data\": {\n",
    "                \"model_name\": model.model_name,\n",
    "                \"testset_path\": testset_path,\n",
    "                \"prompt_name\": getattr(model, \"prompt_name\", \"N/A\"),\n",
    "                \"date_creation\": datetime.now().isoformat()\n",
    "            }\n",
    "        }\n",
    "        out_f.write(json.dumps(meta_data) + \"\\n\")"
   ]
  },
  {
   "cell_type": "markdown",
   "id": "4ee52825",
   "metadata": {},
   "source": [
    "### 2.3. Plot evaluation "
   ]
  },
  {
   "cell_type": "code",
   "execution_count": 4,
   "id": "4a235ba1",
   "metadata": {},
   "outputs": [],
   "source": [
    "from collections import defaultdict\n",
    "\n",
    "def show_evaluation_mono(evaluation_path: str):\n",
    "    \"\"\"\n",
    "    Evaluates the predictions in a previously generated evaluation .jsonl file.\n",
    "\n",
    "    Each prediction line must contain:\n",
    "        - \"sdg\": the ground truth SDG label (e.g., \"SDG3\")\n",
    "        - \"sdg_balise\": predicted SDG(s) as a string (e.g., \"SDG1, SDG3, SDG7\")\n",
    "\n",
    "    A prediction is considered correct if the ground truth SDG is among the predicted SDGs.\n",
    "\n",
    "    Statistics reported:\n",
    "        - Total predictions and correct ones\n",
    "        - Overall accuracy\n",
    "        - Average and total prediction time\n",
    "        - SDG-specific accuracy breakdown\n",
    "        - Sample of incorrect predictions\n",
    "\n",
    "    Args:\n",
    "        evaluation_path (str): Path to the JSONL evaluation file created by `run_evaluation`.\n",
    "\n",
    "    Returns:\n",
    "        None\n",
    "    \"\"\"\n",
    "\n",
    "    results = []\n",
    "    meta_data = {}\n",
    "    total_predictions = 0\n",
    "    correct_predictions = 0\n",
    "    total_time = 0.0\n",
    "    sdg_breakdown = defaultdict(lambda: {\"correct\": 0, \"total\": 0})\n",
    "\n",
    "    # Read and evaluate each line\n",
    "    with open(evaluation_path, \"r\", encoding=\"utf-8\") as f:\n",
    "        for line in f:\n",
    "            data = json.loads(line)\n",
    "            \n",
    "            if \"meta_data\" in data:\n",
    "                meta_data = data[\"meta_data\"]\n",
    "                continue  # Skip metadata line\n",
    "            \n",
    "            # To avoid empty line\n",
    "            if \"patent_number\" in data:\n",
    "                true_sdg = data.get(\"true_sdg\", \"\").strip()\n",
    "                predicted_sdg_raw = data.get(\"sdg_balise\", \"\")\n",
    "                predicted_sdg_list = extract_all_sdgs(predicted_sdg_raw)\n",
    "\n",
    "                is_correct = true_sdg in predicted_sdg_list\n",
    "                total_predictions += 1\n",
    "                if is_correct:\n",
    "                    correct_predictions += 1\n",
    "\n",
    "                prediction_time = data.get(\"prediction_time\", 0.0)\n",
    "                total_time += prediction_time\n",
    "\n",
    "                sdg_breakdown[true_sdg][\"total\"] += 1\n",
    "                if is_correct:\n",
    "                    sdg_breakdown[true_sdg][\"correct\"] += 1\n",
    "\n",
    "                results.append({\n",
    "                    \"patent_number\": data.get(\"patent_number\", \"N/A\"),\n",
    "                    \"description_text\": data.get(\"description_text\", \"\"),\n",
    "                    \"true_sdg\": true_sdg,\n",
    "                    \"predicted_sdg\": predicted_sdg_list,\n",
    "                    \"is_correct\": is_correct\n",
    "                })\n",
    "\n",
    "    # Compute summary statistics\n",
    "    accuracy = correct_predictions / total_predictions if total_predictions > 0 else 0.0\n",
    "    avg_prediction_time = total_time / total_predictions if total_predictions > 0 else 0.0\n",
    "    predictions_per_second = total_predictions / total_time if total_time > 0 else 0.0\n",
    "    incorrect_predictions_count = total_predictions - correct_predictions\n",
    "\n",
    "    # Print metadata\n",
    "    print(f\"\\n=== META DATA ===\")\n",
    "    for key, value in meta_data.items():\n",
    "        print(f\"{key}: {value}\")\n",
    "\n",
    "    # Print summary\n",
    "    print(f\"\\n=== EVALUATION RESULTS ===\")\n",
    "    print(f\"Total predictions: {total_predictions}\")\n",
    "    print(f\"Correct predictions: {correct_predictions}\")\n",
    "    print(f\"Accuracy: {accuracy:.4f} ({accuracy*100:.2f}%)\")\n",
    "    print(f\"Total time: {total_time:.2f} seconds\")\n",
    "    print(f\"Average prediction time: {avg_prediction_time:.4f} seconds\")\n",
    "    print(f\"Predictions per second: {predictions_per_second:.2f}\")\n",
    "    print(f\"Incorrect predictions: {incorrect_predictions_count}\")\n",
    "    print(f\"Results loaded from: {evaluation_path}\")\n",
    "\n",
    "    # Show SDG breakdown\n",
    "    print(f\"\\n=== SDG BREAKDOWN ===\")\n",
    "    for sdg, stats in sorted(sdg_breakdown.items()):\n",
    "        sdg_accuracy = stats[\"correct\"] / stats[\"total\"] if stats[\"total\"] > 0 else 0.0\n",
    "        print(f\"{sdg}: {stats['correct']}/{stats['total']} ({sdg_accuracy:.2%})\")\n",
    "\n",
    "    # Show some examples of incorrect predictions\n",
    "    incorrect_results = [r for r in results if not r[\"is_correct\"]]\n",
    "    if incorrect_results:\n",
    "        print(f\"\\n=== SAMPLE INCORRECT PREDICTIONS ===\")\n",
    "        for i, result in enumerate(incorrect_results[:5]):\n",
    "            print(f\"\\nExample {i+1}:\")\n",
    "            print(f\"Patent: {result['patent_number']}\")\n",
    "            print(f\"Description: {result['description_text'][:100]}...\")\n",
    "            print(f\"True SDG: {result['true_sdg']}\")\n",
    "            print(f\"Predicted SDG: {result['predicted_sdg']}\")"
   ]
  },
  {
   "cell_type": "markdown",
   "id": "02ad6781",
   "metadata": {},
   "source": [
    "## 3. Reproducibility\n",
    "\n",
    "We first examine whether running the same experiment twice times yields consistent results."
   ]
  },
  {
   "cell_type": "markdown",
   "id": "5c1638fc",
   "metadata": {},
   "source": [
    "### 3.1. Generate evaluation files"
   ]
  },
  {
   "cell_type": "code",
   "execution_count": null,
   "id": "14889ea7",
   "metadata": {},
   "outputs": [],
   "source": [
    "# Initialize model\n",
    "model = Classify_patent(client=ai_client, model_name=\"qwen3:4b\", prompt_name=\"sdg_label_prompt\")"
   ]
  },
  {
   "cell_type": "code",
   "execution_count": null,
   "id": "9cdeabe8",
   "metadata": {},
   "outputs": [
    {
     "name": "stderr",
     "output_type": "stream",
     "text": [
      "Running evaluation:   0%|          | 0/328 [00:00<?, ?it/s]"
     ]
    }
   ],
   "source": [
    "# Generate evaluations file 1\n",
    "run_evaluation(model=model, testset_path=\"../src/ai/testsets/testset_v3_en_labeled.jsonl\", \n",
    "               output_path=\"../src/ai/evaluations/llm_reproductibility_4b.jsonl\")"
   ]
  },
  {
   "cell_type": "code",
   "execution_count": null,
   "id": "6700c7b5",
   "metadata": {},
   "outputs": [],
   "source": [
    "# Generate evaluations file 2\n",
    "run_evaluation(model=model, testset_path=\"../src/ai/testsets/testset_v3_en_labeled.jsonl\", \n",
    "               output_path=\"../src/ai/evaluations/llm_reproductibility_4b_1.jsonl\")"
   ]
  },
  {
   "cell_type": "markdown",
   "id": "7a059861",
   "metadata": {},
   "source": [
    "### 3.2. Plot evaluation"
   ]
  },
  {
   "cell_type": "code",
   "execution_count": 8,
   "id": "c9790dad",
   "metadata": {},
   "outputs": [
    {
     "name": "stdout",
     "output_type": "stream",
     "text": [
      "\n",
      "=== META DATA ===\n",
      "model_name: qwen3:4b\n",
      "testset_path: ../src/ai/testsets/testset_v3_en_labeled.jsonl\n",
      "prompt_template_path: sdg_label_prompt.md\n",
      "date_creation: 2025-05-24T21:49:09.555008\n",
      "\n",
      "=== EVALUATION RESULTS ===\n",
      "Total predictions: 328\n",
      "Correct predictions: 150\n",
      "Accuracy: 0.4573 (45.73%)\n",
      "Total time: 5450.24 seconds\n",
      "Average prediction time: 16.6166 seconds\n",
      "Predictions per second: 0.06\n",
      "Incorrect predictions: 178\n",
      "Results loaded from: ../src/ai/evaluations/llm_reproductibility_4b.jsonl\n",
      "\n",
      "=== SDG BREAKDOWN ===\n",
      "None: 5/50 (10.00%)\n",
      "SDG10: 0/12 (0.00%)\n",
      "SDG11: 3/18 (16.67%)\n",
      "SDG12: 11/50 (22.00%)\n",
      "SDG13: 13/18 (72.22%)\n",
      "SDG14: 5/5 (100.00%)\n",
      "SDG15: 2/4 (50.00%)\n",
      "SDG16: 2/2 (100.00%)\n",
      "SDG2: 0/3 (0.00%)\n",
      "SDG3: 47/50 (94.00%)\n",
      "SDG4: 1/7 (14.29%)\n",
      "SDG6: 21/27 (77.78%)\n",
      "SDG7: 9/32 (28.12%)\n",
      "SDG9: 31/50 (62.00%)\n",
      "\n",
      "=== SAMPLE INCORRECT PREDICTIONS ===\n",
      "\n",
      "Example 1:\n",
      "Patent: EP3827727A1\n",
      "Description: In the first embodiment, the first mop 1a and the second mop 1 b are substantially triangular-like....\n",
      "True SDG: None\n",
      "Predicted SDG: ['SDG9']\n",
      "\n",
      "Example 2:\n",
      "Patent: EP4287161A1\n",
      "Description: According to the driving assistance system 100 of the embodiment described above, the following effe...\n",
      "True SDG: SDG11\n",
      "Predicted SDG: ['SDG9']\n",
      "\n",
      "Example 3:\n",
      "Patent: EP4239467A1\n",
      "Description: The frame rate switching process in a case that two buffers are accumulated in a buffer queue has be...\n",
      "True SDG: None\n",
      "Predicted SDG: ['SDG9']\n",
      "\n",
      "Example 4:\n",
      "Patent: EP4380208A1\n",
      "Description: According to a seventeenth aspect, a chip system is provided. The chip system includes one or more p...\n",
      "True SDG: None\n",
      "Predicted SDG: ['SDG9']\n",
      "\n",
      "Example 5:\n",
      "Patent: EP4239467A1\n",
      "Description: In an example of  FIG. 5 , the electronic device is to switch a frame rate from 120 Hz to 60 Hz. At ...\n",
      "True SDG: None\n",
      "Predicted SDG: ['SDG9']\n"
     ]
    }
   ],
   "source": [
    "show_evaluation_mono(\"../src/ai/evaluations/llm_reproductibility_4b.jsonl\")"
   ]
  },
  {
   "cell_type": "code",
   "execution_count": 24,
   "id": "12596bee",
   "metadata": {},
   "outputs": [
    {
     "name": "stdout",
     "output_type": "stream",
     "text": [
      "\n",
      "=== META DATA ===\n",
      "model_name: qwen3:4b\n",
      "testset_path: ../src/ai/testsets/testset_v3_en_labeled.jsonl\n",
      "prompt_template_path: sdg_label_prompt.md\n",
      "date_creation: 2025-05-24T22:54:58.027378\n",
      "\n",
      "=== EVALUATION RESULTS ===\n",
      "Total predictions: 328\n",
      "Correct predictions: 156\n",
      "Accuracy: 0.4756 (47.56%)\n",
      "Total time: 3948.20 seconds\n",
      "Average prediction time: 12.0372 seconds\n",
      "Predictions per second: 0.08\n",
      "Incorrect predictions: 172\n",
      "Results loaded from: ../src/ai/evaluations/llm_reproductibility_4b_1.jsonl\n",
      "\n",
      "=== SDG BREAKDOWN ===\n",
      "None: 9/50 (18.00%)\n",
      "SDG10: 0/12 (0.00%)\n",
      "SDG11: 4/18 (22.22%)\n",
      "SDG12: 11/50 (22.00%)\n",
      "SDG13: 13/18 (72.22%)\n",
      "SDG14: 5/5 (100.00%)\n",
      "SDG15: 2/4 (50.00%)\n",
      "SDG16: 2/2 (100.00%)\n",
      "SDG2: 0/3 (0.00%)\n",
      "SDG3: 48/50 (96.00%)\n",
      "SDG4: 2/7 (28.57%)\n",
      "SDG6: 20/27 (74.07%)\n",
      "SDG7: 10/32 (31.25%)\n",
      "SDG9: 30/50 (60.00%)\n",
      "\n",
      "=== SAMPLE INCORRECT PREDICTIONS ===\n",
      "\n",
      "Example 1:\n",
      "Patent: EP4287161A1\n",
      "Description: According to the driving assistance system 100 of the embodiment described above, the following effe...\n",
      "True SDG: SDG11\n",
      "Predicted SDG: ['SDG9']\n",
      "\n",
      "Example 2:\n",
      "Patent: EP4239467A1\n",
      "Description: The frame rate switching process in a case that two buffers are accumulated in a buffer queue has be...\n",
      "True SDG: None\n",
      "Predicted SDG: ['SDG9']\n",
      "\n",
      "Example 3:\n",
      "Patent: EP4333357A2\n",
      "Description: Hash collision bounties could be implemented on the blockchain by constructing a transaction output ...\n",
      "True SDG: SDG9\n",
      "Predicted SDG: ['SDG17']\n",
      "\n",
      "Example 4:\n",
      "Patent: EP4380208A1\n",
      "Description: According to a seventeenth aspect, a chip system is provided. The chip system includes one or more p...\n",
      "True SDG: None\n",
      "Predicted SDG: ['SDG9']\n",
      "\n",
      "Example 5:\n",
      "Patent: EP4239467A1\n",
      "Description: In an example of  FIG. 5 , the electronic device is to switch a frame rate from 120 Hz to 60 Hz. At ...\n",
      "True SDG: None\n",
      "Predicted SDG: ['SDG9']\n"
     ]
    }
   ],
   "source": [
    "show_evaluation_mono(\"../src/ai/evaluations/llm_reproductibility_4b_1.jsonl\")"
   ]
  },
  {
   "cell_type": "markdown",
   "id": "6b100399",
   "metadata": {},
   "source": [
    "## 4. Model Size\n",
    "\n",
    "We tested various model sizes and selected the Qwen3 model for evaluation. Specifically, we assessed the performance of three variants: 1.7B, 4B, 8B and 14B parameters.\n"
   ]
  },
  {
   "cell_type": "markdown",
   "id": "3bbd2b20",
   "metadata": {},
   "source": [
    "### 4.1. Generate evaluation files"
   ]
  },
  {
   "cell_type": "code",
   "execution_count": null,
   "id": "d6875999",
   "metadata": {},
   "outputs": [],
   "source": [
    "model = Classify_patent(client=ai_client, model_name=\"qwen3:1.7b\", prompt_name=\"sdg_label_prompt\")\n",
    "run_evaluation(model=model, testset_path=\"../src/ai/testsets/testset_v3_en_labeled.jsonl\", \n",
    "               output_path=\"../src/ai/evaluations/llm_model_size_qwen3_1-7b.jsonl\")"
   ]
  },
  {
   "cell_type": "code",
   "execution_count": null,
   "id": "4b284765",
   "metadata": {},
   "outputs": [],
   "source": [
    "model = Classify_patent(client=ai_client, model_name=\"qwen3:4b\", prompt_name=\"sdg_label_prompt\")\n",
    "run_evaluation(model=model, testset_path=\"../src/ai/testsets/testset_v3_en_labeled.jsonl\", \n",
    "               output_path=\"../src/ai/evaluations/llm_model_size_qwen3_4b.jsonl\")"
   ]
  },
  {
   "cell_type": "code",
   "execution_count": null,
   "id": "bece77f2",
   "metadata": {},
   "outputs": [],
   "source": [
    "model = Classify_patent(client=ai_client, model_name=\"qwen3:8b\", prompt_name=\"sdg_label_prompt\")\n",
    "run_evaluation(model=model, testset_path=\"../src/ai/testsets/testset_v3_en_labeled.jsonl\", \n",
    "               output_path=\"../src/ai/evaluations/llm_model_size_qwen3_8b.jsonl\")"
   ]
  },
  {
   "cell_type": "code",
   "execution_count": null,
   "id": "70f87846",
   "metadata": {},
   "outputs": [],
   "source": [
    "model = Classify_patent(client=ai_client, model_name=\"qwen3:14b\", prompt_name=\"sdg_label_prompt\")\n",
    "run_evaluation(model=model, testset_path=\"../src/ai/testsets/testset_v3_en_labeled.jsonl\", \n",
    "               output_path=\"../src/ai/evaluations/llm_model_size_qwen3_14b.jsonl\")"
   ]
  },
  {
   "cell_type": "markdown",
   "id": "f77df259",
   "metadata": {},
   "source": [
    "### 4.2. Plot evaluation"
   ]
  },
  {
   "cell_type": "code",
   "execution_count": null,
   "id": "f16bb837",
   "metadata": {},
   "outputs": [
    {
     "name": "stdout",
     "output_type": "stream",
     "text": [
      "\n",
      "=== META DATA ===\n",
      "\n",
      "=== EVALUATION RESULTS ===\n",
      "Total predictions: 328\n",
      "Correct predictions: 140\n",
      "Accuracy: 0.4268 (42.68%)\n",
      "Total time: 3089.17 seconds\n",
      "Average prediction time: 9.4182 seconds\n",
      "Predictions per second: 0.11\n",
      "Incorrect predictions: 188\n",
      "Results loaded from: ../src/ai/evaluations/llm_model_size_qwen3_1-7b.jsonl\n",
      "\n",
      "=== SDG BREAKDOWN ===\n",
      "None: 14/50 (28.00%)\n",
      "SDG10: 0/12 (0.00%)\n",
      "SDG11: 6/18 (33.33%)\n",
      "SDG12: 19/50 (38.00%)\n",
      "SDG13: 13/18 (72.22%)\n",
      "SDG14: 3/5 (60.00%)\n",
      "SDG15: 1/4 (25.00%)\n",
      "SDG16: 1/2 (50.00%)\n",
      "SDG2: 0/3 (0.00%)\n",
      "SDG3: 46/50 (92.00%)\n",
      "SDG4: 2/7 (28.57%)\n",
      "SDG6: 19/27 (70.37%)\n",
      "SDG7: 4/32 (12.50%)\n",
      "SDG9: 12/50 (24.00%)\n",
      "\n",
      "=== SAMPLE INCORRECT PREDICTIONS ===\n",
      "\n",
      "Example 1:\n",
      "Patent: EP4516757A2\n",
      "Description: A supplementary cementitious material (SCM) is a material used in conjunction with or as a partial r...\n",
      "True SDG: SDG9\n",
      "Predicted SDG: ['SDG11']\n",
      "\n",
      "Example 2:\n",
      "Patent: EP4054160A1\n",
      "Description: Further, the switch 128L may be a pressure sensitive or membrane switch defined as a fingertip-sized...\n",
      "True SDG: SDG16\n",
      "Predicted SDG: ['SDG17']\n",
      "\n",
      "Example 3:\n",
      "Patent: EP4287161A1\n",
      "Description: According to the driving assistance system 100 of the embodiment described above, the following effe...\n",
      "True SDG: SDG11\n",
      "Predicted SDG: ['SDG16']\n",
      "\n",
      "Example 4:\n",
      "Patent: EP3786586A1\n",
      "Description: In order to add the constraint based on the current pose of the vehicle, a modification is made to t...\n",
      "True SDG: SDG9\n",
      "Predicted SDG: ['SDG17']\n",
      "\n",
      "Example 5:\n",
      "Patent: EP4239467A1\n",
      "Description: The frame rate switching process in a case that two buffers are accumulated in a buffer queue has be...\n",
      "True SDG: None\n",
      "Predicted SDG: ['SDG17']\n"
     ]
    }
   ],
   "source": [
    "# The model 1.7b has some empty <sdg> balises wich is a problem.\n",
    "show_evaluation_mono(\"../src/ai/evaluations/llm_model_size_qwen3_1-7b.jsonl\")"
   ]
  },
  {
   "cell_type": "code",
   "execution_count": null,
   "id": "bebf7bc3",
   "metadata": {},
   "outputs": [
    {
     "name": "stdout",
     "output_type": "stream",
     "text": [
      "\n",
      "=== META DATA ===\n",
      "\n",
      "=== EVALUATION RESULTS ===\n",
      "Total predictions: 328\n",
      "Correct predictions: 149\n",
      "Accuracy: 0.4543 (45.43%)\n",
      "Total time: 3888.93 seconds\n",
      "Average prediction time: 11.8565 seconds\n",
      "Predictions per second: 0.08\n",
      "Incorrect predictions: 179\n",
      "Results loaded from: ../src/ai/evaluations/llm_model_size_qwen3_4b.jsonl\n",
      "\n",
      "=== SDG BREAKDOWN ===\n",
      "None: 5/50 (10.00%)\n",
      "SDG10: 0/12 (0.00%)\n",
      "SDG11: 5/18 (27.78%)\n",
      "SDG12: 8/50 (16.00%)\n",
      "SDG13: 12/18 (66.67%)\n",
      "SDG14: 4/5 (80.00%)\n",
      "SDG15: 1/4 (25.00%)\n",
      "SDG16: 2/2 (100.00%)\n",
      "SDG2: 0/3 (0.00%)\n",
      "SDG3: 47/50 (94.00%)\n",
      "SDG4: 1/7 (14.29%)\n",
      "SDG6: 21/27 (77.78%)\n",
      "SDG7: 11/32 (34.38%)\n",
      "SDG9: 32/50 (64.00%)\n",
      "\n",
      "=== SAMPLE INCORRECT PREDICTIONS ===\n",
      "\n",
      "Example 1:\n",
      "Patent: EP4516757A2\n",
      "Description: A supplementary cementitious material (SCM) is a material used in conjunction with or as a partial r...\n",
      "True SDG: SDG9\n",
      "Predicted SDG: ['SDG12', 'SDG13']\n",
      "\n",
      "Example 2:\n",
      "Patent: EP3827727A1\n",
      "Description: In the first embodiment, the first mop 1a and the second mop 1 b are substantially triangular-like....\n",
      "True SDG: None\n",
      "Predicted SDG: ['SDG9']\n",
      "\n",
      "Example 3:\n",
      "Patent: EP4287161A1\n",
      "Description: According to the driving assistance system 100 of the embodiment described above, the following effe...\n",
      "True SDG: SDG11\n",
      "Predicted SDG: ['SDG9']\n",
      "\n",
      "Example 4:\n",
      "Patent: EP4239467A1\n",
      "Description: The frame rate switching process in a case that two buffers are accumulated in a buffer queue has be...\n",
      "True SDG: None\n",
      "Predicted SDG: ['SDG9']\n",
      "\n",
      "Example 5:\n",
      "Patent: EP4380208A1\n",
      "Description: According to a seventeenth aspect, a chip system is provided. The chip system includes one or more p...\n",
      "True SDG: None\n",
      "Predicted SDG: ['SDG9']\n"
     ]
    }
   ],
   "source": [
    "show_evaluation_mono(\"../src/ai/evaluations/llm_model_size_qwen3_4b.jsonl\")"
   ]
  },
  {
   "cell_type": "code",
   "execution_count": null,
   "id": "bb90a50f",
   "metadata": {},
   "outputs": [
    {
     "name": "stdout",
     "output_type": "stream",
     "text": [
      "\n",
      "=== META DATA ===\n",
      "\n",
      "=== EVALUATION RESULTS ===\n",
      "Total predictions: 328\n",
      "Correct predictions: 162\n",
      "Accuracy: 0.4939 (49.39%)\n",
      "Total time: 6087.96 seconds\n",
      "Average prediction time: 18.5609 seconds\n",
      "Predictions per second: 0.05\n",
      "Incorrect predictions: 166\n",
      "Results loaded from: ../src/ai/evaluations/llm_model_size_qwen3_8b.jsonl\n",
      "\n",
      "=== SDG BREAKDOWN ===\n",
      "None: 24/50 (48.00%)\n",
      "SDG10: 0/12 (0.00%)\n",
      "SDG11: 4/18 (22.22%)\n",
      "SDG12: 6/50 (12.00%)\n",
      "SDG13: 10/18 (55.56%)\n",
      "SDG14: 4/5 (80.00%)\n",
      "SDG15: 1/4 (25.00%)\n",
      "SDG16: 2/2 (100.00%)\n",
      "SDG2: 0/3 (0.00%)\n",
      "SDG3: 42/50 (84.00%)\n",
      "SDG4: 2/7 (28.57%)\n",
      "SDG6: 22/27 (81.48%)\n",
      "SDG7: 16/32 (50.00%)\n",
      "SDG9: 29/50 (58.00%)\n",
      "\n",
      "=== SAMPLE INCORRECT PREDICTIONS ===\n",
      "\n",
      "Example 1:\n",
      "Patent: EP4516757A2\n",
      "Description: A supplementary cementitious material (SCM) is a material used in conjunction with or as a partial r...\n",
      "True SDG: SDG9\n",
      "Predicted SDG: ['SDG13']\n",
      "\n",
      "Example 2:\n",
      "Patent: EP4287161A1\n",
      "Description: According to the driving assistance system 100 of the embodiment described above, the following effe...\n",
      "True SDG: SDG11\n",
      "Predicted SDG: ['SDG9']\n",
      "\n",
      "Example 3:\n",
      "Patent: EP3786586A1\n",
      "Description: In order to add the constraint based on the current pose of the vehicle, a modification is made to t...\n",
      "True SDG: SDG9\n",
      "Predicted SDG: ['None']\n",
      "\n",
      "Example 4:\n",
      "Patent: EP4380208A1\n",
      "Description: According to a seventeenth aspect, a chip system is provided. The chip system includes one or more p...\n",
      "True SDG: None\n",
      "Predicted SDG: ['SDG9']\n",
      "\n",
      "Example 5:\n",
      "Patent: EP4005506A1\n",
      "Description: A second component of the second wheel control 50, the second pulley 1130, is operative to convert r...\n",
      "True SDG: None\n",
      "Predicted SDG: ['SDG9']\n"
     ]
    }
   ],
   "source": [
    "show_evaluation_mono(\"../src/ai/evaluations/llm_model_size_qwen3_8b.jsonl\")"
   ]
  },
  {
   "cell_type": "code",
   "execution_count": null,
   "id": "fd75f418",
   "metadata": {},
   "outputs": [
    {
     "name": "stdout",
     "output_type": "stream",
     "text": [
      "\n",
      "=== META DATA ===\n",
      "model_name: qwen3:14b\n",
      "testset_path: ../src/ai/testsets/testset_v3_en_labeled.jsonl\n",
      "prompt_template_path: sdg_label_prompt.md\n",
      "date_creation: 2025-05-25T17:18:30.614956\n",
      "\n",
      "=== EVALUATION RESULTS ===\n",
      "Total predictions: 328\n",
      "Correct predictions: 150\n",
      "Accuracy: 0.4573 (45.73%)\n",
      "Total time: 9016.78 seconds\n",
      "Average prediction time: 27.4902 seconds\n",
      "Predictions per second: 0.04\n",
      "Incorrect predictions: 178\n",
      "Results loaded from: ../src/ai/evaluations/llm_model_size_qwen3_14b.jsonl\n",
      "\n",
      "=== SDG BREAKDOWN ===\n",
      "None: 37/50 (74.00%)\n",
      "SDG10: 0/12 (0.00%)\n",
      "SDG11: 5/18 (27.78%)\n",
      "SDG12: 5/50 (10.00%)\n",
      "SDG13: 12/18 (66.67%)\n",
      "SDG14: 4/5 (80.00%)\n",
      "SDG15: 1/4 (25.00%)\n",
      "SDG16: 1/2 (50.00%)\n",
      "SDG2: 0/3 (0.00%)\n",
      "SDG3: 41/50 (82.00%)\n",
      "SDG4: 1/7 (14.29%)\n",
      "SDG6: 12/27 (44.44%)\n",
      "SDG7: 5/32 (15.62%)\n",
      "SDG9: 26/50 (52.00%)\n",
      "\n",
      "=== SAMPLE INCORRECT PREDICTIONS ===\n",
      "\n",
      "Example 1:\n",
      "Patent: EP4516757A2\n",
      "Description: A supplementary cementitious material (SCM) is a material used in conjunction with or as a partial r...\n",
      "True SDG: SDG9\n",
      "Predicted SDG: ['None']\n",
      "\n",
      "Example 2:\n",
      "Patent: EP4054160A1\n",
      "Description: Further, the switch 128L may be a pressure sensitive or membrane switch defined as a fingertip-sized...\n",
      "True SDG: SDG16\n",
      "Predicted SDG: ['None']\n",
      "\n",
      "Example 3:\n",
      "Patent: EP4287161A1\n",
      "Description: According to the driving assistance system 100 of the embodiment described above, the following effe...\n",
      "True SDG: SDG11\n",
      "Predicted SDG: ['None']\n",
      "\n",
      "Example 4:\n",
      "Patent: EP3786586A1\n",
      "Description: In order to add the constraint based on the current pose of the vehicle, a modification is made to t...\n",
      "True SDG: SDG9\n",
      "Predicted SDG: ['None']\n",
      "\n",
      "Example 5:\n",
      "Patent: EP3786187A1\n",
      "Description: We next sought to evaluate whether inhibitory anti-hGARP mAbs could inhibit human Treg function in v...\n",
      "True SDG: SDG3\n",
      "Predicted SDG: ['None']\n"
     ]
    }
   ],
   "source": [
    "show_evaluation_mono(\"../src/ai/evaluations/llm_model_size_qwen3_14b.jsonl\")"
   ]
  },
  {
   "cell_type": "markdown",
   "id": "1dbd5310",
   "metadata": {},
   "source": [
    "## 5. Shorter model Prompt"
   ]
  },
  {
   "cell_type": "markdown",
   "id": "55cd0141",
   "metadata": {},
   "source": [
    "### 5.1. Generate evaluation files"
   ]
  },
  {
   "cell_type": "code",
   "execution_count": null,
   "id": "c70027b0",
   "metadata": {},
   "outputs": [],
   "source": [
    "model = Classify_patent(client=ai_client, model_name=\"qwen3:4b\", prompt_name=\"sdg_label_prompt_short\")\n",
    "run_evaluation(model=model, testset_path=\"../src/ai/testsets/testset_v3_en_labeled.jsonl\", \n",
    "               output_path=\"../src/ai/evaluations/llm_prompt_short_4b.jsonl\")"
   ]
  },
  {
   "cell_type": "code",
   "execution_count": 5,
   "id": "37723ae0",
   "metadata": {},
   "outputs": [
    {
     "name": "stderr",
     "output_type": "stream",
     "text": [
      "Running evaluation:   0%|          | 0/328 [00:00<?, ?it/s]2025-05-26 11:49:10,499 - httpx - INFO - _send_single_request - HTTP Request: POST http://localhost:11434/api/generate \"HTTP/1.1 200 OK\"\n",
      "Running evaluation:   0%|          | 1/328 [00:59<5:24:49, 59.60s/it]2025-05-26 11:49:38,975 - httpx - INFO - _send_single_request - HTTP Request: POST http://localhost:11434/api/generate \"HTTP/1.1 200 OK\"\n",
      "Running evaluation:   1%|          | 2/328 [01:28<3:44:21, 41.29s/it]2025-05-26 11:50:17,781 - httpx - INFO - _send_single_request - HTTP Request: POST http://localhost:11434/api/generate \"HTTP/1.1 200 OK\"\n",
      "Running evaluation:   1%|          | 3/328 [02:06<3:37:30, 40.16s/it]2025-05-26 11:50:47,397 - httpx - INFO - _send_single_request - HTTP Request: POST http://localhost:11434/api/generate \"HTTP/1.1 200 OK\"\n",
      "Running evaluation:   1%|          | 4/328 [02:36<3:14:22, 36.00s/it]2025-05-26 11:51:00,780 - httpx - INFO - _send_single_request - HTTP Request: POST http://localhost:11434/api/generate \"HTTP/1.1 200 OK\"\n",
      "Running evaluation:   2%|▏         | 5/328 [02:49<2:29:52, 27.84s/it]2025-05-26 11:51:20,137 - httpx - INFO - _send_single_request - HTTP Request: POST http://localhost:11434/api/generate \"HTTP/1.1 200 OK\"\n",
      "Running evaluation:   2%|▏         | 6/328 [03:09<2:13:55, 24.96s/it]2025-05-26 11:51:37,753 - httpx - INFO - _send_single_request - HTTP Request: POST http://localhost:11434/api/generate \"HTTP/1.1 200 OK\"\n",
      "Running evaluation:   2%|▏         | 7/328 [03:26<2:00:40, 22.56s/it]2025-05-26 11:51:55,505 - httpx - INFO - _send_single_request - HTTP Request: POST http://localhost:11434/api/generate \"HTTP/1.1 200 OK\"\n",
      "Running evaluation:   2%|▏         | 8/328 [03:44<1:52:08, 21.03s/it]2025-05-26 11:52:19,943 - httpx - INFO - _send_single_request - HTTP Request: POST http://localhost:11434/api/generate \"HTTP/1.1 200 OK\"\n",
      "Running evaluation:   3%|▎         | 9/328 [04:09<1:57:27, 22.09s/it]2025-05-26 11:52:45,313 - httpx - INFO - _send_single_request - HTTP Request: POST http://localhost:11434/api/generate \"HTTP/1.1 200 OK\"\n",
      "Running evaluation:   3%|▎         | 10/328 [04:34<2:02:27, 23.11s/it]2025-05-26 11:53:08,479 - httpx - INFO - _send_single_request - HTTP Request: POST http://localhost:11434/api/generate \"HTTP/1.1 200 OK\"\n",
      "Running evaluation:   3%|▎         | 11/328 [04:57<2:02:10, 23.12s/it]2025-05-26 11:53:28,640 - httpx - INFO - _send_single_request - HTTP Request: POST http://localhost:11434/api/generate \"HTTP/1.1 200 OK\"\n",
      "Running evaluation:   4%|▎         | 12/328 [05:17<1:57:02, 22.22s/it]2025-05-26 11:53:49,007 - httpx - INFO - _send_single_request - HTTP Request: POST http://localhost:11434/api/generate \"HTTP/1.1 200 OK\"\n",
      "Running evaluation:   4%|▍         | 13/328 [05:38<1:53:43, 21.66s/it]2025-05-26 11:54:11,839 - httpx - INFO - _send_single_request - HTTP Request: POST http://localhost:11434/api/generate \"HTTP/1.1 200 OK\"\n",
      "Running evaluation:   4%|▍         | 14/328 [06:00<1:55:12, 22.01s/it]2025-05-26 11:54:36,930 - httpx - INFO - _send_single_request - HTTP Request: POST http://localhost:11434/api/generate \"HTTP/1.1 200 OK\"\n",
      "Running evaluation:   5%|▍         | 15/328 [06:26<1:59:40, 22.94s/it]2025-05-26 11:55:11,783 - httpx - INFO - _send_single_request - HTTP Request: POST http://localhost:11434/api/generate \"HTTP/1.1 200 OK\"\n",
      "Running evaluation:   5%|▍         | 16/328 [07:00<2:17:56, 26.53s/it]2025-05-26 11:55:34,446 - httpx - INFO - _send_single_request - HTTP Request: POST http://localhost:11434/api/generate \"HTTP/1.1 200 OK\"\n",
      "Running evaluation:   5%|▌         | 17/328 [07:23<2:11:28, 25.37s/it]2025-05-26 11:55:51,949 - httpx - INFO - _send_single_request - HTTP Request: POST http://localhost:11434/api/generate \"HTTP/1.1 200 OK\"\n",
      "Running evaluation:   5%|▌         | 18/328 [07:41<1:58:50, 23.00s/it]2025-05-26 11:56:30,191 - httpx - INFO - _send_single_request - HTTP Request: POST http://localhost:11434/api/generate \"HTTP/1.1 200 OK\"\n",
      "Running evaluation:   6%|▌         | 19/328 [08:19<2:22:02, 27.58s/it]2025-05-26 11:56:59,266 - httpx - INFO - _send_single_request - HTTP Request: POST http://localhost:11434/api/generate \"HTTP/1.1 200 OK\"\n",
      "Running evaluation:   6%|▌         | 20/328 [08:48<2:23:52, 28.03s/it]2025-05-26 11:57:19,091 - httpx - INFO - _send_single_request - HTTP Request: POST http://localhost:11434/api/generate \"HTTP/1.1 200 OK\"\n",
      "Running evaluation:   6%|▋         | 21/328 [09:08<2:10:48, 25.57s/it]2025-05-26 11:57:39,843 - httpx - INFO - _send_single_request - HTTP Request: POST http://localhost:11434/api/generate \"HTTP/1.1 200 OK\"\n",
      "Running evaluation:   7%|▋         | 22/328 [09:28<2:03:01, 24.12s/it]2025-05-26 11:57:58,891 - httpx - INFO - _send_single_request - HTTP Request: POST http://localhost:11434/api/generate \"HTTP/1.1 200 OK\"\n",
      "Running evaluation:   7%|▋         | 23/328 [09:47<1:54:52, 22.60s/it]2025-05-26 11:58:19,676 - httpx - INFO - _send_single_request - HTTP Request: POST http://localhost:11434/api/generate \"HTTP/1.1 200 OK\"\n",
      "Running evaluation:   7%|▋         | 24/328 [10:08<1:51:44, 22.05s/it]2025-05-26 11:58:46,662 - httpx - INFO - _send_single_request - HTTP Request: POST http://localhost:11434/api/generate \"HTTP/1.1 200 OK\"\n",
      "Running evaluation:   8%|▊         | 25/328 [10:35<1:58:50, 23.53s/it]2025-05-26 11:59:10,184 - httpx - INFO - _send_single_request - HTTP Request: POST http://localhost:11434/api/generate \"HTTP/1.1 200 OK\"\n",
      "Running evaluation:   8%|▊         | 26/328 [10:59<1:58:26, 23.53s/it]2025-05-26 11:59:31,488 - httpx - INFO - _send_single_request - HTTP Request: POST http://localhost:11434/api/generate \"HTTP/1.1 200 OK\"\n",
      "Running evaluation:   8%|▊         | 27/328 [11:20<1:54:41, 22.86s/it]2025-05-26 12:00:02,999 - httpx - INFO - _send_single_request - HTTP Request: POST http://localhost:11434/api/generate \"HTTP/1.1 200 OK\"\n",
      "Running evaluation:   9%|▊         | 28/328 [11:52<2:07:17, 25.46s/it]2025-05-26 12:00:16,808 - httpx - INFO - _send_single_request - HTTP Request: POST http://localhost:11434/api/generate \"HTTP/1.1 200 OK\"\n",
      "Running evaluation:   9%|▉         | 29/328 [12:05<1:49:26, 21.96s/it]2025-05-26 12:00:38,631 - httpx - INFO - _send_single_request - HTTP Request: POST http://localhost:11434/api/generate \"HTTP/1.1 200 OK\"\n",
      "Running evaluation:   9%|▉         | 30/328 [12:27<1:48:52, 21.92s/it]2025-05-26 12:01:01,640 - httpx - INFO - _send_single_request - HTTP Request: POST http://localhost:11434/api/generate \"HTTP/1.1 200 OK\"\n",
      "Running evaluation:   9%|▉         | 31/328 [12:50<1:50:07, 22.25s/it]2025-05-26 12:01:21,763 - httpx - INFO - _send_single_request - HTTP Request: POST http://localhost:11434/api/generate \"HTTP/1.1 200 OK\"\n",
      "Running evaluation:  10%|▉         | 32/328 [13:10<1:46:36, 21.61s/it]2025-05-26 12:01:46,193 - httpx - INFO - _send_single_request - HTTP Request: POST http://localhost:11434/api/generate \"HTTP/1.1 200 OK\"\n",
      "Running evaluation:  10%|█         | 33/328 [13:35<1:50:24, 22.46s/it]2025-05-26 12:02:04,524 - httpx - INFO - _send_single_request - HTTP Request: POST http://localhost:11434/api/generate \"HTTP/1.1 200 OK\"\n",
      "Running evaluation:  10%|█         | 34/328 [13:53<1:43:58, 21.22s/it]2025-05-26 12:02:23,463 - httpx - INFO - _send_single_request - HTTP Request: POST http://localhost:11434/api/generate \"HTTP/1.1 200 OK\"\n",
      "Running evaluation:  11%|█         | 35/328 [14:12<1:40:16, 20.53s/it]2025-05-26 12:02:53,347 - httpx - INFO - _send_single_request - HTTP Request: POST http://localhost:11434/api/generate \"HTTP/1.1 200 OK\"\n",
      "Running evaluation:  11%|█         | 36/328 [14:42<1:53:35, 23.34s/it]2025-05-26 12:03:40,524 - httpx - INFO - _send_single_request - HTTP Request: POST http://localhost:11434/api/generate \"HTTP/1.1 200 OK\"\n",
      "Running evaluation:  11%|█▏        | 37/328 [15:29<2:27:52, 30.49s/it]2025-05-26 12:05:14,563 - httpx - INFO - _send_single_request - HTTP Request: POST http://localhost:11434/api/generate \"HTTP/1.1 200 OK\"\n",
      "Running evaluation:  12%|█▏        | 38/328 [17:03<3:59:30, 49.56s/it]2025-05-26 12:06:39,827 - httpx - INFO - _send_single_request - HTTP Request: POST http://localhost:11434/api/generate \"HTTP/1.1 200 OK\"\n",
      "Running evaluation:  12%|█▏        | 39/328 [18:28<4:50:17, 60.27s/it]2025-05-26 12:07:40,555 - httpx - INFO - _send_single_request - HTTP Request: POST http://localhost:11434/api/generate \"HTTP/1.1 200 OK\"\n",
      "Running evaluation:  12%|█▏        | 40/328 [19:29<4:49:56, 60.41s/it]2025-05-26 12:08:18,404 - httpx - INFO - _send_single_request - HTTP Request: POST http://localhost:11434/api/generate \"HTTP/1.1 200 OK\"\n",
      "Running evaluation:  12%|█▎        | 41/328 [20:07<4:16:34, 53.64s/it]2025-05-26 12:08:40,016 - httpx - INFO - _send_single_request - HTTP Request: POST http://localhost:11434/api/generate \"HTTP/1.1 200 OK\"\n",
      "Running evaluation:  13%|█▎        | 42/328 [20:29<3:29:52, 44.03s/it]2025-05-26 12:09:01,790 - httpx - INFO - _send_single_request - HTTP Request: POST http://localhost:11434/api/generate \"HTTP/1.1 200 OK\"\n",
      "Running evaluation:  13%|█▎        | 43/328 [20:50<2:57:25, 37.35s/it]2025-05-26 12:09:37,487 - httpx - INFO - _send_single_request - HTTP Request: POST http://localhost:11434/api/generate \"HTTP/1.1 200 OK\"\n",
      "Running evaluation:  13%|█▎        | 44/328 [21:26<2:54:27, 36.86s/it]2025-05-26 12:10:10,367 - httpx - INFO - _send_single_request - HTTP Request: POST http://localhost:11434/api/generate \"HTTP/1.1 200 OK\"\n",
      "Running evaluation:  14%|█▎        | 45/328 [21:59<2:48:12, 35.66s/it]2025-05-26 12:10:33,787 - httpx - INFO - _send_single_request - HTTP Request: POST http://localhost:11434/api/generate \"HTTP/1.1 200 OK\"\n",
      "Running evaluation:  14%|█▍        | 46/328 [22:22<2:30:21, 31.99s/it]2025-05-26 12:10:53,548 - httpx - INFO - _send_single_request - HTTP Request: POST http://localhost:11434/api/generate \"HTTP/1.1 200 OK\"\n",
      "Running evaluation:  14%|█▍        | 47/328 [22:42<2:12:38, 28.32s/it]2025-05-26 12:11:15,103 - httpx - INFO - _send_single_request - HTTP Request: POST http://localhost:11434/api/generate \"HTTP/1.1 200 OK\"\n",
      "Running evaluation:  15%|█▍        | 48/328 [23:04<2:02:41, 26.29s/it]2025-05-26 12:11:37,228 - httpx - INFO - _send_single_request - HTTP Request: POST http://localhost:11434/api/generate \"HTTP/1.1 200 OK\"\n",
      "Running evaluation:  15%|█▍        | 49/328 [23:26<1:56:26, 25.04s/it]2025-05-26 12:12:01,022 - httpx - INFO - _send_single_request - HTTP Request: POST http://localhost:11434/api/generate \"HTTP/1.1 200 OK\"\n",
      "Running evaluation:  15%|█▌        | 50/328 [23:50<1:54:17, 24.67s/it]2025-05-26 12:12:24,997 - httpx - INFO - _send_single_request - HTTP Request: POST http://localhost:11434/api/generate \"HTTP/1.1 200 OK\"\n",
      "Running evaluation:  16%|█▌        | 51/328 [24:14<1:52:55, 24.46s/it]2025-05-26 12:12:46,039 - httpx - INFO - _send_single_request - HTTP Request: POST http://localhost:11434/api/generate \"HTTP/1.1 200 OK\"\n",
      "Running evaluation:  16%|█▌        | 52/328 [24:35<1:47:47, 23.43s/it]2025-05-26 12:13:16,817 - httpx - INFO - _send_single_request - HTTP Request: POST http://localhost:11434/api/generate \"HTTP/1.1 200 OK\"\n",
      "Running evaluation:  16%|█▌        | 53/328 [25:05<1:57:30, 25.64s/it]2025-05-26 12:13:41,279 - httpx - INFO - _send_single_request - HTTP Request: POST http://localhost:11434/api/generate \"HTTP/1.1 200 OK\"\n",
      "Running evaluation:  16%|█▋        | 54/328 [25:30<1:55:28, 25.28s/it]2025-05-26 12:14:10,156 - httpx - INFO - _send_single_request - HTTP Request: POST http://localhost:11434/api/generate \"HTTP/1.1 200 OK\"\n",
      "Running evaluation:  17%|█▋        | 55/328 [25:59<1:59:56, 26.36s/it]2025-05-26 12:14:30,774 - httpx - INFO - _send_single_request - HTTP Request: POST http://localhost:11434/api/generate \"HTTP/1.1 200 OK\"\n",
      "Running evaluation:  17%|█▋        | 56/328 [26:19<1:51:41, 24.64s/it]2025-05-26 12:15:09,102 - httpx - INFO - _send_single_request - HTTP Request: POST http://localhost:11434/api/generate \"HTTP/1.1 200 OK\"\n",
      "Running evaluation:  17%|█▋        | 57/328 [26:58<2:09:50, 28.75s/it]2025-05-26 12:15:33,302 - httpx - INFO - _send_single_request - HTTP Request: POST http://localhost:11434/api/generate \"HTTP/1.1 200 OK\"\n",
      "Running evaluation:  18%|█▊        | 58/328 [27:22<2:03:13, 27.38s/it]2025-05-26 12:16:00,021 - httpx - INFO - _send_single_request - HTTP Request: POST http://localhost:11434/api/generate \"HTTP/1.1 200 OK\"\n",
      "Running evaluation:  18%|█▊        | 59/328 [27:49<2:01:52, 27.18s/it]2025-05-26 12:16:26,632 - httpx - INFO - _send_single_request - HTTP Request: POST http://localhost:11434/api/generate \"HTTP/1.1 200 OK\"\n",
      "Running evaluation:  18%|█▊        | 60/328 [28:15<2:00:39, 27.01s/it]2025-05-26 12:16:46,403 - httpx - INFO - _send_single_request - HTTP Request: POST http://localhost:11434/api/generate \"HTTP/1.1 200 OK\"\n",
      "Running evaluation:  19%|█▊        | 61/328 [28:35<1:50:32, 24.84s/it]2025-05-26 12:17:15,704 - httpx - INFO - _send_single_request - HTTP Request: POST http://localhost:11434/api/generate \"HTTP/1.1 200 OK\"\n",
      "Running evaluation:  19%|█▉        | 62/328 [29:04<1:56:03, 26.18s/it]2025-05-26 12:17:36,269 - httpx - INFO - _send_single_request - HTTP Request: POST http://localhost:11434/api/generate \"HTTP/1.1 200 OK\"\n",
      "Running evaluation:  19%|█▉        | 63/328 [29:25<1:48:10, 24.49s/it]2025-05-26 12:17:58,464 - httpx - INFO - _send_single_request - HTTP Request: POST http://localhost:11434/api/generate \"HTTP/1.1 200 OK\"\n",
      "Running evaluation:  20%|█▉        | 64/328 [29:47<1:44:44, 23.80s/it]2025-05-26 12:18:13,788 - httpx - INFO - _send_single_request - HTTP Request: POST http://localhost:11434/api/generate \"HTTP/1.1 200 OK\"\n",
      "Running evaluation:  20%|█▉        | 65/328 [30:02<1:33:11, 21.26s/it]2025-05-26 12:18:31,375 - httpx - INFO - _send_single_request - HTTP Request: POST http://localhost:11434/api/generate \"HTTP/1.1 200 OK\"\n",
      "Running evaluation:  20%|██        | 66/328 [30:20<1:28:01, 20.16s/it]2025-05-26 12:18:57,189 - httpx - INFO - _send_single_request - HTTP Request: POST http://localhost:11434/api/generate \"HTTP/1.1 200 OK\"\n",
      "Running evaluation:  20%|██        | 67/328 [30:46<1:35:04, 21.86s/it]2025-05-26 12:19:16,508 - httpx - INFO - _send_single_request - HTTP Request: POST http://localhost:11434/api/generate \"HTTP/1.1 200 OK\"\n",
      "Running evaluation:  21%|██        | 68/328 [31:05<1:31:24, 21.09s/it]2025-05-26 12:19:33,726 - httpx - INFO - _send_single_request - HTTP Request: POST http://localhost:11434/api/generate \"HTTP/1.1 200 OK\"\n",
      "Running evaluation:  21%|██        | 69/328 [31:22<1:26:02, 19.93s/it]2025-05-26 12:19:51,916 - httpx - INFO - _send_single_request - HTTP Request: POST http://localhost:11434/api/generate \"HTTP/1.1 200 OK\"\n",
      "Running evaluation:  21%|██▏       | 70/328 [31:41<1:23:27, 19.41s/it]2025-05-26 12:20:09,166 - httpx - INFO - _send_single_request - HTTP Request: POST http://localhost:11434/api/generate \"HTTP/1.1 200 OK\"\n",
      "Running evaluation:  22%|██▏       | 71/328 [31:58<1:20:21, 18.76s/it]2025-05-26 12:20:27,428 - httpx - INFO - _send_single_request - HTTP Request: POST http://localhost:11434/api/generate \"HTTP/1.1 200 OK\"\n",
      "Running evaluation:  22%|██▏       | 72/328 [32:16<1:19:24, 18.61s/it]2025-05-26 12:20:49,904 - httpx - INFO - _send_single_request - HTTP Request: POST http://localhost:11434/api/generate \"HTTP/1.1 200 OK\"\n",
      "Running evaluation:  22%|██▏       | 73/328 [32:39<1:24:01, 19.77s/it]2025-05-26 12:21:14,131 - httpx - INFO - _send_single_request - HTTP Request: POST http://localhost:11434/api/generate \"HTTP/1.1 200 OK\"\n",
      "Running evaluation:  23%|██▎       | 74/328 [33:03<1:29:21, 21.11s/it]2025-05-26 12:21:35,821 - httpx - INFO - _send_single_request - HTTP Request: POST http://localhost:11434/api/generate \"HTTP/1.1 200 OK\"\n",
      "Running evaluation:  23%|██▎       | 75/328 [33:24<1:29:44, 21.28s/it]2025-05-26 12:22:03,986 - httpx - INFO - _send_single_request - HTTP Request: POST http://localhost:11434/api/generate \"HTTP/1.1 200 OK\"\n",
      "Running evaluation:  23%|██▎       | 76/328 [33:53<1:38:03, 23.35s/it]2025-05-26 12:22:23,837 - httpx - INFO - _send_single_request - HTTP Request: POST http://localhost:11434/api/generate \"HTTP/1.1 200 OK\"\n",
      "Running evaluation:  23%|██▎       | 77/328 [34:12<1:33:16, 22.30s/it]2025-05-26 12:22:42,254 - httpx - INFO - _send_single_request - HTTP Request: POST http://localhost:11434/api/generate \"HTTP/1.1 200 OK\"\n",
      "Running evaluation:  24%|██▍       | 78/328 [34:31<1:28:03, 21.13s/it]2025-05-26 12:23:00,738 - httpx - INFO - _send_single_request - HTTP Request: POST http://localhost:11434/api/generate \"HTTP/1.1 200 OK\"\n",
      "Running evaluation:  24%|██▍       | 79/328 [34:49<1:24:24, 20.34s/it]2025-05-26 12:23:22,045 - httpx - INFO - _send_single_request - HTTP Request: POST http://localhost:11434/api/generate \"HTTP/1.1 200 OK\"\n",
      "Running evaluation:  24%|██▍       | 80/328 [35:11<1:25:16, 20.63s/it]2025-05-26 12:23:49,301 - httpx - INFO - _send_single_request - HTTP Request: POST http://localhost:11434/api/generate \"HTTP/1.1 200 OK\"\n",
      "Running evaluation:  25%|██▍       | 81/328 [35:38<1:33:06, 22.62s/it]2025-05-26 12:24:02,626 - httpx - INFO - _send_single_request - HTTP Request: POST http://localhost:11434/api/generate \"HTTP/1.1 200 OK\"\n",
      "Running evaluation:  25%|██▌       | 82/328 [35:51<1:21:18, 19.83s/it]2025-05-26 12:24:32,759 - httpx - INFO - _send_single_request - HTTP Request: POST http://localhost:11434/api/generate \"HTTP/1.1 200 OK\"\n",
      "Running evaluation:  25%|██▌       | 83/328 [36:21<1:33:35, 22.92s/it]2025-05-26 12:24:52,986 - httpx - INFO - _send_single_request - HTTP Request: POST http://localhost:11434/api/generate \"HTTP/1.1 200 OK\"\n",
      "Running evaluation:  26%|██▌       | 84/328 [36:42<1:29:55, 22.11s/it]2025-05-26 12:25:22,804 - httpx - INFO - _send_single_request - HTTP Request: POST http://localhost:11434/api/generate \"HTTP/1.1 200 OK\"\n",
      "Running evaluation:  26%|██▌       | 85/328 [37:11<1:38:55, 24.42s/it]2025-05-26 12:25:44,947 - httpx - INFO - _send_single_request - HTTP Request: POST http://localhost:11434/api/generate \"HTTP/1.1 200 OK\"\n",
      "Running evaluation:  26%|██▌       | 86/328 [37:34<1:35:45, 23.74s/it]2025-05-26 12:26:02,304 - httpx - INFO - _send_single_request - HTTP Request: POST http://localhost:11434/api/generate \"HTTP/1.1 200 OK\"\n",
      "Running evaluation:  27%|██▋       | 87/328 [37:51<1:27:39, 21.82s/it]2025-05-26 12:26:37,420 - httpx - INFO - _send_single_request - HTTP Request: POST http://localhost:11434/api/generate \"HTTP/1.1 200 OK\"\n",
      "Running evaluation:  27%|██▋       | 88/328 [38:26<1:43:14, 25.81s/it]2025-05-26 12:27:06,686 - httpx - INFO - _send_single_request - HTTP Request: POST http://localhost:11434/api/generate \"HTTP/1.1 200 OK\"\n",
      "Running evaluation:  27%|██▋       | 89/328 [38:55<1:46:56, 26.85s/it]2025-05-26 12:27:30,253 - httpx - INFO - _send_single_request - HTTP Request: POST http://localhost:11434/api/generate \"HTTP/1.1 200 OK\"\n",
      "Running evaluation:  27%|██▋       | 90/328 [39:19<1:42:35, 25.86s/it]2025-05-26 12:27:52,184 - httpx - INFO - _send_single_request - HTTP Request: POST http://localhost:11434/api/generate \"HTTP/1.1 200 OK\"\n",
      "Running evaluation:  28%|██▊       | 91/328 [39:41<1:37:30, 24.68s/it]2025-05-26 12:28:09,617 - httpx - INFO - _send_single_request - HTTP Request: POST http://localhost:11434/api/generate \"HTTP/1.1 200 OK\"\n",
      "Running evaluation:  28%|██▊       | 92/328 [39:58<1:28:32, 22.51s/it]2025-05-26 12:28:42,884 - httpx - INFO - _send_single_request - HTTP Request: POST http://localhost:11434/api/generate \"HTTP/1.1 200 OK\"\n",
      "Running evaluation:  28%|██▊       | 93/328 [40:31<1:40:48, 25.74s/it]2025-05-26 12:29:18,673 - httpx - INFO - _send_single_request - HTTP Request: POST http://localhost:11434/api/generate \"HTTP/1.1 200 OK\"\n",
      "Running evaluation:  29%|██▊       | 94/328 [41:07<1:52:08, 28.75s/it]2025-05-26 12:29:44,565 - httpx - INFO - _send_single_request - HTTP Request: POST http://localhost:11434/api/generate \"HTTP/1.1 200 OK\"\n",
      "Running evaluation:  29%|██▉       | 95/328 [41:33<1:48:19, 27.89s/it]2025-05-26 12:30:14,658 - httpx - INFO - _send_single_request - HTTP Request: POST http://localhost:11434/api/generate \"HTTP/1.1 200 OK\"\n",
      "Running evaluation:  29%|██▉       | 96/328 [42:03<1:50:24, 28.55s/it]2025-05-26 12:30:43,604 - httpx - INFO - _send_single_request - HTTP Request: POST http://localhost:11434/api/generate \"HTTP/1.1 200 OK\"\n",
      "Running evaluation:  30%|██▉       | 97/328 [42:32<1:50:23, 28.67s/it]2025-05-26 12:31:06,238 - httpx - INFO - _send_single_request - HTTP Request: POST http://localhost:11434/api/generate \"HTTP/1.1 200 OK\"\n",
      "Running evaluation:  30%|██▉       | 98/328 [42:55<1:42:57, 26.86s/it]2025-05-26 12:31:30,308 - httpx - INFO - _send_single_request - HTTP Request: POST http://localhost:11434/api/generate \"HTTP/1.1 200 OK\"\n",
      "Running evaluation:  30%|███       | 99/328 [43:19<1:39:19, 26.02s/it]2025-05-26 12:31:52,150 - httpx - INFO - _send_single_request - HTTP Request: POST http://localhost:11434/api/generate \"HTTP/1.1 200 OK\"\n",
      "Running evaluation:  30%|███       | 100/328 [43:41<1:34:07, 24.77s/it]2025-05-26 12:32:21,516 - httpx - INFO - _send_single_request - HTTP Request: POST http://localhost:11434/api/generate \"HTTP/1.1 200 OK\"\n",
      "Running evaluation:  31%|███       | 101/328 [44:10<1:38:55, 26.15s/it]2025-05-26 12:32:50,902 - httpx - INFO - _send_single_request - HTTP Request: POST http://localhost:11434/api/generate \"HTTP/1.1 200 OK\"\n",
      "Running evaluation:  31%|███       | 102/328 [44:40<1:42:08, 27.12s/it]2025-05-26 12:33:05,682 - httpx - INFO - _send_single_request - HTTP Request: POST http://localhost:11434/api/generate \"HTTP/1.1 200 OK\"\n",
      "Running evaluation:  31%|███▏      | 103/328 [44:54<1:27:48, 23.42s/it]2025-05-26 12:33:25,117 - httpx - INFO - _send_single_request - HTTP Request: POST http://localhost:11434/api/generate \"HTTP/1.1 200 OK\"\n",
      "Running evaluation:  32%|███▏      | 104/328 [45:14<1:22:57, 22.22s/it]2025-05-26 12:33:57,010 - httpx - INFO - _send_single_request - HTTP Request: POST http://localhost:11434/api/generate \"HTTP/1.1 200 OK\"\n",
      "Running evaluation:  32%|███▏      | 105/328 [45:46<1:33:22, 25.12s/it]2025-05-26 12:34:16,292 - httpx - INFO - _send_single_request - HTTP Request: POST http://localhost:11434/api/generate \"HTTP/1.1 200 OK\"\n",
      "Running evaluation:  32%|███▏      | 106/328 [46:05<1:26:28, 23.37s/it]2025-05-26 12:34:34,501 - httpx - INFO - _send_single_request - HTTP Request: POST http://localhost:11434/api/generate \"HTTP/1.1 200 OK\"\n",
      "Running evaluation:  33%|███▎      | 107/328 [46:23<1:20:22, 21.82s/it]2025-05-26 12:35:05,392 - httpx - INFO - _send_single_request - HTTP Request: POST http://localhost:11434/api/generate \"HTTP/1.1 200 OK\"\n",
      "Running evaluation:  33%|███▎      | 108/328 [46:54<1:29:59, 24.54s/it]2025-05-26 12:35:41,279 - httpx - INFO - _send_single_request - HTTP Request: POST http://localhost:11434/api/generate \"HTTP/1.1 200 OK\"\n",
      "Running evaluation:  33%|███▎      | 109/328 [47:30<1:42:00, 27.95s/it]2025-05-26 12:36:10,524 - httpx - INFO - _send_single_request - HTTP Request: POST http://localhost:11434/api/generate \"HTTP/1.1 200 OK\"\n",
      "Running evaluation:  34%|███▎      | 110/328 [47:59<1:42:57, 28.34s/it]2025-05-26 12:36:32,767 - httpx - INFO - _send_single_request - HTTP Request: POST http://localhost:11434/api/generate \"HTTP/1.1 200 OK\"\n",
      "Running evaluation:  34%|███▍      | 111/328 [48:21<1:35:52, 26.51s/it]2025-05-26 12:36:44,776 - httpx - INFO - _send_single_request - HTTP Request: POST http://localhost:11434/api/generate \"HTTP/1.1 200 OK\"\n",
      "Running evaluation:  34%|███▍      | 112/328 [48:33<1:19:46, 22.16s/it]2025-05-26 12:37:01,719 - httpx - INFO - _send_single_request - HTTP Request: POST http://localhost:11434/api/generate \"HTTP/1.1 200 OK\"\n",
      "Running evaluation:  34%|███▍      | 113/328 [48:50<1:13:47, 20.59s/it]2025-05-26 12:37:26,599 - httpx - INFO - _send_single_request - HTTP Request: POST http://localhost:11434/api/generate \"HTTP/1.1 200 OK\"\n",
      "Running evaluation:  35%|███▍      | 114/328 [49:15<1:18:02, 21.88s/it]2025-05-26 12:37:44,030 - httpx - INFO - _send_single_request - HTTP Request: POST http://localhost:11434/api/generate \"HTTP/1.1 200 OK\"\n",
      "Running evaluation:  35%|███▌      | 115/328 [49:33<1:12:56, 20.54s/it]2025-05-26 12:38:14,622 - httpx - INFO - _send_single_request - HTTP Request: POST http://localhost:11434/api/generate \"HTTP/1.1 200 OK\"\n",
      "Running evaluation:  35%|███▌      | 116/328 [50:03<1:23:14, 23.56s/it]2025-05-26 12:38:27,300 - httpx - INFO - _send_single_request - HTTP Request: POST http://localhost:11434/api/generate \"HTTP/1.1 200 OK\"\n",
      "Running evaluation:  36%|███▌      | 117/328 [50:16<1:11:22, 20.29s/it]2025-05-26 12:38:51,035 - httpx - INFO - _send_single_request - HTTP Request: POST http://localhost:11434/api/generate \"HTTP/1.1 200 OK\"\n",
      "Running evaluation:  36%|███▌      | 118/328 [50:40<1:14:38, 21.33s/it]2025-05-26 12:39:12,022 - httpx - INFO - _send_single_request - HTTP Request: POST http://localhost:11434/api/generate \"HTTP/1.1 200 OK\"\n",
      "Running evaluation:  36%|███▋      | 119/328 [51:01<1:13:55, 21.22s/it]2025-05-26 12:39:32,133 - httpx - INFO - _send_single_request - HTTP Request: POST http://localhost:11434/api/generate \"HTTP/1.1 200 OK\"\n",
      "Running evaluation:  37%|███▋      | 120/328 [51:21<1:12:25, 20.89s/it]2025-05-26 12:40:00,019 - httpx - INFO - _send_single_request - HTTP Request: POST http://localhost:11434/api/generate \"HTTP/1.1 200 OK\"\n",
      "Running evaluation:  37%|███▋      | 121/328 [51:49<1:19:18, 22.99s/it]2025-05-26 12:40:40,423 - httpx - INFO - _send_single_request - HTTP Request: POST http://localhost:11434/api/generate \"HTTP/1.1 200 OK\"\n",
      "Running evaluation:  37%|███▋      | 122/328 [52:29<1:36:52, 28.21s/it]2025-05-26 12:41:42,203 - httpx - INFO - _send_single_request - HTTP Request: POST http://localhost:11434/api/generate \"HTTP/1.1 200 OK\"\n",
      "Running evaluation:  38%|███▊      | 123/328 [53:31<2:10:48, 38.28s/it]2025-05-26 12:42:00,925 - httpx - INFO - _send_single_request - HTTP Request: POST http://localhost:11434/api/generate \"HTTP/1.1 200 OK\"\n",
      "Running evaluation:  38%|███▊      | 124/328 [53:50<1:50:12, 32.41s/it]2025-05-26 12:42:20,844 - httpx - INFO - _send_single_request - HTTP Request: POST http://localhost:11434/api/generate \"HTTP/1.1 200 OK\"\n",
      "Running evaluation:  38%|███▊      | 125/328 [54:09<1:36:59, 28.67s/it]2025-05-26 12:42:38,560 - httpx - INFO - _send_single_request - HTTP Request: POST http://localhost:11434/api/generate \"HTTP/1.1 200 OK\"\n",
      "Running evaluation:  38%|███▊      | 126/328 [54:27<1:25:26, 25.38s/it]2025-05-26 12:43:09,268 - httpx - INFO - _send_single_request - HTTP Request: POST http://localhost:11434/api/generate \"HTTP/1.1 200 OK\"\n",
      "Running evaluation:  39%|███▊      | 127/328 [54:58<1:30:22, 26.98s/it]2025-05-26 12:43:38,265 - httpx - INFO - _send_single_request - HTTP Request: POST http://localhost:11434/api/generate \"HTTP/1.1 200 OK\"\n",
      "Running evaluation:  39%|███▉      | 128/328 [55:27<1:31:56, 27.58s/it]2025-05-26 12:43:57,544 - httpx - INFO - _send_single_request - HTTP Request: POST http://localhost:11434/api/generate \"HTTP/1.1 200 OK\"\n",
      "Running evaluation:  39%|███▉      | 129/328 [55:46<1:23:13, 25.09s/it]2025-05-26 12:44:29,405 - httpx - INFO - _send_single_request - HTTP Request: POST http://localhost:11434/api/generate \"HTTP/1.1 200 OK\"\n",
      "Running evaluation:  40%|███▉      | 130/328 [56:18<1:29:30, 27.12s/it]2025-05-26 12:44:50,634 - httpx - INFO - _send_single_request - HTTP Request: POST http://localhost:11434/api/generate \"HTTP/1.1 200 OK\"\n",
      "Running evaluation:  40%|███▉      | 131/328 [56:39<1:23:14, 25.35s/it]2025-05-26 12:45:52,475 - httpx - INFO - _send_single_request - HTTP Request: POST http://localhost:11434/api/generate \"HTTP/1.1 200 OK\"\n",
      "Running evaluation:  40%|████      | 132/328 [57:41<1:58:34, 36.30s/it]2025-05-26 12:46:18,044 - httpx - INFO - _send_single_request - HTTP Request: POST http://localhost:11434/api/generate \"HTTP/1.1 200 OK\"\n",
      "Running evaluation:  41%|████      | 133/328 [58:07<1:47:30, 33.08s/it]2025-05-26 12:46:41,855 - httpx - INFO - _send_single_request - HTTP Request: POST http://localhost:11434/api/generate \"HTTP/1.1 200 OK\"\n",
      "Running evaluation:  41%|████      | 134/328 [58:30<1:37:58, 30.30s/it]2025-05-26 12:47:08,733 - httpx - INFO - _send_single_request - HTTP Request: POST http://localhost:11434/api/generate \"HTTP/1.1 200 OK\"\n",
      "Running evaluation:  41%|████      | 135/328 [58:57<1:34:09, 29.27s/it]2025-05-26 12:47:32,127 - httpx - INFO - _send_single_request - HTTP Request: POST http://localhost:11434/api/generate \"HTTP/1.1 200 OK\"\n",
      "Running evaluation:  41%|████▏     | 136/328 [59:21<1:28:01, 27.51s/it]2025-05-26 12:47:50,210 - httpx - INFO - _send_single_request - HTTP Request: POST http://localhost:11434/api/generate \"HTTP/1.1 200 OK\"\n",
      "Running evaluation:  42%|████▏     | 137/328 [59:39<1:18:34, 24.68s/it]2025-05-26 12:48:38,964 - httpx - INFO - _send_single_request - HTTP Request: POST http://localhost:11434/api/generate \"HTTP/1.1 200 OK\"\n",
      "Running evaluation:  42%|████▏     | 138/328 [1:00:28<1:41:01, 31.90s/it]2025-05-26 12:48:59,858 - httpx - INFO - _send_single_request - HTTP Request: POST http://localhost:11434/api/generate \"HTTP/1.1 200 OK\"\n",
      "Running evaluation:  42%|████▏     | 139/328 [1:00:48<1:30:05, 28.60s/it]2025-05-26 12:49:23,973 - httpx - INFO - _send_single_request - HTTP Request: POST http://localhost:11434/api/generate \"HTTP/1.1 200 OK\"\n",
      "Running evaluation:  43%|████▎     | 140/328 [1:01:13<1:25:23, 27.25s/it]2025-05-26 12:49:41,249 - httpx - INFO - _send_single_request - HTTP Request: POST http://localhost:11434/api/generate \"HTTP/1.1 200 OK\"\n",
      "Running evaluation:  43%|████▎     | 141/328 [1:01:30<1:15:36, 24.26s/it]2025-05-26 12:50:20,203 - httpx - INFO - _send_single_request - HTTP Request: POST http://localhost:11434/api/generate \"HTTP/1.1 200 OK\"\n",
      "Running evaluation:  43%|████▎     | 142/328 [1:02:09<1:28:52, 28.67s/it]2025-05-26 12:50:45,614 - httpx - INFO - _send_single_request - HTTP Request: POST http://localhost:11434/api/generate \"HTTP/1.1 200 OK\"\n",
      "Running evaluation:  44%|████▎     | 143/328 [1:02:34<1:25:22, 27.69s/it]2025-05-26 12:51:11,270 - httpx - INFO - _send_single_request - HTTP Request: POST http://localhost:11434/api/generate \"HTTP/1.1 200 OK\"\n",
      "Running evaluation:  44%|████▍     | 144/328 [1:03:00<1:23:02, 27.08s/it]2025-05-26 12:51:27,642 - httpx - INFO - _send_single_request - HTTP Request: POST http://localhost:11434/api/generate \"HTTP/1.1 200 OK\"\n",
      "Running evaluation:  44%|████▍     | 145/328 [1:03:16<1:12:47, 23.87s/it]2025-05-26 12:52:02,471 - httpx - INFO - _send_single_request - HTTP Request: POST http://localhost:11434/api/generate \"HTTP/1.1 200 OK\"\n",
      "Running evaluation:  45%|████▍     | 146/328 [1:03:51<1:22:22, 27.16s/it]2025-05-26 12:52:22,065 - httpx - INFO - _send_single_request - HTTP Request: POST http://localhost:11434/api/generate \"HTTP/1.1 200 OK\"\n",
      "Running evaluation:  45%|████▍     | 147/328 [1:04:11<1:15:04, 24.89s/it]2025-05-26 12:52:50,347 - httpx - INFO - _send_single_request - HTTP Request: POST http://localhost:11434/api/generate \"HTTP/1.1 200 OK\"\n",
      "Running evaluation:  45%|████▌     | 148/328 [1:04:39<1:17:43, 25.91s/it]2025-05-26 12:53:12,968 - httpx - INFO - _send_single_request - HTTP Request: POST http://localhost:11434/api/generate \"HTTP/1.1 200 OK\"\n",
      "Running evaluation:  45%|████▌     | 149/328 [1:05:02<1:14:20, 24.92s/it]2025-05-26 12:53:33,329 - httpx - INFO - _send_single_request - HTTP Request: POST http://localhost:11434/api/generate \"HTTP/1.1 200 OK\"\n",
      "Running evaluation:  46%|████▌     | 150/328 [1:05:22<1:09:52, 23.55s/it]2025-05-26 12:53:52,094 - httpx - INFO - _send_single_request - HTTP Request: POST http://localhost:11434/api/generate \"HTTP/1.1 200 OK\"\n",
      "Running evaluation:  46%|████▌     | 151/328 [1:05:41<1:05:14, 22.12s/it]2025-05-26 12:54:46,865 - httpx - INFO - _send_single_request - HTTP Request: POST http://localhost:11434/api/generate \"HTTP/1.1 200 OK\"\n",
      "Running evaluation:  46%|████▋     | 152/328 [1:06:35<1:33:36, 31.91s/it]2025-05-26 12:55:10,460 - httpx - INFO - _send_single_request - HTTP Request: POST http://localhost:11434/api/generate \"HTTP/1.1 200 OK\"\n",
      "Running evaluation:  47%|████▋     | 153/328 [1:06:59<1:25:48, 29.42s/it]2025-05-26 12:55:37,289 - httpx - INFO - _send_single_request - HTTP Request: POST http://localhost:11434/api/generate \"HTTP/1.1 200 OK\"\n",
      "Running evaluation:  47%|████▋     | 154/328 [1:07:26<1:23:03, 28.64s/it]2025-05-26 12:56:08,485 - httpx - INFO - _send_single_request - HTTP Request: POST http://localhost:11434/api/generate \"HTTP/1.1 200 OK\"\n",
      "Running evaluation:  47%|████▋     | 155/328 [1:07:57<1:24:47, 29.41s/it]2025-05-26 12:56:31,935 - httpx - INFO - _send_single_request - HTTP Request: POST http://localhost:11434/api/generate \"HTTP/1.1 200 OK\"\n",
      "Running evaluation:  48%|████▊     | 156/328 [1:08:21<1:19:10, 27.62s/it]2025-05-26 12:57:01,138 - httpx - INFO - _send_single_request - HTTP Request: POST http://localhost:11434/api/generate \"HTTP/1.1 200 OK\"\n",
      "Running evaluation:  48%|████▊     | 157/328 [1:08:50<1:20:04, 28.10s/it]2025-05-26 12:57:24,727 - httpx - INFO - _send_single_request - HTTP Request: POST http://localhost:11434/api/generate \"HTTP/1.1 200 OK\"\n",
      "Running evaluation:  48%|████▊     | 158/328 [1:09:13<1:15:46, 26.74s/it]2025-05-26 12:57:55,251 - httpx - INFO - _send_single_request - HTTP Request: POST http://localhost:11434/api/generate \"HTTP/1.1 200 OK\"\n",
      "Running evaluation:  48%|████▊     | 159/328 [1:09:44<1:18:31, 27.88s/it]2025-05-26 12:58:22,129 - httpx - INFO - _send_single_request - HTTP Request: POST http://localhost:11434/api/generate \"HTTP/1.1 200 OK\"\n",
      "Running evaluation:  49%|████▉     | 160/328 [1:10:11<1:17:13, 27.58s/it]2025-05-26 12:58:46,329 - httpx - INFO - _send_single_request - HTTP Request: POST http://localhost:11434/api/generate \"HTTP/1.1 200 OK\"\n",
      "Running evaluation:  49%|████▉     | 161/328 [1:10:35<1:13:56, 26.56s/it]2025-05-26 12:59:20,259 - httpx - INFO - _send_single_request - HTTP Request: POST http://localhost:11434/api/generate \"HTTP/1.1 200 OK\"\n",
      "Running evaluation:  49%|████▉     | 162/328 [1:11:09<1:19:36, 28.77s/it]2025-05-26 12:59:43,654 - httpx - INFO - _send_single_request - HTTP Request: POST http://localhost:11434/api/generate \"HTTP/1.1 200 OK\"\n",
      "Running evaluation:  50%|████▉     | 163/328 [1:11:32<1:14:41, 27.16s/it]2025-05-26 13:00:01,065 - httpx - INFO - _send_single_request - HTTP Request: POST http://localhost:11434/api/generate \"HTTP/1.1 200 OK\"\n",
      "Running evaluation:  50%|█████     | 164/328 [1:11:50<1:06:14, 24.24s/it]2025-05-26 13:00:35,202 - httpx - INFO - _send_single_request - HTTP Request: POST http://localhost:11434/api/generate \"HTTP/1.1 200 OK\"\n",
      "Running evaluation:  50%|█████     | 165/328 [1:12:24<1:13:54, 27.21s/it]2025-05-26 13:00:57,528 - httpx - INFO - _send_single_request - HTTP Request: POST http://localhost:11434/api/generate \"HTTP/1.1 200 OK\"\n",
      "Running evaluation:  51%|█████     | 166/328 [1:12:46<1:09:30, 25.74s/it]2025-05-26 13:01:35,857 - httpx - INFO - _send_single_request - HTTP Request: POST http://localhost:11434/api/generate \"HTTP/1.1 200 OK\"\n",
      "Running evaluation:  51%|█████     | 167/328 [1:13:24<1:19:12, 29.52s/it]2025-05-26 13:01:57,731 - httpx - INFO - _send_single_request - HTTP Request: POST http://localhost:11434/api/generate \"HTTP/1.1 200 OK\"\n",
      "Running evaluation:  51%|█████     | 168/328 [1:13:46<1:12:35, 27.22s/it]2025-05-26 13:02:18,816 - httpx - INFO - _send_single_request - HTTP Request: POST http://localhost:11434/api/generate \"HTTP/1.1 200 OK\"\n",
      "Running evaluation:  52%|█████▏    | 169/328 [1:14:07<1:07:15, 25.38s/it]2025-05-26 13:02:50,519 - httpx - INFO - _send_single_request - HTTP Request: POST http://localhost:11434/api/generate \"HTTP/1.1 200 OK\"\n",
      "Running evaluation:  52%|█████▏    | 170/328 [1:14:39<1:11:50, 27.28s/it]2025-05-26 13:03:05,546 - httpx - INFO - _send_single_request - HTTP Request: POST http://localhost:11434/api/generate \"HTTP/1.1 200 OK\"\n",
      "Running evaluation:  52%|█████▏    | 171/328 [1:14:54<1:01:45, 23.60s/it]2025-05-26 13:03:43,220 - httpx - INFO - _send_single_request - HTTP Request: POST http://localhost:11434/api/generate \"HTTP/1.1 200 OK\"\n",
      "Running evaluation:  52%|█████▏    | 172/328 [1:15:32<1:12:20, 27.82s/it]2025-05-26 13:04:20,870 - httpx - INFO - _send_single_request - HTTP Request: POST http://localhost:11434/api/generate \"HTTP/1.1 200 OK\"\n",
      "Running evaluation:  53%|█████▎    | 173/328 [1:16:09<1:19:29, 30.77s/it]2025-05-26 13:04:42,841 - httpx - INFO - _send_single_request - HTTP Request: POST http://localhost:11434/api/generate \"HTTP/1.1 200 OK\"\n",
      "Running evaluation:  53%|█████▎    | 174/328 [1:16:31<1:12:12, 28.13s/it]2025-05-26 13:05:04,674 - httpx - INFO - _send_single_request - HTTP Request: POST http://localhost:11434/api/generate \"HTTP/1.1 200 OK\"\n",
      "Running evaluation:  53%|█████▎    | 175/328 [1:16:53<1:06:55, 26.24s/it]2025-05-26 13:05:27,157 - httpx - INFO - _send_single_request - HTTP Request: POST http://localhost:11434/api/generate \"HTTP/1.1 200 OK\"\n",
      "Running evaluation:  54%|█████▎    | 176/328 [1:17:16<1:03:37, 25.11s/it]2025-05-26 13:05:55,142 - httpx - INFO - _send_single_request - HTTP Request: POST http://localhost:11434/api/generate \"HTTP/1.1 200 OK\"\n",
      "Running evaluation:  54%|█████▍    | 177/328 [1:17:44<1:05:22, 25.98s/it]2025-05-26 13:06:14,079 - httpx - INFO - _send_single_request - HTTP Request: POST http://localhost:11434/api/generate \"HTTP/1.1 200 OK\"\n",
      "Running evaluation:  54%|█████▍    | 178/328 [1:18:03<59:39, 23.86s/it]  2025-05-26 13:06:50,197 - httpx - INFO - _send_single_request - HTTP Request: POST http://localhost:11434/api/generate \"HTTP/1.1 200 OK\"\n",
      "Running evaluation:  55%|█████▍    | 179/328 [1:18:39<1:08:23, 27.54s/it]2025-05-26 13:07:33,088 - httpx - INFO - _send_single_request - HTTP Request: POST http://localhost:11434/api/generate \"HTTP/1.1 200 OK\"\n",
      "Running evaluation:  55%|█████▍    | 180/328 [1:19:22<1:19:17, 32.15s/it]2025-05-26 13:07:49,729 - httpx - INFO - _send_single_request - HTTP Request: POST http://localhost:11434/api/generate \"HTTP/1.1 200 OK\"\n",
      "Running evaluation:  55%|█████▌    | 181/328 [1:19:38<1:07:21, 27.49s/it]2025-05-26 13:08:07,408 - httpx - INFO - _send_single_request - HTTP Request: POST http://localhost:11434/api/generate \"HTTP/1.1 200 OK\"\n",
      "Running evaluation:  55%|█████▌    | 182/328 [1:19:56<59:44, 24.55s/it]  2025-05-26 13:08:23,525 - httpx - INFO - _send_single_request - HTTP Request: POST http://localhost:11434/api/generate \"HTTP/1.1 200 OK\"\n",
      "Running evaluation:  56%|█████▌    | 183/328 [1:20:12<53:12, 22.02s/it]2025-05-26 13:08:40,672 - httpx - INFO - _send_single_request - HTTP Request: POST http://localhost:11434/api/generate \"HTTP/1.1 200 OK\"\n",
      "Running evaluation:  56%|█████▌    | 184/328 [1:20:29<49:20, 20.56s/it]2025-05-26 13:09:28,557 - httpx - INFO - _send_single_request - HTTP Request: POST http://localhost:11434/api/generate \"HTTP/1.1 200 OK\"\n",
      "Running evaluation:  56%|█████▋    | 185/328 [1:21:17<1:08:32, 28.76s/it]2025-05-26 13:09:50,193 - httpx - INFO - _send_single_request - HTTP Request: POST http://localhost:11434/api/generate \"HTTP/1.1 200 OK\"\n",
      "Running evaluation:  57%|█████▋    | 186/328 [1:21:39<1:03:00, 26.62s/it]2025-05-26 13:10:14,197 - httpx - INFO - _send_single_request - HTTP Request: POST http://localhost:11434/api/generate \"HTTP/1.1 200 OK\"\n",
      "Running evaluation:  57%|█████▋    | 187/328 [1:22:03<1:00:42, 25.84s/it]2025-05-26 13:10:30,455 - httpx - INFO - _send_single_request - HTTP Request: POST http://localhost:11434/api/generate \"HTTP/1.1 200 OK\"\n",
      "Running evaluation:  57%|█████▋    | 188/328 [1:22:19<53:34, 22.96s/it]  2025-05-26 13:11:00,410 - httpx - INFO - _send_single_request - HTTP Request: POST http://localhost:11434/api/generate \"HTTP/1.1 200 OK\"\n",
      "Running evaluation:  58%|█████▊    | 189/328 [1:22:49<58:03, 25.06s/it]2025-05-26 13:11:20,278 - httpx - INFO - _send_single_request - HTTP Request: POST http://localhost:11434/api/generate \"HTTP/1.1 200 OK\"\n",
      "Running evaluation:  58%|█████▊    | 190/328 [1:23:09<54:03, 23.50s/it]2025-05-26 13:11:39,634 - httpx - INFO - _send_single_request - HTTP Request: POST http://localhost:11434/api/generate \"HTTP/1.1 200 OK\"\n",
      "Running evaluation:  58%|█████▊    | 191/328 [1:23:28<50:49, 22.26s/it]2025-05-26 13:12:07,057 - httpx - INFO - _send_single_request - HTTP Request: POST http://localhost:11434/api/generate \"HTTP/1.1 200 OK\"\n",
      "Running evaluation:  59%|█████▊    | 192/328 [1:23:56<53:57, 23.81s/it]2025-05-26 13:12:31,359 - httpx - INFO - _send_single_request - HTTP Request: POST http://localhost:11434/api/generate \"HTTP/1.1 200 OK\"\n",
      "Running evaluation:  59%|█████▉    | 193/328 [1:24:20<53:54, 23.96s/it]2025-05-26 13:12:51,533 - httpx - INFO - _send_single_request - HTTP Request: POST http://localhost:11434/api/generate \"HTTP/1.1 200 OK\"\n",
      "Running evaluation:  59%|█████▉    | 194/328 [1:24:40<50:58, 22.82s/it]2025-05-26 13:13:11,534 - httpx - INFO - _send_single_request - HTTP Request: POST http://localhost:11434/api/generate \"HTTP/1.1 200 OK\"\n",
      "Running evaluation:  59%|█████▉    | 195/328 [1:25:00<48:42, 21.98s/it]2025-05-26 13:13:36,512 - httpx - INFO - _send_single_request - HTTP Request: POST http://localhost:11434/api/generate \"HTTP/1.1 200 OK\"\n",
      "Running evaluation:  60%|█████▉    | 196/328 [1:25:25<50:19, 22.88s/it]2025-05-26 13:14:03,062 - httpx - INFO - _send_single_request - HTTP Request: POST http://localhost:11434/api/generate \"HTTP/1.1 200 OK\"\n",
      "Running evaluation:  60%|██████    | 197/328 [1:25:52<52:21, 23.98s/it]2025-05-26 13:14:32,863 - httpx - INFO - _send_single_request - HTTP Request: POST http://localhost:11434/api/generate \"HTTP/1.1 200 OK\"\n",
      "Running evaluation:  60%|██████    | 198/328 [1:26:21<55:44, 25.73s/it]2025-05-26 13:15:01,067 - httpx - INFO - _send_single_request - HTTP Request: POST http://localhost:11434/api/generate \"HTTP/1.1 200 OK\"\n",
      "Running evaluation:  61%|██████    | 199/328 [1:26:50<56:54, 26.47s/it]2025-05-26 13:15:25,908 - httpx - INFO - _send_single_request - HTTP Request: POST http://localhost:11434/api/generate \"HTTP/1.1 200 OK\"\n",
      "Running evaluation:  61%|██████    | 200/328 [1:27:15<55:25, 25.98s/it]2025-05-26 13:15:43,144 - httpx - INFO - _send_single_request - HTTP Request: POST http://localhost:11434/api/generate \"HTTP/1.1 200 OK\"\n",
      "Running evaluation:  61%|██████▏   | 201/328 [1:27:32<49:26, 23.36s/it]2025-05-26 13:16:37,842 - httpx - INFO - _send_single_request - HTTP Request: POST http://localhost:11434/api/generate \"HTTP/1.1 200 OK\"\n",
      "Running evaluation:  62%|██████▏   | 202/328 [1:28:26<1:08:47, 32.76s/it]2025-05-26 13:16:58,948 - httpx - INFO - _send_single_request - HTTP Request: POST http://localhost:11434/api/generate \"HTTP/1.1 200 OK\"\n",
      "Running evaluation:  62%|██████▏   | 203/328 [1:28:48<1:00:57, 29.26s/it]2025-05-26 13:17:19,420 - httpx - INFO - _send_single_request - HTTP Request: POST http://localhost:11434/api/generate \"HTTP/1.1 200 OK\"\n",
      "Running evaluation:  62%|██████▏   | 204/328 [1:29:08<55:01, 26.63s/it]  2025-05-26 13:17:36,029 - httpx - INFO - _send_single_request - HTTP Request: POST http://localhost:11434/api/generate \"HTTP/1.1 200 OK\"\n",
      "Running evaluation:  62%|██████▎   | 205/328 [1:29:25<48:25, 23.62s/it]2025-05-26 13:17:48,576 - httpx - INFO - _send_single_request - HTTP Request: POST http://localhost:11434/api/generate \"HTTP/1.1 200 OK\"\n",
      "Running evaluation:  63%|██████▎   | 206/328 [1:29:37<41:16, 20.30s/it]2025-05-26 13:18:02,512 - httpx - INFO - _send_single_request - HTTP Request: POST http://localhost:11434/api/generate \"HTTP/1.1 200 OK\"\n",
      "Running evaluation:  63%|██████▎   | 207/328 [1:29:51<37:05, 18.39s/it]2025-05-26 13:18:30,785 - httpx - INFO - _send_single_request - HTTP Request: POST http://localhost:11434/api/generate \"HTTP/1.1 200 OK\"\n",
      "Running evaluation:  63%|██████▎   | 208/328 [1:30:19<42:42, 21.35s/it]2025-05-26 13:18:48,047 - httpx - INFO - _send_single_request - HTTP Request: POST http://localhost:11434/api/generate \"HTTP/1.1 200 OK\"\n",
      "Running evaluation:  64%|██████▎   | 209/328 [1:30:37<39:55, 20.13s/it]2025-05-26 13:19:06,277 - httpx - INFO - _send_single_request - HTTP Request: POST http://localhost:11434/api/generate \"HTTP/1.1 200 OK\"\n",
      "Running evaluation:  64%|██████▍   | 210/328 [1:30:55<38:27, 19.56s/it]2025-05-26 13:19:27,895 - httpx - INFO - _send_single_request - HTTP Request: POST http://localhost:11434/api/generate \"HTTP/1.1 200 OK\"\n",
      "Running evaluation:  64%|██████▍   | 211/328 [1:31:16<39:20, 20.18s/it]2025-05-26 13:19:59,235 - httpx - INFO - _send_single_request - HTTP Request: POST http://localhost:11434/api/generate \"HTTP/1.1 200 OK\"\n",
      "Running evaluation:  65%|██████▍   | 212/328 [1:31:48<45:28, 23.53s/it]2025-05-26 13:20:19,182 - httpx - INFO - _send_single_request - HTTP Request: POST http://localhost:11434/api/generate \"HTTP/1.1 200 OK\"\n",
      "Running evaluation:  65%|██████▍   | 213/328 [1:32:08<43:01, 22.45s/it]2025-05-26 13:20:47,869 - httpx - INFO - _send_single_request - HTTP Request: POST http://localhost:11434/api/generate \"HTTP/1.1 200 OK\"\n",
      "Running evaluation:  65%|██████▌   | 214/328 [1:32:36<46:12, 24.32s/it]2025-05-26 13:21:04,845 - httpx - INFO - _send_single_request - HTTP Request: POST http://localhost:11434/api/generate \"HTTP/1.1 200 OK\"\n",
      "Running evaluation:  66%|██████▌   | 215/328 [1:32:53<41:39, 22.12s/it]2025-05-26 13:21:30,278 - httpx - INFO - _send_single_request - HTTP Request: POST http://localhost:11434/api/generate \"HTTP/1.1 200 OK\"\n",
      "Running evaluation:  66%|██████▌   | 216/328 [1:33:19<43:08, 23.11s/it]2025-05-26 13:22:00,294 - httpx - INFO - _send_single_request - HTTP Request: POST http://localhost:11434/api/generate \"HTTP/1.1 200 OK\"\n",
      "Running evaluation:  66%|██████▌   | 217/328 [1:33:49<46:35, 25.18s/it]2025-05-26 13:22:14,834 - httpx - INFO - _send_single_request - HTTP Request: POST http://localhost:11434/api/generate \"HTTP/1.1 200 OK\"\n",
      "Running evaluation:  66%|██████▋   | 218/328 [1:34:03<40:18, 21.99s/it]2025-05-26 13:22:39,075 - httpx - INFO - _send_single_request - HTTP Request: POST http://localhost:11434/api/generate \"HTTP/1.1 200 OK\"\n",
      "Running evaluation:  67%|██████▋   | 219/328 [1:34:28<41:10, 22.67s/it]2025-05-26 13:23:05,499 - httpx - INFO - _send_single_request - HTTP Request: POST http://localhost:11434/api/generate \"HTTP/1.1 200 OK\"\n",
      "Running evaluation:  67%|██████▋   | 220/328 [1:34:54<42:49, 23.79s/it]2025-05-26 13:23:25,779 - httpx - INFO - _send_single_request - HTTP Request: POST http://localhost:11434/api/generate \"HTTP/1.1 200 OK\"\n",
      "Running evaluation:  67%|██████▋   | 221/328 [1:35:14<40:33, 22.74s/it]2025-05-26 13:23:43,929 - httpx - INFO - _send_single_request - HTTP Request: POST http://localhost:11434/api/generate \"HTTP/1.1 200 OK\"\n",
      "Running evaluation:  68%|██████▊   | 222/328 [1:35:33<37:44, 21.36s/it]2025-05-26 13:24:00,302 - httpx - INFO - _send_single_request - HTTP Request: POST http://localhost:11434/api/generate \"HTTP/1.1 200 OK\"\n",
      "Running evaluation:  68%|██████▊   | 223/328 [1:35:49<34:45, 19.87s/it]2025-05-26 13:24:18,983 - httpx - INFO - _send_single_request - HTTP Request: POST http://localhost:11434/api/generate \"HTTP/1.1 200 OK\"\n",
      "Running evaluation:  68%|██████▊   | 224/328 [1:36:08<33:49, 19.51s/it]2025-05-26 13:24:39,841 - httpx - INFO - _send_single_request - HTTP Request: POST http://localhost:11434/api/generate \"HTTP/1.1 200 OK\"\n",
      "Running evaluation:  69%|██████▊   | 225/328 [1:36:28<34:11, 19.91s/it]2025-05-26 13:25:04,772 - httpx - INFO - _send_single_request - HTTP Request: POST http://localhost:11434/api/generate \"HTTP/1.1 200 OK\"\n",
      "Running evaluation:  69%|██████▉   | 226/328 [1:36:53<36:24, 21.42s/it]2025-05-26 13:25:25,834 - httpx - INFO - _send_single_request - HTTP Request: POST http://localhost:11434/api/generate \"HTTP/1.1 200 OK\"\n",
      "Running evaluation:  69%|██████▉   | 227/328 [1:37:14<35:52, 21.31s/it]2025-05-26 13:25:46,287 - httpx - INFO - _send_single_request - HTTP Request: POST http://localhost:11434/api/generate \"HTTP/1.1 200 OK\"\n",
      "Running evaluation:  70%|██████▉   | 228/328 [1:37:35<35:05, 21.05s/it]2025-05-26 13:26:12,874 - httpx - INFO - _send_single_request - HTTP Request: POST http://localhost:11434/api/generate \"HTTP/1.1 200 OK\"\n",
      "Running evaluation:  70%|██████▉   | 229/328 [1:38:01<37:28, 22.71s/it]2025-05-26 13:26:32,140 - httpx - INFO - _send_single_request - HTTP Request: POST http://localhost:11434/api/generate \"HTTP/1.1 200 OK\"\n",
      "Running evaluation:  70%|███████   | 230/328 [1:38:21<35:24, 21.68s/it]2025-05-26 13:27:11,131 - httpx - INFO - _send_single_request - HTTP Request: POST http://localhost:11434/api/generate \"HTTP/1.1 200 OK\"\n",
      "Running evaluation:  70%|███████   | 231/328 [1:39:00<43:26, 26.87s/it]2025-05-26 13:27:28,181 - httpx - INFO - _send_single_request - HTTP Request: POST http://localhost:11434/api/generate \"HTTP/1.1 200 OK\"\n",
      "Running evaluation:  71%|███████   | 232/328 [1:39:17<38:16, 23.93s/it]2025-05-26 13:28:02,859 - httpx - INFO - _send_single_request - HTTP Request: POST http://localhost:11434/api/generate \"HTTP/1.1 200 OK\"\n",
      "Running evaluation:  71%|███████   | 233/328 [1:39:51<42:59, 27.15s/it]2025-05-26 13:28:40,309 - httpx - INFO - _send_single_request - HTTP Request: POST http://localhost:11434/api/generate \"HTTP/1.1 200 OK\"\n",
      "Running evaluation:  71%|███████▏  | 234/328 [1:40:29<47:22, 30.24s/it]2025-05-26 13:29:02,965 - httpx - INFO - _send_single_request - HTTP Request: POST http://localhost:11434/api/generate \"HTTP/1.1 200 OK\"\n",
      "Running evaluation:  72%|███████▏  | 235/328 [1:40:52<43:20, 27.97s/it]2025-05-26 13:29:20,563 - httpx - INFO - _send_single_request - HTTP Request: POST http://localhost:11434/api/generate \"HTTP/1.1 200 OK\"\n",
      "Running evaluation:  72%|███████▏  | 236/328 [1:41:09<38:06, 24.86s/it]2025-05-26 13:29:48,240 - httpx - INFO - _send_single_request - HTTP Request: POST http://localhost:11434/api/generate \"HTTP/1.1 200 OK\"\n",
      "Running evaluation:  72%|███████▏  | 237/328 [1:41:37<38:58, 25.70s/it]2025-05-26 13:30:04,757 - httpx - INFO - _send_single_request - HTTP Request: POST http://localhost:11434/api/generate \"HTTP/1.1 200 OK\"\n",
      "Running evaluation:  73%|███████▎  | 238/328 [1:41:53<34:25, 22.95s/it]2025-05-26 13:30:25,228 - httpx - INFO - _send_single_request - HTTP Request: POST http://localhost:11434/api/generate \"HTTP/1.1 200 OK\"\n",
      "Running evaluation:  73%|███████▎  | 239/328 [1:42:14<32:56, 22.20s/it]2025-05-26 13:30:41,744 - httpx - INFO - _send_single_request - HTTP Request: POST http://localhost:11434/api/generate \"HTTP/1.1 200 OK\"\n",
      "Running evaluation:  73%|███████▎  | 240/328 [1:42:30<30:03, 20.50s/it]2025-05-26 13:31:05,291 - httpx - INFO - _send_single_request - HTTP Request: POST http://localhost:11434/api/generate \"HTTP/1.1 200 OK\"\n",
      "Running evaluation:  73%|███████▎  | 241/328 [1:42:54<31:02, 21.41s/it]2025-05-26 13:31:29,340 - httpx - INFO - _send_single_request - HTTP Request: POST http://localhost:11434/api/generate \"HTTP/1.1 200 OK\"\n",
      "Running evaluation:  74%|███████▍  | 242/328 [1:43:18<31:49, 22.20s/it]2025-05-26 13:31:48,913 - httpx - INFO - _send_single_request - HTTP Request: POST http://localhost:11434/api/generate \"HTTP/1.1 200 OK\"\n",
      "Running evaluation:  74%|███████▍  | 243/328 [1:43:38<30:20, 21.41s/it]2025-05-26 13:32:08,933 - httpx - INFO - _send_single_request - HTTP Request: POST http://localhost:11434/api/generate \"HTTP/1.1 200 OK\"\n",
      "Running evaluation:  74%|███████▍  | 244/328 [1:43:58<29:23, 21.00s/it]2025-05-26 13:32:44,808 - httpx - INFO - _send_single_request - HTTP Request: POST http://localhost:11434/api/generate \"HTTP/1.1 200 OK\"\n",
      "Running evaluation:  75%|███████▍  | 245/328 [1:44:33<35:13, 25.46s/it]2025-05-26 13:33:10,903 - httpx - INFO - _send_single_request - HTTP Request: POST http://localhost:11434/api/generate \"HTTP/1.1 200 OK\"\n",
      "Running evaluation:  75%|███████▌  | 246/328 [1:45:00<35:03, 25.65s/it]2025-05-26 13:33:33,051 - httpx - INFO - _send_single_request - HTTP Request: POST http://localhost:11434/api/generate \"HTTP/1.1 200 OK\"\n",
      "Running evaluation:  75%|███████▌  | 247/328 [1:45:22<33:12, 24.60s/it]2025-05-26 13:33:56,315 - httpx - INFO - _send_single_request - HTTP Request: POST http://localhost:11434/api/generate \"HTTP/1.1 200 OK\"\n",
      "Running evaluation:  76%|███████▌  | 248/328 [1:45:45<32:15, 24.20s/it]2025-05-26 13:34:11,984 - httpx - INFO - _send_single_request - HTTP Request: POST http://localhost:11434/api/generate \"HTTP/1.1 200 OK\"\n",
      "Running evaluation:  76%|███████▌  | 249/328 [1:46:01<28:29, 21.64s/it]2025-05-26 13:34:36,865 - httpx - INFO - _send_single_request - HTTP Request: POST http://localhost:11434/api/generate \"HTTP/1.1 200 OK\"\n",
      "Running evaluation:  76%|███████▌  | 250/328 [1:46:25<29:23, 22.61s/it]2025-05-26 13:35:14,400 - httpx - INFO - _send_single_request - HTTP Request: POST http://localhost:11434/api/generate \"HTTP/1.1 200 OK\"\n",
      "Running evaluation:  77%|███████▋  | 251/328 [1:47:03<34:45, 27.09s/it]2025-05-26 13:35:32,692 - httpx - INFO - _send_single_request - HTTP Request: POST http://localhost:11434/api/generate \"HTTP/1.1 200 OK\"\n",
      "Running evaluation:  77%|███████▋  | 252/328 [1:47:21<30:58, 24.45s/it]2025-05-26 13:35:53,505 - httpx - INFO - _send_single_request - HTTP Request: POST http://localhost:11434/api/generate \"HTTP/1.1 200 OK\"\n",
      "Running evaluation:  77%|███████▋  | 253/328 [1:47:42<29:11, 23.36s/it]2025-05-26 13:36:18,156 - httpx - INFO - _send_single_request - HTTP Request: POST http://localhost:11434/api/generate \"HTTP/1.1 200 OK\"\n",
      "Running evaluation:  77%|███████▋  | 254/328 [1:48:07<29:17, 23.75s/it]2025-05-26 13:36:37,284 - httpx - INFO - _send_single_request - HTTP Request: POST http://localhost:11434/api/generate \"HTTP/1.1 200 OK\"\n",
      "Running evaluation:  78%|███████▊  | 255/328 [1:48:26<27:12, 22.36s/it]2025-05-26 13:37:01,477 - httpx - INFO - _send_single_request - HTTP Request: POST http://localhost:11434/api/generate \"HTTP/1.1 200 OK\"\n",
      "Running evaluation:  78%|███████▊  | 256/328 [1:48:50<27:29, 22.91s/it]2025-05-26 13:37:21,886 - httpx - INFO - _send_single_request - HTTP Request: POST http://localhost:11434/api/generate \"HTTP/1.1 200 OK\"\n",
      "Running evaluation:  78%|███████▊  | 257/328 [1:49:10<26:13, 22.16s/it]2025-05-26 13:37:45,592 - httpx - INFO - _send_single_request - HTTP Request: POST http://localhost:11434/api/generate \"HTTP/1.1 200 OK\"\n",
      "Running evaluation:  79%|███████▊  | 258/328 [1:49:34<26:23, 22.62s/it]2025-05-26 13:38:04,633 - httpx - INFO - _send_single_request - HTTP Request: POST http://localhost:11434/api/generate \"HTTP/1.1 200 OK\"\n",
      "Running evaluation:  79%|███████▉  | 259/328 [1:49:53<24:46, 21.55s/it]2025-05-26 13:38:36,805 - httpx - INFO - _send_single_request - HTTP Request: POST http://localhost:11434/api/generate \"HTTP/1.1 200 OK\"\n",
      "Running evaluation:  79%|███████▉  | 260/328 [1:50:25<28:02, 24.74s/it]2025-05-26 13:39:05,740 - httpx - INFO - _send_single_request - HTTP Request: POST http://localhost:11434/api/generate \"HTTP/1.1 200 OK\"\n",
      "Running evaluation:  80%|███████▉  | 261/328 [1:50:54<29:01, 26.00s/it]2025-05-26 13:39:28,240 - httpx - INFO - _send_single_request - HTTP Request: POST http://localhost:11434/api/generate \"HTTP/1.1 200 OK\"\n",
      "Running evaluation:  80%|███████▉  | 262/328 [1:51:17<27:26, 24.95s/it]2025-05-26 13:39:46,896 - httpx - INFO - _send_single_request - HTTP Request: POST http://localhost:11434/api/generate \"HTTP/1.1 200 OK\"\n",
      "Running evaluation:  80%|████████  | 263/328 [1:51:35<24:58, 23.06s/it]2025-05-26 13:40:16,927 - httpx - INFO - _send_single_request - HTTP Request: POST http://localhost:11434/api/generate \"HTTP/1.1 200 OK\"\n",
      "Running evaluation:  80%|████████  | 264/328 [1:52:06<26:49, 25.15s/it]2025-05-26 13:40:49,309 - httpx - INFO - _send_single_request - HTTP Request: POST http://localhost:11434/api/generate \"HTTP/1.1 200 OK\"\n",
      "Running evaluation:  81%|████████  | 265/328 [1:52:38<28:41, 27.32s/it]2025-05-26 13:41:11,602 - httpx - INFO - _send_single_request - HTTP Request: POST http://localhost:11434/api/generate \"HTTP/1.1 200 OK\"\n",
      "Running evaluation:  81%|████████  | 266/328 [1:53:00<26:40, 25.81s/it]2025-05-26 13:41:28,319 - httpx - INFO - _send_single_request - HTTP Request: POST http://localhost:11434/api/generate \"HTTP/1.1 200 OK\"\n",
      "Running evaluation:  81%|████████▏ | 267/328 [1:53:17<23:28, 23.08s/it]2025-05-26 13:41:43,164 - httpx - INFO - _send_single_request - HTTP Request: POST http://localhost:11434/api/generate \"HTTP/1.1 200 OK\"\n",
      "Running evaluation:  82%|████████▏ | 268/328 [1:53:32<20:36, 20.61s/it]2025-05-26 13:42:02,222 - httpx - INFO - _send_single_request - HTTP Request: POST http://localhost:11434/api/generate \"HTTP/1.1 200 OK\"\n",
      "Running evaluation:  82%|████████▏ | 269/328 [1:53:51<19:48, 20.15s/it]2025-05-26 13:42:22,307 - httpx - INFO - _send_single_request - HTTP Request: POST http://localhost:11434/api/generate \"HTTP/1.1 200 OK\"\n",
      "Running evaluation:  82%|████████▏ | 270/328 [1:54:11<19:27, 20.13s/it]2025-05-26 13:42:46,132 - httpx - INFO - _send_single_request - HTTP Request: POST http://localhost:11434/api/generate \"HTTP/1.1 200 OK\"\n",
      "Running evaluation:  83%|████████▎ | 271/328 [1:54:35<20:10, 21.24s/it]2025-05-26 13:43:06,197 - httpx - INFO - _send_single_request - HTTP Request: POST http://localhost:11434/api/generate \"HTTP/1.1 200 OK\"\n",
      "Running evaluation:  83%|████████▎ | 272/328 [1:54:55<19:29, 20.89s/it]2025-05-26 13:43:54,818 - httpx - INFO - _send_single_request - HTTP Request: POST http://localhost:11434/api/generate \"HTTP/1.1 200 OK\"\n",
      "Running evaluation:  83%|████████▎ | 273/328 [1:55:43<26:46, 29.21s/it]2025-05-26 13:44:13,369 - httpx - INFO - _send_single_request - HTTP Request: POST http://localhost:11434/api/generate \"HTTP/1.1 200 OK\"\n",
      "Running evaluation:  84%|████████▎ | 274/328 [1:56:02<23:24, 26.01s/it]2025-05-26 13:44:29,239 - httpx - INFO - _send_single_request - HTTP Request: POST http://localhost:11434/api/generate \"HTTP/1.1 200 OK\"\n",
      "Running evaluation:  84%|████████▍ | 275/328 [1:56:18<20:17, 22.97s/it]2025-05-26 13:44:51,816 - httpx - INFO - _send_single_request - HTTP Request: POST http://localhost:11434/api/generate \"HTTP/1.1 200 OK\"\n",
      "Running evaluation:  84%|████████▍ | 276/328 [1:56:40<19:48, 22.85s/it]2025-05-26 13:45:12,577 - httpx - INFO - _send_single_request - HTTP Request: POST http://localhost:11434/api/generate \"HTTP/1.1 200 OK\"\n",
      "Running evaluation:  84%|████████▍ | 277/328 [1:57:01<18:53, 22.22s/it]2025-05-26 13:45:29,400 - httpx - INFO - _send_single_request - HTTP Request: POST http://localhost:11434/api/generate \"HTTP/1.1 200 OK\"\n",
      "Running evaluation:  85%|████████▍ | 278/328 [1:57:18<17:10, 20.60s/it]2025-05-26 13:45:51,242 - httpx - INFO - _send_single_request - HTTP Request: POST http://localhost:11434/api/generate \"HTTP/1.1 200 OK\"\n",
      "Running evaluation:  85%|████████▌ | 279/328 [1:57:40<17:07, 20.98s/it]2025-05-26 13:46:14,001 - httpx - INFO - _send_single_request - HTTP Request: POST http://localhost:11434/api/generate \"HTTP/1.1 200 OK\"\n",
      "Running evaluation:  85%|████████▌ | 280/328 [1:58:03<17:12, 21.51s/it]2025-05-26 13:46:34,288 - httpx - INFO - _send_single_request - HTTP Request: POST http://localhost:11434/api/generate \"HTTP/1.1 200 OK\"\n",
      "Running evaluation:  86%|████████▌ | 281/328 [1:58:23<16:33, 21.14s/it]2025-05-26 13:46:51,320 - httpx - INFO - _send_single_request - HTTP Request: POST http://localhost:11434/api/generate \"HTTP/1.1 200 OK\"\n",
      "Running evaluation:  86%|████████▌ | 282/328 [1:58:40<15:15, 19.91s/it]2025-05-26 13:47:17,515 - httpx - INFO - _send_single_request - HTTP Request: POST http://localhost:11434/api/generate \"HTTP/1.1 200 OK\"\n",
      "Running evaluation:  86%|████████▋ | 283/328 [1:59:06<16:20, 21.80s/it]2025-05-26 13:47:33,506 - httpx - INFO - _send_single_request - HTTP Request: POST http://localhost:11434/api/generate \"HTTP/1.1 200 OK\"\n",
      "Running evaluation:  87%|████████▋ | 284/328 [1:59:22<14:42, 20.05s/it]2025-05-26 13:47:59,765 - httpx - INFO - _send_single_request - HTTP Request: POST http://localhost:11434/api/generate \"HTTP/1.1 200 OK\"\n",
      "Running evaluation:  87%|████████▋ | 285/328 [1:59:48<15:42, 21.92s/it]2025-05-26 13:48:23,731 - httpx - INFO - _send_single_request - HTTP Request: POST http://localhost:11434/api/generate \"HTTP/1.1 200 OK\"\n",
      "Running evaluation:  87%|████████▋ | 286/328 [2:00:12<15:46, 22.53s/it]2025-05-26 13:48:54,428 - httpx - INFO - _send_single_request - HTTP Request: POST http://localhost:11434/api/generate \"HTTP/1.1 200 OK\"\n",
      "Running evaluation:  88%|████████▊ | 287/328 [2:00:43<17:04, 24.98s/it]2025-05-26 13:49:19,154 - httpx - INFO - _send_single_request - HTTP Request: POST http://localhost:11434/api/generate \"HTTP/1.1 200 OK\"\n",
      "Running evaluation:  88%|████████▊ | 288/328 [2:01:08<16:36, 24.90s/it]2025-05-26 13:49:45,796 - httpx - INFO - _send_single_request - HTTP Request: POST http://localhost:11434/api/generate \"HTTP/1.1 200 OK\"\n",
      "Running evaluation:  88%|████████▊ | 289/328 [2:01:34<16:31, 25.43s/it]2025-05-26 13:50:10,939 - httpx - INFO - _send_single_request - HTTP Request: POST http://localhost:11434/api/generate \"HTTP/1.1 200 OK\"\n",
      "Running evaluation:  88%|████████▊ | 290/328 [2:02:00<16:02, 25.34s/it]2025-05-26 13:50:38,690 - httpx - INFO - _send_single_request - HTTP Request: POST http://localhost:11434/api/generate \"HTTP/1.1 200 OK\"\n",
      "Running evaluation:  89%|████████▊ | 291/328 [2:02:27<16:04, 26.06s/it]2025-05-26 13:50:59,193 - httpx - INFO - _send_single_request - HTTP Request: POST http://localhost:11434/api/generate \"HTTP/1.1 200 OK\"\n",
      "Running evaluation:  89%|████████▉ | 292/328 [2:02:48<14:38, 24.40s/it]2025-05-26 13:51:32,999 - httpx - INFO - _send_single_request - HTTP Request: POST http://localhost:11434/api/generate \"HTTP/1.1 200 OK\"\n",
      "Running evaluation:  89%|████████▉ | 293/328 [2:03:22<15:52, 27.22s/it]2025-05-26 13:51:58,524 - httpx - INFO - _send_single_request - HTTP Request: POST http://localhost:11434/api/generate \"HTTP/1.1 200 OK\"\n",
      "Running evaluation:  90%|████████▉ | 294/328 [2:03:47<15:08, 26.71s/it]2025-05-26 13:52:33,824 - httpx - INFO - _send_single_request - HTTP Request: POST http://localhost:11434/api/generate \"HTTP/1.1 200 OK\"\n",
      "Running evaluation:  90%|████████▉ | 295/328 [2:04:22<16:06, 29.29s/it]2025-05-26 13:53:01,343 - httpx - INFO - _send_single_request - HTTP Request: POST http://localhost:11434/api/generate \"HTTP/1.1 200 OK\"\n",
      "Running evaluation:  90%|█████████ | 296/328 [2:04:50<15:20, 28.76s/it]2025-05-26 13:53:17,230 - httpx - INFO - _send_single_request - HTTP Request: POST http://localhost:11434/api/generate \"HTTP/1.1 200 OK\"\n",
      "Running evaluation:  91%|█████████ | 297/328 [2:05:06<12:51, 24.90s/it]2025-05-26 13:53:42,924 - httpx - INFO - _send_single_request - HTTP Request: POST http://localhost:11434/api/generate \"HTTP/1.1 200 OK\"\n",
      "Running evaluation:  91%|█████████ | 298/328 [2:05:32<12:34, 25.14s/it]2025-05-26 13:54:04,958 - httpx - INFO - _send_single_request - HTTP Request: POST http://localhost:11434/api/generate \"HTTP/1.1 200 OK\"\n",
      "Running evaluation:  91%|█████████ | 299/328 [2:05:54<11:41, 24.20s/it]2025-05-26 13:54:26,389 - httpx - INFO - _send_single_request - HTTP Request: POST http://localhost:11434/api/generate \"HTTP/1.1 200 OK\"\n",
      "Running evaluation:  91%|█████████▏| 300/328 [2:06:15<10:54, 23.37s/it]2025-05-26 13:54:44,454 - httpx - INFO - _send_single_request - HTTP Request: POST http://localhost:11434/api/generate \"HTTP/1.1 200 OK\"\n",
      "Running evaluation:  92%|█████████▏| 301/328 [2:06:33<09:48, 21.78s/it]2025-05-26 13:55:01,062 - httpx - INFO - _send_single_request - HTTP Request: POST http://localhost:11434/api/generate \"HTTP/1.1 200 OK\"\n",
      "Running evaluation:  92%|█████████▏| 302/328 [2:06:50<08:45, 20.23s/it]2025-05-26 13:55:28,680 - httpx - INFO - _send_single_request - HTTP Request: POST http://localhost:11434/api/generate \"HTTP/1.1 200 OK\"\n",
      "Running evaluation:  92%|█████████▏| 303/328 [2:07:17<09:21, 22.45s/it]2025-05-26 13:55:44,673 - httpx - INFO - _send_single_request - HTTP Request: POST http://localhost:11434/api/generate \"HTTP/1.1 200 OK\"\n",
      "Running evaluation:  93%|█████████▎| 304/328 [2:07:33<08:12, 20.51s/it]2025-05-26 13:56:15,905 - httpx - INFO - _send_single_request - HTTP Request: POST http://localhost:11434/api/generate \"HTTP/1.1 200 OK\"\n",
      "Running evaluation:  93%|█████████▎| 305/328 [2:08:05<09:05, 23.73s/it]2025-05-26 13:56:43,251 - httpx - INFO - _send_single_request - HTTP Request: POST http://localhost:11434/api/generate \"HTTP/1.1 200 OK\"\n",
      "Running evaluation:  93%|█████████▎| 306/328 [2:08:32<09:05, 24.81s/it]2025-05-26 13:57:07,309 - httpx - INFO - _send_single_request - HTTP Request: POST http://localhost:11434/api/generate \"HTTP/1.1 200 OK\"\n",
      "Running evaluation:  94%|█████████▎| 307/328 [2:08:56<08:36, 24.59s/it]2025-05-26 13:57:23,528 - httpx - INFO - _send_single_request - HTTP Request: POST http://localhost:11434/api/generate \"HTTP/1.1 200 OK\"\n",
      "Running evaluation:  94%|█████████▍| 308/328 [2:09:12<07:21, 22.08s/it]2025-05-26 13:57:44,341 - httpx - INFO - _send_single_request - HTTP Request: POST http://localhost:11434/api/generate \"HTTP/1.1 200 OK\"\n",
      "Running evaluation:  94%|█████████▍| 309/328 [2:09:33<06:52, 21.70s/it]2025-05-26 13:58:09,096 - httpx - INFO - _send_single_request - HTTP Request: POST http://localhost:11434/api/generate \"HTTP/1.1 200 OK\"\n",
      "Running evaluation:  95%|█████████▍| 310/328 [2:09:58<06:47, 22.61s/it]2025-05-26 13:58:40,544 - httpx - INFO - _send_single_request - HTTP Request: POST http://localhost:11434/api/generate \"HTTP/1.1 200 OK\"\n",
      "Running evaluation:  95%|█████████▍| 311/328 [2:10:29<07:09, 25.26s/it]2025-05-26 13:58:58,143 - httpx - INFO - _send_single_request - HTTP Request: POST http://localhost:11434/api/generate \"HTTP/1.1 200 OK\"\n",
      "Running evaluation:  95%|█████████▌| 312/328 [2:10:47<06:07, 22.96s/it]2025-05-26 13:59:31,238 - httpx - INFO - _send_single_request - HTTP Request: POST http://localhost:11434/api/generate \"HTTP/1.1 200 OK\"\n",
      "Running evaluation:  95%|█████████▌| 313/328 [2:11:20<06:30, 26.00s/it]2025-05-26 13:59:53,739 - httpx - INFO - _send_single_request - HTTP Request: POST http://localhost:11434/api/generate \"HTTP/1.1 200 OK\"\n",
      "Running evaluation:  96%|█████████▌| 314/328 [2:11:42<05:49, 24.95s/it]2025-05-26 14:00:16,391 - httpx - INFO - _send_single_request - HTTP Request: POST http://localhost:11434/api/generate \"HTTP/1.1 200 OK\"\n",
      "Running evaluation:  96%|█████████▌| 315/328 [2:12:05<05:15, 24.26s/it]2025-05-26 14:00:38,176 - httpx - INFO - _send_single_request - HTTP Request: POST http://localhost:11434/api/generate \"HTTP/1.1 200 OK\"\n",
      "Running evaluation:  96%|█████████▋| 316/328 [2:12:27<04:42, 23.52s/it]2025-05-26 14:01:02,372 - httpx - INFO - _send_single_request - HTTP Request: POST http://localhost:11434/api/generate \"HTTP/1.1 200 OK\"\n",
      "Running evaluation:  97%|█████████▋| 317/328 [2:12:51<04:20, 23.72s/it]2025-05-26 14:01:19,862 - httpx - INFO - _send_single_request - HTTP Request: POST http://localhost:11434/api/generate \"HTTP/1.1 200 OK\"\n",
      "Running evaluation:  97%|█████████▋| 318/328 [2:13:08<03:38, 21.85s/it]2025-05-26 14:01:48,305 - httpx - INFO - _send_single_request - HTTP Request: POST http://localhost:11434/api/generate \"HTTP/1.1 200 OK\"\n",
      "Running evaluation:  97%|█████████▋| 319/328 [2:13:37<03:34, 23.83s/it]2025-05-26 14:02:04,663 - httpx - INFO - _send_single_request - HTTP Request: POST http://localhost:11434/api/generate \"HTTP/1.1 200 OK\"\n",
      "Running evaluation:  98%|█████████▊| 320/328 [2:13:53<02:52, 21.59s/it]2025-05-26 14:02:39,914 - httpx - INFO - _send_single_request - HTTP Request: POST http://localhost:11434/api/generate \"HTTP/1.1 200 OK\"\n",
      "Running evaluation:  98%|█████████▊| 321/328 [2:14:29<02:59, 25.69s/it]2025-05-26 14:03:02,972 - httpx - INFO - _send_single_request - HTTP Request: POST http://localhost:11434/api/generate \"HTTP/1.1 200 OK\"\n",
      "Running evaluation:  98%|█████████▊| 322/328 [2:14:52<02:29, 24.90s/it]2025-05-26 14:03:22,446 - httpx - INFO - _send_single_request - HTTP Request: POST http://localhost:11434/api/generate \"HTTP/1.1 200 OK\"\n",
      "Running evaluation:  98%|█████████▊| 323/328 [2:15:11<01:56, 23.27s/it]2025-05-26 14:03:47,137 - httpx - INFO - _send_single_request - HTTP Request: POST http://localhost:11434/api/generate \"HTTP/1.1 200 OK\"\n",
      "Running evaluation:  99%|█████████▉| 324/328 [2:15:36<01:34, 23.70s/it]2025-05-26 14:04:09,758 - httpx - INFO - _send_single_request - HTTP Request: POST http://localhost:11434/api/generate \"HTTP/1.1 200 OK\"\n",
      "Running evaluation:  99%|█████████▉| 325/328 [2:15:58<01:10, 23.37s/it]2025-05-26 14:04:38,730 - httpx - INFO - _send_single_request - HTTP Request: POST http://localhost:11434/api/generate \"HTTP/1.1 200 OK\"\n",
      "Running evaluation:  99%|█████████▉| 326/328 [2:16:27<00:50, 25.05s/it]2025-05-26 14:04:56,458 - httpx - INFO - _send_single_request - HTTP Request: POST http://localhost:11434/api/generate \"HTTP/1.1 200 OK\"\n",
      "Running evaluation: 100%|█████████▉| 327/328 [2:16:45<00:22, 22.86s/it]2025-05-26 14:05:31,394 - httpx - INFO - _send_single_request - HTTP Request: POST http://localhost:11434/api/generate \"HTTP/1.1 200 OK\"\n",
      "Running evaluation: 100%|██████████| 328/328 [2:17:20<00:00, 25.12s/it]\n"
     ]
    }
   ],
   "source": [
    "model = Classify_patent(client=ai_client, model_name=\"qwen3:14b\", prompt_name=\"sdg_label_prompt_short\")\n",
    "run_evaluation(model=model, testset_path=\"../src/ai/testsets/testset_v3_en_labeled.jsonl\", \n",
    "               output_path=\"../src/ai/evaluations/llm_prompt_short_14b.jsonl\")"
   ]
  },
  {
   "cell_type": "markdown",
   "id": "fe4ca377",
   "metadata": {},
   "source": [
    "### 5.2. Plot evaluation"
   ]
  },
  {
   "cell_type": "code",
   "execution_count": 11,
   "id": "bf526cd4",
   "metadata": {},
   "outputs": [
    {
     "name": "stdout",
     "output_type": "stream",
     "text": [
      "\n",
      "=== META DATA ===\n",
      "model_name: qwen3:4b\n",
      "testset_path: ../src/ai/testsets/testset_v3_en_labeled.jsonl\n",
      "prompt_template_path: sdg_label_prompt_short.md\n",
      "date_creation: 2025-05-24T23:57:21.573880\n",
      "\n",
      "=== EVALUATION RESULTS ===\n",
      "Total predictions: 328\n",
      "Correct predictions: 148\n",
      "Accuracy: 0.4512 (45.12%)\n",
      "Total time: 3743.36 seconds\n",
      "Average prediction time: 11.4127 seconds\n",
      "Predictions per second: 0.09\n",
      "Incorrect predictions: 180\n",
      "Results loaded from: ../src/ai/evaluations/llm_prompt_short_4b.jsonl\n",
      "\n",
      "=== SDG BREAKDOWN ===\n",
      "None: 26/50 (52.00%)\n",
      "SDG10: 0/12 (0.00%)\n",
      "SDG11: 3/18 (16.67%)\n",
      "SDG12: 9/50 (18.00%)\n",
      "SDG13: 14/18 (77.78%)\n",
      "SDG14: 4/5 (80.00%)\n",
      "SDG15: 1/4 (25.00%)\n",
      "SDG16: 0/2 (0.00%)\n",
      "SDG2: 1/3 (33.33%)\n",
      "SDG3: 33/50 (66.00%)\n",
      "SDG4: 2/7 (28.57%)\n",
      "SDG6: 15/27 (55.56%)\n",
      "SDG7: 11/32 (34.38%)\n",
      "SDG9: 29/50 (58.00%)\n",
      "\n",
      "=== SAMPLE INCORRECT PREDICTIONS ===\n",
      "\n",
      "Example 1:\n",
      "Patent: EP4054160A1\n",
      "Description: Further, the switch 128L may be a pressure sensitive or membrane switch defined as a fingertip-sized...\n",
      "True SDG: SDG16\n",
      "Predicted SDG: ['None']\n",
      "\n",
      "Example 2:\n",
      "Patent: EP4424379A2\n",
      "Description: The administration of the pharmaceutical compositions described herein can be intermittent, or at a ...\n",
      "True SDG: SDG3\n",
      "Predicted SDG: ['None']\n",
      "\n",
      "Example 3:\n",
      "Patent: EP4287161A1\n",
      "Description: According to the driving assistance system 100 of the embodiment described above, the following effe...\n",
      "True SDG: SDG11\n",
      "Predicted SDG: ['None']\n",
      "\n",
      "Example 4:\n",
      "Patent: EP3786586A1\n",
      "Description: In order to add the constraint based on the current pose of the vehicle, a modification is made to t...\n",
      "True SDG: SDG9\n",
      "Predicted SDG: ['None']\n",
      "\n",
      "Example 5:\n",
      "Patent: EP4380208A1\n",
      "Description: According to a seventeenth aspect, a chip system is provided. The chip system includes one or more p...\n",
      "True SDG: None\n",
      "Predicted SDG: ['SDG9']\n"
     ]
    }
   ],
   "source": [
    "show_evaluation_mono(\"../src/ai/evaluations/llm_prompt_short_4b.jsonl\")"
   ]
  },
  {
   "cell_type": "code",
   "execution_count": 12,
   "id": "9092392c",
   "metadata": {},
   "outputs": [
    {
     "name": "stdout",
     "output_type": "stream",
     "text": [
      "\n",
      "=== META DATA ===\n",
      "model_name: qwen3:14b\n",
      "testset_path: ../src/ai/testsets/testset_v3_en_labeled.jsonl\n",
      "prompt_template_path: sdg_label_prompt_short.md\n",
      "date_creation: 2025-05-25T06:50:25.656681\n",
      "\n",
      "=== EVALUATION RESULTS ===\n",
      "Total predictions: 328\n",
      "Correct predictions: 168\n",
      "Accuracy: 0.5122 (51.22%)\n",
      "Total time: 7865.16 seconds\n",
      "Average prediction time: 23.9791 seconds\n",
      "Predictions per second: 0.04\n",
      "Incorrect predictions: 160\n",
      "Results loaded from: ../src/ai/evaluations/llm_prompt_short_14b.jsonl\n",
      "\n",
      "=== SDG BREAKDOWN ===\n",
      "None: 33/50 (66.00%)\n",
      "SDG10: 0/12 (0.00%)\n",
      "SDG11: 2/18 (11.11%)\n",
      "SDG12: 8/50 (16.00%)\n",
      "SDG13: 14/18 (77.78%)\n",
      "SDG14: 3/5 (60.00%)\n",
      "SDG15: 2/4 (50.00%)\n",
      "SDG16: 1/2 (50.00%)\n",
      "SDG2: 0/3 (0.00%)\n",
      "SDG3: 38/50 (76.00%)\n",
      "SDG4: 2/7 (28.57%)\n",
      "SDG6: 15/27 (55.56%)\n",
      "SDG7: 7/32 (21.88%)\n",
      "SDG9: 43/50 (86.00%)\n",
      "\n",
      "=== SAMPLE INCORRECT PREDICTIONS ===\n",
      "\n",
      "Example 1:\n",
      "Patent: EP4054160A1\n",
      "Description: Further, the switch 128L may be a pressure sensitive or membrane switch defined as a fingertip-sized...\n",
      "True SDG: SDG16\n",
      "Predicted SDG: ['None']\n",
      "\n",
      "Example 2:\n",
      "Patent: EP4287161A1\n",
      "Description: According to the driving assistance system 100 of the embodiment described above, the following effe...\n",
      "True SDG: SDG11\n",
      "Predicted SDG: ['None']\n",
      "\n",
      "Example 3:\n",
      "Patent: EP3786586A1\n",
      "Description: In order to add the constraint based on the current pose of the vehicle, a modification is made to t...\n",
      "True SDG: SDG9\n",
      "Predicted SDG: ['None']\n",
      "\n",
      "Example 4:\n",
      "Patent: EP3786187A1\n",
      "Description: We next sought to evaluate whether inhibitory anti-hGARP mAbs could inhibit human Treg function in v...\n",
      "True SDG: SDG3\n",
      "Predicted SDG: ['None']\n",
      "\n",
      "Example 5:\n",
      "Patent: EP4333357A2\n",
      "Description: Hash collision bounties could be implemented on the blockchain by constructing a transaction output ...\n",
      "True SDG: SDG9\n",
      "Predicted SDG: ['None']\n"
     ]
    }
   ],
   "source": [
    "show_evaluation_mono(\"../src/ai/evaluations/llm_prompt_short_14b.jsonl\")"
   ]
  },
  {
   "cell_type": "markdown",
   "id": "c8df854b",
   "metadata": {},
   "source": [
    "## 6. Conclusion"
   ]
  },
  {
   "cell_type": "code",
   "execution_count": 20,
   "id": "6cca953b",
   "metadata": {},
   "outputs": [],
   "source": [
    "import json\n",
    "import matplotlib.pyplot as plt\n",
    "import pandas as pd\n",
    "import seaborn as sns\n",
    "from collections import defaultdict\n",
    "from pathlib import Path\n",
    "import numpy as np\n",
    "import re\n",
    "\n",
    "def analyse_lists(list1, list2):\n",
    "    \"\"\"\n",
    "    Compare two lists and return similarity metrics.\n",
    "\n",
    "    Args:\n",
    "        list1 (list): First list (e.g., true SDGs)\n",
    "        list2 (list): Second list (e.g., predicted SDGs)\n",
    "\n",
    "    Returns:\n",
    "        tuple: (number of unique elements, number of common elements)\n",
    "    \"\"\"\n",
    "    unique_count = len(set(list1) | set(list2))\n",
    "    common_count = len(set(list1) & set(list2))\n",
    "    return unique_count, common_count\n",
    "\n",
    "\n",
    "def compare_models_evaluation(evaluation_paths: list, extract_all_sdgs_func=None):\n",
    "    \"\"\"\n",
    "    Compare multiple model evaluations from JSONL files using custom accuracy based on list overlap.\n",
    "\n",
    "    Args:\n",
    "        evaluation_paths (list): List of paths to JSONL evaluation files\n",
    "        extract_all_sdgs_func (function): Function to extract SDGs from predictions\n",
    "\n",
    "    Returns:\n",
    "        dict: Dictionary containing comparison results and DataFrames\n",
    "    \"\"\"\n",
    "    \n",
    "    # Default SDG extraction function\n",
    "    if extract_all_sdgs_func is None:\n",
    "        def extract_all_sdgs_func(sdg_string):\n",
    "            if not sdg_string:\n",
    "                return []\n",
    "            return list(set(re.findall(r'SDG\\d+', str(sdg_string))))\n",
    "\n",
    "    models_results = {}\n",
    "    comparison_data = []\n",
    "\n",
    "    # Process each model file\n",
    "    for eval_path in evaluation_paths:\n",
    "        model_name = Path(eval_path).stem  # Model name from filename\n",
    "\n",
    "        total_predictions = 0\n",
    "        cumulative_accuracy = 0.0\n",
    "        total_time = 0.0\n",
    "        sdg_breakdown = defaultdict(lambda: {\"accuracy_sum\": 0.0, \"count\": 0})\n",
    "        meta_data = {}\n",
    "\n",
    "        with open(f\"../src/ai/evaluations/{eval_path}\", \"r\", encoding=\"utf-8\") as f:\n",
    "            for line in f:\n",
    "                data = json.loads(line)\n",
    "\n",
    "                if \"meta_data\" in data:\n",
    "                    meta_data = data[\"meta_data\"]\n",
    "                    continue\n",
    "\n",
    "                if \"patent_number\" in data:\n",
    "                    true_sdgs = extract_all_sdgs_func(data.get(\"true_sdg\", \"\"))\n",
    "                    predicted_sdgs = extract_all_sdgs_func(data.get(\"sdg_balise\", \"\"))\n",
    "\n",
    "                    num_unique, num_common = analyse_lists(true_sdgs, predicted_sdgs)\n",
    "                    accuracy = num_common / num_unique if num_unique > 0 else 0.0\n",
    "\n",
    "                    total_predictions += 1\n",
    "                    cumulative_accuracy += accuracy\n",
    "                    total_time += data.get(\"prediction_time\", 0.0)\n",
    "\n",
    "                    for sdg in true_sdgs:\n",
    "                        sdg_breakdown[sdg][\"accuracy_sum\"] += accuracy\n",
    "                        sdg_breakdown[sdg][\"count\"] += 1\n",
    "\n",
    "        avg_accuracy = cumulative_accuracy / total_predictions if total_predictions > 0 else 0.0\n",
    "        avg_prediction_time = total_time / total_predictions if total_predictions > 0 else 0.0\n",
    "        predictions_per_second = total_predictions / total_time if total_time > 0 else 0.0\n",
    "\n",
    "        models_results[model_name] = {\n",
    "            \"accuracy\": avg_accuracy,\n",
    "            \"total_predictions\": total_predictions,\n",
    "            \"total_time\": total_time,\n",
    "            \"avg_prediction_time\": avg_prediction_time,\n",
    "            \"predictions_per_second\": predictions_per_second,\n",
    "            \"sdg_breakdown\": {\n",
    "                sdg: {\n",
    "                    \"avg_accuracy\": stats[\"accuracy_sum\"] / stats[\"count\"]\n",
    "                    if stats[\"count\"] > 0 else 0.0,\n",
    "                    \"count\": stats[\"count\"]\n",
    "                }\n",
    "                for sdg, stats in sdg_breakdown.items()\n",
    "            },\n",
    "            \"meta_data\": meta_data\n",
    "        }\n",
    "\n",
    "        comparison_data.append({\n",
    "            \"Model\": model_name,\n",
    "            \"Accuracy\": avg_accuracy,\n",
    "            \"Total Predictions\": total_predictions,\n",
    "            \"Avg Prediction Time (s)\": avg_prediction_time,\n",
    "            \"Predictions/sec\": predictions_per_second\n",
    "        })\n",
    "\n",
    "    # Create summary DataFrame\n",
    "    comparison_df = pd.DataFrame(comparison_data)\n",
    "\n",
    "    print(\"=== MODEL COMPARISON SUMMARY ===\")\n",
    "    print(comparison_df.round(4).to_string(index=False))\n",
    "    print()\n",
    "\n",
    "    # Create plots\n",
    "    fig, axes = plt.subplots(2, 2, figsize=(15, 12))\n",
    "    fig.suptitle('Model Performance Comparison', fontsize=16, fontweight='bold')\n",
    "\n",
    "    # 1. Accuracy Bar Chart\n",
    "    ax1 = axes[0, 0]\n",
    "    bars1 = ax1.bar(comparison_df['Model'], comparison_df['Accuracy'], \n",
    "                    color=plt.cm.viridis(np.linspace(0, 1, len(comparison_df))))\n",
    "    ax1.set_title('Model Accuracy Comparison')\n",
    "    ax1.set_ylabel('Accuracy')\n",
    "    ax1.set_ylim(0, 1)\n",
    "    for bar in bars1:\n",
    "        height = bar.get_height()\n",
    "        ax1.text(bar.get_x() + bar.get_width()/2., height + 0.01,\n",
    "                 f'{height:.3f}', ha='center', va='bottom')\n",
    "    plt.setp(ax1.get_xticklabels(), rotation=45, ha='right')\n",
    "\n",
    "    # 2. Speed Comparison\n",
    "    ax2 = axes[0, 1]\n",
    "    bars2 = ax2.bar(comparison_df['Model'], comparison_df['Predictions/sec'],\n",
    "                    color=plt.cm.plasma(np.linspace(0, 1, len(comparison_df))))\n",
    "    ax2.set_title('Model Speed Comparison')\n",
    "    ax2.set_ylabel('Predictions per Second')\n",
    "    for bar in bars2:\n",
    "        height = bar.get_height()\n",
    "        ax2.text(bar.get_x() + bar.get_width()/2., height + height*0.01,\n",
    "                 f'{height:.2f}', ha='center', va='bottom')\n",
    "    plt.setp(ax2.get_xticklabels(), rotation=45, ha='right')\n",
    "\n",
    "    # 3. SDG-specific Accuracy Heatmap\n",
    "    ax3 = axes[1, 0]\n",
    "    sdg_comparison_data = []\n",
    "    for model, result in models_results.items():\n",
    "        for sdg, stats in result[\"sdg_breakdown\"].items():\n",
    "            sdg_comparison_data.append({\n",
    "                \"Model\": model,\n",
    "                \"SDG\": sdg,\n",
    "                \"Accuracy\": stats[\"avg_accuracy\"],\n",
    "                \"Count\": stats[\"count\"]\n",
    "            })\n",
    "\n",
    "    if sdg_comparison_data:\n",
    "        sdg_df = pd.DataFrame(sdg_comparison_data)\n",
    "        sdg_pivot = sdg_df.pivot(index=\"SDG\", columns=\"Model\", values=\"Accuracy\")\n",
    "        sns.heatmap(sdg_pivot, annot=True, fmt='.3f', cmap='RdYlGn', \n",
    "                    ax=ax3, cbar_kws={'label': 'Accuracy'})\n",
    "        ax3.set_title('SDG-Specific Accuracy Comparison')\n",
    "        ax3.set_xlabel('Model')\n",
    "        ax3.set_ylabel('SDG')\n",
    "        ax3.set_xticklabels(ax3.get_xticklabels(), rotation=45, ha='right')\n",
    "\n",
    "    \n",
    "    # 4. Accuracy vs Speed Scatter Plot\n",
    "    ax4 = axes[1, 1]\n",
    "    scatter = ax4.scatter(comparison_df['Avg Prediction Time (s)'], \n",
    "                        comparison_df['Accuracy'],\n",
    "                        s=100, alpha=0.7, c=range(len(comparison_df)), \n",
    "                        cmap='tab10')\n",
    "\n",
    "    # Obtenir les limites de l'axe pour ne pas sortir du cadre\n",
    "    x_min, x_max = ax4.get_xlim()\n",
    "    y_min, y_max = ax4.get_ylim()\n",
    "\n",
    "    for i, model in enumerate(comparison_df['Model']):\n",
    "        x = comparison_df.iloc[i]['Avg Prediction Time (s)']\n",
    "        y = comparison_df.iloc[i]['Accuracy']\n",
    "        \n",
    "        # Offset par défaut\n",
    "        dx = 5\n",
    "        dy = 5\n",
    "        ha = 'left'\n",
    "        va = 'bottom'\n",
    "        \n",
    "        # Ajustement pour rester dans les bornes\n",
    "        if x > x_max * 0.95:\n",
    "            dx = -5\n",
    "            ha = 'right'\n",
    "        elif x < x_min * 1.05:\n",
    "            dx = 5\n",
    "            ha = 'left'\n",
    "            \n",
    "        if y > y_max * 0.95:\n",
    "            dy = -5\n",
    "            va = 'top'\n",
    "        elif y < y_min * 1.05:\n",
    "            dy = 5\n",
    "            va = 'bottom'\n",
    "\n",
    "        ax4.annotate(model, \n",
    "                    (x, y),\n",
    "                    xytext=(dx, dy), textcoords='offset points',\n",
    "                    fontsize=9,\n",
    "                    ha=ha, va=va)\n",
    "\n",
    "    ax4.set_title('Accuracy vs Speed Trade-off')\n",
    "    ax4.set_xlabel('Average Prediction Time (seconds)')\n",
    "    ax4.set_ylabel('Accuracy')\n",
    "    ax4.grid(True, alpha=0.3)\n",
    "\n",
    "    plt.tight_layout()\n",
    "    plt.show()\n",
    "    \n",
    "\n",
    "    # SDG Summary Table\n",
    "    if sdg_comparison_data:\n",
    "        print(\"\\n=== DETAILED SDG BREAKDOWN ===\")\n",
    "        sdg_summary = sdg_df.groupby('SDG').agg({\n",
    "            'Accuracy': ['mean', 'std', 'min', 'max'],\n",
    "            'Count': 'sum'\n",
    "        }).round(4)\n",
    "        print(sdg_summary)\n",
    "\n",
    "        # Best and worst SDGs\n",
    "        sdg_mean_accuracy = sdg_df.groupby('SDG')['Accuracy'].mean().sort_values(ascending=False)\n",
    "        print(f\"\\nBest performing SDGs:\")\n",
    "        for sdg, acc in sdg_mean_accuracy.head(3).items():\n",
    "            print(f\"  {sdg}: {acc:.3f}\")\n",
    "        print(f\"\\nWorst performing SDGs:\")\n",
    "        for sdg, acc in sdg_mean_accuracy.tail(3).items():\n",
    "            print(f\"  {sdg}: {acc:.3f}\")\n",
    "\n",
    "    # Ranking based on accuracy and speed\n",
    "    print(f\"\\n=== MODEL RANKING ===\")\n",
    "    ranking_df = comparison_df.copy()\n",
    "    ranking_df['Accuracy_Rank'] = ranking_df['Accuracy'].rank(ascending=False)\n",
    "    ranking_df['Speed_Rank'] = ranking_df['Predictions/sec'].rank(ascending=False)\n",
    "    ranking_df['Overall_Score'] = (ranking_df['Accuracy_Rank'] + ranking_df['Speed_Rank']) / 2\n",
    "    ranking_df = ranking_df.sort_values('Overall_Score')\n",
    "\n",
    "    print(\"Overall Ranking (accuracy + speed):\")\n",
    "    for i, row in ranking_df.iterrows():\n",
    "        print(f\"{int(row['Overall_Score'])}. {row['Model']} \"\n",
    "              f\"(Accuracy: {row['Accuracy']:.3f}, Speed: {row['Predictions/sec']:.2f})\")\n",
    "\n",
    "    return {\n",
    "        \"comparison_df\": comparison_df,\n",
    "        \"models_results\": models_results,\n",
    "        \"sdg_comparison_df\": pd.DataFrame(sdg_comparison_data) if sdg_comparison_data else None,\n",
    "        \"ranking_df\": ranking_df\n",
    "    }\n"
   ]
  },
  {
   "cell_type": "code",
   "execution_count": 21,
   "id": "dc6cc8b6",
   "metadata": {},
   "outputs": [
    {
     "name": "stdout",
     "output_type": "stream",
     "text": [
      "=== MODEL COMPARISON SUMMARY ===\n",
      "                    Model  Accuracy  Total Predictions  Avg Prediction Time (s)  Predictions/sec\n",
      "llm_reproductibility_4b_1    0.5722                328                  12.0372           0.0831\n",
      "  llm_reproductibility_4b    0.5534                328                  16.6166           0.0602\n",
      "llm_model_size_qwen3_1-7b    0.4754                328                   9.4182           0.1062\n",
      "  llm_model_size_qwen3_4b    0.5427                328                  11.8565           0.0843\n",
      "  llm_model_size_qwen3_8b    0.6006                328                  18.5609           0.0539\n",
      " llm_model_size_qwen3_14b    0.6382                328                  27.4902           0.0364\n",
      "      llm_prompt_short_4b    0.5833                328                  11.4127           0.0876\n",
      "     llm_prompt_short_14b    0.6616                328                  25.1228           0.0398\n",
      "\n"
     ]
    },
    {
     "data": {
      "image/png": "[encoded data removed]",
      "text/plain": [
       "<Figure size 1500x1200 with 5 Axes>"
      ]
     },
     "metadata": {},
     "output_type": "display_data"
    },
    {
     "name": "stdout",
     "output_type": "stream",
     "text": [
      "\n",
      "=== DETAILED SDG BREAKDOWN ===\n",
      "      Accuracy                         Count\n",
      "          mean     std     min     max   sum\n",
      "SDG                                         \n",
      "None    0.3994  0.2854  0.0649  0.7922   616\n",
      "SDG10   0.0312  0.0884  0.0000  0.2500    16\n",
      "SDG11   0.4132  0.1481  0.1667  0.6667    48\n",
      "SDG12   0.3069  0.0833  0.1667  0.4167   208\n",
      "SDG13   0.7639  0.0734  0.6389  0.8611   144\n",
      "SDG14   0.8750  0.2673  0.2500  1.0000    32\n",
      "SDG15   0.6250  0.2315  0.5000  1.0000    16\n",
      "SDG16   0.5625  0.2315  0.1250  0.7500    32\n",
      "SDG3    0.8608  0.1088  0.6604  0.9623   424\n",
      "SDG4    0.3750  0.1157  0.2500  0.5000    32\n",
      "SDG6    0.7351  0.1037  0.5476  0.8571   168\n",
      "SDG7    0.4918  0.1738  0.2237  0.8158   152\n",
      "SDG9    0.6064  0.1492  0.2826  0.8098   736\n",
      "\n",
      "Best performing SDGs:\n",
      "  SDG14: 0.875\n",
      "  SDG3: 0.861\n",
      "  SDG13: 0.764\n",
      "\n",
      "Worst performing SDGs:\n",
      "  SDG4: 0.375\n",
      "  SDG12: 0.307\n",
      "  SDG10: 0.031\n",
      "\n",
      "=== MODEL RANKING ===\n",
      "Overall Ranking (accuracy + speed):\n",
      "3. llm_prompt_short_4b (Accuracy: 0.583, Speed: 0.09)\n",
      "4. llm_prompt_short_14b (Accuracy: 0.662, Speed: 0.04)\n",
      "4. llm_reproductibility_4b_1 (Accuracy: 0.572, Speed: 0.08)\n",
      "4. llm_model_size_qwen3_1-7b (Accuracy: 0.475, Speed: 0.11)\n",
      "4. llm_model_size_qwen3_8b (Accuracy: 0.601, Speed: 0.05)\n",
      "5. llm_model_size_qwen3_4b (Accuracy: 0.543, Speed: 0.08)\n",
      "5. llm_model_size_qwen3_14b (Accuracy: 0.638, Speed: 0.04)\n",
      "5. llm_reproductibility_4b (Accuracy: 0.553, Speed: 0.06)\n"
     ]
    }
   ],
   "source": [
    "# Exemple d'utilisation:\n",
    "results = compare_models_evaluation([\n",
    "    \"llm_reproductibility_4b_1.jsonl\",\n",
    "    \"llm_reproductibility_4b.jsonl\",\n",
    "    \"llm_model_size_qwen3_1-7b.jsonl\",\n",
    "    \"llm_model_size_qwen3_4b.jsonl\", \n",
    "    \"llm_model_size_qwen3_8b.jsonl\",\n",
    "    \"llm_model_size_qwen3_14b.jsonl\",\n",
    "    \"llm_prompt_short_4b.jsonl\",\n",
    "    \"llm_prompt_short_14b.jsonl\"\n",
    "    \n",
    "], extract_all_sdgs_func=extract_all_sdgs)"
   ]
  }
 ],
 "metadata": {
  "kernelspec": {
   "display_name": ".venv",
   "language": "python",
   "name": "python3"
  },
  "language_info": {
   "codemirror_mode": {
    "name": "ipython",
    "version": 3
   },
   "file_extension": ".py",
   "mimetype": "text/x-python",
   "name": "python",
   "nbconvert_exporter": "python",
   "pygments_lexer": "ipython3",
   "version": "3.13.2"
  }
 },
 "nbformat": 4,
 "nbformat_minor": 5
}
