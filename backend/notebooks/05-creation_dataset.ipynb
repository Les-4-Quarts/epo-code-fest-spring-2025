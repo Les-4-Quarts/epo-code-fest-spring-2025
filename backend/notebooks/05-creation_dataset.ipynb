{
 "cells": [
  {
   "cell_type": "code",
   "execution_count": 1,
   "id": "d0126afa",
   "metadata": {},
   "outputs": [],
   "source": [
    "from tqdm.notebook import tqdm\n",
    "from api.config.db_config import get_db_connection\n",
    "import random\n",
    "import json\n",
    "import re\n",
    "\n",
    "from ollama import Client\n",
    "\n",
    "client = Client(host=\"http://127.0.0.1:11434\")\n",
    "with open(\"sdg_label_prompt.md\", \"r\") as f:\n",
    "    prompt_template = f.read()\n",
    "        \n",
    "conn = get_db_connection()\n",
    "\n",
    "def get_all_patents_number():\n",
    "    # Fetch the patent data from the database\n",
    "    patent = {}\n",
    "    fetch_patent_query = \"\"\"\n",
    "    SELECT patent.number, en_abstract\n",
    "    FROM patent\n",
    "    WHERE en_abstract IS NOT null\n",
    "    \"\"\"\n",
    "\n",
    "    cursor = conn.cursor()\n",
    "    cursor.execute(fetch_patent_query)\n",
    "    for row  in cursor.fetchall():\n",
    "        patent[row[0]] = row[1]\n",
    "    cursor.close()\n",
    "    return patent\n",
    "\n",
    "\n",
    "def get_description(patent_number):\n",
    "    descriptions = []\n",
    "    fetch_description_query = \"\"\"\n",
    "    SELECT description_number, description_text\n",
    "    FROM patent_description\n",
    "    WHERE patent_number = %s;\n",
    "    \"\"\"\n",
    "    cursor = conn.cursor()\n",
    "    cursor.execute(fetch_description_query, (patent_number,))\n",
    "    fetchall = cursor.fetchall()\n",
    "    for description in fetchall:\n",
    "        descriptions.append({\n",
    "            \"description_number\": description[0],\n",
    "            \"description_text\": description[1]\n",
    "        })\n",
    "    cursor.close()\n",
    "    return descriptions"
   ]
  },
  {
   "cell_type": "code",
   "execution_count": 2,
   "id": "baeb8d4a",
   "metadata": {},
   "outputs": [],
   "source": [
    "patent = get_all_patents_number()\n",
    "random_patent = dict(random.sample(list(patent.items()), 6000))"
   ]
  },
  {
   "cell_type": "code",
   "execution_count": 3,
   "id": "27e23538",
   "metadata": {},
   "outputs": [
    {
     "name": "stdout",
     "output_type": "stream",
     "text": [
      "Début de la création du dataset : ../src/ai/testsets/dataset.jsonl\n"
     ]
    },
    {
     "data": {
      "application/vnd.jupyter.widget-view+json": {
       "model_id": "0d94d6ec909541a6863757a6ae1620e9",
       "version_major": 2,
       "version_minor": 0
      },
      "text/plain": [
       "  0%|          | 0/6000 [00:00<?, ?it/s]"
      ]
     },
     "metadata": {},
     "output_type": "display_data"
    }
   ],
   "source": [
    "output_file_path = \"../src/ai/testsets/dataset.jsonl\"\n",
    "print(f\"Début de la création du dataset : {output_file_path}\")\n",
    "\n",
    "# Ouvrir le fichier en mode écriture ('w')\n",
    "# Il est bon d'utiliser encoding='utf-8' pour les fichiers JSON.\n",
    "with open(output_file_path, \"w\", encoding=\"utf-8\") as f_out:\n",
    "    for key, abs in tqdm(random_patent.items()):\n",
    "        descriptions = get_description(key)\n",
    "        patent_text = f\"{abs}\\n\"\n",
    "        for description in descriptions:\n",
    "            patent_text += f\"{description[\"description_number\"]}: {description[\"description_text\"]}\\n\"\n",
    "        \n",
    "        words_in_text = patent_text.split()\n",
    "        words_in_text_cut = words_in_text[:3000]\n",
    "        patent_text_cut = \" \".join(words_in_text_cut)\n",
    "        f_out.write(json.dumps({key: patent_text_cut}, ensure_ascii=False) + \"\\n\")"
   ]
  }
 ],
 "metadata": {
  "kernelspec": {
   "display_name": ".venv",
   "language": "python",
   "name": "python3"
  },
  "language_info": {
   "codemirror_mode": {
    "name": "ipython",
    "version": 3
   },
   "file_extension": ".py",
   "mimetype": "text/x-python",
   "name": "python",
   "nbconvert_exporter": "python",
   "pygments_lexer": "ipython3",
   "version": "3.13.3"
  }
 },
 "nbformat": 4,
 "nbformat_minor": 5
}
