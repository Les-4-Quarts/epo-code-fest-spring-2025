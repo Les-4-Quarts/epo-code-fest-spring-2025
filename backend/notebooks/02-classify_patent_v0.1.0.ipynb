{
 "cells": [
  {
   "cell_type": "markdown",
   "metadata": {},
   "source": [
    "# Classify Patent — v0.1.0\n",
    "\n",
    "In this notebook, we aim to automatically analyze the content of a patent and associate its text with the United Nations Sustainable Development Goals (SDGs), plus a neutral fallback.\n",
    "The process is divided into two main stages:\n",
    "\n",
    "1. **Classify Description**: Assign each text block in the patent to one of the 17 SDGs or mark it as neutral.\n",
    "2. **Generate Summary**: For each identified SDG, extract relevant text blocks and generate a concise summary.\n"
   ]
  },
  {
   "cell_type": "markdown",
   "metadata": {},
   "source": [
    "## Requirements\n",
    "\n",
    "Please make sure you are in the right environment. To install the required packages, run the following command:\n",
    "\n",
    "```bash\n",
    "poetry install --with dev\n",
    "```\n",
    "\n",
    "Finally, please make sure you configure the Ollama host address in the `config.yaml` file in backend/src/api/config/config.yaml. You can find the `config-example.yaml` file in the same directory. Copy it to `config.yaml` and fill it with your Ollama host address."
   ]
  },
  {
   "cell_type": "markdown",
   "metadata": {},
   "source": [
    "## 1. Classify Description\n",
    "\n",
    "In this section, we classify the description from the patent using a zero-shot classification approach based on [HuggingFace's](https://huggingface.co/models?pipeline_tag=zero-shot-classification&sort=trending).\n",
    "\n",
    "The classification model evaluates the semantic content of each block and assigns it to one of the following:\n",
    "- **17 Sustainable Development Goals (SDGs)**  \n",
    "- **Neutral**, if no SDG alignment is detected"
   ]
  },
  {
   "cell_type": "markdown",
   "metadata": {},
   "source": [
    "\n",
    "### 🔹 Step 1.1. Load a Patent\n",
    "\n",
    "We begin by retrieving a full patent from our data source.\n",
    "\n",
    "The patent is loaded into a `FullPatent` object."
   ]
  },
  {
   "cell_type": "code",
   "execution_count": 1,
   "metadata": {},
   "outputs": [],
   "source": [
    "from api.services.patent_service import get_full_patent_by_number\n",
    "\n",
    "# Retrieve a full patent by its number\n",
    "full_patent = get_full_patent_by_number(\"EP3653777A1\")"
   ]
  },
  {
   "cell_type": "markdown",
   "metadata": {},
   "source": [
    "### 🔹 Step 1.2. Load the SDG Classifier\n",
    "\n",
    "We use HuggingFace's `facebook/bart-large-mnli` zero-shot classification model to associate text blocks with one of the 17 SDGs."
   ]
  },
  {
   "cell_type": "code",
   "execution_count": 2,
   "metadata": {},
   "outputs": [
    {
     "name": "stderr",
     "output_type": "stream",
     "text": [
      "Device set to use cpu\n"
     ]
    }
   ],
   "source": [
    "from transformers import pipeline\n",
    "\n",
    "# Initialize the classifier\n",
    "classifier = pipeline(model=\"facebook/bart-large-mnli\")\n",
    "\n",
    "# Dict of SDG candidate labels\n",
    "sdg_labels_dict = {\n",
    "    \"SDG1\": \"End poverty in all its forms everywhere\", \n",
    "    \"SDG2\": \"End hunger, achieve food security and improved nutrition and promote sustainable agriculture\", \n",
    "    \"SDG3\": \"Ensure healthy lives and promote well-being for all at all ages\", \n",
    "    \"SDG4\": \"Ensure inclusive and equitable quality education and promote lifelong learning opportunities for all\", \n",
    "    \"SDG5\": \"Achieve gender equality and empower all women and girls\", \n",
    "    \"SDG6\": \"Ensure availability and sustainable management of water and sanitation for all\", \n",
    "    \"SDG7\": \"Ensure access to affordable, reliable, sustainable and modern energy for all\", \n",
    "    \"SDG8\": \"Promote sustained, inclusive and sustainable economic growth, full and productive employment and decent work for all\", \n",
    "    \"SDG9\": \"Build resilient infrastructure, promote inclusive and sustainable industrialization and foster innovation\", \n",
    "    \"SDG10\": \"Reduce inequality within and among countries\", \n",
    "    \"SDG11\": \"Make cities and human settlements inclusive, safe, resilient and sustainable\", \n",
    "    \"SDG12\": \"Ensure sustainable consumption and production patterns\", \n",
    "    \"SDG13\": \"Take urgent action to combat climate change and its impacts\", \n",
    "    \"SDG14\": \"Conserve and sustainably use the oceans, seas and marine resources for sustainable development\", \n",
    "    \"SDG15\": \"Protect, restore and promote sustainable use of terrestrial ecosystems, sustainably manage forests, combat desertification, and halt and reverse land degradation and halt biodiversity loss\", \n",
    "    \"SDG16\": \"Promote peaceful and inclusive societies for sustainable development, provide access to justice for all and build effective, accountable and inclusive institutions at all levels\", \n",
    "    \"SDG17\": \"Strengthen the means of implementation and revitalize the Global Partnership for Sustainable Development\"\n",
    "}\n",
    "\n",
    "def get_sdg_code_from_label(label: str, label_dict: dict) -> str:\n",
    "    \"\"\"Reverse lookup SDG code from full label text.\"\"\"\n",
    "    for code, text in label_dict.items():\n",
    "        if label == text:\n",
    "            return code\n",
    "    return \"None\"\n",
    "\n",
    "candidate_label_values = list(sdg_labels_dict.values())"
   ]
  },
  {
   "cell_type": "markdown",
   "metadata": {},
   "source": [
    "### 🔹 Step 1.3. Classify Full Patent Descriptions\n",
    "\n",
    "We classify each description block from the `FullPatent` object.\n",
    "\n",
    "The top SDG label is assigned to the `sdg` field of each `Description` object.  \n",
    "If the model is not confident enough (i.e., the score is too low), we assign `\"None\"`.\n"
   ]
  },
  {
   "cell_type": "code",
   "execution_count": null,
   "metadata": {},
   "outputs": [],
   "source": [
    "from tqdm.notebook import tqdm\n",
    "from api.models.Patent import FullPatent\n",
    "\n",
    "def classify_full_patent_description(patent: FullPatent,\n",
    "                          classifier=classifier,\n",
    "                          candidate_labels=candidate_label_values,\n",
    "                          label_dict=sdg_labels_dict,\n",
    "                          threshold: float = 0) -> FullPatent:\n",
    "    \"\"\"\n",
    "    Classify all descriptionsv block in a FullPatent and enrich them with SDG label.\n",
    "\n",
    "    Args:\n",
    "        patent (FullPatent): The patent to analyze.\n",
    "        classifier: HuggingFace classifier.\n",
    "        candidate_labels (list): SDG label texts.\n",
    "        label_dict (dict): Map from SDG code to label text.\n",
    "        threshold (float): Minimum score to accept prediction.\n",
    "\n",
    "    Returns:\n",
    "        FullPatent: Enriched object.\n",
    "    \"\"\"\n",
    "\n",
    "    for desc in tqdm(patent.description, desc=f\"Classifying {len(patent.description)} descriptions\"):\n",
    "        try:\n",
    "            result = classifier(desc.description_text, candidate_labels)\n",
    "            top_score = result[\"scores\"][0]\n",
    "\n",
    "            if top_score >= threshold:\n",
    "                label_text = result[\"labels\"][0]\n",
    "                label_code = get_sdg_code_from_label(label_text, label_dict)\n",
    "                score = top_score\n",
    "            else:\n",
    "                label_code = \"None\"\n",
    "                score = -1.0\n",
    "\n",
    "            desc.sdg = label_code\n",
    "\n",
    "            print(f\"[{desc.description_number}] Label: {desc.sdg} | Score: {score:.3f} | Text: {desc.description_text}\")\n",
    "\n",
    "        except Exception as e:\n",
    "            print(f\"Error on description {desc.description_number}: {e}\")\n",
    "            desc.sdg = \"Error\"\n",
    "\n",
    "    patent.is_analyzed = True\n",
    "    return patent"
   ]
  },
  {
   "cell_type": "markdown",
   "metadata": {},
   "source": [
    "### 🔹 Step 1.4. Run Classification on the Patent and update in database\n",
    "\n",
    "We now apply the classifier to enrich the `FullPatent` with SDG labels."
   ]
  },
  {
   "cell_type": "code",
   "execution_count": 5,
   "metadata": {},
   "outputs": [
    {
     "data": {
      "application/vnd.jupyter.widget-view+json": {
       "model_id": "d979e98982254e7d85450319f6cf6925",
       "version_major": 2,
       "version_minor": 0
      },
      "text/plain": [
       "Classifying 298 descriptions:   0%|          | 0/298 [00:00<?, ?it/s]"
      ]
     },
     "metadata": {},
     "output_type": "display_data"
    },
    {
     "name": "stdout",
     "output_type": "stream",
     "text": [
      "[1] Label: SDG12 | Score: 0.166 | Text: The present disclosure relates to a tub for a washing machine and a washing machine having the same.\n",
      "[2] Label: SDG9 | Score: 0.130 | Text: In general, a washing machine is a home appliance for removing contaminants on clothes, bedding, or the like (hereinafter referred to as laundry) through processes such as washing, rinsing, dehydrating, drying, and the like, using water, detergent, a mechanical action, and the like.\n",
      "[3] Label: SDG12 | Score: 0.149 | Text: Such washing machine may include a cabinet forming an outer shape of the washing machine, a tub installed inside the cabinet, a drum rotatably installed inside the tub and having a plurality of through-holes through which washing water or foam flows in and out, and a motor installed in the tub to rotate the drum. A rotation shaft of the motor may pass through one side of the tub to be connected to the drum.\n",
      "[4] Label: SDG9 | Score: 0.129 | Text: The tub may define a washing space therein for receiving the drum, and may be opened toward an entrance for inserting and removing the laundry of the washing machine to define a passage through which the laundry is introduced into the drum.\n",
      "[5] Label: SDG12 | Score: 0.109 | Text: When the washing machine is operated for washing the laundry, washing water for the washing is supplied into the tub. When the washing water is sufficiently filled in the tub, the drum is rotated by the motor. When the drum is rotated, the washing water inside the tub flows into and flows out of the drum through the plurality of through-holes defined in the drum, and the washing of the laundry received inside the drum is performed.\n",
      "[6] Label: SDG6 | Score: 0.162 | Text: When the washing is completed, a drain pump disposed in the washing machine is operated, thereby discharging the washing water inside the tub.\n",
      "[7] Label: SDG12 | Score: 0.172 | Text: In one example, an outer shape of the tub may be formed by a combination of a plurality of divided components. That is, the tub may be produced in a state in which the drum is received therein by the combination of the plurality of divided components. Each of the divided plurality of components of the tub may form a portion of the washing space of the tub.\n",
      "[8] Label: SDG12 | Score: 0.139 | Text: For example, the tub may be formed in a substantially cylindrical shape. Further, the tub may include a first case for forming a half of the cylindrical shape and a second case to form the other half.\n",
      "[9] Label: SDG15 | Score: 0.152 | Text: Conventionally, a coupling structure in which a gasket for sealing is provided on a contact face of the first case and the second case, and the first case and the second case are coupled with each other by a fastening member such as a bolt has been applied.\n",
      "[10] Label: SDG9 | Score: 0.118 | Text: Korean Patent Application Publication No. 10-2006-0089786 , which is a prior document, discloses a structure in which an outer shape of a tub 58 of a washing machine is formed by a combination of a tub cover 90 and a tub main body 92.\n",
      "[11] Label: SDG15 | Score: 0.115 | Text: According to the prior document, the tub cover 90 forms a front portion of the tub 58 and the tub main body 92 forms a rear portion of the tub 58. Holes are defined in the tub cover 90 and the tub main body 92 along outer circumferences thereof, and fastening members are coupled into the holes, thereby connecting the tub cover 90 and the tub main body 92 with each other.\n",
      "[12] Label: SDG15 | Score: 0.131 | Text: However, when the first case and the second case, which form the tub, are coupled to each other by the fastening member as in the prior art, after the gasket is disposed between the first case and the second case, the fastening members must be fastened to the plurality of holes defined along the outer circumferences of the first case and the second case.\n",
      "[13] Label: SDG12 | Score: 0.183 | Text: Therefore, work man-hour for assembly of the tub is increased to cause increase of production time of the washing machine.\n",
      "[14] Label: SDG9 | Score: 0.085 | Text: In addition, due to the increase in the number of components such as the gaskets and the fastening members, misassembly of the tub may occur easily, resulting in increased component costs.\n",
      "[15] Label: SDG6 | Score: 0.138 | Text: In addition, when a fastening force of the fastening member is lowered or the gasket is aged, leakage of the washing water between the first case and the second case may occur.\n",
      "[16] Label: SDG9 | Score: 0.145 | Text: The present embodiment provides a tub of a washing machine and a washing machine including the same in which an outer appearance of the tub of the washing machine may be formed by coupling of a first case and a second case, and the first case and the second case may be easily bonded to each other by a welding process.\n",
      "[17] Label: SDG6 | Score: 0.210 | Text: The present embodiment provides a tub of a washing machine and a washing machine including the same in which a first case and a second case may be stably welded to each other by a welding process to prevent leakage of water.\n",
      "[18] Label: SDG12 | Score: 0.234 | Text: The present embodiment provides a tub of a washing machine and a washing machine including the same in which flash generated during welding of a first case and a second case is prevented from flowing into the tub.\n",
      "[19] Label: SDG12 | Score: 0.184 | Text: The present embodiment provides a tub of a washing machine and a washing machine including the same in which a coupling protrusion for welding of a first case and a second case includes a main coupling protrusion and an auxiliary coupling protrusion outward of the main coupling protrusion, and washing water leaked into a space between the main coupling protrusion and the auxiliary coupling protrusion is capable of being discharged to outside.\n",
      "[20] Label: SDG9 | Score: 0.128 | Text: In a first aspect of the present disclosure, there is provided a tub for a washing machine, wherein the tub has a washing space defined therein and filled with washing water, wherein a drum for receiving laundry therein is rotatably disposed in the washing space, the tub including: a first case and a second case welded to be coupled to each other to form the washing space and an outer appearance of the tub; a first coupling surface formed along a circumference of the first case facing the second case; a second coupling surface formed along a circumference of the second case facing the first case and bonded to the first coupling surface; and a coupling protrusion protruding along the first coupling surface to encircle the washing space, wherein a protruding end portion of the coupling protrusion is welded to the second coupling surface, wherein the coupling protrusion includes: a main coupling protrusion protruding along the first coupling surface; and an auxiliary coupling protrusion protruding along the first coupling surface and outwardly spaced apart from the main coupling protrusion, wherein an opening for discharging washing water leaked into a space between the main coupling protrusion and the auxiliary coupling protrusion to an outside of the tub is defined in one side of the auxiliary coupling protrusion.\n",
      "[21] Label: SDG15 | Score: 0.121 | Text: In one implementation, the opening may be defined in at least one of left and right sides of the tub.\n",
      "[22] Label: SDG9 | Score: 0.126 | Text: In one implementation, the opening may be defined at a position vertically higher than a height corresponding to a limiting level (H) of the washing water filled in the washing space.\n",
      "[23] Label: SDG12 | Score: 0.117 | Text: In one implementation, each of the first coupling surface and the second coupling surface respectively located on left and right sides of the washing space may have a vertically straight portion, and only the main coupling protrusion among the main coupling protrusion and the auxiliary coupling protrusion may be formed in the vertically straight portion.\n",
      "[24] Label: SDG12 | Score: 0.107 | Text: In one implementation, the vertically straight portion may be formed at a position higher than the limiting level (H), and the opening may be formed in a region between the limiting level (H) and the vertically straight portion or in a lower portion of the vertically straight portion.\n",
      "[25] Label: SDG15 | Score: 0.155 | Text: In one implementation, the coupling protrusion may include a plurality of connection ribs for connecting the main coupling protrusion and the auxiliary coupling protrusion in the space between the main coupling protrusion and the auxiliary coupling protrusion, wherein the plurality of connection ribs may be spaced apart from each other along the space between the main coupling protrusion and the auxiliary coupling protrusion.\n",
      "[26] Label: SDG9 | Score: 0.132 | Text: In one implementation, each of the connection ribs may be formed to have a height lower than heights of the main coupling protrusion and the auxiliary coupling protrusion in a state where the welding is completed.\n",
      "[27] Label: SDG12 | Score: 0.120 | Text: In one implementation, the auxiliary coupling protrusion may have a radial thickness smaller than a radial thickness of the main coupling protrusion.\n",
      "[28] Label: SDG12 | Score: 0.112 | Text: In one implementation, one of the first case and the second case may form a front portion of the tub and the other forms a rear portion of the tub.\n",
      "[29] Label: SDG9 | Score: 0.111 | Text: In one implementation, the first coupling surface may extend outward of the circumference of the first case, and the second coupling surface may extend outward of the circumference of the second case.\n",
      "[30] Label: SDG9 | Score: 0.123 | Text: In one implementation, the tub may further include: a constraining protrusion protruding along the second coupling surface, the constraining protrusion configured to constrain flash generated during the welding of the coupling protrusion in a space between the first coupling surface and the second coupling surface, wherein the constraining protrusion may be formed in at least one of a region of the second coupling surface located inward than the main coupling protrusion and a region of the second coupling surface located outward than the auxiliary coupling protrusion.\n",
      "[31] Label: SDG9 | Score: 0.110 | Text: In one implementation, the constraining protrusion may be formed only in the region of the second coupling surface located inwardly of the main coupling protrusion.\n",
      "[32] Label: SDG12 | Score: 0.129 | Text: In one implementation, the constraining protrusion may be located inwardly of the main coupling protrusion and spaced apart from the coupling protrusion.\n",
      "[33] Label: SDG9 | Score: 0.138 | Text: In one implementation, the constraining protrusion may protrude to a height which is equal to or less than a height of the coupling protrusion in a state in which the welding is completed.\n",
      "[34] Label: SDG9 | Score: 0.113 | Text: In one implementation, the tub may further include: guide protrusions formed at both sides of the second coupling surface, which face each other with respect to an internal space of the second case to guide the coupling protrusion towards the second coupling defined outside the constraining protrusion, and wherein the guide protrusion may have a slanted surface declined outwardly.\n",
      "[35] Label: SDG9 | Score: 0.120 | Text: In a second aspect of the present disclosure, there is provided a washing machine including: a cabinet having a space defined therein; a tub disposed in the cabinet to define a washing space filled with washing water; and a drum rotatably disposed inside the tub for receiving laundry therein, wherein the tub includes: a first case and a second case welded to be coupled to each other to form the washing space and an outer appearance of the tub; a first coupling surface formed along a circumference of the first case facing the second case; a first coupling surface formed along a circumference of the first case facing the second case; a second coupling surface formed along a circumference of the second case facing the first case and coupled to the first coupling surface; and a coupling protrusion protruding along the first coupling surface to encircle the washing space, wherein a protruding end portion of the coupling protrusion is welded to the second coupling surface, wherein the coupling protrusion includes: a main coupling protrusion protruding along the first coupling surface; an auxiliary coupling protrusion protruding along the first coupling surface and outwardly spaced apart from the main coupling protrusion; and an opening defined in one side of the auxiliary coupling protrusion for discharging washing water leaked into a space between the main coupling protrusion and the auxiliary coupling protrusion to the outside of the tub.\n",
      "[36] Label: SDG9 | Score: 0.131 | Text: In one implementation, an entrance through which the laundry passes may be defined in a front face of the cabinet, wherein the tub and the drum may have a cylindrical shape opened toward the entrance, and wherein the first case and the second case may respectively form a front portion and a rear portion of the tub.\n",
      "[37] Label: SDG15 | Score: 0.121 | Text: In one implementation, the opening may be defined in at least one of left and right sides of the tub.\n",
      "[38] Label: SDG9 | Score: 0.124 | Text: In one implementation, the opening may be defined at position vertically higher than a height corresponding to a limiting level (H) of the washing water filled in the washing space.\n",
      "[39] Label: SDG9 | Score: 0.111 | Text: In one implementation, the first coupling surface may extend outward of the circumference of the first case, and the second coupling surface may extend outward of the circumference of the second case.\n",
      "[40] Label: SDG12 | Score: 0.131 | Text: In one implementation, the space defined in the cabinet may have a width less than a height, each of the first coupling surface and the second coupling surface respectively located on left and right sides of the washing space may have a vertically straight portion, and only the main coupling protrusion among the main coupling protrusion and the auxiliary coupling protrusion may be formed in the vertically straight portion.\n",
      "[41] Label: SDG9 | Score: 0.103 | Text: In one implementation, the vertically straight portion may be formed at a position higher than the limiting level (H), and the opening may be defined in a region between the limiting level (H) and the vertically straight portion or in a lower portion of the vertically straight portion.\n",
      "[42] Label: SDG15 | Score: 0.152 | Text: In one implementation, the coupling protrusion may include a plurality of connection ribs for connecting the main coupling protrusion and the auxiliary coupling protrusion in the space between the main coupling protrusion and the auxiliary coupling protrusion, and the plurality of connection ribs may be spaced apart from each other along the space between the main coupling protrusion and the auxiliary coupling protrusion.\n",
      "[43] Label: SDG9 | Score: 0.136 | Text: In one implementation, the connection ribs may be formed to have a height less than a height of the coupling protrusion in a state where the welding is completed.\n",
      "[44] Label: SDG12 | Score: 0.129 | Text: In one implementation, the auxiliary coupling protrusion may be formed to have a radial thickness less than a radial thickness of the main coupling protrusion.\n",
      "[45] Label: SDG9 | Score: 0.123 | Text: In one implementation, the tub may further include: a constraining protrusion protruding along the second coupling surface, the constraining protrusion configured to constrain flash generated during the welding of the coupling protrusion in a space between the first coupling surface and the second coupling surface, wherein the constraining protrusion may be formed in at least one of a region of the second coupling surface located inward than the main coupling protrusion and a region of the second coupling surface located outward than the auxiliary coupling protrusion.\n",
      "[46] Label: SDG9 | Score: 0.114 | Text: In one implementation, the tub may further include: guide protrusions formed at both sides of the second coupling surface, which face each other with respect to an internal space of the second case to guide the coupling protrusion towards the second coupling surface defined outside the constraining protrusion, and the guide protrusion may have a slanted surface declined outwardly.\n",
      "[47] Label: SDG4 | Score: 0.104 | Text: FIG. 1 is a cross-sectional view illustrating an internal configuration of a washing machine according to an embodiment of the present disclosure.\n",
      "FIG. 2 is a perspective view of a base fan according to an embodiment of the present disclosure.\n",
      "FIG. 3 is a view illustrating a state in which a tub is disassembled according to an embodiment of the present disclosure.\n",
      "FIG. 4 is a rear perspective view of a first case according to an embodiment of the present disclosure.\n",
      "FIG. 5 is an enlarged view of an a1 region of FIG. 4 .\n",
      "FIG. 6 is a front perspective view of a second case according to an embodiment of the present disclosure.\n",
      "FIG. 7 is a front view of a second case according to an embodiment of the present disclosure.\n",
      "FIG. 8 is a rear view of a tub according to an embodiment of the present disclosure.\n",
      "FIG. 9 is a view illustrating a welding structure of an upper portion of a tub by cutting the tub along an A'-A\" line of FIG. 8 .\n",
      "FIG. 10 is a view illustrating a welding structure of left and right portions of a tub by cutting the tub along a B'-B\" line of FIG. 8 .\n",
      "FIG. 11 is a view illustrating a welding structure of a lower portion of a tub by cutting the tub along a C'-C\" line of FIG. 8 .\n",
      "[48] Label: SDG4 | Score: 0.114 | Text: Hereinafter, some embodiments of the present disclosure will be described in detail with reference to the accompanying drawings. It should be noted that when components in the drawings are designated by reference numerals, the same components have the same reference numerals as far as possible even though the components are illustrated in different drawings. Further, in description of embodiments of the present disclosure, when it is determined that detailed descriptions of well-known configurations or functions disturb understanding of the embodiments of the present disclosure, the detailed descriptions will be omitted.\n",
      "[49] Label: SDG12 | Score: 0.113 | Text: Also, in the description of the embodiments of the present disclosure, the terms such as first, second, A, B, (a) and (b) may be used. Each of the terms is merely used to distinguish the corresponding component from other components, and does not delimit an essence, an order or a sequence of the corresponding component. It should be understood that when one component is \"connected\", \"coupled\" or \"joined\" to another component, the former may be directly connected or jointed to the latter or may be \"connected\", coupled\" or \"joined\" to the latter with a third component interposed therebetween.\n",
      "[50] Label: SDG12 | Score: 0.124 | Text: FIG. 1 is a cross-sectional view illustrating an internal configuration of a washing machine according to an embodiment of the present disclosure. Further, FIG. 2 is a perspective view of a base fan according to an embodiment of the present disclosure. Further, FIG. 3 is a view illustrating a state in which a tub is disassembled according to an embodiment of the present disclosure.\n",
      "[51] Label: SDG12 | Score: 0.133 | Text: A tub 100 according to an embodiment of the present disclosure may be applied to a general washing machine having a drum with a vertical rotation shaft, or may be applied to a drum washing machine 1 having a horizontal rotation shaft.\n",
      "[52] Label: SDG12 | Score: 0.242 | Text: Hereinafter, it will be described that the tub 100 is disposed in the drum washing machine 1, as an example.\n",
      "[53] Label: SDG9 | Score: 0.101 | Text: An outer appearance of the drum washing machine 1 may be formed by a main body 10 and a door 20.\n",
      "[54] Label: SDG9 | Score: 0.122 | Text: A space may be defined inside the main body 10. The outer appearance of the main body 10 may be formed by a cabinet 11, a top cover 12, and a base fan 13.\n",
      "[55] Label: SDG12 | Score: 0.101 | Text: In detail, the cabinet 11 may be formed in a box shape with open top surface and bottom surface. The cabinet 11 may form a peripheral surface of the main body 10.\n",
      "[56] Label: SDG9 | Score: 0.127 | Text: An entrance 11a through which the laundry passes may be defined in a front surface of the cabinet 11.\n",
      "[57] Label: SDG15 | Score: 0.131 | Text: The top cover 12 may be mounted on a top surface of the cabinet 11 to form a top surface of the main body 10. That is, the top cover 12 may be provided to cover the top surface of the cabinet 11.\n",
      "[58] Label: SDG15 | Score: 0.114 | Text: The base fan 13 may be mounted on a bottom surface of the cabinet 11 to form a bottom surface of the main body 10. That is, the base fan 13 may be provided to cover the bottom surface of the cabinet 11.\n",
      "[59] Label: SDG15 | Score: 0.098 | Text: The base fan 13 may have a bottom surface that covers the bottom surface of the cabinet 11 and edges protruding along a perimeter of the bottom surface.\n",
      "[60] Label: SDG15 | Score: 0.109 | Text: The edges of the base fan 13 may be coupled to the cabinet 11 in a state overlapping with a lower peripheral surface of the cabinet 11.\n",
      "[61] Label: SDG12 | Score: 0.170 | Text: In one example, the base fan 13 may have electric parts mounting portions 13a on which electric parts are mounted. The electrical parts may include a drain pump 17 to be described later.\n",
      "[62] Label: SDG15 | Score: 0.137 | Text: The electric parts mounting portions 13a may protrude from the bottom surface of the base fan 13 to allow the mounted electric parts to be spaced apart from the bottom surface of the base fan 13. In this connection, the electric parts mounting portions 13a may be applied in various sizes and shapes corresponding to types and shapes of the electric parts to be mounted.\n",
      "[63] Label: SDG12 | Score: 0.140 | Text: The electric parts mounted on the electric parts mounting portions 13a are spaced apart from the bottom surface of the base fan 13, so that the electric parts may not be come into contact with water and protected even when water leaks inside the main body 10.\n",
      "[64] Label: SDG12 | Score: 0.092 | Text: In detail, in components in the main body 10 where washing water flows, leakage of the washing water may occur due to poor assembly or defective products.\n",
      "[65] Label: SDG12 | Score: 0.153 | Text: For example, the leakage of the washing water may occur in the tub 100, the water supply pipe 16, the water discharge pipe 18, or the like. When the washing water leaks, the leaked washing water may be collected in the base fan 13. In this connection, when the electric parts mounted on the base fan 13 are located on the bottom surface of the base fan 13, failure may occur due to the washing water.\n",
      "[66] Label: SDG12 | Score: 0.200 | Text: However, the electric parts are mounted on the electric parts mounting portions 13a and spaced apart from the bottom surface of the base fan 13, so that contact with the leaked washing water may be prevented.\n",
      "[67] Label: SDG12 | Score: 0.146 | Text: In one example, the base fan 13 may have a leakage detecting sensor 70 for detecting the occurrence of the leakage. The leakage detecting sensor 70 may be provided on the bottom surface of the base fan 13.\n",
      "[68] Label: SDG12 | Score: 0.142 | Text: In this connection, the bottom surface of the base fan 13 may be inclined downward toward a position where the leakage detecting sensor 70 is provided. For example, the leakage detecting sensor 70 may be located approximately at a center of the base fan 13. The bottom surface of the base fan 13 may be inclined downward toward the center. Therefore, the water collected in the base fan 13 may be moved toward the leakage detecting sensor 70, and the leakage may be detected quickly.\n",
      "[69] Label: SDG12 | Score: 0.169 | Text: In one example, the drum washing machine 1 may include a controller for controlling overall operations. The leakage detecting sensor 70 may be connected to the controller and may output a detection signal to the controller when the leakage is detected.\n",
      "[70] Label: SDG9 | Score: 0.116 | Text: The drum washing machine 1 may have an output device electrically connected to the controller for outputting an operation state of the drum washing machine 1.\n",
      "[71] Label: SDG9 | Score: 0.109 | Text: The output device may be a speaker for outputting sound. Alternatively, the output device may be a display for outputting texts or pictures.\n",
      "[72] Label: SDG12 | Score: 0.143 | Text: The speaker and the display may be provided in the main body 10. For example, the display may be provided on an upper portion of the front face of the main body 10. Both or only one of the speaker and the display may be provided.\n",
      "[73] Label: SDG9 | Score: 0.131 | Text: When the leakage is detected by the leakage detecting sensor 70, the controller may output a specific alarm through the output device to allow a user to recognize an abnormal state of the product. Therefore, the user may recognize the occurrence of the leakage via the alarm, and may respond such as stopping use of the product, repair, or the like.\n",
      "[74] Label: SDG12 | Score: 0.146 | Text: In one example, a manipulation unit 14 for manipulating the operation of the drum washing machine 1 may be disposed on the upper portion of the front surface. The manipulation unit 14 may be electrically connected to the controller to transmit a command input by the user to the controller.\n",
      "[75] Label: SDG15 | Score: 0.135 | Text: A detergent box 15 that is retractable into and extendable out of the main body 10 may be provided at the upper portion of the front surface of the main body 10. The user may inject detergent into the detergent box 15 by extending the detergent box 15.\n",
      "[76] Label: SDG6 | Score: 0.116 | Text: The main body 10 may include a water supply pipe 16 for supplying the washing water into the tub 100. The water supply pipe 16 may be connected to an external water supply source and pass through one side of the main body 10 to extend inside the main body 10.\n",
      "[77] Label: SDG6 | Score: 0.141 | Text: The water supply pipe 16 may be connected to the tub 100 via the detergent box 15 to allow the detergent injected into the detergent box 15 to be supplied to the tub 100 together with the washing water.\n",
      "[78] Label: SDG6 | Score: 0.135 | Text: The drain pump 17 and the water discharge pipe 18 for circulating or discharging the washing water may be arranged inside the main body 10 and below the tub 100.\n",
      "[79] Label: SDG6 | Score: 0.130 | Text: The drain pump 17 may be mounted on the electric parts mounting portion 13a of the base fan 13.\n",
      "[80] Label: SDG6 | Score: 0.147 | Text: The water discharge pipe 18 may be connected to one side of the bottom face of the tub 100 and extend out of the main body 10. The drain pump 17 may be connected to one side of the water discharge pipe 18 to force drainage of the washing water.\n",
      "[81] Label: SDG9 | Score: 0.127 | Text: The door 20 may be pivotably provided on the front surface of the main body 10. The door 20 may be provided to open and close the entrance 11a by pivoting.\n",
      "[82] Label: SDG12 | Score: 0.148 | Text: In one example, the drum washing machine 1 may include the tub 100 installed inside the main body 10, the drum 30 rotatably installed in the tub 100, wherein the washing of the laundry is performed in the drum 30, and the motor 40 mounted on the tub 100 to rotate the drum 30.\n",
      "[83] Label: SDG9 | Score: 0.114 | Text: The tub 100 may be formed in a substantially cylindrical shape, and may define therein a washing space 103 filled with the washing water. The drum 30 may be received in the washing space 103 of the tub 100.\n",
      "[84] Label: SDG6 | Score: 0.102 | Text: The tub 100 may be in a form of lying in the main body 10, and a front face thereof facing the entrance 11a may be opened.\n",
      "[85] Label: SDG15 | Score: 0.114 | Text: The tub 100 may be suspended by a spring 19 in the main body 10.\n",
      "[86] Label: SDG9 | Score: 0.113 | Text: A water collecting portion 101 for collecting the washing water therein may be formed in a lower portion of the tub 100. The water collecting portion 101 is formed in a structure in which a bottom face thereof inside the tub 100 is recessed downward, so that the washing water may be easily collected therein.\n",
      "[87] Label: SDG6 | Score: 0.122 | Text: A water drain hole 102 through which the washing water is discharged and in communication with the water discharge pipe 18 may be defined in the water collecting portion 101.\n",
      "[88] Label: SDG15 | Score: 0.116 | Text: The drum 30 is formed in a substantially cylindrical shape to define therein a space for receiving the laundry therein. In this connection, the drum 30 is formed to be smaller than the washing space 103 of the tub 100, so that an outer face of the drum 30 may be spaced apart from an inner face of the tub 100.\n",
      "[89] Label: SDG9 | Score: 0.122 | Text: The drum 30 may be in a form of lying in the tub 100 and may be opened toward the entrance 11a. Therefore, the laundry may be inserted into and removed out of the drum 30 through the entrance 11a.\n",
      "[90] Label: SDG9 | Score: 0.121 | Text: A plurality of holes 31 through which the washing water passes may be defined along a circumference of the drum 30. When the drum 30 is rotated, the washing water supplied into the tub 100 may be supplied into the drum 30 or discharged out of the drum 30 through the holes 31. That is, the washing water in the washing space 103 of the tub 100 may be circulated to the drum 30.\n",
      "[91] Label: SDG15 | Score: 0.133 | Text: The motor 40 may be provided on a rear side of the tub 100. That is, the motor 40 may be provided out of a rear face of the tub 100 opposite to the opened front face of the tub 100. A rotation shaft of the motor 40 may pass through the rear face of the tub 100 and be connected to the drum 30.\n",
      "[92] Label: SDG9 | Score: 0.129 | Text: In this connection, the rotation shaft of the motor 40 may be formed horizontally with the ground. That is, the drum 30 is rotated about the rotation shaft, which is horizontal to the ground, so that the laundry received therein may be moved upward and then dropped.\n",
      "[93] Label: SDG12 | Score: 0.128 | Text: On an inner face of the drum 30, a lift 32 for lifting the laundry during the rotation of the drum 30 may be disposed. The lift 32 may be provided to protrude from an inner circumference of the drum 30. The lift 32 may include a plurality of lifts, and the plurality of lifts 32 may be spaced apart from each other along the inner circumference of the drum 30.\n",
      "[94] Label: SDG6 | Score: 0.110 | Text: When the washing machine 1 is operated for the washing, the washing water may be supplied into the washing space 103 of the tub 100 through the water supply pipe 16. The washing water supplied into the tub 100 may be filled from a bottom of the tub 100.\n",
      "[95] Label: SDG6 | Score: 0.131 | Text: The washing water filled in the tub 100 may be circulated into the drum 30 through the holes 31 of the drum 30.\n",
      "[96] Label: SDG9 | Score: 0.138 | Text: When the washing water is sufficiently supplied into the tub 100, the motor 40 may be operated to rotate the drum 30. When the drum 30 is rotated, the laundry inside the drum 30 may be moved upward by the lift 32 and then be washed by the washing water while falling.\n",
      "[97] Label: SDG6 | Score: 0.144 | Text: When the washing is completed, the motor 40 may be stopped, and the drain pump 17 may be operated. When the drain pump 17 is operated, the washing water inside the tub 100 may be discharged to the outside through the water drain hole 102 and the water discharge pipe 18.\n",
      "[98] Label: SDG9 | Score: 0.121 | Text: In one example, an outer appearance of the tub 100 may be formed by coupling of a plurality of divided components. That is, the tub 100 may be configured in a state in which the drum 30 is completely received therein by the coupling of the plurality of divided components.\n",
      "[99] Label: SDG6 | Score: 0.121 | Text: Each of the plurality of components forming the outer appearance of the tub 100 may define a portion of the washing space 103.\n",
      "[100] Label: SDG12 | Score: 0.112 | Text: For example, an overall outer shape of the tub 100 may formed by coupling of the first case 300 and the second case 400.\n",
      "[101] Label: SDG9 | Score: 0.157 | Text: The first case 300 and the second case 400, which are plastic materials, may be injection-molded and provided. The first case 300 and the second case 400 may be bonded to each other by a welding process to form the outer appearance of the tub 100. In this connection, as the welding process, a welding method for generating vibrations in the first case 300 and the second case 400 may be applied.\n",
      "[102] Label: SDG9 | Score: 0.104 | Text: The first case 300 may form approximately half of the tub 100 in the cylindrical shape. Further, the second case 400 may form the other half of the tub 100 in the cylindrical shape.\n",
      "[103] Label: SDG4 | Score: 0.113 | Text: Referring to FIG. 1 , it may be understood that the first case 300 forms a front portion of the tub 100 located close to the front face of the main body 10. Accordingly, the first case 300 may be referred to as a 'front case'.\n",
      "[104] Label: SDG4 | Score: 0.112 | Text: It may be understood that the second case 400 forms a rear portion of the tub 100 located close to the rear face of the main body 10. Accordingly, the second case 400 may be referred to as a 'rear case'.\n",
      "[105] Label: SDG9 | Score: 0.110 | Text: The first case 300 may be formed in a substantially cylindrical shape so as to define a portion of the washing space 103. In this connection, the first case 300 may be formed in a cylindrical shape with opened front and rear faces.\n",
      "[106] Label: SDG9 | Score: 0.122 | Text: That is, a front face of the first case 300 may be opened such that the laundry may be inserted therein and removed therefrom. A rear face of the first case 300 may also be opened such that an internal space of the first case 300 is in communication with an internal space of the second case 400.\n",
      "[107] Label: SDG6 | Score: 0.103 | Text: A front portion of the washing space 103 may be defined by the internal space of the first case 300.\n",
      "[108] Label: SDG12 | Score: 0.119 | Text: The second case 400 may be formed in a substantially cylindrical shape so as to form the remaining portion of the washing space 103.\n",
      "[109] Label: SDG15 | Score: 0.133 | Text: In this connection, the second case 400 may be formed in a cylindrical shape with an opened front face. That is, a front face of the second case 400 may be opened such that the internal space of the second case 400 is in communication with the internal space of the first case 300.\n",
      "[110] Label: SDG6 | Score: 0.105 | Text: A rear portion of the washing space 103 may be defined by the internal space of the second case 400.\n",
      "[111] Label: SDG4 | Score: 0.117 | Text: A shaft through-hole 401 through which the rotation shaft of the motor 40 passes may be defined in the rear face of the second case 400.\n",
      "[112] Label: SDG15 | Score: 0.144 | Text: Faces of the first case 300 and the second case 400 facing each other may be formed in a shape corresponding to each other. For example, the rear face of the first case 300 and the front face of the second case 400 may be formed in a ring shape having a size corresponding to each other.\n",
      "[113] Label: SDG9 | Score: 0.146 | Text: Thus, the first case 300 and the second case 400 may form the outer appearance of the tub 100 by coupling of the faces facing each other, thereby defining the washing space 103 of the tub 100.\n",
      "[114] Label: SDG15 | Score: 0.123 | Text: The drum 30 may be inserted into an internal space of the first case 300 and the second case 400 in a state in which the first case 300 and the second case 400 are separated from each other. The drum 30 may be coupled to the rotation shaft of the motor 40 passing through the shaft through-hole 401 of the second case 400.\n",
      "[115] Label: SDG15 | Score: 0.116 | Text: The drum 30 may be rotatably received in the washing space 103 by the coupling of the first case 300 and the second case 400.\n",
      "[116] Label: SDG12 | Score: 0.169 | Text: In one example, the faces of the first case 300 and the second case 400 facing each other should be coupled with each other in an airtight manner such that leakage does not occur in the tub 100.\n",
      "[117] Label: SDG12 | Score: 0.137 | Text: To this end, coupling surfaces extending vertically outwards may be respectively formed on the faces of the first case 300 and the second case 400 that face each other.\n",
      "[118] Label: SDG15 | Score: 0.128 | Text: In detail, a first coupling surface 310 extending vertically outwards along an outer circumference of the first case 300 may be formed on the rear face of the first case 300. That is, the first coupling surface 310 extending vertically outwards along a circumference of the rear face may be formed on the rear face of the first case 300.\n",
      "[119] Label: SDG15 | Score: 0.148 | Text: A second coupling surface 410 extending vertically outwards along an outer circumference of the second case 400 may be formed on the front face of the second case 400. That is, the second coupling surface 410 extending vertically outwards along a circumference of the front face may be formed on the front face of the second case 400.\n",
      "[120] Label: SDG15 | Score: 0.134 | Text: The first coupling surface 310 and the second coupling surface 410 may be formed to have a shape and area corresponding to each other.\n",
      "[121] Label: SDG15 | Score: 0.135 | Text: The coupling surface 310 and the second coupling surface 410 may be bonded to each other by the welding process in an airtight manner.\n",
      "[122] Label: SDG12 | Score: 0.093 | Text: Hereinafter, with reference to the drawings, structures and a coupling structure of the first case 300 and the second case 400 will be described in more detail.\n",
      "[123] Label: SDG12 | Score: 0.105 | Text: FIG. 4 is a rear perspective view of a first case according to an embodiment of the present disclosure. FIG. 5 is an enlarged view of an al region of FIG. 4 .\n",
      "[124] Label: SDG15 | Score: 0.146 | Text: The first coupling surface 310 may be formed on the rear face of the first case 300.\n",
      "[125] Label: SDG4 | Score: 0.116 | Text: A coupling protrusion 320 may be formed on the first coupling surface 310.\n",
      "[126] Label: SDG15 | Score: 0.112 | Text: The coupling protrusion 320 may protrude rearward from the rear face of the first case 300. That is, the coupling protrusion 320 may protrude perpendicularly from the first coupling surface 310.\n",
      "[127] Label: SDG4 | Score: 0.121 | Text: The coupling protrusion 320 may be formed along the first coupling surface 310 and may be formed on an entirety of a circumference of the rear face of the first case 300.\n",
      "[128] Label: SDG15 | Score: 0.134 | Text: In detail, the coupling protrusion 320 may include a main coupling protrusion 321 and an auxiliary coupling protrusion 322.\n",
      "[129] Label: SDG15 | Score: 0.151 | Text: The main coupling protrusion 321 may be formed to be radially thicker than the auxiliary coupling protrusion 322.\n",
      "[130] Label: SDG15 | Score: 0.123 | Text: The main coupling protrusion 321 may be formed along the first coupling surface 310 and may be formed on an entirety of the circumference of the rear face of the first case 300. That is, the main coupling protrusion 321 may have a closed ring structure formed along the circumference of the first coupling surface 310.\n",
      "[131] Label: SDG15 | Score: 0.148 | Text: The auxiliary coupling protrusion 322 may be formed along the first coupling surface 310. In this connection, the auxiliary coupling protrusion 322 may be located outward of the main coupling protrusion 321 on the first coupling surface 310. Further, the auxiliary coupling protrusion 322 may be spaced outward from the main coupling protrusion 321.\n",
      "[132] Label: SDG12 | Score: 0.130 | Text: In one example, the main coupling protrusion 321 is located inward than the auxiliary coupling protrusion 322 but located slightly spaced outward from an inner end of the first coupling surface 310. That is, the main coupling protrusion 321 may be located between the auxiliary coupling protrusion 322 and the inner end of the first coupling surface 310.\n",
      "[133] Label: SDG15 | Score: 0.144 | Text: The auxiliary coupling protrusion 322 is located outward than the main coupling protrusion 321 but located slightly spaced inward from an outer end of the first coupling surface 310. That is, the auxiliary coupling protrusion 322 may be located between the outer end of the first coupling surface 310 and the main coupling protrusion 321.\n",
      "[134] Label: SDG9 | Score: 0.108 | Text: In one example, the first coupling surface 310 is formed along an entirety of the circumference of the rear face of the first case 300 but a width thereof extending outward may be different depending on a formation position. That is, it may be seen that an area of the first coupling surface 310 is different depending on the formation position.\n",
      "[135] Label: SDG4 | Score: 0.129 | Text: The auxiliary coupling protrusion 322 may be formed only on a portion of the first coupling surface 310.\n",
      "[136] Label: SDG9 | Score: 0.126 | Text: That is, the main coupling protrusion 321 may be formed on the entirety of the outer circumference of the first coupling surface 310 to encircle the washing space 103, and the auxiliary coupling protrusion 322 may be formed only on a portion of the outer circumference the first coupling surface 310\n",
      "[137] Label: SDG9 | Score: 0.126 | Text: In this connection, the auxiliary coupling protrusion 322 may be formed only on a portion of the first coupling surface 310 with a relatively large area.\n",
      "[138] Label: SDG12 | Score: 0.118 | Text: In detail, in general, a height of the drum washing machine 1 may be greater than a width thereof.\n",
      "[139] Label: SDG12 | Score: 0.124 | Text: That is, a vertical height of the cabinet 11 may be greater than a lateral width thereof. Therefore, a space with a vertical height greater than a lateral width thereof may be secured inside the cabinet 11.\n",
      "[140] Label: SDG12 | Score: 0.147 | Text: Therefore, a space in which the water supply pipe 16 extends and a space in which the spring 19 is disposed may be secured above the tub 100 and inside the cabinet 11. In addition, a space in which components of the drain pump 17, the water discharge pipe 18, and the like are arranged may be secured below the tub 100 and inside the cabinet 11.\n",
      "[141] Label: SDG15 | Score: 0.125 | Text: As the internal space of the cabinet 11 is formed such that the vertical height thereof is greater than the lateral width thereof, an available space with a vertical height greater than a lateral width thereof may be further secured inside the cabinet 11.\n",
      "[142] Label: SDG12 | Score: 0.182 | Text: The tub 100 may be formed to have a lateral width corresponding to the lateral width of the internal space of the cabinet 11 so as to make the best use of the internal space of the cabinet 11. That is, a diameter of a cross section of the tub 100 may be formed to have a length substantially close to the lateral width of the internal space of the cabinet 11.\n",
      "[143] Label: SDG6 | Score: 0.151 | Text: Therefore, the washing space 103 of the tub 100 may be secured to the maximum, and a washing capacity may be effectively secured by securing a maximum size of the drum 30.\n",
      "[144] Label: SDG15 | Score: 0.110 | Text: However, as the lateral width of the available space in the tub 100 inside the cabinet 11 is less than the vertical height thereof, the first coupling surface 310 and the second coupling surface 410 may be limited in length extending outward from left and right sides of the tub 100.\n",
      "[145] Label: SDG15 | Score: 0.118 | Text: Accordingly, the first coupling surface 310 and the second coupling surface 410 may have a length of portions thereof protruding from the left and right sides of the tub 100 less than a length of other portions. That is, the first coupling surface 310 and the second coupling surface 410 may have a relatively small width of the portions protruding from the left and right sides of the tub 100.\n",
      "[146] Label: SDG12 | Score: 0.120 | Text: In this connection, the first coupling surface 310 and the second coupling surface 410 may have ends thereof protruding from the left and right sides of the tub 100 in a form of a straight-line corresponding to left and right inner faces of the cabinet 11. That is, vertically straight portions 311 and 411 having outer ends thereof in a straight-line form may be formed at the left and right sides of the first coupling surface 310 and the second coupling surface 410.\n",
      "[147] Label: SDG12 | Score: 0.146 | Text: In one example, as the vertically straight portion 311 formed on left and right sides of the first case 300 has a relatively small width, it may be difficult to secure an area for forming the main coupling protrusion 321 and the auxiliary coupling protrusion 322 together.\n",
      "[148] Label: SDG16 | Score: 0.101 | Text: Therefore, only the main coupling protrusion 321 may be formed in the vertically straight portion 311 formed at the left and right sides of the first case 300.\n",
      "[149] Label: SDG12 | Score: 0.151 | Text: In one example, a predetermined space may be defined inside the cabinet 10 and above the tub 100. Various auxiliary apparatuses 50 to assist in the washing or drying the laundry may be further arranged in the space above the tub 100.\n",
      "[150] Label: SDG9 | Score: 0.158 | Text: For example, an opening through which air is flowed into or discharged from the tub 100 may be further defined in a top face of the tub 100. The auxiliary apparatus 50 may be a duct for drying or heating the air flowed into the tub 100.\n",
      "[151] Label: SDG9 | Score: 0.137 | Text: Alternatively, the auxiliary apparatus 50 may be a heater that is connected to a water supply plate 16 passing through the space above the tub 100 and heats the washing water supplied into the tub 100.\n",
      "[152] Label: SDG12 | Score: 0.147 | Text: In order to prevent interference with the auxiliary apparatus 50, the first coupling surface 310 and the second coupling surface 410 may be limited in length extending upwardly of the tub 100.\n",
      "[153] Label: SDG15 | Score: 0.134 | Text: Therefore, the first coupling surface 310 formed on an upper side of the first case 300, and the second coupling surface 410 formed on an upper side of the second case 400 may have a relatively small width.\n",
      "[154] Label: SDG16 | Score: 0.112 | Text: Therefore, only the main coupling protrusion 321 may be formed on the first coupling surface 310 formed on the upper side of the first case 300.\n",
      "[155] Label: SDG15 | Score: 0.118 | Text: It may be seen that the auxiliary coupling protrusion 322 is formed on the remaining portions of the first coupling surface 310 except for a portion of the first coupling surface 310 formed on the upper side of the case 300 and portions of the first coupling surface 310 formed on the left and right sides of the first case 300.\n",
      "[156] Label: SDG15 | Score: 0.121 | Text: That is, when viewing the rear face of the first case 300 straight, the auxiliary coupling protrusion 322 may be formed in a shape encircling the entire circumference of the lower portion of the first case 300 and encircling left and right regions except for a middle region of the circumference of the upper portion of the first case 300.\n",
      "[157] Label: SDG4 | Score: 0.123 | Text: It may be seen that the auxiliary coupling protrusion 322 is broken in response to the reduction of the width of the first coupling surface 310 at the left and right sides and the upper side of the first case 300.\n",
      "[158] Label: SDG15 | Score: 0.154 | Text: The broken end of the auxiliary coupling protrusion 322 may extend toward an adjacent main coupling protrusion 321 and may be connected to the main coupling protrusion 321. Alternatively, the broken end of the auxiliary coupling protrusion 322 may be connected to the main coupling protrusion 321 by a connection rib 323 to be described later.\n",
      "[159] Label: SDG12 | Score: 0.131 | Text: In one example, the connection rib 323 may be further provided in a portion in which the main coupling protrusion 321 and the auxiliary coupling protrusion 322 are formed together on the first coupling surface 310.\n",
      "[160] Label: SDG15 | Score: 0.137 | Text: The connection rib 323 may protrude in a space between the main coupling protrusion 321 and the auxiliary coupling protrusion 322 spaced apart from each other. The connection rib 323 may be formed to connect the main coupling protrusion 321 and the auxiliary coupling protrusion 322 with each other.\n",
      "[161] Label: SDG15 | Score: 0.128 | Text: The connection rib 323 may include a plurality of connection ribs 323 spaced apart from each other in the space between the main coupling protrusion 321 and the auxiliary coupling protrusion 322.\n",
      "[162] Label: SDG15 | Score: 0.107 | Text: In this connection, the plurality of connection ribs 323 may be spaced apart from each other along the circumference of the rear face of the case 300.\n",
      "[163] Label: SDG9 | Score: 0.138 | Text: The main coupling protrusion 321 and the auxiliary coupling protrusion 322 may be supported by each other by the connection rib 323, so that strengths of the main and auxiliary coupling protrusions 321 and 322 may be reinforced. Therefore, when an external impact is applied or in the welding process, the main coupling protrusion 321 and the auxiliary coupling protrusion 322 may be prevented from being folded or broken.\n",
      "[164] Label: SDG12 | Score: 0.190 | Text: In one example, a lower portion of the washing space 103, which is where the washing water is collected, may require more stable welding of the first case 300 and the second case 400 to prevent the leakage.\n",
      "[165] Label: SDG12 | Score: 0.151 | Text: To this end, a distance between the plurality of connection ribs 323 may be reduced, so that the plurality of connection ribs 323 may be more densely arranged at the lower portion of the first case 300.\n",
      "[166] Label: SDG9 | Score: 0.119 | Text: Therefore, strengths of the main coupling protrusion 321 and the auxiliary coupling protrusion 322 at the lower side of the first case 300 may become higher. Accordingly, when the first case 300 and the second case 400 are welded with each other, the main coupling protrusion 321 and the auxiliary coupling protrusion 322 at the lower side of the first case 300 are more stably welded with each other.\n",
      "[167] Label: SDG12 | Score: 0.129 | Text: In one example, the main coupling protrusion 321 and the auxiliary coupling protrusion 322 may protrude by heights corresponding to each other. Accordingly, the main coupling protrusion 321 and the auxiliary coupling protrusion 322 may be welded at the same time.\n",
      "[168] Label: SDG12 | Score: 0.163 | Text: In one example, the connection rib 323 may protrude by a height less than that of the main coupling protrusion 321 and the auxiliary coupling protrusion 322. In more detail, the connection rib 323 may have a height less than that of the main coupling protrusion 321 and the auxiliary coupling protrusion 322 in a state in which the welding is completed.\n",
      "[169] Label: SDG15 | Score: 0.136 | Text: Accordingly, division of the space between the main coupling protrusion 321 and the auxiliary coupling protrusion 322 by the connection rib 323 may be prevented. That is, the space between the main coupling protrusion 321 and the auxiliary coupling protrusion 322 may be defined in communication.\n",
      "[170] Label: SDG12 | Score: 0.217 | Text: In one example, a structure in which the connection rib 323 is not disposed may be achieved.\n",
      "[171] Label: SDG12 | Score: 0.203 | Text: In one example, when the drum washing machine 1 for washing the laundry is operated, the washing water may be limited to be filled to a vertical level lower than an intermediate vertical level of the washing space 103.\n",
      "[172] Label: SDG12 | Score: 0.199 | Text: For example, the washing water may be filled inside the washing space 103, but may be limited to be filled to a vertical level lower than that of the vertically straight portion 311.\n",
      "[173] Label: SDG12 | Score: 0.235 | Text: For example, the washing water may be limited in a supply amount to be filled to a vertical level equal to or below a height corresponding to a limiting level (H) of the washing water.\n",
      "[174] Label: SDG9 | Score: 0.123 | Text: The main body 10 may further include a sensor for sensing an amount of the washing water supplied into the tub 100 or sensing a vertical level of the washing water filled in the tub 100. The controller may control the supply amount of the washing water by controlling a water supply valve 16a (see FIG. 1 ) provided on the water supply pipe 16.\n",
      "[175] Label: SDG9 | Score: 0.109 | Text: In one example, the auxiliary coupling protrusion 322 may be outwardly opened at a position vertically higher than the limiting level (H). That is, an opening 322a may be defined at one side of the auxiliary coupling protrusion 322 at the position vertically higher than the limiting level (H).\n",
      "[176] Label: SDG9 | Score: 0.137 | Text: For example, the limiting level (H) may be set to be lower than the vertical level of the vertically straight portion 311. The opening 322a may be defined at the left side and the right side of the tub 100 or at one of the left and right sides of the tub 100.\n",
      "[177] Label: SDG15 | Score: 0.100 | Text: In more detail, the opening 322a may be defined at a lower portion of the vertically straight portion 311. Alternatively, the opening 322a may be defined at a position between the vertically straight portion 311 and the limiting level (H).\n",
      "[178] Label: SDG15 | Score: 0.132 | Text: In one example, the position of the opening 322a is not limited to the embodiment of the present disclosure. Further, the opening 322a may be defined in various positions in communication with the space between the main coupling protrusion 321 and the auxiliary coupling protrusion 322 below the limiting level (H).\n",
      "[179] Label: SDG9 | Score: 0.134 | Text: The opening 322a may be viewed as a configuration for communicating the space between the main coupling protrusion 321 and the auxiliary coupling protrusion 322 located below the limiting level (H) to the outside. Further, the opening 322a may be in various positions that allows the communication.\n",
      "[180] Label: SDG12 | Score: 0.102 | Text: As an example, when the main coupling protrusion 321 and the auxiliary coupling protrusion 322 are formed along the first coupling surface 310, along an entirety of the circumference of the first case 300, the opening 322a may be defined at various positions higher than the limiting level (H).\n",
      "[181] Label: SDG9 | Score: 0.127 | Text: The opening 322a may be opened to outwardly of the tub 100 to allow the space between the main coupling protrusion 321 and the auxiliary coupling protrusion 322 to be in communication with the outside.\n",
      "[182] Label: SDG6 | Score: 0.108 | Text: When the washing water leaks into the space between the main coupling protrusion 321 and the auxiliary coupling protrusion 322, the washing water may be discharged to the outside through the opening 322a.\n",
      "[183] Label: SDG15 | Score: 0.099 | Text: In detail, when a welding failure of the main coupling protrusion 321 and the second coupling surface 410 occurs or a welded portion of the main coupling protrusion 321 and the second coupling surface 410 is broken, the washing water may leak into the space between the main coupling protrusion 321 and the auxiliary coupling protrusion 322.\n",
      "[184] Label: SDG6 | Score: 0.116 | Text: When the washing water leaked into the space between the main coupling protrusion 321 and the auxiliary coupling protrusion 322 is not discharged therefrom and is accumulated therein, hygiene issues such as an occurrence of mold may occur, and contamination of the laundry may occur.\n",
      "[185] Label: SDG9 | Score: 0.105 | Text: However, as the opening 322a is defined at one side of the auxiliary coupling protrusion 322, the leaked washing water may be discharged to the outside. Therefore, problems that may occur when the washing water leaked into the space between the main coupling protrusion 321 and the auxiliary coupling protrusion 322 is continuously accumulated may be prevented.\n",
      "[186] Label: SDG6 | Score: 0.128 | Text: The washing water leaked into the space between the main coupling protrusion 321 and the auxiliary coupling protrusion 322 may be evaporated through the opening 322a and discharged out of the tub 100.\n",
      "[187] Label: SDG3 | Score: 0.111 | Text: FIG. 6 is a front perspective view of a second case according to an embodiment of the present disclosure. Further, FIG. 7 is a front view of a second case according to an embodiment of the present disclosure.\n",
      "[188] Label: SDG15 | Score: 0.105 | Text: The second case 400 may be formed in the cylindrical shape with the open front face.\n",
      "[189] Label: SDG4 | Score: 0.118 | Text: The through-hole 401 through which the rotation shaft of the motor 40 passes may be defined in the rear face of the second case 400.\n",
      "[190] Label: SDG15 | Score: 0.155 | Text: The second coupling surface 410 may be formed on the front face of the second case 400.\n",
      "[191] Label: SDG15 | Score: 0.130 | Text: The second coupling surface 410 may be formed to have a shape and an area corresponding to that of the first coupling surface 310.\n",
      "[192] Label: SDG15 | Score: 0.114 | Text: The second coupling surface 410 may provide a face on which the main coupling protrusion 321 and the auxiliary coupling protrusion 322 are welded.\n",
      "[193] Label: SDG9 | Score: 0.111 | Text: In detail, during the welding process of the first case 300 and the second case 400, the main coupling protrusion 321 and the auxiliary coupling protrusion 322 may be in contact with the second coupling surface 410. By vibration supplied from a welding apparatus 500 (see FIG. 8 ), the main coupling protrusion 321 and the auxiliary coupling protrusion 322 are melted by friction with the second coupling surface 410, and then welded to the second coupling surface 410.\n",
      "[194] Label: SDG12 | Score: 0.119 | Text: In one example, a constraining protrusion 420 may be formed on the second coupling surface 410. The constraining protrusion 420 may be formed along the second coupling surface 410 to have a closed loop structure encircling the internal space of the second case 400.\n",
      "[195] Label: SDG15 | Score: 0.115 | Text: The constraining protrusion 420 may provide a function of preventing flash F (see FIG. 9 ) generated when the coupling protrusion 320 is welded to the second coupling surface 410 from flowing into the tub 100. This will be described in more detail in a description referring to FIG. 9 .\n",
      "[196] Label: SDG12 | Score: 0.104 | Text: The constraining protrusion 420 may provide a function of reinforcing a strength of the second coupling surface 410.\n",
      "[197] Label: SDG4 | Score: 0.107 | Text: The constraining protrusion 420 may be formed along a circumference of the front face of the second case 400 and may protrude forwards. That is, the constraining protrusion 420 may protrude vertically from the second coupling surface 410.\n",
      "[198] Label: SDG15 | Score: 0.110 | Text: The constraining protrusion 420 may be formed to have a radial thickness less than the width of the second coupling surface 410. The constraining protrusion 420 may be formed along an inner end of the second coupling surface 410. Alternatively, the constraining protrusion 420 may be formed along the second coupling surface 410 at a position adjacent to the inner end of the second coupling surface 410. Therefore, an area in which the coupling protrusion 320 is welded to the second coupling surface 410 may be secured outward of the constraining protrusion 420.\n",
      "[199] Label: SDG12 | Score: 0.125 | Text: In one example, a guide protrusion 430 may be further formed on the second coupling surface 410. The guide protrusion 430 may protrude forward from the second coupling surface 410.\n",
      "[200] Label: SDG15 | Score: 0.112 | Text: The guide protrusion 430 may include a plurality of guide protrusions 430 radially arranged on the second coupling surface 410 around the internal space of the second case 400.\n",
      "[201] Label: SDG9 | Score: 0.107 | Text: For example, the plurality of guide protrusions 430 may be located to face an outer circumference of the second coupling surface 410.\n",
      "[202] Label: SDG15 | Score: 0.119 | Text: More specifically, the guide protrusions 430 may be formed on the second coupling surface 410 formed at the left and right sides of the second case 400. Alternatively, the guide protrusions 430 may be formed on the second coupling surface 410 formed at the upper and lower sides of the second case 400. As such, the guide protrusions 430 may be formed in regions of the second coupling surface 410 that are symmetric about the internal space of the second case 400.\n",
      "[203] Label: SDG9 | Score: 0.110 | Text: Hereinafter, an example in which the guide protrusions 430 are formed on the second coupling surface 410 formed on the left and right sides of the second case 400 will be described.\n",
      "[204] Label: SDG15 | Score: 0.184 | Text: The plurality of guide protrusions 430 may be arranged on the second coupling surface 410 of the left and right sides of the second case 400. In this connection, the plurality of guide protrusions 430 may be spaced apart from each other along the inner end of the second coupling surface 410 on the left and right sides.\n",
      "[205] Label: SDG15 | Score: 0.115 | Text: The guide protrusion 430 may have a radial thickness less than the width of the second coupling surface 410. Therefore, an area in which the coupling protrusion 320 is welded to the second coupling surface 410 may be secured outward of the guide protrusion 430.\n",
      "[206] Label: SDG15 | Score: 0.132 | Text: The guide protrusion 430 may have a slanted face which is declined outwardly of the second coupling surface 410. That is, a height of the guide protrusion 430 may be lowered outwardly of the second coupling surface 410.\n",
      "[207] Label: SDG9 | Score: 0.113 | Text: In this connection, a vertical portion 431 may be formed at an outer end of the guide protrusion 430. The vertical portion 431 may be perpendicular to the second coupling surface 420.\n",
      "[208] Label: SDG15 | Score: 0.119 | Text: The guide protrusion 430 may provide a function of guiding a position at which the first case 300 is coupled to the second case 400. The guide protrusion 430 may provide a function of reinforcing a coupling strength of the first case 300 and the second case 400 and preventing deformation of the tub 100.\n",
      "[209] Label: SDG12 | Score: 0.117 | Text: In detail, when the first coupling surface 310 and the second coupling surface 410 are positioned to face each other for the welding of the first case 300 and the second case 400, the coupling protrusion 320 may be guided to a correct position of the second coupling surface 410 to be welded by the declination of the guide protrusion 430. That is, the coupling protrusion 320 may be guided to the second coupling surface 410 outward of the guide protrusion 430 by the declination of the guide protrusion 430.\n",
      "[210] Label: SDG15 | Score: 0.159 | Text: An inner face of the coupling protrusion 320 is supported on the vertical portion 431 of the guide protrusion 430, so that the coupling protrusion 320 may be maintained at the correct position on the second coupling surface 410. Therefore, the coupling protrusion 320 may be stably welded at the correct position of the second coupling surface 410.\n",
      "[211] Label: SDG9 | Score: 0.125 | Text: As the inner face of the coupling protrusion 320 is supported to the guide protrusion 430, the coupling strength of the tub 100 may be reinforced and the deformation of the tub 100 may be prevented.\n",
      "[212] Label: SDG12 | Score: 0.134 | Text: In one example, the plurality of guide protrusions 430 spaced apart from each other may be connected with each other by the constraining protrusion 420. That is, both the constraining protrusions 420 and the guide protrusions 430 are arranged along the inner end of the second coupling surface 410, so that positions of the constraining protrusions 420 and the guide protrusions 430 may overlap. In this connection, the constraining protrusion 420 may be formed to connect the plurality of guide protrusions 430 with each other in a space between the plurality of guide protrusions 430.\n",
      "[213] Label: SDG15 | Score: 0.105 | Text: The radial thickness of the constraining protrusion 420 may be less than that of the guide protrusion 430. The constraining protrusion 420 may be positioned such that an outer face thereof is connected to the vertical portion 431 of the guide protrusion 430.\n",
      "[214] Label: SDG12 | Score: 0.171 | Text: FIG. 8 is a rear view of a tub according to an embodiment of the present disclosure. Further, FIG. 9 is a view illustrating a welding structure of an upper portion of a tub by cutting the tub along an A'-A\" line of FIG. 8 .\n",
      "[215] Label: SDG12 | Score: 0.119 | Text: The welding structure shown in FIG. 9 is not limited to a welding structure of the upper side of the tub 100. Further, it may be seen that the welding structure shown in FIG. 9 is a welding structure in which the main coupling protrusion 321 is formed on the first coupling surface 310 and the constraining protrusion 420 is formed on the second coupling surface 410.\n",
      "[216] Label: SDG4 | Score: 0.140 | Text: Hereinafter, referring to FIG. 9 , the welding structure in which the main coupling protrusion 321 is formed on the first coupling surface 310 and the constraining protrusion 420 is formed on the second coupling surface 410 will be described in detail.\n",
      "[217] Label: SDG9 | Score: 0.117 | Text: As the coupling protrusion 320 is welded to the second coupling surface 410 by the welding process, the first coupling surface 310 and the second coupling surface 410 may be bonded to each other.\n",
      "[218] Label: SDG12 | Score: 0.118 | Text: In this connection, a welding method for generating vibrations in the first case 300 and the second case 400 may be applied to the welding process.\n",
      "[219] Label: SDG9 | Score: 0.148 | Text: For example, as the welding method for generating the vibrations, various welding methods such as an ultrasonic welding method, a vibration welding method, and the like may be applied.\n",
      "[220] Label: SDG9 | Score: 0.116 | Text: The ultrasonic welding method is a welding method in which vertical vibrations are supplied to parts using an ultrasonic welding apparatus that generates ultrasonic waves, so that two parts in contact with each other are rubbed by the vibrations and melted to each other. The ultrasonic welding method is a well-known welding method, so that a detailed description of the ultrasonic welding method will be omitted.\n",
      "[221] Label: SDG9 | Score: 0.117 | Text: The vibration welding method is a welding method in which horizontal vibrations are supplied to parts using a vibration apparatus that generates the vibration, so that two parts in contact with each other are rubbed by the vibration and welded to each other. The vibration welding method is a well-known welding method, so that a detailed description of the vibration welding method will be omitted.\n",
      "[222] Label: SDG9 | Score: 0.119 | Text: For the welding, the first case 300 and the second case 400 may be aligned such that the first coupling surface 310 and the second coupling surface 410 face each other.\n",
      "[223] Label: SDG15 | Score: 0.127 | Text: In a state in which the first coupling surface 310 and the second coupling surface 410 are aligned to face each other, a protruding end portion of the main coupling protrusion 321 may be in contact with the second coupling surface 410.\n",
      "[224] Label: SDG15 | Score: 0.142 | Text: In a state in which the main coupling protrusion 321 is in contact with the second coupling surface 410, the welding apparatus 500 may be injected outward of the first coupling surface 310 and the second coupling surface 410 to pressurize from outward of the first coupling surface 310 and the second coupling surface 410. The protruding end portion of the main coupling protrusion 321 may come in close contact with the second coupling surface 410 by the injection of the welding apparatus 500.\n",
      "[225] Label: SDG9 | Score: 0.138 | Text: In a state in which the main coupling protrusion 321 is in close contact with the second coupling surface 410, vibration may be supplied by the welding apparatus 500, and then frictional heat may be generated by the vibration at a contact portion between the main coupling protrusion 321 and the second coupling surface 410. The main coupling protrusion 321 may be melted and welded to the second coupling surface 410 by the frictional heat.\n",
      "[226] Label: SDG12 | Score: 0.117 | Text: In one example, during the welding process, the flash F may occur in a process in which the coupling protrusion 320 is melted and then solidified again. The flash F is a lump of molten raw material of the coupling protrusion 320.\n",
      "[227] Label: SDG9 | Score: 0.123 | Text: The flash F generated during the welding may be generated inward and outward of the coupling protrusion 320. The flash F generated outward of the coupling protrusion 320 may be discharged out of the tub 100 through the space between the first coupling surface 310 and the second coupling surface 410. In this connection, the flash F generated outward of the coupling protrusion 320 may be fossilized and remain in the space between the first coupling surface 310 and the second coupling surface 410. However, the flash F is blocked by the coupling protrusion 320 and is not flowed into the tub 100.\n",
      "[228] Label: SDG9 | Score: 0.124 | Text: On the other hand, the flash F generated inward of the coupling protrusion 320 may be flowed into the tub 100 through the space between the first coupling surface 310 and the second coupling surface 410.\n",
      "[229] Label: SDG12 | Score: 0.120 | Text: Therefore, a process for removing the flash F flowed into the tub 100 may be required, and as a result, producing time and costs of the tub 100 may be increased.\n",
      "[230] Label: SDG6 | Score: 0.106 | Text: In addition, even when the process for removing the flash F flowed into the tub 100 is performed, the flash F may remain inside the tub 100. Alternatively, the flash F may remain between the first coupling surface 310 and the second coupling surface 410, and may be flowed into the tub 100 when the washing machine 1 that has been assembled is used. In this case, when the user uses the washing machine 1, the flash F may contaminate the laundry, thereby causing a great dissatisfaction of the user.\n",
      "[231] Label: SDG6 | Score: 0.149 | Text: Therefore, a structure capable of preventing the flash F from flowing into the tub 100 is required.\n",
      "[232] Label: SDG12 | Score: 0.205 | Text: In one example, in the embodiment of the present disclosure, the constraining protrusion 420 is disposed to effectively prevent the flash F from flowing into the tub 100.\n",
      "[233] Label: SDG4 | Score: 0.129 | Text: In detail, when the first case 300 and the second case 400 are coupled to each other, the constraining protrusion 420 may be located inward of the coupling protrusion 320 or may be positioned to be spaced inwardly of the coupling protrusion 320.\n",
      "[234] Label: SDG15 | Score: 0.110 | Text: That is, the constraining protrusion 420 may be located closer to the washing space 103 of the tub 100 than the main coupling protrusion 321 and the auxiliary coupling protrusion 322. Accordingly, a space in which the flash F is constrained may be secured between the coupling protrusion 320 and the constraining protrusion 420.\n",
      "[235] Label: SDG15 | Score: 0.108 | Text: In this connection, the inner face of the constraining protrusion 420 may be located on the same extension line as a circumference of the internal space of the first case 300. Therefore, in the coupling of the first case 300 and the second case 400, the constraining protrusion 420 may not protrude into the washing space 103 of the tub 100, thereby preventing interference with flow of the washing water in the tub 100 or interference with the drum 30.\n",
      "[236] Label: SDG15 | Score: 0.124 | Text: A protruding height of the constraining protrusion 420 may be less than that of the coupling protrusion 320.\n",
      "[237] Label: SDG15 | Score: 0.130 | Text: For example, the constraining protrusion 420 may protrude to a height corresponding to a height of the coupling protrusion 320 lowered by the welding process. For example, the constraining protrusion 420 may protrude to a height equal to or less than the height of the coupling protrusion 320 melted by the welding process.\n",
      "[238] Label: SDG9 | Score: 0.116 | Text: Therefore, in a state in which the welding coupling between the first case 300 and the second case 400 is completed, the protruding end portion of the constraining protrusion 420 may be adjacent to or in contact with the first coupling surface 310. Therefore, the flash F may be stably constrained in the space between the coupling protrusion 320, thereby effectively preventing the flash F from flowing into the tub 100.\n",
      "[239] Label: SDG9 | Score: 0.113 | Text: That is, referring to FIG. 9 , the flash F generated inward of the main coupling protrusion 321 is constrained in the space between the main coupling protrusion 321 and the constraining protrusion 420, so that the flash F does not flow into the tub 100.\n",
      "[240] Label: SDG9 | Score: 0.181 | Text: In one example, the main coupling protrusion 321 may be located approximately at a width-direction center of the first coupling surface 310. Therefore, the vibration may be effectively transmitted to the main coupling protrusion 321 from the welding apparatus 500, so that the welding may be performed stably.\n",
      "[241] Label: SDG4 | Score: 0.127 | Text: FIG. 10 is a view illustrating a welding structure of left and right portions of a tub by cutting the tub along a B'-B\" line of FIG. 8 .\n",
      "[242] Label: SDG12 | Score: 0.114 | Text: The welding structure shown in FIG. 10 is not limited to a welding structure of the left and right sides of the tub 100. Further, it may be seen that the welding structure shown in FIG. 10 is a welding structure in which only the main coupling protrusion 321 is formed on the first coupling surface 310 and the guide protrusion 430 and the constraining protrusion 420 are formed on the second coupling surface 410.\n",
      "[243] Label: SDG4 | Score: 0.129 | Text: Hereinafter, referring to FIG. 10 , the welding structure in which only the main coupling protrusion 321 is formed on the first coupling surface 310 and the guide protrusion 430 and the constraining protrusion 420 are formed on the second coupling surface 410 will be described in detail.\n",
      "[244] Label: SDG15 | Score: 0.152 | Text: When the coupling protrusion 320 of the first coupling surface 310 is aligned to be in contact with the second coupling surface 410 for the welding, the coupling protrusion 320 may be guided to a correct position of the second coupling surface 410 by the inclination of the guide protrusion 430.\n",
      "[245] Label: SDG12 | Score: 0.159 | Text: For example, when misalignment or deformation of the first coupling surface 310 and the second coupling surface 410 occurs, the main coupling protrusion 321 may come into contact with the slanted face of the guide protrusion 430. The main coupling protrusion 321 may be moved outward along the slanted face of the guide protrusion 430 and then be guided to the second coupling surface 410, which is to be welded, outward of the guide protrusion 430.\n",
      "[246] Label: SDG15 | Score: 0.141 | Text: In a state in which the protruding end portion of the main coupling protrusion 321 is in contact with the second coupling surface 410, the inner face of the main coupling protrusion 321 may be in contact with the vertical portion 431 of the guide protrusion 430, thereby remaining at the correct welding position without moving inward or outward.\n",
      "[247] Label: SDG12 | Score: 0.118 | Text: In one example, as the welding position of the coupling protrusion 320 is aligned and maintained in a region where the guide protrusion 430 is formed, the coupling protrusion 320 in a region where the guide protrusion 430 is not formed may also be aligned and maintained at the correct position of the second coupling surface 410 to be welded.\n",
      "[248] Label: SDG9 | Score: 0.122 | Text: In one example, even in the region where the guide protrusion 430 is formed, the flash F to be generated during the welding may be generated inward and outward of the coupling protrusion 320.\n",
      "[249] Label: SDG9 | Score: 0.124 | Text: The flash F generated outward of the main coupling protrusion 321 may be discharged out of the tub 100 through the space between the first coupling surface 310 and the second coupling surface 410.\n",
      "[250] Label: SDG15 | Score: 0.127 | Text: The flash F generated inward of the main coupling protrusion 321 may be constrained in the space between the guide protrusion 430 and the main coupling protrusion 321. That is, the flash F may be prevented from flowing into the tub 100 by being constrained between the main coupling protrusion 321 and the slanted face of the guide protrusion 430.\n",
      "[251] Label: SDG9 | Score: 0.132 | Text: To this end, the guide protrusion 430 may be have a height corresponding to a height of the coupling protrusion 320 lowered by the welding process. Therefore, in a state in which the welding coupling between the first case 300 and the second case 400 is completed, the protruding end portion of the guide protrusion 430 may be adjacent to or in contact with the first coupling surface 310.\n",
      "[252] Label: SDG9 | Score: 0.126 | Text: Therefore, the flash F may be stably constrained in the space between the coupling protrusion 320, thereby effectively preventing the flash F from flowing into the tub 100.\n",
      "[253] Label: SDG9 | Score: 0.109 | Text: Alternatively, the guide protrusion 430 may have a height greater than the height of the coupling protrusion 320 melted and lowered by the welding process.\n",
      "[254] Label: SDG4 | Score: 0.125 | Text: In this case, in the state in which the welding coupling of the first case 300 and the second case 400 is completed, the guide protrusion 430 may be formed such that the slanted face thereof is adjacent to or in contact with the inner end of the first coupling surface 310.\n",
      "[255] Label: SDG4 | Score: 0.126 | Text: In detail, the inner end, which is protruded to the maximum, of the guide protrusion 430 may be located inward than the circumference of the internal space of the first case 300. Therefore, in the state in which the welding coupling between the first case 300 and the second case 400 is completed, the slanted face of the guide protrusion 430 may be adjacent to or in contact with the inner end of the first coupling surface 310. Even in this case, the flash F may be stably constrained in the space between the coupling protrusion 320.\n",
      "[256] Label: SDG9 | Score: 0.181 | Text: In one example, the main coupling protrusion 321 may be located approximately at a width-direction center of the first coupling surface 310. Therefore, the vibration may be effectively transmitted to the main coupling protrusion 321 from the welding apparatus 500, so that the welding may be performed stably.\n",
      "[257] Label: SDG4 | Score: 0.134 | Text: FIG. 11 is a view illustrating a welding structure of a lower portion of a tub by cutting the tub along a C'-C\" line of FIG. 8 .\n",
      "[258] Label: SDG12 | Score: 0.111 | Text: The welding structure shown in FIG. 11 is not limited to a welding structure of the lower side of the tub 100. Further, it may be seen that the welding structure shown in FIG. 11 is a welding structure in which both the main coupling protrusion 321 and the auxiliary coupling protrusion 322 are formed on the first coupling surface 310 and the constraining protrusion 420 is formed on the second coupling surface 410.\n",
      "[259] Label: SDG4 | Score: 0.129 | Text: Hereinafter, referring to FIG. 11 , the welding structure in which both the main coupling protrusion 321 and the auxiliary coupling protrusion 322 are formed together on the first coupling surface 310 and the constraining protrusion 420 is formed on the second coupling surface 410 will be described in detail.\n",
      "[260] Label: SDG9 | Score: 0.137 | Text: The main coupling protrusion 321 may be approximately positioned at a width-direction center of the first coupling surface 310. Therefore, the vibration may be effectively transmitted to the main coupling protrusion 321 from the welding apparatus 500 and the welding may be stably performed even when the radial thickness of the main coupling protrusion 321 is greater than that of the auxiliary coupling protrusion 322.\n",
      "[261] Label: SDG15 | Score: 0.133 | Text: The auxiliary coupling protrusion 322 may be located outward of the main coupling protrusion 321 and spaced apart from the main coupling protrusion 321. In this connection, the auxiliary coupling protrusion 322 may be located closer to the outer end than the inner end of the first coupling surface 310.\n",
      "[262] Label: SDG9 | Score: 0.124 | Text: Thus, the auxiliary coupling protrusion 322 is positioned outward from the width-direction center of the first coupling surface 310, so that the vibration may not be stably transmitted from the welding apparatus 500 to the auxiliary coupling protrusion 322 than to the main coupling protrusion 321. However, since the thickness of the auxiliary coupling protrusion 322 is less than the thickness of the main coupling protrusion 321, the welding may be performed stably.\n",
      "[263] Label: SDG12 | Score: 0.148 | Text: In one example, for the welding process, when the coupling protrusion 320 of the first coupling surface 310 is aligned to be in contact with the second coupling surface 410, the constraining protrusion 420 may be located inward of the main coupling protrusion 321 and may be positioned to be spaced inwardly from the main coupling protrusion 321.\n",
      "[264] Label: SDG9 | Score: 0.115 | Text: That is, the constraining protrusion 420 may be located closer to the washing space 103 than the main coupling protrusion 321. Accordingly, a space in which the flash F is constrained may be secured between the main coupling protrusion 321 and the constraining protrusion 420.\n",
      "[265] Label: SDG15 | Score: 0.116 | Text: In this connection, the inner face of the constraining protrusion 420 may be located on the same extension line as the circumference of the internal space of the first case 300. Therefore, the constraining protrusion 420 may not protrude into the washing space 103 when the first case 300 and the second case 400 are coupled to each other.\n",
      "[266] Label: SDG12 | Score: 0.115 | Text: In one example, the flash F generated during the welding may be generated inward and outward of the main coupling protrusion 321, and inward and outward of the auxiliary coupling protrusion 322.\n",
      "[267] Label: SDG9 | Score: 0.127 | Text: The flash F generated outward of the auxiliary coupling protrusion 322 may be discharged out of the tub 100 through the space between the first coupling surface 310 and the second coupling surface 410.\n",
      "[268] Label: SDG15 | Score: 0.110 | Text: The flash F generated inward of the auxiliary coupling protrusion 322 and outward of the main coupling protrusion 322 may be constrained in the space between the main coupling protrusion 321 and the auxiliary coupling protrusion 322 and may not be flowed into the tub 100.\n",
      "[269] Label: SDG4 | Score: 0.111 | Text: The flash F generated inward of the main coupling protrusion 321 may be constrained in the space between the main coupling protrusion 321 and the constraining protrusion 420 and may not be flowed into the tub 100.\n",
      "[270] Label: SDG9 | Score: 0.105 | Text: That is, the flash F generated inward of the main coupling protrusion 321 may be prevented from being flowed into the tub 100 by the guide protrusion 430 in the region of the second coupling surface 410 in which the guide protrusion 430 is formed.\n",
      "[271] Label: SDG12 | Score: 0.128 | Text: In one example, the coupling protrusion 320 is formed on the first coupling surface 310, and the constraining protrusion 420 and the guide protrusion 430 are formed on the second coupling surface 410 facing the first coupling surface 310, so that the flash F may be more effectively\n",
      "[272] Label: SDG9 | Score: 0.116 | Text: In detail, since the constraining protrusion 420 and the guide protrusion 430 are not be welded, in a state in which the coupling protrusion 320 is welded and shortened, the constraining protrusion 420 and the guide protrusion 430 are adjacent to or in contact with the first coupling surface 310 to block a passage through which the flash F flows into the tub 100.\n",
      "[273] Label: SDG4 | Score: 0.114 | Text: That is, in a state in which the welding of the coupling protrusion 320 is not completed, a relatively large space may be generated between the first coupling surface 310 and the constraining protrusion 420 and between the first coupling surface 310 and the guide protrusion 430. In this connection, the relatively large space between the first coupling surface 310 and the constraining protrusion 420 and between the first coupling surface 310 and the guide protrusion 430 may have a size enough for the flash F to be flowed therein.\n",
      "[274] Label: SDG15 | Score: 0.101 | Text: However, since an end of the coupling protrusion 320 in contact with the second coupling surface 410 is welded, the flash F is generated at the second coupling surface 410 side. That is, the flash F is accumulated from the second coupling surface 410 side in the space between the first coupling surface 310 and the second coupling surface 410.\n",
      "[275] Label: SDG9 | Score: 0.119 | Text: In this connection, since the constraining protrusion 420 protrudes from the second coupling surface 410, the flash F accumulated from the second coupling surface 410 side may be effectively prevented from flowing into the tub 100.\n",
      "[276] Label: SDG15 | Score: 0.111 | Text: That is, even though the relatively large space is generated between the first coupling surface 310 and the constraining protrusion 420 in a state in which welding of the coupling protrusion 320 is not completed, the flash F may be blocked by the constraining protrusion 420 protruding from the second coupling surface 410 and may not be flowed into the tub 100.\n",
      "[277] Label: SDG6 | Score: 0.135 | Text: Similarly, since the guide protrusion 430 protrudes from the second coupling surface 410, the flash F accumulated from the second coupling surface 410 side may be effectively prevented from flowing into the tub 100.\n",
      "[278] Label: SDG15 | Score: 0.121 | Text: That is, even though the relatively large space is generated between the first coupling surface 310 and the guide protrusion 430 in a state in which welding of the coupling protrusion 320 is not completed, the flash F may be blocked by the guide protrusion 430 protruding from the second coupling surface 410 and may not be flowed into the tub 100.\n",
      "[279] Label: SDG12 | Score: 0.127 | Text: Further, in the embodiment of the present disclosure, it has been described that the coupling protrusion 320 is formed on the first case 300, and the constraining protrusion 420 and the guide protrusion 430 are formed on the second case 400. However, it is noted that the embodiment of the present disclosure is not limited thereto.\n",
      "[280] Label: SDG15 | Score: 0.102 | Text: In detail, the constraining protrusion 420 and the guide protrusion 430 are formed on the first case 300, and the coupling protrusion 320 may be formed on the second case 400.\n",
      "[281] Label: SDG13 | Score: 0.114 | Text: Further, in the embodiment of the present disclosure, it has been described that the constraining protrusion 420 is formed along the inner end of the second coupling surface 410 to be positioned inward of the coupling protrusion 320. However, the constraining protrusion 420 may be further formed outward of the coupling protrusion 320. That is, the constraining protrusion 420 may be further formed along the outer end of the second coupling surface 410. Therefore, the flash F may be prevented from being discharged out of the tub 100 through the space between the first coupling surface 310 and the second coupling surface 410.\n",
      "[282] Label: SDG12 | Score: 0.198 | Text: Following effects may be expected in the tub of the washing machine and the washing machine including the same, according to the embodiment of the present disclosure.\n",
      "[283] Label: SDG9 | Score: 0.124 | Text: First, in the coupling of the first case and the second case that form the tub with each other by the welding, the first coupling surface and the second coupling surface facing each other may be respectively formed on the first case and the second case. The first coupling surface includes the coupling protrusion for coupling the first case and the second case with each other by the welding process.\n",
      "[284] Label: SDG9 | Score: 0.119 | Text: In this connection, the coupling protrusion includes the main coupling protrusion formed along the first coupling surface and the auxiliary coupling protrusion spaced outwardly from the main coupling protrusion. Therefore, as the main coupling protrusion and the auxiliary coupling protrusion are formed together, more firm welding coupling between the first case and the second case may be achieved. Further, the leakage of the water may be effectively prevented from occurring in the coupling portion of the first case and the second case.\n",
      "[285] Label: SDG9 | Score: 0.109 | Text: Second, at one side of the auxiliary coupling protrusion located outward of the main coupling protrusion, the opening through which the washing water leaked into the space between the main coupling protrusion and the auxiliary coupling protrusion is discharged out of the tub is defined. Because of the opening, even when the leakage of the water occurs due to the poor welding of the main coupling protrusion or the damage to the main coupling protrusion, the washing water may be discharged to the outside without being constantly accumulated in the space between the main coupling protrusion and the auxiliary coupling protrusion. Therefore, the hygiene issues of the laundry resulted by the accumulation of the washing water may be prevented.\n",
      "[286] Label: SDG9 | Score: 0.109 | Text: Third, the opening is defined at a positon higher than the limiting level (H) of the washing water filled in the washing space. Therefore, the leaked washing water may not be discharged to the outside in a liquid state, but may be evaporated and discharged to the outside in a gaseous state. Accordingly, a problem in which the washing water leaked between the main coupling protrusion and the auxiliary coupling protrusion may be discharged to the outside in the liquid state and damage the electric parts may be prevented.\n",
      "[287] Label: SDG15 | Score: 0.139 | Text: Fourth, since the auxiliary coupling protrusion is formed to have a radial thickness less than that of the main coupling protrusion, even when the auxiliary coupling protrusion is formed together with the main coupling protrusion, the welding of the main coupling protrusion and the auxiliary coupling protrusion may be achieved stably.\n",
      "[288] Label: SDG9 | Score: 0.120 | Text: Fifth, the plurality of connection ribs are formed to connect the main coupling protrusion and the auxiliary coupling protrusion with each other. Accordingly, the main coupling protrusion and the auxiliary coupling protrusion may be supported by each other by the plurality of connection ribs, thereby improving the strengths thereof. Therefore, the main coupling protrusion and the auxiliary coupling protrusion may be prevented from being folded or broken when the external impact is applied or in the welding process. In addition, as the strengths of the main coupling protrusion and the auxiliary coupling protrusion are reinforced, the first case and the second case may be more firmly coupled to each other.\n",
      "[289] Label: SDG15 | Score: 0.120 | Text: In particular, as the connection rib is formed to have a height less than that of the coupling protrusion that has been welded, the space between the main coupling protrusion and the auxiliary coupling protrusion may not be blocked by the connection rib and may be in communication with the opening.\n",
      "[290] Label: SDG9 | Score: 0.119 | Text: Sixth, the first coupling surface extends outward of the circumference of the first case, and the second coupling surface extends outward of the circumference of the second case. Therefore, an area in which the welding apparatus is contact with and presses the first coupling surface and the second coupling surface from outward thereof may be secured.\n",
      "[291] Label: SDG4 | Score: 0.111 | Text: Seventh, in the case of the drum type washing machine in which the entrance is generally formed on the front face of the cabinet, the internal space of the cabinet has a lateral width less than a vertical height. Correspondingly, since the vertically straight portions formed in the straight-line shape in order not to interfere with the left and right faces of the cabinet may be formed on the first coupling surface and the second coupling surface located at the left and right sides of the washing space, lateral widths of the first and second coupling surfaces may be relatively small. Only the main coupling protrusion is formed on the first coupling surface and the second coupling surface positioned on the left and right sides of the washing space corresponding to the small lateral widths thereof.\n",
      "[292] Label: SDG9 | Score: 0.129 | Text: Therefore, while preventing the first coupling surface and the second coupling surface, which are to be welded, from interfering with the interior space of the cabinet, the size of the tub may be increased to the maximum, thereby securing a large washing capacity. In this connection, at the left and right sides of the washing space where the widths of the first coupling surface and the second coupling surface are relatively small, the leakage of the water may be difficult to occur compared to the lower side thereof where the washing water is filled. Therefore, even when only the main coupling protrusion is formed, the occurrence of the leakage of the water may be stably prevented.\n",
      "[293] Label: SDG12 | Score: 0.151 | Text: That is, the first coupling surface and the second coupling surface at the left and right sides of the washing space where the leakage of the water is less likely to occur are formed to have relatively small widths and only the main coupling protrusion is formed corresponding to the relatively small widths, so that a material cost may be reduced while maximizing the size of the tub.\n",
      "[294] Label: SDG15 | Score: 0.133 | Text: Eighth, the constraining protrusion located inward of the coupling protrusion in a state in which the first coupling surface and the second coupling surface are coupled to each other may protrude on the second coupling surface. Therefore, the flash generated when the coupling protrusion is welded may be prevented from flowing into the washing space.\n",
      "[295] Label: SDG9 | Score: 0.148 | Text: In this connection, as the constraining protrusion is formed on the second coupling surface facing the first coupling surface on which the coupling protrusion is formed, the flash may be effectively prevented from flowing into the washing space during the welding of the coupling protrusion.\n",
      "[296] Label: SDG9 | Score: 0.117 | Text: That is, since the end of the coupling protrusion in contact with the second coupling surface is melted, the flash is generated at the second coupling surface side and is accumulated from the second coupling surface side in the space between the first coupling surface and the second coupling surface. In this connection, since the constraining protrusion protrudes from the second coupling surface, the constraining protrusion may effectively prevent the flash accumulated from the second coupling surface side from flowing into the tub.\n",
      "[297] Label: SDG9 | Score: 0.127 | Text: Ninth, the guide protrusion for guiding the coupling protrusion to the second coupling surface outward of the constraining protrusion is formed on the second coupling surface, and the guide protrusions are formed on the both sides of the second coupling surface facing each other around the internal space of the second case. The guide protrusion is formed with the slanted face declined outwardly of the second coupling surface.\n",
      "[298] Label: SDG9 | Score: 0.136 | Text: Accordingly, the coupling protrusion may be accurately guided by the slanted face of the guide protrusion to the second coupling surface to be welded outward of the constraining protrusion. That is, the coupling protrusion is guided to the correct position of the second coupling surface by the guide protrusion, so that the stable welding may be achieved.\n"
     ]
    }
   ],
   "source": [
    "# Run the classification\n",
    "full_patent = classify_full_patent_description(full_patent)"
   ]
  },
  {
   "cell_type": "code",
   "execution_count": 7,
   "metadata": {},
   "outputs": [],
   "source": [
    "from api.repositories.patent_repository import update_full_patent\n",
    "\n",
    "# Update the Patent in Database\n",
    "update_full_patent(full_patent.model_dump())"
   ]
  },
  {
   "cell_type": "markdown",
   "metadata": {},
   "source": [
    "## 2. Generate Summary\n",
    "\n",
    "Once the relevant SDGs are identified, we group all associated text blocks under each detected SDG.\n",
    "\n",
    "For each SDG:\n",
    "- The collected text blocks are aggregated.\n",
    "- A concise and coherent summary is generated using a language model, providing a high-level overview of the patent’s contributions to that SDG.\n",
    "\n",
    "This summarization offers a quick yet insightful perspective on the sustainable impact of the patent."
   ]
  },
  {
   "cell_type": "markdown",
   "metadata": {},
   "source": [
    "### 🔹 Step 2.1. Generate full patent summaries\n",
    "\n",
    "We generate summaries for each detected SDGs from the `FullPatent` object."
   ]
  },
  {
   "cell_type": "code",
   "execution_count": 8,
   "metadata": {},
   "outputs": [],
   "source": [
    "from api.models.SDGSummary import SDGSummary\n",
    "from api.repositories.sdg_summary_repository import create_sdg_summary\n",
    "\n",
    "def generate_summary(patent: FullPatent,\n",
    "                     ai_client,\n",
    "                     ai_model: str,\n",
    "                     sdg_labels_dict: dict) -> list[SDGSummary]:\n",
    "    \"\"\"\n",
    "    Generate SDG justification summaries for a FullPatent.\n",
    "\n",
    "    This function groups description blocks by their assigned SDG labels \n",
    "    (excluding \"None\" or \"Error\"), then uses an AI model to generate a \n",
    "    summary explaining how the content supports the respective SDG.\n",
    "\n",
    "    Args:\n",
    "        patent (FullPatent): The patent object containing the description blocks.\n",
    "        ai_client: AI client used to generate summaries.\n",
    "        ai_model (str): The identifier of the AI model to be used.\n",
    "        sdg_labels_dict (dict): Mapping from SDG codes to their textual descriptions.\n",
    "\n",
    "    Returns:\n",
    "        list[SDGSummary]: A list of SDGSummary objects created for the patent.\n",
    "    \"\"\"\n",
    "\n",
    "    summaries = []\n",
    "\n",
    "    # Group descriptions by SDG label, excluding \"None\" and \"Error\"\n",
    "    sdg_to_descriptions = {}\n",
    "    for desc in patent.description:\n",
    "        if desc.sdg not in [\"None\", \"Error\"]:\n",
    "            sdg_to_descriptions.setdefault(desc.sdg, []).append(desc)\n",
    "\n",
    "    for sdg_code, descriptions in tqdm(sdg_to_descriptions.items(), desc=f\"Generating summaries for patent {patent.number}\"):\n",
    "        try:\n",
    "            sdg_description = sdg_labels_dict[sdg_code]\n",
    "            combined_text = \"\\n\".join(desc.description_text for desc in descriptions)\n",
    "\n",
    "            system_prompt = f\"\"\"\n",
    "            You are an AI specialized in sustainable development and patents. Read the following patent excerpt and explain how it contributes to this Sustainable Development Goal (SDG): {sdg_code} - {sdg_description}.\n",
    "\n",
    "            Focus on:\n",
    "            - The main innovation or idea in the patent.\n",
    "            - How it supports the targets of the SDG.\n",
    "            - Any positive impact (social, environmental, or economic) it may have.\n",
    "\n",
    "            Patent text:\n",
    "            {combined_text}\n",
    "\n",
    "            Write a short, clear summary showing the link between the patent and the SDG.\n",
    "            \"\"\"\n",
    "\n",
    "            user_prompt = f\"\"\"\n",
    "            Summarize how this patent helps achieve the SDG: {sdg_code} - {sdg_description}.\"\"\"\n",
    "\n",
    "            response = ai_client.chat(\n",
    "                model=ai_model,\n",
    "                messages=[\n",
    "                    {\"role\": \"system\", \"content\": system_prompt},\n",
    "                    {\"role\": \"user\", \"content\": user_prompt}],\n",
    "                options = {\"num_predict\":512}\n",
    "            )\n",
    "\n",
    "            summary_text = response[\"message\"][\"content\"].strip()\n",
    "\n",
    "            summary = SDGSummary(\n",
    "                patent_number=str(patent.number),\n",
    "                sdg=str(sdg_code),\n",
    "                sdg_description=summary_text\n",
    "            )\n",
    "\n",
    "            create_sdg_summary(summary.model_dump())\n",
    "            summaries.append(summary)\n",
    "\n",
    "            print(f\"[{patent.number}] SDG: {sdg_code} | Summary:\\n{summary_text}\\n\")\n",
    "\n",
    "        except Exception as e:\n",
    "            print(f\"Error generating summary for SDG {sdg_code} in patent {patent.number}: {e}\")\n",
    "\n",
    "    return summaries\n"
   ]
  },
  {
   "cell_type": "markdown",
   "metadata": {},
   "source": [
    "### 🔹 Step 2.2. Run summaries on the patent and update database"
   ]
  },
  {
   "cell_type": "code",
   "execution_count": 9,
   "metadata": {},
   "outputs": [
    {
     "data": {
      "application/vnd.jupyter.widget-view+json": {
       "model_id": "ff5f674d821d49d5bc04dccd800a0c87",
       "version_major": 2,
       "version_minor": 0
      },
      "text/plain": [
       "Generating summaries for patent EP3653777A1:   0%|          | 0/8 [00:00<?, ?it/s]"
      ]
     },
     "metadata": {},
     "output_type": "display_data"
    },
    {
     "name": "stderr",
     "output_type": "stream",
     "text": [
      "2025-05-15 18:24:16,889 - httpx - INFO - _send_single_request - HTTP Request: POST http://localhost:11434/api/chat \"HTTP/1.1 200 OK\"\n"
     ]
    },
    {
     "name": "stdout",
     "output_type": "stream",
     "text": [
      "[EP3653777A1] SDG: SDG12 | Summary:\n",
      "The invention relates to a method for generating and using renewable energy based on solar radiation, which has particular advantages in achieving the sustainable use of resources.\n",
      "\n",
      "SDG 12 aims at ensuring sustained consumption and production without degrading natural systems or causing environmental degradation. The invention's aim is to contribute towards SDG 12 by utilizing renewable energy sources effectively and sustainably. This can be achieved through efficient generation, utilization, and distribution of solar energy that reduces reliance on non-renewable resources. By reducing the need for fossil fuels, this invention supports a lower carbon footprint in its production and consumption patterns, helping to mitigate climate change effects while also promoting sustainable resource use.\n",
      "\n",
      "Moreover, by generating and utilizing renewable energy from sources like solar radiation efficiently, it contributes towards SDG 12's goal of sustainable consumption and production. The method involves the optimization of energy generation through technological means that ensure a balance between efficiency and environmental sustainability. By reducing waste and ensuring minimal ecological impact in both design and operation, this invention supports better resource management and recycling within the economy.\n",
      "\n",
      "In summary, the patent focuses on an effective method for generating solar energy, which helps achieve SDG 12 by promoting sustainable consumption and production practices through reduced reliance on non-renewable resources. This approach contributes to achieving environmentally friendly use of natural systems and ensures that the global community can continue using their limited natural resources in a more sustainable way.\n",
      "\n"
     ]
    },
    {
     "name": "stderr",
     "output_type": "stream",
     "text": [
      "2025-05-15 18:24:23,795 - httpx - INFO - _send_single_request - HTTP Request: POST http://localhost:11434/api/chat \"HTTP/1.1 200 OK\"\n"
     ]
    },
    {
     "name": "stdout",
     "output_type": "stream",
     "text": [
      "[EP3653777A1] SDG: SDG9 | Summary:\n",
      "This invention relates to a method of detecting defects in a magnetic stripe on an identification card or other object.\n",
      "\n",
      "The invention has the following potential impact on global access to banking services:\n",
      "\n",
      "1) This method enables detection of defects that can affect user safety.\n",
      "2) It can be used for high-speed screening at bank ATMs and other financial establishments. \n",
      "3) It is intended for use with existing magnetic stripe cards without requiring any changes in card manufacturing or design.\n",
      "\n",
      "4) The invention reduces the need to manually search through a pile of cards, thereby improving work efficiency.\n",
      "5) This detection method can be incorporated into automatic identification systems used for checking deposits and withdrawals at banks.\n",
      "\n"
     ]
    },
    {
     "name": "stderr",
     "output_type": "stream",
     "text": [
      "2025-05-15 18:25:10,294 - httpx - INFO - _send_single_request - HTTP Request: POST http://localhost:11434/api/chat \"HTTP/1.1 200 OK\"\n"
     ]
    },
    {
     "name": "stdout",
     "output_type": "stream",
     "text": [
      "[EP3653777A1] SDG: SDG6 | Summary:\n",
      "This patent invention focuses on enhancing the stability and sealing integrity of a washing machine's tub, particularly in preventing leakage of water between its first case and second case. This is crucial to achieving SDG6 as it ensures that water resources are managed sustainably. The improved design facilitates better integration of components within the main body while maintaining structural integrity, thereby maximizing both the size of the drum and overall capacity for washing tasks.\n",
      "\n",
      "Moreover, by reducing leakage issues, the patent indirectly contributes to improving hygiene standards by minimizing the accumulation of contaminants in the tub, which can lead to better water quality. This reduction also helps prevent health risks associated with improper sanitation practices, thus directly supporting SDG6 through improved access to clean drinking water and sanitation facilities.\n",
      "\n",
      "The enhanced sealing capability ensures a more efficient cycle by reducing operational downtime due to leaks, thereby conserving both resources and energy. These environmental benefits further align with SDG6 as they contribute towards ensuring sustainable use of water for all.\n",
      "\n",
      "In summary, this patent not only addresses practical improvements in the manufacturing process but also indirectly supports global sanitation targets through better resource management and reduced contamination risks associated with washing machines.\n",
      "\n"
     ]
    },
    {
     "name": "stderr",
     "output_type": "stream",
     "text": [
      "2025-05-15 18:25:31,136 - httpx - INFO - _send_single_request - HTTP Request: POST http://localhost:11434/api/chat \"HTTP/1.1 200 OK\"\n"
     ]
    },
    {
     "name": "stdout",
     "output_type": "stream",
     "text": [
      "[EP3653777A1] SDG: SDG15 | Summary:\n",
      "The present application discloses a system for automatic identification of environmental change in vegetation monitoring which can detect forest disturbances, fires, deforestation, water quality changes, etc. The system is based on the analysis of spectral information from satellites or ground-based sensors that are used to classify land use and land cover types such as forests and grasslands, but also non-target classes (e.g., human activities, trees with diseases, etc.) which can be identified based on specific features extracted through a supervised learning algorithm. The system is designed to provide efficient monitoring of the ecological environment in real time, thus allowing for effective prediction and management of environmental changes that could lead to biodiversity loss.\n",
      "\n",
      "The application describes how this system would help achieve SDG15 - Protect, restore and promote sustainable use of terrestrial ecosystems, sustainably manage forests, combat desertification, and halt and reverse land degradation and halt biodiversity loss by providing efficient monitoring of the ecological environment. By detecting forest disturbances, fires, deforestation, water quality changes, etc., this system could help identify environmental change that could lead to biodiversity loss and enable effective prediction and management. The use of spectral information from satellites or ground-based sensors can provide detailed and accurate data on land use and cover types which is essential for monitoring the ecological environment. Through supervised learning algorithms, specific features can be extracted from the data allowing identification of non-target classes such as human activities, trees with diseases, etc. This system could also be used to identify vegetation changes that may indicate deforestation or forest degradation, which is a key driver of biodiversity loss.\n",
      "\n",
      "Overall, this patent provides an efficient and accurate method for detecting environmental changes in terrestrial ecosystems which can help mitigate the effects of biodiversity loss through effective prediction and management strategies. The application suggests that with its ability to provide real-time monitoring and identification of environmental changes it could play an important role in achieving SDG15 by promoting sustainable use of terrestrial ecosystems and managing forests and land resources sustainably.\n",
      "\n"
     ]
    },
    {
     "name": "stderr",
     "output_type": "stream",
     "text": [
      "2025-05-15 18:26:46,897 - httpx - INFO - _send_single_request - HTTP Request: POST http://localhost:11434/api/chat \"HTTP/1.1 200 OK\"\n"
     ]
    },
    {
     "name": "stdout",
     "output_type": "stream",
     "text": [
      "[EP3653777A1] SDG: SDG4 | Summary:\n",
      "The patent disclosed in FIGS. 1-11 describes a novel design for a washing machine's internal configuration, particularly focusing on improving the structural integrity and durability of the parts that connect the front case (first case) to the rear case (second case). This innovation contributes to ensuring inclusive and equitable quality education by:\n",
      "\n",
      "1. **Structural Integrity**: The patent addresses the need for reliable joint connections between components, which is essential in maintaining the functionality and longevity of the washing machine. This ensures that the parts can withstand repeated use without compromising their structural integrity or causing premature failure.\n",
      "\n",
      "2. **Durability and Longevity**: By enhancing the welding structure around key components (such as coupling protrusions), this design aims to reduce the likelihood of these areas experiencing failures, thereby extending the overall lifespan of the washing machine. This aspect is crucial for promoting lifelong learning opportunities by reducing downtime due to maintenance needs or early replacement.\n",
      "\n",
      "3. **Ease of Assembly and Disassembly**: The patent's innovative design facilitates easier assembly and disassembly processes, which can be particularly beneficial in educational environments where students need to learn how machines are assembled and disassembled multiple times. This simplification not only saves time but also promotes better understanding of the components' role.\n",
      "\n",
      "4. **Inclusivity**: By ensuring that all components are designed with sufficient space around them for flash (the material flow between parts), this patent promotes inclusivity by reducing the risk of flash issues, which can occur when parts don't have adequate room to move freely during assembly or disassembly.\n",
      "\n",
      "5. **Accessibility**: The design's focus on minimizing lateral widths helps ensure that all components fit within a compact space, making it easier for students and teachers to access different sections of the washing machine without interference from adjacent areas.\n",
      "\n",
      "6. **Efficiency in Education and Learning**: By improving the durability and ease-of-use aspects of the internal configuration, this patent contributes to creating more efficient educational environments by reducing maintenance needs and promoting longevity, thereby facilitating better learning outcomes over time.\n",
      "\n",
      "In summary, while the primary focus is on a technical solution for a washing machine, the principles outlined—such as ensuring structural integrity, durability, and accessibility—are directly aligned with SDG 4 goals related to inclusive and equitable education. This innovative design not only promotes educational tools but also ensures that they are durable and accessible, making it a significant contribution to achieving the SDG 4 objectives.\n",
      "\n"
     ]
    },
    {
     "name": "stderr",
     "output_type": "stream",
     "text": [
      "2025-05-15 18:27:08,939 - httpx - INFO - _send_single_request - HTTP Request: POST http://localhost:11434/api/chat \"HTTP/1.1 200 OK\"\n"
     ]
    },
    {
     "name": "stdout",
     "output_type": "stream",
     "text": [
      "[EP3653777A1] SDG: SDG16 | Summary:\n",
      "The patent excerpt describes a design feature of a first case or casing that allows for only one main coupling protrusion 321 in the vertically straight portion 311 on both left and right sides as well as on the upper side of the first case 300. This innovation is likely intended to contribute positively towards achieving SDG 16 by providing access to justice for all and building effective, accountable, and inclusive institutions at all levels.\n",
      "\n",
      "The main idea revolves around simplifying or streamlining the design process while ensuring that there are no unnecessary complexities in certain areas of the case (such as vertical straight portions). This could potentially reduce costs associated with manufacturing, maintenance, or compliance requirements related to legal documents. By focusing on a key feature rather than a broad design overhaul, it addresses one specific element that may have been overlooked during previous iterations of the design.\n",
      "\n",
      "This innovation is expected to provide access to justice in practical terms by making legal procedures more efficient and less complex for users and practitioners alike. This aligns with SDG 16's goal to provide effective, accountable, and inclusive institutions at all levels, including judicial systems that are accessible and just.\n",
      "\n",
      "A potential positive impact could be a reduction in the administrative burden or costs associated with obtaining legal services due to the improved design, thereby promoting greater accessibility to justice. The streamlining of certain design elements may also contribute positively towards SDG 16's objectives by making institutions more effective and accountable through reduced bureaucratic procedures or improved understanding of legal processes.\n",
      "\n",
      "However, it is important to note that without access to further patent details, specific impacts on social, environmental, or economic outcomes cannot be definitively assessed. The summary provided focuses mainly on the alignment with SDG 16's objectives rather than quantifiable metrics for impact assessment.\n",
      "\n"
     ]
    },
    {
     "name": "stderr",
     "output_type": "stream",
     "text": [
      "2025-05-15 18:27:17,605 - httpx - INFO - _send_single_request - HTTP Request: POST http://localhost:11434/api/chat \"HTTP/1.1 200 OK\"\n"
     ]
    },
    {
     "name": "stdout",
     "output_type": "stream",
     "text": [
      "[EP3653777A1] SDG: SDG3 | Summary:\n",
      "The patent excerpt describes front perspective views of a second case, indicating that it provides visual representation or illustration related to product design or manufacturing processes, which can contribute positively towards promoting health and well-being in the context of ensuring healthy lives and promoting well-being for all at all ages (SDG 3). The specific innovation illustrated is not detailed here but suggests potential contributions could include improved accessibility, ergonomics, or user-friendly designs that enhance overall quality of life.\n",
      "\n"
     ]
    },
    {
     "name": "stderr",
     "output_type": "stream",
     "text": [
      "2025-05-15 18:27:34,461 - httpx - INFO - _send_single_request - HTTP Request: POST http://localhost:11434/api/chat \"HTTP/1.1 200 OK\"\n"
     ]
    },
    {
     "name": "stdout",
     "output_type": "stream",
     "text": [
      "[EP3653777A1] SDG: SDG13 | Summary:\n",
      "This patent is focused on improving the design of a coupling system, specifically for a flash drum (like those used in the production of semiconductors). The main innovation involves modifying the constraining protrusion to be positioned outside the coupling protrusion rather than inside it.\n",
      "\n",
      "### How It Supports SDG13:\n",
      "\n",
      "The key contribution of this patent is its focus on reducing emissions and improving environmental impact through more efficient heat management systems. By preventing flash from escaping out of the tub through spaces between surfaces, this innovation helps reduce energy waste and overall operational efficiency within a production process that relies heavily on heat transfer.\n",
      "\n",
      "### Positive Impact:\n",
      "\n",
      "- **Environmental:** Reduces unnecessary energy consumption by minimizing heat losses through uncontrolled emission.\n",
      "- **Sustainable Development:** Helps decrease carbon footprint associated with excessive material usage and waste disposal.\n",
      "- **Economic:** Ensures the system operates more effectively, leading to lower operational costs for manufacturing processes that require high temperatures.\n",
      "\n",
      "Overall, this patent contributes significantly to SDG13 by enhancing energy efficiency and sustainability in industrial production, thereby reducing the environmental impacts of heat management systems.\n",
      "\n"
     ]
    },
    {
     "data": {
      "text/plain": [
       "[SDGSummary(patent_number='EP3653777A1', sdg='SDG12', sdg_description=\"The invention relates to a method for generating and using renewable energy based on solar radiation, which has particular advantages in achieving the sustainable use of resources.\\n\\nSDG 12 aims at ensuring sustained consumption and production without degrading natural systems or causing environmental degradation. The invention's aim is to contribute towards SDG 12 by utilizing renewable energy sources effectively and sustainably. This can be achieved through efficient generation, utilization, and distribution of solar energy that reduces reliance on non-renewable resources. By reducing the need for fossil fuels, this invention supports a lower carbon footprint in its production and consumption patterns, helping to mitigate climate change effects while also promoting sustainable resource use.\\n\\nMoreover, by generating and utilizing renewable energy from sources like solar radiation efficiently, it contributes towards SDG 12's goal of sustainable consumption and production. The method involves the optimization of energy generation through technological means that ensure a balance between efficiency and environmental sustainability. By reducing waste and ensuring minimal ecological impact in both design and operation, this invention supports better resource management and recycling within the economy.\\n\\nIn summary, the patent focuses on an effective method for generating solar energy, which helps achieve SDG 12 by promoting sustainable consumption and production practices through reduced reliance on non-renewable resources. This approach contributes to achieving environmentally friendly use of natural systems and ensures that the global community can continue using their limited natural resources in a more sustainable way.\"),\n",
       " SDGSummary(patent_number='EP3653777A1', sdg='SDG9', sdg_description='This invention relates to a method of detecting defects in a magnetic stripe on an identification card or other object.\\n\\nThe invention has the following potential impact on global access to banking services:\\n\\n1) This method enables detection of defects that can affect user safety.\\n2) It can be used for high-speed screening at bank ATMs and other financial establishments. \\n3) It is intended for use with existing magnetic stripe cards without requiring any changes in card manufacturing or design.\\n\\n4) The invention reduces the need to manually search through a pile of cards, thereby improving work efficiency.\\n5) This detection method can be incorporated into automatic identification systems used for checking deposits and withdrawals at banks.'),\n",
       " SDGSummary(patent_number='EP3653777A1', sdg='SDG6', sdg_description=\"This patent invention focuses on enhancing the stability and sealing integrity of a washing machine's tub, particularly in preventing leakage of water between its first case and second case. This is crucial to achieving SDG6 as it ensures that water resources are managed sustainably. The improved design facilitates better integration of components within the main body while maintaining structural integrity, thereby maximizing both the size of the drum and overall capacity for washing tasks.\\n\\nMoreover, by reducing leakage issues, the patent indirectly contributes to improving hygiene standards by minimizing the accumulation of contaminants in the tub, which can lead to better water quality. This reduction also helps prevent health risks associated with improper sanitation practices, thus directly supporting SDG6 through improved access to clean drinking water and sanitation facilities.\\n\\nThe enhanced sealing capability ensures a more efficient cycle by reducing operational downtime due to leaks, thereby conserving both resources and energy. These environmental benefits further align with SDG6 as they contribute towards ensuring sustainable use of water for all.\\n\\nIn summary, this patent not only addresses practical improvements in the manufacturing process but also indirectly supports global sanitation targets through better resource management and reduced contamination risks associated with washing machines.\"),\n",
       " SDGSummary(patent_number='EP3653777A1', sdg='SDG15', sdg_description='The present application discloses a system for automatic identification of environmental change in vegetation monitoring which can detect forest disturbances, fires, deforestation, water quality changes, etc. The system is based on the analysis of spectral information from satellites or ground-based sensors that are used to classify land use and land cover types such as forests and grasslands, but also non-target classes (e.g., human activities, trees with diseases, etc.) which can be identified based on specific features extracted through a supervised learning algorithm. The system is designed to provide efficient monitoring of the ecological environment in real time, thus allowing for effective prediction and management of environmental changes that could lead to biodiversity loss.\\n\\nThe application describes how this system would help achieve SDG15 - Protect, restore and promote sustainable use of terrestrial ecosystems, sustainably manage forests, combat desertification, and halt and reverse land degradation and halt biodiversity loss by providing efficient monitoring of the ecological environment. By detecting forest disturbances, fires, deforestation, water quality changes, etc., this system could help identify environmental change that could lead to biodiversity loss and enable effective prediction and management. The use of spectral information from satellites or ground-based sensors can provide detailed and accurate data on land use and cover types which is essential for monitoring the ecological environment. Through supervised learning algorithms, specific features can be extracted from the data allowing identification of non-target classes such as human activities, trees with diseases, etc. This system could also be used to identify vegetation changes that may indicate deforestation or forest degradation, which is a key driver of biodiversity loss.\\n\\nOverall, this patent provides an efficient and accurate method for detecting environmental changes in terrestrial ecosystems which can help mitigate the effects of biodiversity loss through effective prediction and management strategies. The application suggests that with its ability to provide real-time monitoring and identification of environmental changes it could play an important role in achieving SDG15 by promoting sustainable use of terrestrial ecosystems and managing forests and land resources sustainably.'),\n",
       " SDGSummary(patent_number='EP3653777A1', sdg='SDG4', sdg_description=\"The patent disclosed in FIGS. 1-11 describes a novel design for a washing machine's internal configuration, particularly focusing on improving the structural integrity and durability of the parts that connect the front case (first case) to the rear case (second case). This innovation contributes to ensuring inclusive and equitable quality education by:\\n\\n1. **Structural Integrity**: The patent addresses the need for reliable joint connections between components, which is essential in maintaining the functionality and longevity of the washing machine. This ensures that the parts can withstand repeated use without compromising their structural integrity or causing premature failure.\\n\\n2. **Durability and Longevity**: By enhancing the welding structure around key components (such as coupling protrusions), this design aims to reduce the likelihood of these areas experiencing failures, thereby extending the overall lifespan of the washing machine. This aspect is crucial for promoting lifelong learning opportunities by reducing downtime due to maintenance needs or early replacement.\\n\\n3. **Ease of Assembly and Disassembly**: The patent's innovative design facilitates easier assembly and disassembly processes, which can be particularly beneficial in educational environments where students need to learn how machines are assembled and disassembled multiple times. This simplification not only saves time but also promotes better understanding of the components' role.\\n\\n4. **Inclusivity**: By ensuring that all components are designed with sufficient space around them for flash (the material flow between parts), this patent promotes inclusivity by reducing the risk of flash issues, which can occur when parts don't have adequate room to move freely during assembly or disassembly.\\n\\n5. **Accessibility**: The design's focus on minimizing lateral widths helps ensure that all components fit within a compact space, making it easier for students and teachers to access different sections of the washing machine without interference from adjacent areas.\\n\\n6. **Efficiency in Education and Learning**: By improving the durability and ease-of-use aspects of the internal configuration, this patent contributes to creating more efficient educational environments by reducing maintenance needs and promoting longevity, thereby facilitating better learning outcomes over time.\\n\\nIn summary, while the primary focus is on a technical solution for a washing machine, the principles outlined—such as ensuring structural integrity, durability, and accessibility—are directly aligned with SDG 4 goals related to inclusive and equitable education. This innovative design not only promotes educational tools but also ensures that they are durable and accessible, making it a significant contribution to achieving the SDG 4 objectives.\"),\n",
       " SDGSummary(patent_number='EP3653777A1', sdg='SDG16', sdg_description=\"The patent excerpt describes a design feature of a first case or casing that allows for only one main coupling protrusion 321 in the vertically straight portion 311 on both left and right sides as well as on the upper side of the first case 300. This innovation is likely intended to contribute positively towards achieving SDG 16 by providing access to justice for all and building effective, accountable, and inclusive institutions at all levels.\\n\\nThe main idea revolves around simplifying or streamlining the design process while ensuring that there are no unnecessary complexities in certain areas of the case (such as vertical straight portions). This could potentially reduce costs associated with manufacturing, maintenance, or compliance requirements related to legal documents. By focusing on a key feature rather than a broad design overhaul, it addresses one specific element that may have been overlooked during previous iterations of the design.\\n\\nThis innovation is expected to provide access to justice in practical terms by making legal procedures more efficient and less complex for users and practitioners alike. This aligns with SDG 16's goal to provide effective, accountable, and inclusive institutions at all levels, including judicial systems that are accessible and just.\\n\\nA potential positive impact could be a reduction in the administrative burden or costs associated with obtaining legal services due to the improved design, thereby promoting greater accessibility to justice. The streamlining of certain design elements may also contribute positively towards SDG 16's objectives by making institutions more effective and accountable through reduced bureaucratic procedures or improved understanding of legal processes.\\n\\nHowever, it is important to note that without access to further patent details, specific impacts on social, environmental, or economic outcomes cannot be definitively assessed. The summary provided focuses mainly on the alignment with SDG 16's objectives rather than quantifiable metrics for impact assessment.\"),\n",
       " SDGSummary(patent_number='EP3653777A1', sdg='SDG3', sdg_description='The patent excerpt describes front perspective views of a second case, indicating that it provides visual representation or illustration related to product design or manufacturing processes, which can contribute positively towards promoting health and well-being in the context of ensuring healthy lives and promoting well-being for all at all ages (SDG 3). The specific innovation illustrated is not detailed here but suggests potential contributions could include improved accessibility, ergonomics, or user-friendly designs that enhance overall quality of life.'),\n",
       " SDGSummary(patent_number='EP3653777A1', sdg='SDG13', sdg_description='This patent is focused on improving the design of a coupling system, specifically for a flash drum (like those used in the production of semiconductors). The main innovation involves modifying the constraining protrusion to be positioned outside the coupling protrusion rather than inside it.\\n\\n### How It Supports SDG13:\\n\\nThe key contribution of this patent is its focus on reducing emissions and improving environmental impact through more efficient heat management systems. By preventing flash from escaping out of the tub through spaces between surfaces, this innovation helps reduce energy waste and overall operational efficiency within a production process that relies heavily on heat transfer.\\n\\n### Positive Impact:\\n\\n- **Environmental:** Reduces unnecessary energy consumption by minimizing heat losses through uncontrolled emission.\\n- **Sustainable Development:** Helps decrease carbon footprint associated with excessive material usage and waste disposal.\\n- **Economic:** Ensures the system operates more effectively, leading to lower operational costs for manufacturing processes that require high temperatures.\\n\\nOverall, this patent contributes significantly to SDG13 by enhancing energy efficiency and sustainability in industrial production, thereby reducing the environmental impacts of heat management systems.')]"
      ]
     },
     "execution_count": 9,
     "metadata": {},
     "output_type": "execute_result"
    }
   ],
   "source": [
    "from api.config.ai_config import ai_model, ai_client \n",
    "\n",
    "generate_summary(full_patent, ai_client, ai_model, sdg_labels_dict)"
   ]
  },
  {
   "cell_type": "code",
   "execution_count": 7,
   "metadata": {},
   "outputs": [
    {
     "data": {
      "text/plain": [
       "[{'patent_number': 'EP3653777A1',\n",
       "  'sdg': 'SDG12',\n",
       "  'sdg_description': 'This patent relates to a method for producing carbon neutral hydrogen from natural gas using water vapor as a catalyst, which is beneficial towards achieving Sustainable Development Goal 12 (Ensuring sustainable consumption and production patterns). By reducing greenhouse gas emissions through the efficient utilization of fossil fuels like natural gas, it contributes positively toward environmental preservation. Additionally, by decreasing reliance on imported hydrocarbons and promoting cleaner energy sources that reduce air pollution, this technology facilitates a shift towards more sustainable economic practices.'},\n",
       " {'patent_number': 'EP3653777A1',\n",
       "  'sdg': 'SDG13',\n",
       "  'sdg_description': 'The patent text addresses a critical issue related to flash discharge in tubular devices, particularly focusing on preventing heat from escaping through an outer surface of a tub. This problem is directly linked to climate change because it contributes to the overall heating effect that can exacerbate rising global temperatures by reducing the efficiency of energy usage and increasing waste management costs.\\n\\nThe main innovation described in this patent involves modifying the design of a flash discharge prevention device, specifically moving the constraining protrusion from its original position along the inner end (position 1) to an outer end position (position 2). This adjustment helps prevent heat leakage through a space between two surfaces, thereby reducing waste and improving energy efficiency. By doing so, it aligns with efforts aimed at enhancing climate resilience by minimizing wastage, promoting efficient use of resources, and ultimately contributing to the reduction in greenhouse gas emissions that contribute to climate change.\\n\\nAdditionally, this modification could have positive social impacts such as decreasing environmental pollution and waste generation, which is essential for improving public health and sustainability. Furthermore, it can positively affect economic outcomes through improved resource management and reduced operational costs associated with energy usage optimization. Overall, these contributions align with the SDG 13 goals of taking urgent action to combat climate change and its impacts while also supporting related sustainable development objectives.'},\n",
       " {'patent_number': 'EP3653777A1',\n",
       "  'sdg': 'SDG15',\n",
       "  'sdg_description': 'This patent describes an improved method for harvesting vegetation in order to provide a source of renewable energy. The process includes cutting or removing vegetation from the ground surface without leaving any debris behind. This method can be used to harvest grasses that grow naturally, as well as plants that are grown specifically for this purpose. The harvested biomass is then converted into bioenergy through biorefining techniques such as anaerobic digestion, gasification, and pyrolysis. This process produces renewable energy from organic matter in a manner that does not release greenhouse gases or cause environmental harm. The patented method allows for the efficient harvesting of vegetation, which can be used to generate clean energy without degrading terrestrial ecosystems, combating desertification, promoting sustainable use of land resources, and preserving biodiversity.'},\n",
       " {'patent_number': 'EP3653777A1',\n",
       "  'sdg': 'SDG16',\n",
       "  'sdg_description': 'The provided patent excerpt is not relevant to achieving the Sustainable Development Goal (SDG) focused on promoting peaceful and inclusive societies for sustainable development, providing access to justice for all, or building effective, accountable, and inclusive institutions at all levels.\\n\\nThis excerpt discusses a technical detail about forming protrusions in specific areas of a case, which does not relate to legal systems, conflict resolution, or institutional structures. Therefore, it is unrelated to achieving the SDGs aimed at addressing peaceful societies, ensuring access to justice for everyone, and creating fair and effective institutions.\\n\\nTo provide accurate assistance that aligns with the requested summary and focuses on the target SDG: \\n\\n**Explanation of the patent excerpt relevance to SDG16:**\\n\\nThe patent excerpt describes a method or technique related to forming protrusions in specific locations within a case. However, this innovation is entirely unrelated to addressing peaceful societies, ensuring access to justice for all, or building effective and accountable institutions.\\n\\nTo correctly align with achieving SDG 16—promoting peaceful and inclusive societies, providing access to justice for all, and building effective, accountable, and inclusive institutions:\\n\\n- Focus on patent disclosures that discuss conflict resolution, mediation processes, legal systems, judicial reforms, or institutional mechanisms designed to prevent violence and promote stability.\\n  \\n- Consider innovative solutions in dispute resolution methods, community-based dispute resolution approaches, or advancements in governance structures aimed at enhancing the accessibility of justice.\\n\\n**Relevant patents might include:**\\n\\n1. Patent 202300XXXXX - Method for Mediation Training (targeting conflict resolution and inclusivity)\\n   \\n   - This patent details a training method designed to improve mediation skills and promote understanding among disputants.\\n   \\n2. Patent 202400YYYYY - Electronic Dispute Resolution System (aimed at providing accessible justice, focusing on technology-driven solutions)\\n\\n**Summarize how these patents would contribute to SDG16:**\\n\\n- \"Patent 202300XXXXX\" would likely support SDG16 by enhancing the capacity of communities to resolve conflicts and disputes in a peaceful manner. By improving mediation training methods, it addresses target 16.4 (guaranteeing access to free legal aid).\\n\\n- \"Patent 202400YYYYY\" could contribute to achieving SDG16 by expanding access to justice through innovative technology solutions that enable more people to participate in the justice system.\\n\\nTherefore, while this excerpt is not relevant for achieving SDG16, it would be part'},\n",
       " {'patent_number': 'EP3653777A1',\n",
       "  'sdg': 'SDG3',\n",
       "  'sdg_description': \"This patent excerpt focuses on providing a novel design of a case that could potentially improve health outcomes or prevent injuries by enhancing ergonomics, comfort, and safety during use. While the specific content is abstract from being related to SDG3 directly, it suggests improvements in product design aimed at enhancing user experience and reducing accidents or injuries. The improvement could have positive impacts on social well-being through reduced medical costs due to injury prevention or lower workplace accidents leading to better overall health outcomes for users of these products.\\n\\n**Link to SDG3:**\\n- **Target 3.9: Improve the quality, relevance, and sustainability of health care systems (including primary healthcare) by strengthening the healthiest environments, promoting healthy behaviors, preventing diseases, reducing premature mortality, and controlling epidemics and other threats to health in all countries.**\\n- The patent aims at improving ergonomics, which can lead to reduced strain on users' bodies when using the product. Better design reduces the likelihood of physical harm, thus contributing positively to overall well-being and potentially indirectly supporting healthier behaviors (Target 3.9). \\n\\nWhile this excerpt doesn't directly align with SDG3's health care targets, it implies an improvement that could contribute positively to achieving better health outcomes through safer use cases or ergonomic enhancements.\"},\n",
       " {'patent_number': 'EP3653777A1',\n",
       "  'sdg': 'SDG4',\n",
       "  'sdg_description': \"The patent excerpt describes an internal configuration of a washing machine that includes two cases, a front case (300) and a rear case (400), to form the tub 100 of the appliance. The design features auxiliary coupling protrusions (322) on the first case and constraining protrusions (420) on the second case, which are positioned to prevent flash from flowing into the tub after welding.\\n\\nThis patent contributes to the SDG: SDG4 - Ensure inclusive and equitable quality education and promote lifelong learning opportunities for all. The design helps ensure that the components of a washing machine can be easily coupled together while maintaining a secure joint without allowing flash (metal debris) to escape. This ensures that the assembly process is efficient, reducing downtime and increasing overall efficiency.\\n\\nBy promoting a more consistent and reliable product design with improved durability and safety features, this patent supports lifelong learning opportunities for all by ensuring that consumers have access to products built to last and perform reliably over time, which aligns closely with SDG4's goal of providing inclusive and equitable quality education.\"},\n",
       " {'patent_number': 'EP3653777A1',\n",
       "  'sdg': 'SDG6',\n",
       "  'sdg_description': 'This patent provides a solution to prevent leakage of washing water in a washing machine, thereby reducing the risk of hygiene issues such as mold growth or contamination of laundry caused by unmanaged wastewater discharge. By ensuring that washing water is properly contained within the tub and not allowed to leak into adjacent spaces, this patent contributes significantly towards the SDG 6 target aimed at securing safe and sustainable management of water and sanitation for all. The improved control over drainage helps maintain a hygienic environment inside the washing machine, which in turn supports the goal of ensuring that everyone has access to clean water and adequate sanitation facilities. This innovation not only addresses an immediate problem related to sanitary conditions but also promotes overall sustainability by reducing environmental impact through better management of resources within the machinery itself.'},\n",
       " {'patent_number': 'EP3653777A1',\n",
       "  'sdg': 'SDG9',\n",
       "  'sdg_description': 'The invention relates to a system for detecting an object using a camera. The system includes a plurality of sensors configured to generate signals corresponding to detection results generated by each sensor during scanning an object. A processor is provided to receive the signals from the plurality of sensors, and generate a signal corresponding to at least one object detected.'}]"
      ]
     },
     "execution_count": 7,
     "metadata": {},
     "output_type": "execute_result"
    }
   ],
   "source": [
    "from api.repositories.sdg_summary_repository import get_sdg_summary_by_patent_number\n",
    "\n",
    "get_sdg_summary_by_patent_number(\"EP3653777A1\")"
   ]
  }
 ],
 "metadata": {
  "kernelspec": {
   "display_name": ".venv",
   "language": "python",
   "name": "python3"
  },
  "language_info": {
   "codemirror_mode": {
    "name": "ipython",
    "version": 3
   },
   "file_extension": ".py",
   "mimetype": "text/x-python",
   "name": "python",
   "nbconvert_exporter": "python",
   "pygments_lexer": "ipython3",
   "version": "3.13.3"
  }
 },
 "nbformat": 4,
 "nbformat_minor": 2
}
