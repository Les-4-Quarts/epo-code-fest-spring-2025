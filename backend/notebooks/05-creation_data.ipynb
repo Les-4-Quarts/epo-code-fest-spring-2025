{
 "cells": [
  {
   "cell_type": "code",
   "execution_count": 109,
   "id": "d0126afa",
   "metadata": {},
   "outputs": [],
   "source": [
    "from tqdm.notebook import tqdm\n",
    "from api.config.db_config import get_db_connection\n",
    "import random\n",
    "import json\n",
    "import re\n",
    "\n",
    "from ollama import Client\n",
    "\n",
    "client = Client(host=\"http://127.0.0.1:11434\")\n",
    "with open(\"sdg_label_prompt.md\", \"r\") as f:\n",
    "    prompt_template = f.read()\n",
    "        \n",
    "conn = get_db_connection()\n",
    "\n",
    "def get_all_patents_number():\n",
    "    # Fetch the patent data from the database\n",
    "    numbers= []\n",
    "    fetch_patent_query = \"\"\"\n",
    "    SELECT patent.number\n",
    "    FROM patent\n",
    "    \"\"\"\n",
    "\n",
    "    cursor = conn.cursor()\n",
    "    cursor.execute(fetch_patent_query)\n",
    "    for number in cursor.fetchall():\n",
    "        numbers.append(number[0])\n",
    "    cursor.close()\n",
    "    return numbers\n",
    "\n",
    "\n",
    "def get_description(patent_number):\n",
    "    descriptions = []\n",
    "    fetch_description_query = \"\"\"\n",
    "    SELECT description_number, description_text, patent_number, sdg\n",
    "    FROM patent_description\n",
    "    WHERE patent_number = %s and description_number < 15 and LENGTH(description_text) - LENGTH(REPLACE(description_text, ' ', '')) + 1 > 20;\n",
    "    \"\"\"\n",
    "    cursor = conn.cursor()\n",
    "    cursor.execute(fetch_description_query, (patent_number,))\n",
    "    fetchall = cursor.fetchall()\n",
    "    for description in fetchall:\n",
    "        descriptions.append({\n",
    "            \"description_number\": description[0],\n",
    "            \"description_text\": description[1],\n",
    "            \"patent_number\": description[2],\n",
    "            \"sdg\": description[3]\n",
    "        })\n",
    "    cursor.close()\n",
    "    return descriptions"
   ]
  },
  {
   "cell_type": "code",
   "execution_count": null,
   "id": "baeb8d4a",
   "metadata": {},
   "outputs": [],
   "source": [
    "numbers = get_all_patents_number()\n",
    "all_patent_number = random.sample(numbers, 30)"
   ]
  },
  {
   "cell_type": "code",
   "execution_count": null,
   "id": "b2f59064",
   "metadata": {},
   "outputs": [
    {
     "data": {
      "application/vnd.jupyter.widget-view+json": {
       "model_id": "bb6cb4e17cbd4268a173fc300e8b3619",
       "version_major": 2,
       "version_minor": 0
      },
      "text/plain": [
       "  0%|          | 0/1 [00:00<?, ?it/s]"
      ]
     },
     "metadata": {},
     "output_type": "display_data"
    },
    {
     "name": "stderr",
     "output_type": "stream",
     "text": [
      "2025-05-21 22:30:10,473 - httpx - INFO - _send_single_request - HTTP Request: POST http://127.0.0.1:11434/api/generate \"HTTP/1.1 200 OK\"\n"
     ]
    },
    {
     "name": "stdout",
     "output_type": "stream",
     "text": [
      "\n",
      "SDG 12: Responsible Consumption and Production\n",
      "\n",
      "The text discusses the shift from traditional carton-type packaging to a soft pack-type film packaging bag for hygienic thin paper. This change is motivated by factors such as environmental load, disposal, transportation, storage, and cost efficiency. These considerations directly relate to the goal of promoting sustainable consumption and production patterns, which is the core objective of SDG 12. The emphasis on reducing environmental impact through packaging innovation aligns with the principles of responsible consumption and production, making SDG 12 the most relevant classification for this text.\n",
      "\n"
     ]
    },
    {
     "name": "stderr",
     "output_type": "stream",
     "text": [
      "2025-05-21 22:30:24,348 - httpx - INFO - _send_single_request - HTTP Request: POST http://127.0.0.1:11434/api/generate \"HTTP/1.1 200 OK\"\n"
     ]
    },
    {
     "name": "stdout",
     "output_type": "stream",
     "text": [
      "\n",
      "nothing\n",
      "\n"
     ]
    },
    {
     "name": "stderr",
     "output_type": "stream",
     "text": [
      "2025-05-21 22:30:45,978 - httpx - INFO - _send_single_request - HTTP Request: POST http://127.0.0.1:11434/api/generate \"HTTP/1.1 200 OK\"\n"
     ]
    },
    {
     "name": "stdout",
     "output_type": "stream",
     "text": [
      "\n",
      "The text describes an innovative packaging design for sheets, featuring a retrieval opening created by perforations and a tab. This invention is primarily focused on improving the functionality and usability of packaging, which relates to industrial innovation and sustainable manufacturing practices. \n",
      "\n",
      "**Reasoning:**\n",
      "- **SDG 9 (Industry, Innovation and Infrastructure):** The invention represents a new design in packaging technology, which falls under the scope of industrial innovation. It involves creating a more efficient and user-friendly packaging solution, which aligns with the goal of fostering innovation and sustainable industrial practices.\n",
      "- **SDG 12 (Responsible Consumption and Production):** While not explicitly stated, the design could contribute to more sustainable consumption by improving the usability of packaging, potentially reducing waste or enhancing product accessibility, which is part of responsible consumption and production patterns.\n",
      "\n",
      "However, since the text does not explicitly mention sustainability, environmental impact, or consumption patterns, **SDG 9 is the most directly relevant** goal based on the innovation in packaging design.\n",
      "\n",
      "**Classification:** SDG 9\n",
      "\n"
     ]
    },
    {
     "name": "stderr",
     "output_type": "stream",
     "text": [
      "2025-05-21 22:31:00,773 - httpx - INFO - _send_single_request - HTTP Request: POST http://127.0.0.1:11434/api/generate \"HTTP/1.1 200 OK\"\n"
     ]
    },
    {
     "name": "stdout",
     "output_type": "stream",
     "text": [
      "\n",
      "The text describes an invention related to a sheet package that facilitates the formation of a retrieval opening. While the text does not explicitly mention any of the Sustainable Development Goals (SDGs), it appears to be focused on industrial innovation and product design. \n",
      "\n",
      "The most relevant SDG is **SDG 9: Industry, Innovation and Infrastructure**, as the invention pertains to the development of a new packaging solution, which aligns with fostering innovation and sustainable industrial practices. The text does not provide enough information to confidently associate it with other SDGs such as health, education, or environmental sustainability.\n",
      "\n",
      "Therefore, the most relevant SDG for this text is **SDG 9**.\n",
      "\n"
     ]
    },
    {
     "name": "stderr",
     "output_type": "stream",
     "text": [
      "2025-05-21 22:31:16,153 - httpx - INFO - _send_single_request - HTTP Request: POST http://127.0.0.1:11434/api/generate \"HTTP/1.1 200 OK\"\n"
     ]
    },
    {
     "name": "stdout",
     "output_type": "stream",
     "text": [
      "\n",
      "nothing\n",
      "\n"
     ]
    },
    {
     "name": "stderr",
     "output_type": "stream",
     "text": [
      "2025-05-21 22:31:24,629 - httpx - INFO - _send_single_request - HTTP Request: POST http://127.0.0.1:11434/api/generate \"HTTP/1.1 200 OK\"\n"
     ]
    },
    {
     "name": "stdout",
     "output_type": "stream",
     "text": [
      "nothing\n"
     ]
    },
    {
     "name": "stderr",
     "output_type": "stream",
     "text": [
      "2025-05-21 22:31:31,985 - httpx - INFO - _send_single_request - HTTP Request: POST http://127.0.0.1:11434/api/generate \"HTTP/1.1 200 OK\"\n"
     ]
    },
    {
     "name": "stdout",
     "output_type": "stream",
     "text": [
      "\n",
      "nothing\n",
      "\n"
     ]
    },
    {
     "name": "stderr",
     "output_type": "stream",
     "text": [
      "2025-05-21 22:31:56,524 - httpx - INFO - _send_single_request - HTTP Request: POST http://127.0.0.1:11434/api/generate \"HTTP/1.1 200 OK\"\n"
     ]
    },
    {
     "name": "stdout",
     "output_type": "stream",
     "text": [
      "\n",
      "The text provided describes a series of technical drawings illustrating the structure and components of a sheet package, including retrieval openings and tabs. These figures are focused on the mechanical and design aspects of the packaging, such as its construction, views, and functional elements. However, there is no mention of sustainability, environmental impact, economic growth, social equity, or any other themes directly aligned with the Sustainable Development Goals (SDGs).\n",
      "\n",
      "The content is purely technical and does not reference any of the SDGs' objectives, such as poverty reduction, clean energy, responsible consumption, or climate action. While packaging design can theoretically contribute to certain SDGs (e.g., SDG 12 for sustainable production), the text does not provide enough context to make such a connection. Therefore, the text is not related to any of the 17 SDGs.\n",
      "\n",
      "The most relevant classification is: **nothing**.\n",
      "\n"
     ]
    },
    {
     "name": "stderr",
     "output_type": "stream",
     "text": [
      "2025-05-21 22:32:10,263 - httpx - INFO - _send_single_request - HTTP Request: POST http://127.0.0.1:11434/api/generate \"HTTP/1.1 200 OK\"\n"
     ]
    },
    {
     "name": "stdout",
     "output_type": "stream",
     "text": [
      "\n",
      "nothing\n",
      "\n"
     ]
    },
    {
     "name": "stderr",
     "output_type": "stream",
     "text": [
      "2025-05-21 22:32:39,518 - httpx - INFO - _send_single_request - HTTP Request: POST http://127.0.0.1:11434/api/generate \"HTTP/1.1 200 OK\"\n"
     ]
    },
    {
     "name": "stdout",
     "output_type": "stream",
     "text": [
      "\n",
      "The text describes a packaging design that allows for efficient retrieval of individual sheets from a stack, focusing on the structural and functional aspects of the packaging bag. While the text does not explicitly mention sustainability, environmental impact, or social equity, it does involve **innovation in industrial design** and **product functionality**.\n",
      "\n",
      "The most relevant SDG is **SDG 9: Industry, Innovation and Infrastructure**, as the text discusses the development of a packaging system that likely represents an innovative approach to product packaging. This innovation contributes to **resilient infrastructure** and **sustainable industrialization**, which are key components of SDG 9.\n",
      "\n",
      "Other SDGs such as SDG 12 (Responsible Consumption and Production) could be loosely associated if the packaging design aims to reduce waste or improve resource efficiency, but the text does not provide enough information to confirm this. Therefore, **SDG 9 is the most directly relevant** based on the provided information.\n",
      "\n",
      "\n"
     ]
    },
    {
     "name": "stderr",
     "output_type": "stream",
     "text": [
      "2025-05-21 22:32:50,805 - httpx - INFO - _send_single_request - HTTP Request: POST http://127.0.0.1:11434/api/generate \"HTTP/1.1 200 OK\"\n"
     ]
    },
    {
     "name": "stdout",
     "output_type": "stream",
     "text": [
      "\n",
      "nothing\n",
      "\n"
     ]
    },
    {
     "name": "stderr",
     "output_type": "stream",
     "text": [
      "2025-05-21 22:32:58,684 - httpx - INFO - _send_single_request - HTTP Request: POST http://127.0.0.1:11434/api/generate \"HTTP/1.1 200 OK\"\n"
     ]
    },
    {
     "name": "stdout",
     "output_type": "stream",
     "text": [
      "\n",
      "nothing\n",
      "\n"
     ]
    }
   ],
   "source": [
    "\n",
    "list_patent = []  # Initialize as a flat list\n",
    "seen_description_texts_globally = set() # To track unique description texts globally\n",
    "\n",
    "for actual_patent_number in tqdm(all_patent_number):\n",
    "\n",
    "    descriptions_from_db = get_description(actual_patent_number)\n",
    "    \n",
    "    for desc_data in descriptions_from_db:\n",
    "        # desc_data is a dictionary like:\n",
    "        # {\n",
    "        #     \"description_number\": ...,\n",
    "        #     \"description_text\": ...,\n",
    "        #     \"patent_number\": ...,  (this will be actual_patent_number)\n",
    "        #     \"sdg\": ...\n",
    "        # }\n",
    "        \n",
    "        description_text = desc_data[\"description_text\"]\n",
    "        \n",
    "\n",
    "        # Check if this description_text has already been added globally\n",
    "        if description_text not in seen_description_texts_globally:\n",
    "\n",
    "            formatted_prompt = prompt_template.replace(\"{description}\", description_text)\n",
    "\n",
    "            # Generate the SDG classification\n",
    "            response_data = client.generate(\n",
    "                model=\"qwen3:8b\", # Make sure this model is available in your Ollama instance\n",
    "                prompt=formatted_prompt\n",
    "                # You might want to add other parameters like 'stream=False'\n",
    "                # or options within a dictionary if your client version supports it.\n",
    "                # Example: options={\"temperature\": 0.7}\n",
    "            )\n",
    "            # Get the raw text output from the model's response\n",
    "            # The actual key for the response text is usually 'response'\n",
    "            raw_output_text = response_data.get('response', '').strip()\n",
    "            \n",
    "            # 1. Try to find content within <answer>...</answer> tags (case-insensitive for tags)\n",
    "            answer_match = re.search(r\"<answer>(.*?)</answer>\", raw_output_text, re.DOTALL | re.IGNORECASE)\n",
    "            \n",
    "            list_patent.append({\n",
    "                \"patent_number\": desc_data[\"patent_number\"], # This is actual_patent_number\n",
    "                \"sdg\": answer_match.group(1),\n",
    "                \"description_number\": desc_data[\"description_number\"],\n",
    "                \"description_text\": description_text # Store the text that was classified\n",
    "            })\n",
    "            \n",
    "            seen_description_texts_globally.add(description_text)"
   ]
  },
  {
   "cell_type": "code",
   "execution_count": 112,
   "id": "e4ce8e1b",
   "metadata": {},
   "outputs": [],
   "source": [
    "with open(\"patents_output.json\", 'w', encoding='utf-8') as json_file:\n",
    "    json.dump(list_patent, json_file, ensure_ascii=False, indent=4)"
   ]
  }
 ],
 "metadata": {
  "kernelspec": {
   "display_name": ".venv",
   "language": "python",
   "name": "python3"
  },
  "language_info": {
   "codemirror_mode": {
    "name": "ipython",
    "version": 3
   },
   "file_extension": ".py",
   "mimetype": "text/x-python",
   "name": "python",
   "nbconvert_exporter": "python",
   "pygments_lexer": "ipython3",
   "version": "3.13.3"
  }
 },
 "nbformat": 4,
 "nbformat_minor": 5
}
