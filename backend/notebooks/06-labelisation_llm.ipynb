{
 "cells": [
  {
   "cell_type": "code",
   "execution_count": 1,
   "id": "d0126afa",
   "metadata": {},
   "outputs": [],
   "source": [
    "import json\n",
    "import re\n",
    "\n",
    "from ollama import Client\n",
    "\n",
    "client = Client(host=\"http://127.0.0.1:11434\")\n",
    "with open(\"sdg_label_prompt.md\", \"r\") as f:\n",
    "    prompt_template = f.read()\n",
    "        \n"
   ]
  },
  {
   "cell_type": "code",
   "execution_count": 2,
   "id": "e32c4e39",
   "metadata": {},
   "outputs": [],
   "source": [
    "def get_sdg_reason(text):\n",
    "\n",
    "    reason_match = re.search(r'<reason>(.*?)</reason>', text, re.DOTALL)\n",
    "    sdg_match = re.search(r'<sdg>(.*?)</sdg>', text, re.DOTALL)\n",
    "\n",
    "    reason_content_regex = \"\"\n",
    "    sdg_content_regex = \"\"\n",
    "\n",
    "    if reason_match:\n",
    "        reason_content_regex = reason_match.group(1).strip()\n",
    "\n",
    "    if sdg_match:\n",
    "        sdg_content_regex = sdg_match.group(1).strip()\n",
    "    return sdg_content_regex, reason_content_regex"
   ]
  },
  {
   "cell_type": "code",
   "execution_count": null,
   "id": "baeb8d4a",
   "metadata": {},
   "outputs": [],
   "source": [
    "\n",
    "# Ouvrir le fichier en mode écriture ('w')\n",
    "# Il est bon d'utiliser encoding='utf-8' pour les fichiers JSON.\n",
    "with open(\"../src/ai/testsets/dataset_labeled.jsonl\", \"w\", encoding=\"utf-8\") as f_out:\n",
    "    with open(\"../src/ai/testsets/dataset.jsonl\", \"r\", encoding=\"utf-8\") as f:\n",
    "        for line in f:\n",
    "            item = json.loads(line)\n",
    "            try:\n",
    "                for key, value in item.items():\n",
    "                    formatted_prompt = prompt_template.replace(\"{description}\", value)\n",
    "                    response_data = client.generate(\n",
    "                        model=\"qwen3:14b\", # Make sure this model is available in your Ollama instance\n",
    "                        prompt=formatted_prompt,\n",
    "                        options={\"temperature\": 0.2}\n",
    "                    )\n",
    "                    raw_output_text = response_data.get('response', '').strip()\n",
    "                    break\n",
    "                sdg, reason = get_sdg_reason(raw_output_text)\n",
    "                output_data = {key: sdg, \"reason\": reason}\n",
    "                f_out.write(json.dumps(output_data, ensure_ascii=False) + \"\\n\")\n",
    "                f_out.flush()\n",
    "\n",
    "            except:\n",
    "                print(f\"Erreur : Pour {key}, {value} n'a pas été trouvé.\")\n"
   ]
  }
 ],
 "metadata": {
  "kernelspec": {
   "display_name": ".venv",
   "language": "python",
   "name": "python3"
  },
  "language_info": {
   "codemirror_mode": {
    "name": "ipython",
    "version": 3
   },
   "file_extension": ".py",
   "mimetype": "text/x-python",
   "name": "python",
   "nbconvert_exporter": "python",
   "pygments_lexer": "ipython3",
   "version": "3.13.3"
  }
 },
 "nbformat": 4,
 "nbformat_minor": 5
}
