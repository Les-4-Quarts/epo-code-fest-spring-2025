{
 "cells": [
  {
   "cell_type": "code",
   "execution_count": 5,
   "id": "d0126afa",
   "metadata": {},
   "outputs": [],
   "source": [
    "from tqdm.notebook import tqdm\n",
    "from api.config.db_config import get_db_connection\n",
    "import random\n",
    "import json\n",
    "import re\n",
    "\n",
    "from ollama import Client\n",
    "\n",
    "client = Client(host=\"http://127.0.0.1:11434\")\n",
    "with open(\"sdg_label_prompt.md\", \"r\") as f:\n",
    "    prompt_template = f.read()\n",
    "        \n"
   ]
  },
  {
   "cell_type": "code",
   "execution_count": 6,
   "id": "baeb8d4a",
   "metadata": {},
   "outputs": [
    {
     "name": "stdout",
     "output_type": "stream",
     "text": [
      "Nombre total d'items initial : 1727\n",
      "Nombre d'items avec SDG == 'None' : 1190\n",
      "Nombre d'items avec SDG != 'None' : 537\n",
      "Nombre d'items avec SDG == 'None' à conserver (10%) : 119\n",
      "Nombre total d'items après filtrage : 656\n"
     ]
    }
   ],
   "source": [
    "all_items = []\n",
    "try:\n",
    "    with open(\"../src/ai/testsets/testset_v1_en_labeled.jsonl\", \"r\", encoding=\"utf-8\") as f:\n",
    "        for line in f:\n",
    "            try:\n",
    "                all_items.append(json.loads(line.strip()))\n",
    "            except json.JSONDecodeError as e:\n",
    "                print(f\"Attention : Ligne ignorée car JSON invalide : {line.strip()} - Erreur : {e}\")\n",
    "except FileNotFoundError:\n",
    "    print(f\"Erreur : Le fichier {\"../src/ai/testsets/testset_v1_en_labeled.jsonl\"} n'a pas été trouvé.\")\n",
    "    all_items = [] # S'assurer que all_items est une liste vide si le fichier n'est pas trouvé\n",
    "\n",
    "if all_items:\n",
    "    # Séparer les items\n",
    "    sdg_none_items = [item for item in all_items if item.get(\"sdg\") == \"None\" or item.get(\"sdg\") is None]\n",
    "    sdg_present_items = [item for item in all_items if item.get(\"sdg\") != \"None\" and item.get(\"sdg\") is not None]\n",
    "\n",
    "    # Calculer combien d'items \"None\" conserver (10%)\n",
    "    num_none_to_keep = int(len(sdg_none_items) * 0.10)\n",
    "\n",
    "    # Sélectionner aléatoirement les items \"None\" à conserver\n",
    "    # random.sample s'assure qu'il n'y a pas de doublons\n",
    "    sdg_none_items_kept = random.sample(sdg_none_items, num_none_to_keep)\n",
    "\n",
    "    # Combiner les listes\n",
    "    filtered_data = sdg_present_items + sdg_none_items_kept\n",
    "\n",
    "    # Mélanger les résultats si désiré (optionnel)\n",
    "    random.shuffle(filtered_data)\n",
    "\n",
    "    print(f\"Nombre total d'items initial : {len(all_items)}\")\n",
    "    print(f\"Nombre d'items avec SDG == 'None' : {len(sdg_none_items)}\")\n",
    "    print(f\"Nombre d'items avec SDG != 'None' : {len(sdg_present_items)}\")\n",
    "    print(f\"Nombre d'items avec SDG == 'None' à conserver (10%) : {len(sdg_none_items_kept)}\")\n",
    "    print(f\"Nombre total d'items après filtrage : {len(filtered_data)}\")\n",
    "\n",
    "    # Maintenant, 'filtered_data' contient les données souhaitées\n",
    "    # Vous pouvez par exemple afficher quelques éléments pour vérifier :\n",
    "    # for i, item in enumerate(filtered_data[:5]):\n",
    "    # print(f\"Item {i}: {item}\")\n",
    "else:\n",
    "    print(\"Aucune donnée n'a été chargée du fichier.\")"
   ]
  },
  {
   "cell_type": "code",
   "execution_count": 7,
   "id": "fbbd6cab",
   "metadata": {},
   "outputs": [
    {
     "data": {
      "text/plain": [
       "'# Check if this description_text has already been added globally\\nif description_text not in seen_description_texts_globally:\\n\\n    formatted_prompt = prompt_template.replace(\"{description}\", description_text)\\n\\n    # Generate the SDG classification\\n    response_data = client.generate(\\n        model=\"qwen3:8b\", # Make sure this model is available in your Ollama instance\\n        prompt=formatted_prompt\\n        # You might want to add other parameters like \\'stream=False\\'\\n        # or options within a dictionary if your client version supports it.\\n        # Example: options={\"temperature\": 0.7}\\n    )\\n    # Get the raw text output from the model\\'s response\\n    # The actual key for the response text is usually \\'response\\'\\n    raw_output_text = response_data.get(\\'response\\', \\'\\').strip()\\n\\n    # 1. Try to find content within <answer>...</answer> tags (case-insensitive for tags)\\n    answer_match = re.search(r\"<answer>(.*?)</answer>\", raw_output_text, re.DOTALL | re.IGNORECASE)\\n\\n    list_patent.append({\\n        \"patent_number\": desc_data[\"patent_number\"], # This is actual_patent_number\\n        \"sdg\": answer_match.group(1),\\n        \"description_number\": desc_data[\"description_number\"],\\n        \"description_text\": description_text # Store the text that was classified\\n    })\\n\\n    seen_description_texts_globally.add(description_text)'"
      ]
     },
     "execution_count": 7,
     "metadata": {},
     "output_type": "execute_result"
    }
   ],
   "source": [
    "        \"\"\"# Check if this description_text has already been added globally\n",
    "        if description_text not in seen_description_texts_globally:\n",
    "\n",
    "            formatted_prompt = prompt_template.replace(\"{description}\", description_text)\n",
    "\n",
    "            # Generate the SDG classification\n",
    "            response_data = client.generate(\n",
    "                model=\"qwen3:8b\", # Make sure this model is available in your Ollama instance\n",
    "                prompt=formatted_prompt\n",
    "                # You might want to add other parameters like 'stream=False'\n",
    "                # or options within a dictionary if your client version supports it.\n",
    "                # Example: options={\"temperature\": 0.7}\n",
    "            )\n",
    "            # Get the raw text output from the model's response\n",
    "            # The actual key for the response text is usually 'response'\n",
    "            raw_output_text = response_data.get('response', '').strip()\n",
    "            \n",
    "            # 1. Try to find content within <answer>...</answer> tags (case-insensitive for tags)\n",
    "            answer_match = re.search(r\"<answer>(.*?)</answer>\", raw_output_text, re.DOTALL | re.IGNORECASE)\n",
    "            \n",
    "            list_patent.append({\n",
    "                \"patent_number\": desc_data[\"patent_number\"], # This is actual_patent_number\n",
    "                \"sdg\": answer_match.group(1),\n",
    "                \"description_number\": desc_data[\"description_number\"],\n",
    "                \"description_text\": description_text # Store the text that was classified\n",
    "            })\n",
    "            \n",
    "            seen_description_texts_globally.add(description_text)\"\"\""
   ]
  },
  {
   "cell_type": "code",
   "execution_count": null,
   "id": "b2f59064",
   "metadata": {},
   "outputs": [
    {
     "name": "stderr",
     "output_type": "stream",
     "text": [
      "2025-05-23 23:39:12,342 - httpx - INFO - _send_single_request - HTTP Request: POST http://127.0.0.1:11434/api/generate \"HTTP/1.1 200 OK\"\n"
     ]
    },
    {
     "name": "stdout",
     "output_type": "stream",
     "text": [
      "<think>\n",
      "Okay, let me try to figure out which SDG(s) this text relates to. The text is about a film material with specific properties: resistant to lidocaine, contact layer is COC, base layer is aluminum, and the tie-layer is a multilayer of a terpolymer and a copolymer. \n",
      "\n",
      "First, I need to understand what this material is used for. The mention of layers like COC (cyclo-olefin copolymer), aluminum, and specific polymers suggests it's a type of packaging or barrier material. Lidocaine resistance might indicate it's used in medical or pharmaceutical contexts, perhaps for drug delivery systems or protective packaging for medications. \n",
      "\n",
      "Looking at the SDGs, the focus here is on materials science and their applications. Let's consider each SDG:\n",
      "\n",
      "SDG 9: Industry, Innovation, and Infrastructure. This is about sustainable industrialization, innovation, and infrastructure. Developing new materials like this could contribute to sustainable manufacturing processes, reducing waste or improving efficiency. The use of specific polymers might relate to innovative materials that support industrial growth.\n",
      "\n",
      "SDG 12: Responsible Consumption and Production. If this material is part of a product that reduces waste or is more sustainable in production, it could fit here. However, the text doesn't mention environmental impact directly, so maybe not the strongest link.\n",
      "\n",
      "SDG 17: Partnerships for the Goals. While this is about collaboration, the text seems more about the material itself rather than partnerships.\n",
      "\n",
      "SDG 8: Decent Work and Economic Growth. If the material leads to job creation or economic growth through innovation, it might relate, but again, the text doesn't mention economic aspects directly.\n",
      "\n",
      "SDG 7: Affordable and Clean Energy. Doesn't seem relevant here.\n",
      "\n",
      "SDG 11: Sustainable Cities and Communities. Maybe if the material is used in construction, but the text doesn't mention that.\n",
      "\n",
      "SDG 13: Climate Action. If the material reduces carbon footprint, but again, not directly stated.\n",
      "\n",
      "SDG 6: Clean Water and Sanitation. Not directly related.\n",
      "\n",
      "SDG 3: Good Health and Well-being. If the material is used in medical devices or drug delivery, which could relate to health. The mention of lidocaine resistance might indicate it's used in medical contexts, like packaging for lidocaine products. However, the text doesn't explicitly state that.\n",
      "\n",
      "SDG 9 seems more likely because it's about innovation in industry. The development of new materials for specific applications (like drug-resistant packaging) could be part of sustainable industrial practices. The mention of specific polymers and layers might be part of creating more efficient or sustainable manufacturing processes. \n",
      "\n",
      "Alternatively, if the material is used in a medical context (like drug delivery), it could relate to SDG 3. However, the text doesn't specify that. The primary focus seems to be on the material's composition and properties, which is more aligned with industrial innovation. Therefore, SDG 9 is the most relevant.\n",
      "</think>\n",
      "\n",
      "**Most Relevant SDG(s):**  \n",
      "**SDG 9: Industry, Innovation, and Infrastructure**  \n",
      "\n",
      "**Reasoning:**  \n",
      "The text describes a specialized material composition (e.g., COC, aluminum, terpolymers, copolymers) designed for specific functional properties (e.g., lidocaine resistance). This reflects **innovation in material science** and **industrial applications**, which aligns with **SDG 9**. Key points:  \n",
      "1. **Innovation in Materials**: The use of advanced polymers and layered structures (e.g., terpolymer-copolymer tie-layers) demonstrates technological innovation to meet specific industrial or medical needs.  \n",
      "2. **Sustainable Industrial Practices**: While not explicitly stated, such materials could contribute to **resource efficiency** or **reduced waste** in manufacturing processes, supporting SDG 9's focus on sustainable industrialization.  \n",
      "3. **Medical/Pharmaceutical Context**: The mention of lidocaine resistance suggests potential use in **healthcare applications**, indirectly linking to **SDG 3 (Good Health and Well-being)**. However, the text emphasizes material properties over health outcomes, making SDG 9 the stronger fit.  \n",
      "\n",
      "**Other Potential Links:**  \n",
      "- **SDG 12 (Responsible Consumption/Production)**: If the material reduces environmental impact or improves production efficiency, it could tie to sustainable resource use. However, the text lacks explicit environmental claims.  \n",
      "- **SDG 17 (Partnerships)**: While partnerships are critical for innovation, the text focuses on technical details rather than collaboration frameworks.  \n",
      "\n",
      "**Conclusion:**  \n",
      "The primary relevance lies in **SDG 9**, as the text centers on **material innovation** and **industrial application** rather than direct environmental or health outcomes.\n",
      "true label :SDG9\n"
     ]
    },
    {
     "name": "stderr",
     "output_type": "stream",
     "text": [
      "2025-05-23 23:39:30,338 - httpx - INFO - _send_single_request - HTTP Request: POST http://127.0.0.1:11434/api/generate \"HTTP/1.1 200 OK\"\n"
     ]
    },
    {
     "name": "stdout",
     "output_type": "stream",
     "text": [
      "<think>\n",
      "Okay, let's tackle this. The user provided a technical text about networking, specifically regarding Border Gateway Protocol (BGP) and MPLS forwarding. They want to know which SDG(s) this text relates to.\n",
      "\n",
      "First, I need to understand the text. It's about a border node receiving a Transport-VPN route via EBGP. If the route has a PNH (probably a typo for PNH, maybe Path Node Header?) that's directly connected, like an EBGP single-hop peering address, the device checks the directly connected interface for MPLS forwarding. Then, no other nexthop resolution is done because the inter-AS link can be used for any transport class.\n",
      "\n",
      "So the key points here are BGP, MPLS, inter-AS links, and transport classes. These are all networking concepts. Now, how do these relate to the SDGs?\n",
      "\n",
      "Looking at the SDGs, most are about social, environmental, and economic development. But networking and infrastructure are part of the SDG 9: Industry, Innovation, and Infrastructure. That's about building resilient infrastructure, promoting inclusive and sustainable industrialization, and fostering innovation. \n",
      "\n",
      "The text is about network routing and MPLS, which are part of the infrastructure that supports digital connectivity. SDG 9 includes things like expanding internet access, which aligns with improving infrastructure. Also, SDG 17 is about partnerships for the goals, which includes technology facilitation and cooperation. But the text is more about technical implementation rather than partnerships.\n",
      "\n",
      "Wait, maybe SDG 9 is the main one here. The text discusses technical aspects of network routing, which is part of building and maintaining the infrastructure needed for digital services. That's directly related to SDG 9. \n",
      "\n",
      "Are there other SDGs? Maybe SDG 17, but the text doesn't mention partnerships or global cooperation. It's more about the technical process. So the primary SDG is 9. Let me double-check. The text is about network protocols and infrastructure, which are part of SDG 9's focus on industrialization and infrastructure. Yes, that makes sense. So the answer is SDG 9.\n",
      "</think>\n",
      "\n",
      "**Most Relevant SDG(s):** SDG 9 (Industry, Innovation, and Infrastructure)  \n",
      "\n",
      "**Reasoning:**  \n",
      "The text describes technical processes related to network routing (BGP, MPLS, inter-AS links) and infrastructure protocols. These are directly tied to **SDG 9**, which focuses on building resilient infrastructure, promoting sustainable industrialization, and fostering innovation. Key aspects include:  \n",
      "- **Infrastructure Development:** The use of MPLS and BGP for efficient data transport aligns with creating robust digital infrastructure.  \n",
      "- **Innovation in Connectivity:** The handling of transport-VPN routes and inter-AS links reflects advancements in network technology, supporting inclusive and sustainable industrialization.  \n",
      "- **Global Connectivity:** While not explicitly mentioned, the technical processes underpin global digital infrastructure, which is critical for achieving SDG 9's goals of expanding access to technology and services.  \n",
      "\n",
      "Other SDGs (e.g., SDG 17 on partnerships) are tangentially related but less central here, as the text focuses on technical implementation rather than collaboration or policy frameworks.\n",
      "true label :None\n"
     ]
    },
    {
     "ename": "KeyboardInterrupt",
     "evalue": "",
     "output_type": "error",
     "traceback": [
      "\u001b[31m---------------------------------------------------------------------------\u001b[39m",
      "\u001b[31mKeyboardInterrupt\u001b[39m                         Traceback (most recent call last)",
      "\u001b[36mCell\u001b[39m\u001b[36m \u001b[39m\u001b[32mIn[8]\u001b[39m\u001b[32m, line 9\u001b[39m\n\u001b[32m      6\u001b[39m formatted_prompt = prompt_template.replace(\u001b[33m\"\u001b[39m\u001b[38;5;132;01m{description}\u001b[39;00m\u001b[33m\"\u001b[39m, description_text)\n\u001b[32m      8\u001b[39m \u001b[38;5;66;03m# Generate the SDG classification\u001b[39;00m\n\u001b[32m----> \u001b[39m\u001b[32m9\u001b[39m response_data = \u001b[43mclient\u001b[49m\u001b[43m.\u001b[49m\u001b[43mgenerate\u001b[49m\u001b[43m(\u001b[49m\n\u001b[32m     10\u001b[39m \u001b[43m    \u001b[49m\u001b[43mmodel\u001b[49m\u001b[43m=\u001b[49m\u001b[33;43m\"\u001b[39;49m\u001b[33;43mqwen3:8b\u001b[39;49m\u001b[33;43m\"\u001b[39;49m\u001b[43m,\u001b[49m\u001b[43m \u001b[49m\u001b[38;5;66;43;03m# Make sure this model is available in your Ollama instance\u001b[39;49;00m\n\u001b[32m     11\u001b[39m \u001b[43m    \u001b[49m\u001b[43mprompt\u001b[49m\u001b[43m=\u001b[49m\u001b[43mformatted_prompt\u001b[49m\n\u001b[32m     12\u001b[39m \u001b[43m    \u001b[49m\u001b[38;5;66;43;03m# You might want to add other parameters like 'stream=False'\u001b[39;49;00m\n\u001b[32m     13\u001b[39m \u001b[43m    \u001b[49m\u001b[38;5;66;43;03m# or options within a dictionary if your client version supports it.\u001b[39;49;00m\n\u001b[32m     14\u001b[39m \u001b[43m    \u001b[49m\u001b[38;5;66;43;03m# Example: options={\"temperature\": 0.7}\u001b[39;49;00m\n\u001b[32m     15\u001b[39m \u001b[43m\u001b[49m\u001b[43m)\u001b[49m\n\u001b[32m     16\u001b[39m \u001b[38;5;66;03m# Get the raw text output from the model's response\u001b[39;00m\n\u001b[32m     17\u001b[39m \u001b[38;5;66;03m# The actual key for the response text is usually 'response'\u001b[39;00m\n\u001b[32m     18\u001b[39m raw_output_text = response_data.get(\u001b[33m'\u001b[39m\u001b[33mresponse\u001b[39m\u001b[33m'\u001b[39m, \u001b[33m'\u001b[39m\u001b[33m'\u001b[39m).strip()\n",
      "\u001b[36mFile \u001b[39m\u001b[32m~/project/epo-code-fest-spring-2025/backend/.venv/lib/python3.13/site-packages/ollama/_client.py:242\u001b[39m, in \u001b[36mClient.generate\u001b[39m\u001b[34m(self, model, prompt, suffix, system, template, context, stream, raw, format, images, options, keep_alive)\u001b[39m\n\u001b[32m    216\u001b[39m \u001b[38;5;28;01mdef\u001b[39;00m\u001b[38;5;250m \u001b[39m\u001b[34mgenerate\u001b[39m(\n\u001b[32m    217\u001b[39m   \u001b[38;5;28mself\u001b[39m,\n\u001b[32m    218\u001b[39m   model: \u001b[38;5;28mstr\u001b[39m = \u001b[33m'\u001b[39m\u001b[33m'\u001b[39m,\n\u001b[32m   (...)\u001b[39m\u001b[32m    230\u001b[39m   keep_alive: Optional[Union[\u001b[38;5;28mfloat\u001b[39m, \u001b[38;5;28mstr\u001b[39m]] = \u001b[38;5;28;01mNone\u001b[39;00m,\n\u001b[32m    231\u001b[39m ) -> Union[GenerateResponse, Iterator[GenerateResponse]]:\n\u001b[32m    232\u001b[39m \u001b[38;5;250m  \u001b[39m\u001b[33;03m\"\"\"\u001b[39;00m\n\u001b[32m    233\u001b[39m \u001b[33;03m  Create a response using the requested model.\u001b[39;00m\n\u001b[32m    234\u001b[39m \n\u001b[32m   (...)\u001b[39m\u001b[32m    239\u001b[39m \u001b[33;03m  Returns `GenerateResponse` if `stream` is `False`, otherwise returns a `GenerateResponse` generator.\u001b[39;00m\n\u001b[32m    240\u001b[39m \u001b[33;03m  \"\"\"\u001b[39;00m\n\u001b[32m--> \u001b[39m\u001b[32m242\u001b[39m   \u001b[38;5;28;01mreturn\u001b[39;00m \u001b[38;5;28;43mself\u001b[39;49m\u001b[43m.\u001b[49m\u001b[43m_request\u001b[49m\u001b[43m(\u001b[49m\n\u001b[32m    243\u001b[39m \u001b[43m    \u001b[49m\u001b[43mGenerateResponse\u001b[49m\u001b[43m,\u001b[49m\n\u001b[32m    244\u001b[39m \u001b[43m    \u001b[49m\u001b[33;43m'\u001b[39;49m\u001b[33;43mPOST\u001b[39;49m\u001b[33;43m'\u001b[39;49m\u001b[43m,\u001b[49m\n\u001b[32m    245\u001b[39m \u001b[43m    \u001b[49m\u001b[33;43m'\u001b[39;49m\u001b[33;43m/api/generate\u001b[39;49m\u001b[33;43m'\u001b[39;49m\u001b[43m,\u001b[49m\n\u001b[32m    246\u001b[39m \u001b[43m    \u001b[49m\u001b[43mjson\u001b[49m\u001b[43m=\u001b[49m\u001b[43mGenerateRequest\u001b[49m\u001b[43m(\u001b[49m\n\u001b[32m    247\u001b[39m \u001b[43m      \u001b[49m\u001b[43mmodel\u001b[49m\u001b[43m=\u001b[49m\u001b[43mmodel\u001b[49m\u001b[43m,\u001b[49m\n\u001b[32m    248\u001b[39m \u001b[43m      \u001b[49m\u001b[43mprompt\u001b[49m\u001b[43m=\u001b[49m\u001b[43mprompt\u001b[49m\u001b[43m,\u001b[49m\n\u001b[32m    249\u001b[39m \u001b[43m      \u001b[49m\u001b[43msuffix\u001b[49m\u001b[43m=\u001b[49m\u001b[43msuffix\u001b[49m\u001b[43m,\u001b[49m\n\u001b[32m    250\u001b[39m \u001b[43m      \u001b[49m\u001b[43msystem\u001b[49m\u001b[43m=\u001b[49m\u001b[43msystem\u001b[49m\u001b[43m,\u001b[49m\n\u001b[32m    251\u001b[39m \u001b[43m      \u001b[49m\u001b[43mtemplate\u001b[49m\u001b[43m=\u001b[49m\u001b[43mtemplate\u001b[49m\u001b[43m,\u001b[49m\n\u001b[32m    252\u001b[39m \u001b[43m      \u001b[49m\u001b[43mcontext\u001b[49m\u001b[43m=\u001b[49m\u001b[43mcontext\u001b[49m\u001b[43m,\u001b[49m\n\u001b[32m    253\u001b[39m \u001b[43m      \u001b[49m\u001b[43mstream\u001b[49m\u001b[43m=\u001b[49m\u001b[43mstream\u001b[49m\u001b[43m,\u001b[49m\n\u001b[32m    254\u001b[39m \u001b[43m      \u001b[49m\u001b[43mraw\u001b[49m\u001b[43m=\u001b[49m\u001b[43mraw\u001b[49m\u001b[43m,\u001b[49m\n\u001b[32m    255\u001b[39m \u001b[43m      \u001b[49m\u001b[38;5;28;43mformat\u001b[39;49m\u001b[43m=\u001b[49m\u001b[38;5;28;43mformat\u001b[39;49m\u001b[43m,\u001b[49m\n\u001b[32m    256\u001b[39m \u001b[43m      \u001b[49m\u001b[43mimages\u001b[49m\u001b[43m=\u001b[49m\u001b[43m[\u001b[49m\u001b[43mimage\u001b[49m\u001b[43m \u001b[49m\u001b[38;5;28;43;01mfor\u001b[39;49;00m\u001b[43m \u001b[49m\u001b[43mimage\u001b[49m\u001b[43m \u001b[49m\u001b[38;5;129;43;01min\u001b[39;49;00m\u001b[43m \u001b[49m\u001b[43m_copy_images\u001b[49m\u001b[43m(\u001b[49m\u001b[43mimages\u001b[49m\u001b[43m)\u001b[49m\u001b[43m]\u001b[49m\u001b[43m \u001b[49m\u001b[38;5;28;43;01mif\u001b[39;49;00m\u001b[43m \u001b[49m\u001b[43mimages\u001b[49m\u001b[43m \u001b[49m\u001b[38;5;28;43;01melse\u001b[39;49;00m\u001b[43m \u001b[49m\u001b[38;5;28;43;01mNone\u001b[39;49;00m\u001b[43m,\u001b[49m\n\u001b[32m    257\u001b[39m \u001b[43m      \u001b[49m\u001b[43moptions\u001b[49m\u001b[43m=\u001b[49m\u001b[43moptions\u001b[49m\u001b[43m,\u001b[49m\n\u001b[32m    258\u001b[39m \u001b[43m      \u001b[49m\u001b[43mkeep_alive\u001b[49m\u001b[43m=\u001b[49m\u001b[43mkeep_alive\u001b[49m\u001b[43m,\u001b[49m\n\u001b[32m    259\u001b[39m \u001b[43m    \u001b[49m\u001b[43m)\u001b[49m\u001b[43m.\u001b[49m\u001b[43mmodel_dump\u001b[49m\u001b[43m(\u001b[49m\u001b[43mexclude_none\u001b[49m\u001b[43m=\u001b[49m\u001b[38;5;28;43;01mTrue\u001b[39;49;00m\u001b[43m)\u001b[49m\u001b[43m,\u001b[49m\n\u001b[32m    260\u001b[39m \u001b[43m    \u001b[49m\u001b[43mstream\u001b[49m\u001b[43m=\u001b[49m\u001b[43mstream\u001b[49m\u001b[43m,\u001b[49m\n\u001b[32m    261\u001b[39m \u001b[43m  \u001b[49m\u001b[43m)\u001b[49m\n",
      "\u001b[36mFile \u001b[39m\u001b[32m~/project/epo-code-fest-spring-2025/backend/.venv/lib/python3.13/site-packages/ollama/_client.py:178\u001b[39m, in \u001b[36mClient._request\u001b[39m\u001b[34m(self, cls, stream, *args, **kwargs)\u001b[39m\n\u001b[32m    174\u001b[39m         \u001b[38;5;28;01myield\u001b[39;00m \u001b[38;5;28mcls\u001b[39m(**part)\n\u001b[32m    176\u001b[39m   \u001b[38;5;28;01mreturn\u001b[39;00m inner()\n\u001b[32m--> \u001b[39m\u001b[32m178\u001b[39m \u001b[38;5;28;01mreturn\u001b[39;00m \u001b[38;5;28mcls\u001b[39m(**\u001b[38;5;28;43mself\u001b[39;49m\u001b[43m.\u001b[49m\u001b[43m_request_raw\u001b[49m\u001b[43m(\u001b[49m\u001b[43m*\u001b[49m\u001b[43margs\u001b[49m\u001b[43m,\u001b[49m\u001b[43m \u001b[49m\u001b[43m*\u001b[49m\u001b[43m*\u001b[49m\u001b[43mkwargs\u001b[49m\u001b[43m)\u001b[49m.json())\n",
      "\u001b[36mFile \u001b[39m\u001b[32m~/project/epo-code-fest-spring-2025/backend/.venv/lib/python3.13/site-packages/ollama/_client.py:118\u001b[39m, in \u001b[36mClient._request_raw\u001b[39m\u001b[34m(self, *args, **kwargs)\u001b[39m\n\u001b[32m    116\u001b[39m \u001b[38;5;28;01mdef\u001b[39;00m\u001b[38;5;250m \u001b[39m\u001b[34m_request_raw\u001b[39m(\u001b[38;5;28mself\u001b[39m, *args, **kwargs):\n\u001b[32m    117\u001b[39m   \u001b[38;5;28;01mtry\u001b[39;00m:\n\u001b[32m--> \u001b[39m\u001b[32m118\u001b[39m     r = \u001b[38;5;28;43mself\u001b[39;49m\u001b[43m.\u001b[49m\u001b[43m_client\u001b[49m\u001b[43m.\u001b[49m\u001b[43mrequest\u001b[49m\u001b[43m(\u001b[49m\u001b[43m*\u001b[49m\u001b[43margs\u001b[49m\u001b[43m,\u001b[49m\u001b[43m \u001b[49m\u001b[43m*\u001b[49m\u001b[43m*\u001b[49m\u001b[43mkwargs\u001b[49m\u001b[43m)\u001b[49m\n\u001b[32m    119\u001b[39m     r.raise_for_status()\n\u001b[32m    120\u001b[39m     \u001b[38;5;28;01mreturn\u001b[39;00m r\n",
      "\u001b[36mFile \u001b[39m\u001b[32m~/project/epo-code-fest-spring-2025/backend/.venv/lib/python3.13/site-packages/httpx/_client.py:825\u001b[39m, in \u001b[36mClient.request\u001b[39m\u001b[34m(self, method, url, content, data, files, json, params, headers, cookies, auth, follow_redirects, timeout, extensions)\u001b[39m\n\u001b[32m    810\u001b[39m     warnings.warn(message, \u001b[38;5;167;01mDeprecationWarning\u001b[39;00m, stacklevel=\u001b[32m2\u001b[39m)\n\u001b[32m    812\u001b[39m request = \u001b[38;5;28mself\u001b[39m.build_request(\n\u001b[32m    813\u001b[39m     method=method,\n\u001b[32m    814\u001b[39m     url=url,\n\u001b[32m   (...)\u001b[39m\u001b[32m    823\u001b[39m     extensions=extensions,\n\u001b[32m    824\u001b[39m )\n\u001b[32m--> \u001b[39m\u001b[32m825\u001b[39m \u001b[38;5;28;01mreturn\u001b[39;00m \u001b[38;5;28;43mself\u001b[39;49m\u001b[43m.\u001b[49m\u001b[43msend\u001b[49m\u001b[43m(\u001b[49m\u001b[43mrequest\u001b[49m\u001b[43m,\u001b[49m\u001b[43m \u001b[49m\u001b[43mauth\u001b[49m\u001b[43m=\u001b[49m\u001b[43mauth\u001b[49m\u001b[43m,\u001b[49m\u001b[43m \u001b[49m\u001b[43mfollow_redirects\u001b[49m\u001b[43m=\u001b[49m\u001b[43mfollow_redirects\u001b[49m\u001b[43m)\u001b[49m\n",
      "\u001b[36mFile \u001b[39m\u001b[32m~/project/epo-code-fest-spring-2025/backend/.venv/lib/python3.13/site-packages/httpx/_client.py:914\u001b[39m, in \u001b[36mClient.send\u001b[39m\u001b[34m(self, request, stream, auth, follow_redirects)\u001b[39m\n\u001b[32m    910\u001b[39m \u001b[38;5;28mself\u001b[39m._set_timeout(request)\n\u001b[32m    912\u001b[39m auth = \u001b[38;5;28mself\u001b[39m._build_request_auth(request, auth)\n\u001b[32m--> \u001b[39m\u001b[32m914\u001b[39m response = \u001b[38;5;28;43mself\u001b[39;49m\u001b[43m.\u001b[49m\u001b[43m_send_handling_auth\u001b[49m\u001b[43m(\u001b[49m\n\u001b[32m    915\u001b[39m \u001b[43m    \u001b[49m\u001b[43mrequest\u001b[49m\u001b[43m,\u001b[49m\n\u001b[32m    916\u001b[39m \u001b[43m    \u001b[49m\u001b[43mauth\u001b[49m\u001b[43m=\u001b[49m\u001b[43mauth\u001b[49m\u001b[43m,\u001b[49m\n\u001b[32m    917\u001b[39m \u001b[43m    \u001b[49m\u001b[43mfollow_redirects\u001b[49m\u001b[43m=\u001b[49m\u001b[43mfollow_redirects\u001b[49m\u001b[43m,\u001b[49m\n\u001b[32m    918\u001b[39m \u001b[43m    \u001b[49m\u001b[43mhistory\u001b[49m\u001b[43m=\u001b[49m\u001b[43m[\u001b[49m\u001b[43m]\u001b[49m\u001b[43m,\u001b[49m\n\u001b[32m    919\u001b[39m \u001b[43m\u001b[49m\u001b[43m)\u001b[49m\n\u001b[32m    920\u001b[39m \u001b[38;5;28;01mtry\u001b[39;00m:\n\u001b[32m    921\u001b[39m     \u001b[38;5;28;01mif\u001b[39;00m \u001b[38;5;129;01mnot\u001b[39;00m stream:\n",
      "\u001b[36mFile \u001b[39m\u001b[32m~/project/epo-code-fest-spring-2025/backend/.venv/lib/python3.13/site-packages/httpx/_client.py:942\u001b[39m, in \u001b[36mClient._send_handling_auth\u001b[39m\u001b[34m(self, request, auth, follow_redirects, history)\u001b[39m\n\u001b[32m    939\u001b[39m request = \u001b[38;5;28mnext\u001b[39m(auth_flow)\n\u001b[32m    941\u001b[39m \u001b[38;5;28;01mwhile\u001b[39;00m \u001b[38;5;28;01mTrue\u001b[39;00m:\n\u001b[32m--> \u001b[39m\u001b[32m942\u001b[39m     response = \u001b[38;5;28;43mself\u001b[39;49m\u001b[43m.\u001b[49m\u001b[43m_send_handling_redirects\u001b[49m\u001b[43m(\u001b[49m\n\u001b[32m    943\u001b[39m \u001b[43m        \u001b[49m\u001b[43mrequest\u001b[49m\u001b[43m,\u001b[49m\n\u001b[32m    944\u001b[39m \u001b[43m        \u001b[49m\u001b[43mfollow_redirects\u001b[49m\u001b[43m=\u001b[49m\u001b[43mfollow_redirects\u001b[49m\u001b[43m,\u001b[49m\n\u001b[32m    945\u001b[39m \u001b[43m        \u001b[49m\u001b[43mhistory\u001b[49m\u001b[43m=\u001b[49m\u001b[43mhistory\u001b[49m\u001b[43m,\u001b[49m\n\u001b[32m    946\u001b[39m \u001b[43m    \u001b[49m\u001b[43m)\u001b[49m\n\u001b[32m    947\u001b[39m     \u001b[38;5;28;01mtry\u001b[39;00m:\n\u001b[32m    948\u001b[39m         \u001b[38;5;28;01mtry\u001b[39;00m:\n",
      "\u001b[36mFile \u001b[39m\u001b[32m~/project/epo-code-fest-spring-2025/backend/.venv/lib/python3.13/site-packages/httpx/_client.py:979\u001b[39m, in \u001b[36mClient._send_handling_redirects\u001b[39m\u001b[34m(self, request, follow_redirects, history)\u001b[39m\n\u001b[32m    976\u001b[39m \u001b[38;5;28;01mfor\u001b[39;00m hook \u001b[38;5;129;01min\u001b[39;00m \u001b[38;5;28mself\u001b[39m._event_hooks[\u001b[33m\"\u001b[39m\u001b[33mrequest\u001b[39m\u001b[33m\"\u001b[39m]:\n\u001b[32m    977\u001b[39m     hook(request)\n\u001b[32m--> \u001b[39m\u001b[32m979\u001b[39m response = \u001b[38;5;28;43mself\u001b[39;49m\u001b[43m.\u001b[49m\u001b[43m_send_single_request\u001b[49m\u001b[43m(\u001b[49m\u001b[43mrequest\u001b[49m\u001b[43m)\u001b[49m\n\u001b[32m    980\u001b[39m \u001b[38;5;28;01mtry\u001b[39;00m:\n\u001b[32m    981\u001b[39m     \u001b[38;5;28;01mfor\u001b[39;00m hook \u001b[38;5;129;01min\u001b[39;00m \u001b[38;5;28mself\u001b[39m._event_hooks[\u001b[33m\"\u001b[39m\u001b[33mresponse\u001b[39m\u001b[33m\"\u001b[39m]:\n",
      "\u001b[36mFile \u001b[39m\u001b[32m~/project/epo-code-fest-spring-2025/backend/.venv/lib/python3.13/site-packages/httpx/_client.py:1014\u001b[39m, in \u001b[36mClient._send_single_request\u001b[39m\u001b[34m(self, request)\u001b[39m\n\u001b[32m   1009\u001b[39m     \u001b[38;5;28;01mraise\u001b[39;00m \u001b[38;5;167;01mRuntimeError\u001b[39;00m(\n\u001b[32m   1010\u001b[39m         \u001b[33m\"\u001b[39m\u001b[33mAttempted to send an async request with a sync Client instance.\u001b[39m\u001b[33m\"\u001b[39m\n\u001b[32m   1011\u001b[39m     )\n\u001b[32m   1013\u001b[39m \u001b[38;5;28;01mwith\u001b[39;00m request_context(request=request):\n\u001b[32m-> \u001b[39m\u001b[32m1014\u001b[39m     response = \u001b[43mtransport\u001b[49m\u001b[43m.\u001b[49m\u001b[43mhandle_request\u001b[49m\u001b[43m(\u001b[49m\u001b[43mrequest\u001b[49m\u001b[43m)\u001b[49m\n\u001b[32m   1016\u001b[39m \u001b[38;5;28;01massert\u001b[39;00m \u001b[38;5;28misinstance\u001b[39m(response.stream, SyncByteStream)\n\u001b[32m   1018\u001b[39m response.request = request\n",
      "\u001b[36mFile \u001b[39m\u001b[32m~/project/epo-code-fest-spring-2025/backend/.venv/lib/python3.13/site-packages/httpx/_transports/default.py:250\u001b[39m, in \u001b[36mHTTPTransport.handle_request\u001b[39m\u001b[34m(self, request)\u001b[39m\n\u001b[32m    237\u001b[39m req = httpcore.Request(\n\u001b[32m    238\u001b[39m     method=request.method,\n\u001b[32m    239\u001b[39m     url=httpcore.URL(\n\u001b[32m   (...)\u001b[39m\u001b[32m    247\u001b[39m     extensions=request.extensions,\n\u001b[32m    248\u001b[39m )\n\u001b[32m    249\u001b[39m \u001b[38;5;28;01mwith\u001b[39;00m map_httpcore_exceptions():\n\u001b[32m--> \u001b[39m\u001b[32m250\u001b[39m     resp = \u001b[38;5;28;43mself\u001b[39;49m\u001b[43m.\u001b[49m\u001b[43m_pool\u001b[49m\u001b[43m.\u001b[49m\u001b[43mhandle_request\u001b[49m\u001b[43m(\u001b[49m\u001b[43mreq\u001b[49m\u001b[43m)\u001b[49m\n\u001b[32m    252\u001b[39m \u001b[38;5;28;01massert\u001b[39;00m \u001b[38;5;28misinstance\u001b[39m(resp.stream, typing.Iterable)\n\u001b[32m    254\u001b[39m \u001b[38;5;28;01mreturn\u001b[39;00m Response(\n\u001b[32m    255\u001b[39m     status_code=resp.status,\n\u001b[32m    256\u001b[39m     headers=resp.headers,\n\u001b[32m    257\u001b[39m     stream=ResponseStream(resp.stream),\n\u001b[32m    258\u001b[39m     extensions=resp.extensions,\n\u001b[32m    259\u001b[39m )\n",
      "\u001b[36mFile \u001b[39m\u001b[32m~/project/epo-code-fest-spring-2025/backend/.venv/lib/python3.13/site-packages/httpcore/_sync/connection_pool.py:256\u001b[39m, in \u001b[36mConnectionPool.handle_request\u001b[39m\u001b[34m(self, request)\u001b[39m\n\u001b[32m    253\u001b[39m         closing = \u001b[38;5;28mself\u001b[39m._assign_requests_to_connections()\n\u001b[32m    255\u001b[39m     \u001b[38;5;28mself\u001b[39m._close_connections(closing)\n\u001b[32m--> \u001b[39m\u001b[32m256\u001b[39m     \u001b[38;5;28;01mraise\u001b[39;00m exc \u001b[38;5;28;01mfrom\u001b[39;00m\u001b[38;5;250m \u001b[39m\u001b[38;5;28;01mNone\u001b[39;00m\n\u001b[32m    258\u001b[39m \u001b[38;5;66;03m# Return the response. Note that in this case we still have to manage\u001b[39;00m\n\u001b[32m    259\u001b[39m \u001b[38;5;66;03m# the point at which the response is closed.\u001b[39;00m\n\u001b[32m    260\u001b[39m \u001b[38;5;28;01massert\u001b[39;00m \u001b[38;5;28misinstance\u001b[39m(response.stream, typing.Iterable)\n",
      "\u001b[36mFile \u001b[39m\u001b[32m~/project/epo-code-fest-spring-2025/backend/.venv/lib/python3.13/site-packages/httpcore/_sync/connection_pool.py:236\u001b[39m, in \u001b[36mConnectionPool.handle_request\u001b[39m\u001b[34m(self, request)\u001b[39m\n\u001b[32m    232\u001b[39m connection = pool_request.wait_for_connection(timeout=timeout)\n\u001b[32m    234\u001b[39m \u001b[38;5;28;01mtry\u001b[39;00m:\n\u001b[32m    235\u001b[39m     \u001b[38;5;66;03m# Send the request on the assigned connection.\u001b[39;00m\n\u001b[32m--> \u001b[39m\u001b[32m236\u001b[39m     response = \u001b[43mconnection\u001b[49m\u001b[43m.\u001b[49m\u001b[43mhandle_request\u001b[49m\u001b[43m(\u001b[49m\n\u001b[32m    237\u001b[39m \u001b[43m        \u001b[49m\u001b[43mpool_request\u001b[49m\u001b[43m.\u001b[49m\u001b[43mrequest\u001b[49m\n\u001b[32m    238\u001b[39m \u001b[43m    \u001b[49m\u001b[43m)\u001b[49m\n\u001b[32m    239\u001b[39m \u001b[38;5;28;01mexcept\u001b[39;00m ConnectionNotAvailable:\n\u001b[32m    240\u001b[39m     \u001b[38;5;66;03m# In some cases a connection may initially be available to\u001b[39;00m\n\u001b[32m    241\u001b[39m     \u001b[38;5;66;03m# handle a request, but then become unavailable.\u001b[39;00m\n\u001b[32m    242\u001b[39m     \u001b[38;5;66;03m#\u001b[39;00m\n\u001b[32m    243\u001b[39m     \u001b[38;5;66;03m# In this case we clear the connection and try again.\u001b[39;00m\n\u001b[32m    244\u001b[39m     pool_request.clear_connection()\n",
      "\u001b[36mFile \u001b[39m\u001b[32m~/project/epo-code-fest-spring-2025/backend/.venv/lib/python3.13/site-packages/httpcore/_sync/connection.py:103\u001b[39m, in \u001b[36mHTTPConnection.handle_request\u001b[39m\u001b[34m(self, request)\u001b[39m\n\u001b[32m    100\u001b[39m     \u001b[38;5;28mself\u001b[39m._connect_failed = \u001b[38;5;28;01mTrue\u001b[39;00m\n\u001b[32m    101\u001b[39m     \u001b[38;5;28;01mraise\u001b[39;00m exc\n\u001b[32m--> \u001b[39m\u001b[32m103\u001b[39m \u001b[38;5;28;01mreturn\u001b[39;00m \u001b[38;5;28;43mself\u001b[39;49m\u001b[43m.\u001b[49m\u001b[43m_connection\u001b[49m\u001b[43m.\u001b[49m\u001b[43mhandle_request\u001b[49m\u001b[43m(\u001b[49m\u001b[43mrequest\u001b[49m\u001b[43m)\u001b[49m\n",
      "\u001b[36mFile \u001b[39m\u001b[32m~/project/epo-code-fest-spring-2025/backend/.venv/lib/python3.13/site-packages/httpcore/_sync/http11.py:136\u001b[39m, in \u001b[36mHTTP11Connection.handle_request\u001b[39m\u001b[34m(self, request)\u001b[39m\n\u001b[32m    134\u001b[39m     \u001b[38;5;28;01mwith\u001b[39;00m Trace(\u001b[33m\"\u001b[39m\u001b[33mresponse_closed\u001b[39m\u001b[33m\"\u001b[39m, logger, request) \u001b[38;5;28;01mas\u001b[39;00m trace:\n\u001b[32m    135\u001b[39m         \u001b[38;5;28mself\u001b[39m._response_closed()\n\u001b[32m--> \u001b[39m\u001b[32m136\u001b[39m \u001b[38;5;28;01mraise\u001b[39;00m exc\n",
      "\u001b[36mFile \u001b[39m\u001b[32m~/project/epo-code-fest-spring-2025/backend/.venv/lib/python3.13/site-packages/httpcore/_sync/http11.py:106\u001b[39m, in \u001b[36mHTTP11Connection.handle_request\u001b[39m\u001b[34m(self, request)\u001b[39m\n\u001b[32m     95\u001b[39m     \u001b[38;5;28;01mpass\u001b[39;00m\n\u001b[32m     97\u001b[39m \u001b[38;5;28;01mwith\u001b[39;00m Trace(\n\u001b[32m     98\u001b[39m     \u001b[33m\"\u001b[39m\u001b[33mreceive_response_headers\u001b[39m\u001b[33m\"\u001b[39m, logger, request, kwargs\n\u001b[32m     99\u001b[39m ) \u001b[38;5;28;01mas\u001b[39;00m trace:\n\u001b[32m    100\u001b[39m     (\n\u001b[32m    101\u001b[39m         http_version,\n\u001b[32m    102\u001b[39m         status,\n\u001b[32m    103\u001b[39m         reason_phrase,\n\u001b[32m    104\u001b[39m         headers,\n\u001b[32m    105\u001b[39m         trailing_data,\n\u001b[32m--> \u001b[39m\u001b[32m106\u001b[39m     ) = \u001b[38;5;28;43mself\u001b[39;49m\u001b[43m.\u001b[49m\u001b[43m_receive_response_headers\u001b[49m\u001b[43m(\u001b[49m\u001b[43m*\u001b[49m\u001b[43m*\u001b[49m\u001b[43mkwargs\u001b[49m\u001b[43m)\u001b[49m\n\u001b[32m    107\u001b[39m     trace.return_value = (\n\u001b[32m    108\u001b[39m         http_version,\n\u001b[32m    109\u001b[39m         status,\n\u001b[32m    110\u001b[39m         reason_phrase,\n\u001b[32m    111\u001b[39m         headers,\n\u001b[32m    112\u001b[39m     )\n\u001b[32m    114\u001b[39m network_stream = \u001b[38;5;28mself\u001b[39m._network_stream\n",
      "\u001b[36mFile \u001b[39m\u001b[32m~/project/epo-code-fest-spring-2025/backend/.venv/lib/python3.13/site-packages/httpcore/_sync/http11.py:177\u001b[39m, in \u001b[36mHTTP11Connection._receive_response_headers\u001b[39m\u001b[34m(self, request)\u001b[39m\n\u001b[32m    174\u001b[39m timeout = timeouts.get(\u001b[33m\"\u001b[39m\u001b[33mread\u001b[39m\u001b[33m\"\u001b[39m, \u001b[38;5;28;01mNone\u001b[39;00m)\n\u001b[32m    176\u001b[39m \u001b[38;5;28;01mwhile\u001b[39;00m \u001b[38;5;28;01mTrue\u001b[39;00m:\n\u001b[32m--> \u001b[39m\u001b[32m177\u001b[39m     event = \u001b[38;5;28;43mself\u001b[39;49m\u001b[43m.\u001b[49m\u001b[43m_receive_event\u001b[49m\u001b[43m(\u001b[49m\u001b[43mtimeout\u001b[49m\u001b[43m=\u001b[49m\u001b[43mtimeout\u001b[49m\u001b[43m)\u001b[49m\n\u001b[32m    178\u001b[39m     \u001b[38;5;28;01mif\u001b[39;00m \u001b[38;5;28misinstance\u001b[39m(event, h11.Response):\n\u001b[32m    179\u001b[39m         \u001b[38;5;28;01mbreak\u001b[39;00m\n",
      "\u001b[36mFile \u001b[39m\u001b[32m~/project/epo-code-fest-spring-2025/backend/.venv/lib/python3.13/site-packages/httpcore/_sync/http11.py:217\u001b[39m, in \u001b[36mHTTP11Connection._receive_event\u001b[39m\u001b[34m(self, timeout)\u001b[39m\n\u001b[32m    214\u001b[39m     event = \u001b[38;5;28mself\u001b[39m._h11_state.next_event()\n\u001b[32m    216\u001b[39m \u001b[38;5;28;01mif\u001b[39;00m event \u001b[38;5;129;01mis\u001b[39;00m h11.NEED_DATA:\n\u001b[32m--> \u001b[39m\u001b[32m217\u001b[39m     data = \u001b[38;5;28;43mself\u001b[39;49m\u001b[43m.\u001b[49m\u001b[43m_network_stream\u001b[49m\u001b[43m.\u001b[49m\u001b[43mread\u001b[49m\u001b[43m(\u001b[49m\n\u001b[32m    218\u001b[39m \u001b[43m        \u001b[49m\u001b[38;5;28;43mself\u001b[39;49m\u001b[43m.\u001b[49m\u001b[43mREAD_NUM_BYTES\u001b[49m\u001b[43m,\u001b[49m\u001b[43m \u001b[49m\u001b[43mtimeout\u001b[49m\u001b[43m=\u001b[49m\u001b[43mtimeout\u001b[49m\n\u001b[32m    219\u001b[39m \u001b[43m    \u001b[49m\u001b[43m)\u001b[49m\n\u001b[32m    221\u001b[39m     \u001b[38;5;66;03m# If we feed this case through h11 we'll raise an exception like:\u001b[39;00m\n\u001b[32m    222\u001b[39m     \u001b[38;5;66;03m#\u001b[39;00m\n\u001b[32m    223\u001b[39m     \u001b[38;5;66;03m#     httpcore.RemoteProtocolError: can't handle event type\u001b[39;00m\n\u001b[32m   (...)\u001b[39m\u001b[32m    227\u001b[39m     \u001b[38;5;66;03m# perspective. Instead we handle this case distinctly and treat\u001b[39;00m\n\u001b[32m    228\u001b[39m     \u001b[38;5;66;03m# it as a ConnectError.\u001b[39;00m\n\u001b[32m    229\u001b[39m     \u001b[38;5;28;01mif\u001b[39;00m data == \u001b[33mb\u001b[39m\u001b[33m\"\u001b[39m\u001b[33m\"\u001b[39m \u001b[38;5;129;01mand\u001b[39;00m \u001b[38;5;28mself\u001b[39m._h11_state.their_state == h11.SEND_RESPONSE:\n",
      "\u001b[36mFile \u001b[39m\u001b[32m~/project/epo-code-fest-spring-2025/backend/.venv/lib/python3.13/site-packages/httpcore/_backends/sync.py:128\u001b[39m, in \u001b[36mSyncStream.read\u001b[39m\u001b[34m(self, max_bytes, timeout)\u001b[39m\n\u001b[32m    126\u001b[39m \u001b[38;5;28;01mwith\u001b[39;00m map_exceptions(exc_map):\n\u001b[32m    127\u001b[39m     \u001b[38;5;28mself\u001b[39m._sock.settimeout(timeout)\n\u001b[32m--> \u001b[39m\u001b[32m128\u001b[39m     \u001b[38;5;28;01mreturn\u001b[39;00m \u001b[38;5;28;43mself\u001b[39;49m\u001b[43m.\u001b[49m\u001b[43m_sock\u001b[49m\u001b[43m.\u001b[49m\u001b[43mrecv\u001b[49m\u001b[43m(\u001b[49m\u001b[43mmax_bytes\u001b[49m\u001b[43m)\u001b[49m\n",
      "\u001b[31mKeyboardInterrupt\u001b[39m: "
     ]
    }
   ],
   "source": [
    "for data in filtered_data:\n",
    "    label = data.get(\"sdg\")\n",
    "    patent_number = data.get(\"patent_number\")\n",
    "    description_number = data.get(\"description_number\")\n",
    "    description_text = data.get(\"description_text\")\n",
    "    formatted_prompt = prompt_template.replace(\"{description}\", description_text)\n",
    "\n",
    "    # Generate the SDG classification\n",
    "    response_data = client.generate(\n",
    "        model=\"qwen3:8b\", # Make sure this model is available in your Ollama instance\n",
    "        prompt=formatted_prompt\n",
    "        # You might want to add other parameters like 'stream=False'\n",
    "        # or options within a dictionary if your client version supports it.\n",
    "        # Example: options={\"temperature\": 0.7}\n",
    "    )\n",
    "    # Get the raw text output from the model's response\n",
    "    # The actual key for the response text is usually 'response'\n",
    "    raw_output_text = response_data.get('response', '').strip()\n",
    "            \n",
    "    # 1. Try to find content within <answer>...</answer> tags (case-insensitive for tags)\n",
    "    answer_match = re.search(r\"<answer>(.*?)</answer>\", raw_output_text, re.DOTALL | re.IGNORECASE)\n",
    "    print(\"----------------------------------------------------------------------------------\")\n",
    "    \n",
    "    print(raw_output_text)   \n",
    "    print(f\"true label :{label}\")        \n",
    "    "
   ]
  }
 ],
 "metadata": {
  "kernelspec": {
   "display_name": ".venv",
   "language": "python",
   "name": "python3"
  },
  "language_info": {
   "codemirror_mode": {
    "name": "ipython",
    "version": 3
   },
   "file_extension": ".py",
   "mimetype": "text/x-python",
   "name": "python",
   "nbconvert_exporter": "python",
   "pygments_lexer": "ipython3",
   "version": "3.13.3"
  }
 },
 "nbformat": 4,
 "nbformat_minor": 5
}
